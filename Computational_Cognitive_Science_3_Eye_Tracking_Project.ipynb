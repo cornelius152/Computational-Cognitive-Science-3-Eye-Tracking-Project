{
  "cells": [
    {
      "cell_type": "markdown",
      "metadata": {
        "id": "view-in-github",
        "colab_type": "text"
      },
      "source": [
        "<a href=\"https://colab.research.google.com/github/cornelius152/Computational-Cognitive-Science-3-Eye-Tracking-Project/blob/main/Computational_Cognitive_Science_3_Eye_Tracking_Project.ipynb\" target=\"_parent\"><img src=\"https://colab.research.google.com/assets/colab-badge.svg\" alt=\"Open In Colab\"/></a>"
      ]
    },
    {
      "cell_type": "markdown",
      "id": "f7b6a600",
      "metadata": {
        "heading_collapsed": true,
        "id": "f7b6a600"
      },
      "source": [
        "# **Import Libraries**"
      ]
    },
    {
      "cell_type": "code",
      "execution_count": 1,
      "id": "804fb2e8",
      "metadata": {
        "hidden": true,
        "id": "804fb2e8"
      },
      "outputs": [],
      "source": [
        "# Import global libraries and packages\n",
        "import pandas as pd\n",
        "import numpy as np\n",
        "import scipy\n",
        "from scipy import stats\n",
        "import matplotlib.pyplot as plt\n",
        "%matplotlib inline\n",
        "\n",
        "import warnings\n",
        "warnings.filterwarnings('ignore', message='.*', category=UserWarning, module='sklearn') # To suppress precision score warning"
      ]
    },
    {
      "cell_type": "code",
      "source": [
        "# Mounting drive\n",
        "from google.colab import drive\n",
        "drive.mount('/content/drive')"
      ],
      "metadata": {
        "colab": {
          "base_uri": "https://localhost:8080/"
        },
        "id": "U_YFVJQDqfhf",
        "outputId": "ef2ca477-f56b-4b25-f244-f84d1ab2ba59"
      },
      "id": "U_YFVJQDqfhf",
      "execution_count": 2,
      "outputs": [
        {
          "output_type": "stream",
          "name": "stdout",
          "text": [
            "Drive already mounted at /content/drive; to attempt to forcibly remount, call drive.mount(\"/content/drive\", force_remount=True).\n"
          ]
        }
      ]
    },
    {
      "cell_type": "markdown",
      "id": "6b767699",
      "metadata": {
        "heading_collapsed": true,
        "id": "6b767699"
      },
      "source": [
        "# **Importing eye-tracking data**"
      ]
    },
    {
      "cell_type": "markdown",
      "id": "281c7ce5",
      "metadata": {
        "hidden": true,
        "id": "281c7ce5"
      },
      "source": [
        "## Building Dictionary\n",
        "Dataframe of participant IDs (participant_x) as keys, and x, y eye-tracking coordinate pairs as values"
      ]
    },
    {
      "cell_type": "code",
      "execution_count": 3,
      "id": "1936d8dc",
      "metadata": {
        "hidden": true,
        "id": "1936d8dc"
      },
      "outputs": [],
      "source": [
        "# Allows for 'operating system' dependent functionality\n",
        "import os\n",
        "\n",
        "# Allows us to manipulate strings more robustly\n",
        "import string\n",
        "\n",
        "# Set the directory where the CSV files are located\n",
        "directory = '/content/drive/MyDrive/Computational Cognitive Science 3 Project/Cognitive Science 3/Project/Data/dataverse_files'\n",
        "\n",
        "# Use os.listdir() to get a list of all the file names in the directory\n",
        "# Return a list containing the names of the entries in the directory given by path\n",
        "file_list = os.listdir(directory)\n",
        " \n",
        "# Instantiating subject IDs\n",
        "i = 0\n",
        "\n",
        "# Building an empty dictionary to store all participants' IDs and x, y coordinate pairs as dataframes\n",
        "# Keys = 'participant_1, 'participant_2...'; values = x, y coordinates as two separate columns\n",
        "data = {}\n",
        "\n",
        "# Use a for loop to iterate through the list of file names\n",
        "for file_name in file_list:\n",
        "    # Check if the file is a CSV file\n",
        "    if file_name.endswith('.csv'):\n",
        "        # Creating a new name for each participant\n",
        "        name = 'participant' + '_' + str(file_name.split('.')[0])\n",
        "        # Use pandas.DataFrame to create new dataframe from pandas.read_csv() which reads the CSV file\n",
        "        data[name] = pd.DataFrame(pd.read_csv(os.path.join(directory, file_name)))\n",
        "        i += 1\n",
        "        if i == 111: # Total number of participants\n",
        "            break\n",
        "\n",
        "# Sorting diciontary of eye-tracking data numerically by looking at the number after \"participant_'x'\"\n",
        "data = dict(sorted(data.items(), key=lambda x: int(x[0][12:])))\n",
        "\n",
        "# Creating a dataframe from data\n",
        "data_df = pd.concat(data.values(), axis = 1)"
      ]
    },
    {
      "cell_type": "code",
      "source": [
        "data_df.head(3)"
      ],
      "metadata": {
        "colab": {
          "base_uri": "https://localhost:8080/",
          "height": 172
        },
        "id": "wRfbFo4ORtSp",
        "outputId": "5dc37bb9-c0e6-4958-d052-f274007b823d"
      },
      "id": "wRfbFo4ORtSp",
      "execution_count": 4,
      "outputs": [
        {
          "output_type": "execute_result",
          "data": {
            "text/plain": [
              "   GazeX  GazeY  GazeX  GazeY  GazeX  GazeY   GazeX  GazeY   GazeX  GazeY  \\\n",
              "0  939.0  528.0  946.0  502.0  976.0  568.0  1012.0  532.0   966.0  530.0   \n",
              "1  935.0  516.0  920.0  408.0  962.0  546.0   989.0  556.0  1048.0  629.0   \n",
              "2  934.0  524.0  944.0  508.0  973.0  584.0  1014.0  536.0   986.0  552.0   \n",
              "\n",
              "   ...  GazeX  GazeY  GazeX  GazeY  GazeX  GazeY  GazeX  GazeY  GazeX  GazeY  \n",
              "0  ...  940.0  532.0  962.0  547.0  938.0  492.0  966.0  480.0  917.0  532.0  \n",
              "1  ...  940.0  543.0  958.0  527.0  914.0  504.0  958.0  439.0  916.0  530.0  \n",
              "2  ...  936.0  543.0  962.0  534.0  909.0  502.0  944.0  452.0  929.0  542.0  \n",
              "\n",
              "[3 rows x 222 columns]"
            ],
            "text/html": [
              "\n",
              "  <div id=\"df-7b9e407e-676e-4778-b057-e029f407a969\">\n",
              "    <div class=\"colab-df-container\">\n",
              "      <div>\n",
              "<style scoped>\n",
              "    .dataframe tbody tr th:only-of-type {\n",
              "        vertical-align: middle;\n",
              "    }\n",
              "\n",
              "    .dataframe tbody tr th {\n",
              "        vertical-align: top;\n",
              "    }\n",
              "\n",
              "    .dataframe thead th {\n",
              "        text-align: right;\n",
              "    }\n",
              "</style>\n",
              "<table border=\"1\" class=\"dataframe\">\n",
              "  <thead>\n",
              "    <tr style=\"text-align: right;\">\n",
              "      <th></th>\n",
              "      <th>GazeX</th>\n",
              "      <th>GazeY</th>\n",
              "      <th>GazeX</th>\n",
              "      <th>GazeY</th>\n",
              "      <th>GazeX</th>\n",
              "      <th>GazeY</th>\n",
              "      <th>GazeX</th>\n",
              "      <th>GazeY</th>\n",
              "      <th>GazeX</th>\n",
              "      <th>GazeY</th>\n",
              "      <th>...</th>\n",
              "      <th>GazeX</th>\n",
              "      <th>GazeY</th>\n",
              "      <th>GazeX</th>\n",
              "      <th>GazeY</th>\n",
              "      <th>GazeX</th>\n",
              "      <th>GazeY</th>\n",
              "      <th>GazeX</th>\n",
              "      <th>GazeY</th>\n",
              "      <th>GazeX</th>\n",
              "      <th>GazeY</th>\n",
              "    </tr>\n",
              "  </thead>\n",
              "  <tbody>\n",
              "    <tr>\n",
              "      <th>0</th>\n",
              "      <td>939.0</td>\n",
              "      <td>528.0</td>\n",
              "      <td>946.0</td>\n",
              "      <td>502.0</td>\n",
              "      <td>976.0</td>\n",
              "      <td>568.0</td>\n",
              "      <td>1012.0</td>\n",
              "      <td>532.0</td>\n",
              "      <td>966.0</td>\n",
              "      <td>530.0</td>\n",
              "      <td>...</td>\n",
              "      <td>940.0</td>\n",
              "      <td>532.0</td>\n",
              "      <td>962.0</td>\n",
              "      <td>547.0</td>\n",
              "      <td>938.0</td>\n",
              "      <td>492.0</td>\n",
              "      <td>966.0</td>\n",
              "      <td>480.0</td>\n",
              "      <td>917.0</td>\n",
              "      <td>532.0</td>\n",
              "    </tr>\n",
              "    <tr>\n",
              "      <th>1</th>\n",
              "      <td>935.0</td>\n",
              "      <td>516.0</td>\n",
              "      <td>920.0</td>\n",
              "      <td>408.0</td>\n",
              "      <td>962.0</td>\n",
              "      <td>546.0</td>\n",
              "      <td>989.0</td>\n",
              "      <td>556.0</td>\n",
              "      <td>1048.0</td>\n",
              "      <td>629.0</td>\n",
              "      <td>...</td>\n",
              "      <td>940.0</td>\n",
              "      <td>543.0</td>\n",
              "      <td>958.0</td>\n",
              "      <td>527.0</td>\n",
              "      <td>914.0</td>\n",
              "      <td>504.0</td>\n",
              "      <td>958.0</td>\n",
              "      <td>439.0</td>\n",
              "      <td>916.0</td>\n",
              "      <td>530.0</td>\n",
              "    </tr>\n",
              "    <tr>\n",
              "      <th>2</th>\n",
              "      <td>934.0</td>\n",
              "      <td>524.0</td>\n",
              "      <td>944.0</td>\n",
              "      <td>508.0</td>\n",
              "      <td>973.0</td>\n",
              "      <td>584.0</td>\n",
              "      <td>1014.0</td>\n",
              "      <td>536.0</td>\n",
              "      <td>986.0</td>\n",
              "      <td>552.0</td>\n",
              "      <td>...</td>\n",
              "      <td>936.0</td>\n",
              "      <td>543.0</td>\n",
              "      <td>962.0</td>\n",
              "      <td>534.0</td>\n",
              "      <td>909.0</td>\n",
              "      <td>502.0</td>\n",
              "      <td>944.0</td>\n",
              "      <td>452.0</td>\n",
              "      <td>929.0</td>\n",
              "      <td>542.0</td>\n",
              "    </tr>\n",
              "  </tbody>\n",
              "</table>\n",
              "<p>3 rows × 222 columns</p>\n",
              "</div>\n",
              "      <button class=\"colab-df-convert\" onclick=\"convertToInteractive('df-7b9e407e-676e-4778-b057-e029f407a969')\"\n",
              "              title=\"Convert this dataframe to an interactive table.\"\n",
              "              style=\"display:none;\">\n",
              "        \n",
              "  <svg xmlns=\"http://www.w3.org/2000/svg\" height=\"24px\"viewBox=\"0 0 24 24\"\n",
              "       width=\"24px\">\n",
              "    <path d=\"M0 0h24v24H0V0z\" fill=\"none\"/>\n",
              "    <path d=\"M18.56 5.44l.94 2.06.94-2.06 2.06-.94-2.06-.94-.94-2.06-.94 2.06-2.06.94zm-11 1L8.5 8.5l.94-2.06 2.06-.94-2.06-.94L8.5 2.5l-.94 2.06-2.06.94zm10 10l.94 2.06.94-2.06 2.06-.94-2.06-.94-.94-2.06-.94 2.06-2.06.94z\"/><path d=\"M17.41 7.96l-1.37-1.37c-.4-.4-.92-.59-1.43-.59-.52 0-1.04.2-1.43.59L10.3 9.45l-7.72 7.72c-.78.78-.78 2.05 0 2.83L4 21.41c.39.39.9.59 1.41.59.51 0 1.02-.2 1.41-.59l7.78-7.78 2.81-2.81c.8-.78.8-2.07 0-2.86zM5.41 20L4 18.59l7.72-7.72 1.47 1.35L5.41 20z\"/>\n",
              "  </svg>\n",
              "      </button>\n",
              "      \n",
              "  <style>\n",
              "    .colab-df-container {\n",
              "      display:flex;\n",
              "      flex-wrap:wrap;\n",
              "      gap: 12px;\n",
              "    }\n",
              "\n",
              "    .colab-df-convert {\n",
              "      background-color: #E8F0FE;\n",
              "      border: none;\n",
              "      border-radius: 50%;\n",
              "      cursor: pointer;\n",
              "      display: none;\n",
              "      fill: #1967D2;\n",
              "      height: 32px;\n",
              "      padding: 0 0 0 0;\n",
              "      width: 32px;\n",
              "    }\n",
              "\n",
              "    .colab-df-convert:hover {\n",
              "      background-color: #E2EBFA;\n",
              "      box-shadow: 0px 1px 2px rgba(60, 64, 67, 0.3), 0px 1px 3px 1px rgba(60, 64, 67, 0.15);\n",
              "      fill: #174EA6;\n",
              "    }\n",
              "\n",
              "    [theme=dark] .colab-df-convert {\n",
              "      background-color: #3B4455;\n",
              "      fill: #D2E3FC;\n",
              "    }\n",
              "\n",
              "    [theme=dark] .colab-df-convert:hover {\n",
              "      background-color: #434B5C;\n",
              "      box-shadow: 0px 1px 3px 1px rgba(0, 0, 0, 0.15);\n",
              "      filter: drop-shadow(0px 1px 2px rgba(0, 0, 0, 0.3));\n",
              "      fill: #FFFFFF;\n",
              "    }\n",
              "  </style>\n",
              "\n",
              "      <script>\n",
              "        const buttonEl =\n",
              "          document.querySelector('#df-7b9e407e-676e-4778-b057-e029f407a969 button.colab-df-convert');\n",
              "        buttonEl.style.display =\n",
              "          google.colab.kernel.accessAllowed ? 'block' : 'none';\n",
              "\n",
              "        async function convertToInteractive(key) {\n",
              "          const element = document.querySelector('#df-7b9e407e-676e-4778-b057-e029f407a969');\n",
              "          const dataTable =\n",
              "            await google.colab.kernel.invokeFunction('convertToInteractive',\n",
              "                                                     [key], {});\n",
              "          if (!dataTable) return;\n",
              "\n",
              "          const docLinkHtml = 'Like what you see? Visit the ' +\n",
              "            '<a target=\"_blank\" href=https://colab.research.google.com/notebooks/data_table.ipynb>data table notebook</a>'\n",
              "            + ' to learn more about interactive tables.';\n",
              "          element.innerHTML = '';\n",
              "          dataTable['output_type'] = 'display_data';\n",
              "          await google.colab.output.renderOutput(dataTable, element);\n",
              "          const docLink = document.createElement('div');\n",
              "          docLink.innerHTML = docLinkHtml;\n",
              "          element.appendChild(docLink);\n",
              "        }\n",
              "      </script>\n",
              "    </div>\n",
              "  </div>\n",
              "  "
            ]
          },
          "metadata": {},
          "execution_count": 4
        }
      ]
    },
    {
      "cell_type": "markdown",
      "id": "e73b5c87",
      "metadata": {
        "hidden": true,
        "id": "e73b5c87"
      },
      "source": [
        "# **Import Clinical Data**"
      ]
    },
    {
      "cell_type": "code",
      "execution_count": 5,
      "id": "2d5922de",
      "metadata": {
        "hidden": true,
        "id": "2d5922de"
      },
      "outputs": [],
      "source": [
        "# Reading in clinical scores data\n",
        "clinical_scores = pd.read_csv('/content/drive/MyDrive/Computational Cognitive Science 3 Project/Cognitive Science 3/dataverse_files/clinical_scores.csv')\n",
        "clinical_scores = clinical_scores.drop(columns='Name')\n",
        "# All 'numerical' values are of type string"
      ]
    },
    {
      "cell_type": "code",
      "execution_count": 6,
      "id": "e153a6a5",
      "metadata": {
        "hidden": true,
        "id": "e153a6a5",
        "outputId": "7c17fda7-5d2c-4b2f-db9b-a97c20f29629",
        "colab": {
          "base_uri": "https://localhost:8080/",
          "height": 143
        }
      },
      "outputs": [
        {
          "output_type": "execute_result",
          "data": {
            "text/plain": [
              "   AQ_SUM  bdi_sum  wurs_sum\n",
              "0    18.0     18.0      41.0\n",
              "1    25.0     14.0      47.0\n",
              "2    25.0     33.0      12.0"
            ],
            "text/html": [
              "\n",
              "  <div id=\"df-87b2dc87-ad20-4083-8c58-8530a780f76d\">\n",
              "    <div class=\"colab-df-container\">\n",
              "      <div>\n",
              "<style scoped>\n",
              "    .dataframe tbody tr th:only-of-type {\n",
              "        vertical-align: middle;\n",
              "    }\n",
              "\n",
              "    .dataframe tbody tr th {\n",
              "        vertical-align: top;\n",
              "    }\n",
              "\n",
              "    .dataframe thead th {\n",
              "        text-align: right;\n",
              "    }\n",
              "</style>\n",
              "<table border=\"1\" class=\"dataframe\">\n",
              "  <thead>\n",
              "    <tr style=\"text-align: right;\">\n",
              "      <th></th>\n",
              "      <th>AQ_SUM</th>\n",
              "      <th>bdi_sum</th>\n",
              "      <th>wurs_sum</th>\n",
              "    </tr>\n",
              "  </thead>\n",
              "  <tbody>\n",
              "    <tr>\n",
              "      <th>0</th>\n",
              "      <td>18.0</td>\n",
              "      <td>18.0</td>\n",
              "      <td>41.0</td>\n",
              "    </tr>\n",
              "    <tr>\n",
              "      <th>1</th>\n",
              "      <td>25.0</td>\n",
              "      <td>14.0</td>\n",
              "      <td>47.0</td>\n",
              "    </tr>\n",
              "    <tr>\n",
              "      <th>2</th>\n",
              "      <td>25.0</td>\n",
              "      <td>33.0</td>\n",
              "      <td>12.0</td>\n",
              "    </tr>\n",
              "  </tbody>\n",
              "</table>\n",
              "</div>\n",
              "      <button class=\"colab-df-convert\" onclick=\"convertToInteractive('df-87b2dc87-ad20-4083-8c58-8530a780f76d')\"\n",
              "              title=\"Convert this dataframe to an interactive table.\"\n",
              "              style=\"display:none;\">\n",
              "        \n",
              "  <svg xmlns=\"http://www.w3.org/2000/svg\" height=\"24px\"viewBox=\"0 0 24 24\"\n",
              "       width=\"24px\">\n",
              "    <path d=\"M0 0h24v24H0V0z\" fill=\"none\"/>\n",
              "    <path d=\"M18.56 5.44l.94 2.06.94-2.06 2.06-.94-2.06-.94-.94-2.06-.94 2.06-2.06.94zm-11 1L8.5 8.5l.94-2.06 2.06-.94-2.06-.94L8.5 2.5l-.94 2.06-2.06.94zm10 10l.94 2.06.94-2.06 2.06-.94-2.06-.94-.94-2.06-.94 2.06-2.06.94z\"/><path d=\"M17.41 7.96l-1.37-1.37c-.4-.4-.92-.59-1.43-.59-.52 0-1.04.2-1.43.59L10.3 9.45l-7.72 7.72c-.78.78-.78 2.05 0 2.83L4 21.41c.39.39.9.59 1.41.59.51 0 1.02-.2 1.41-.59l7.78-7.78 2.81-2.81c.8-.78.8-2.07 0-2.86zM5.41 20L4 18.59l7.72-7.72 1.47 1.35L5.41 20z\"/>\n",
              "  </svg>\n",
              "      </button>\n",
              "      \n",
              "  <style>\n",
              "    .colab-df-container {\n",
              "      display:flex;\n",
              "      flex-wrap:wrap;\n",
              "      gap: 12px;\n",
              "    }\n",
              "\n",
              "    .colab-df-convert {\n",
              "      background-color: #E8F0FE;\n",
              "      border: none;\n",
              "      border-radius: 50%;\n",
              "      cursor: pointer;\n",
              "      display: none;\n",
              "      fill: #1967D2;\n",
              "      height: 32px;\n",
              "      padding: 0 0 0 0;\n",
              "      width: 32px;\n",
              "    }\n",
              "\n",
              "    .colab-df-convert:hover {\n",
              "      background-color: #E2EBFA;\n",
              "      box-shadow: 0px 1px 2px rgba(60, 64, 67, 0.3), 0px 1px 3px 1px rgba(60, 64, 67, 0.15);\n",
              "      fill: #174EA6;\n",
              "    }\n",
              "\n",
              "    [theme=dark] .colab-df-convert {\n",
              "      background-color: #3B4455;\n",
              "      fill: #D2E3FC;\n",
              "    }\n",
              "\n",
              "    [theme=dark] .colab-df-convert:hover {\n",
              "      background-color: #434B5C;\n",
              "      box-shadow: 0px 1px 3px 1px rgba(0, 0, 0, 0.15);\n",
              "      filter: drop-shadow(0px 1px 2px rgba(0, 0, 0, 0.3));\n",
              "      fill: #FFFFFF;\n",
              "    }\n",
              "  </style>\n",
              "\n",
              "      <script>\n",
              "        const buttonEl =\n",
              "          document.querySelector('#df-87b2dc87-ad20-4083-8c58-8530a780f76d button.colab-df-convert');\n",
              "        buttonEl.style.display =\n",
              "          google.colab.kernel.accessAllowed ? 'block' : 'none';\n",
              "\n",
              "        async function convertToInteractive(key) {\n",
              "          const element = document.querySelector('#df-87b2dc87-ad20-4083-8c58-8530a780f76d');\n",
              "          const dataTable =\n",
              "            await google.colab.kernel.invokeFunction('convertToInteractive',\n",
              "                                                     [key], {});\n",
              "          if (!dataTable) return;\n",
              "\n",
              "          const docLinkHtml = 'Like what you see? Visit the ' +\n",
              "            '<a target=\"_blank\" href=https://colab.research.google.com/notebooks/data_table.ipynb>data table notebook</a>'\n",
              "            + ' to learn more about interactive tables.';\n",
              "          element.innerHTML = '';\n",
              "          dataTable['output_type'] = 'display_data';\n",
              "          await google.colab.output.renderOutput(dataTable, element);\n",
              "          const docLink = document.createElement('div');\n",
              "          docLink.innerHTML = docLinkHtml;\n",
              "          element.appendChild(docLink);\n",
              "        }\n",
              "      </script>\n",
              "    </div>\n",
              "  </div>\n",
              "  "
            ]
          },
          "metadata": {},
          "execution_count": 6
        }
      ],
      "source": [
        "clinical_scores.head(3)"
      ]
    },
    {
      "cell_type": "code",
      "source": [
        "# Rename columns\n",
        "clinical_scores = clinical_scores.rename(columns={'Name':'name', 'AQ_SUM':'aq', 'bdi_sum': 'bdi', 'wurs_sum': 'wurs'})"
      ],
      "metadata": {
        "id": "CxVfc4uSNHNb"
      },
      "id": "CxVfc4uSNHNb",
      "execution_count": 7,
      "outputs": []
    },
    {
      "cell_type": "markdown",
      "source": [
        "#**Processing Data**"
      ],
      "metadata": {
        "id": "flEAVbsU6v86"
      },
      "id": "flEAVbsU6v86"
    },
    {
      "cell_type": "markdown",
      "id": "dc3d76ff",
      "metadata": {
        "hidden": true,
        "id": "dc3d76ff"
      },
      "source": [
        "### Checking for any nan"
      ]
    },
    {
      "cell_type": "code",
      "execution_count": 8,
      "id": "d7ff89ec",
      "metadata": {
        "hidden": true,
        "id": "d7ff89ec",
        "outputId": "6767bf0f-179d-425e-f8f9-7172aafad599",
        "colab": {
          "base_uri": "https://localhost:8080/"
        }
      },
      "outputs": [
        {
          "output_type": "stream",
          "name": "stdout",
          "text": [
            "aq --- has null values\n",
            "bdi --- has null values\n",
            "wurs --- has null values\n",
            "\n",
            "nans in aq: 10\n",
            "nans in bdi: 7\n",
            "nans in wurs: 6\n"
          ]
        }
      ],
      "source": [
        "# Running a for loop through each variabls in clinical scores\n",
        "for var in clinical_scores:\n",
        "    # Checking whether there are any nan values\n",
        "        check_nan = clinical_scores[var].isnull().values.any()\n",
        "        if check_nan == True:\n",
        "            print(f'{var} --- has null values')\n",
        "\n",
        "# The values in each column are of type <class 'numpy.float64'>\n",
        "\n",
        "print()\n",
        "\n",
        "# Check how many nans there are in each dataframe\n",
        "for var in clinical_scores:\n",
        "    # Reset count to 0 for each dataframe\n",
        "    count = 0\n",
        "    for i in clinical_scores[var]:\n",
        "        # Checking whether there are any nan values in the column\n",
        "        if str(i) == 'nan':\n",
        "            count += 1\n",
        "    print(f'nans in {var}: {count}')"
      ]
    },
    {
      "cell_type": "markdown",
      "id": "87630b23",
      "metadata": {
        "hidden": true,
        "id": "87630b23"
      },
      "source": [
        "### Removing nan"
      ]
    },
    {
      "cell_type": "code",
      "execution_count": 9,
      "id": "f93ff2b1",
      "metadata": {
        "hidden": true,
        "id": "f93ff2b1"
      },
      "outputs": [],
      "source": [
        "# Clean data by removing nans and builidng indvidual dataframes for each \n",
        "def cleaner(var, data = clinical_scores):\n",
        "    # Convert all values to string as even the nans were of type float\n",
        "    data[var] = pd.DataFrame(data[var].values.astype('str'))\n",
        "    # Build new dataframe for each individual variable by locating only those values that are not nan\n",
        "    var = pd.DataFrame(data[var].loc[data[var] != 'nan'])\n",
        "    # Reinstate float type to all values for the individual variables dataframe\n",
        "    var = var.astype('float')\n",
        "    \n",
        "    return var"
      ]
    },
    {
      "cell_type": "code",
      "source": [
        "aq_sum = cleaner('aq')\n",
        "bdi_sum = cleaner('bdi')\n",
        "wurs_sum = cleaner('wurs')\n",
        "\n",
        "print(f'aq length: {len(aq_sum)}')\n",
        "print(f'bdi length: {len(bdi_sum)}')\n",
        "print(f'wurs length: {len(wurs_sum)}')\n",
        "\n",
        "# After removing nans, each dataframe now has different lengths"
      ],
      "metadata": {
        "id": "0R_-NnF6NcDC",
        "colab": {
          "base_uri": "https://localhost:8080/"
        },
        "outputId": "8aaa4bd8-50e3-4b7e-a65e-3edd1bba8f05"
      },
      "id": "0R_-NnF6NcDC",
      "execution_count": 10,
      "outputs": [
        {
          "output_type": "stream",
          "name": "stdout",
          "text": [
            "aq length: 101\n",
            "bdi length: 104\n",
            "wurs length: 105\n"
          ]
        }
      ]
    },
    {
      "cell_type": "markdown",
      "source": [
        "## Cleaned Clinical Data"
      ],
      "metadata": {
        "id": "Z3srq75zhp-X"
      },
      "id": "Z3srq75zhp-X"
    },
    {
      "cell_type": "code",
      "source": [
        "# merge dataframes on index\n",
        "clinical_cleaned_df = pd.merge(aq_sum, bdi_sum, how='inner', left_index=True, right_index=True)\n",
        "clinical_cleaned_df = pd.merge(clinical_cleaned_df, wurs_sum, how='inner', left_index=True, right_index=True)\n",
        "\n",
        "print(f'new length of clinical dataframe: {len(clinical_cleaned_df)}')\n",
        "# All values are now of type float and"
      ],
      "metadata": {
        "id": "dNIEZ5WPQqC4",
        "colab": {
          "base_uri": "https://localhost:8080/"
        },
        "outputId": "6f643675-e0e9-49af-db70-046d94721179"
      },
      "id": "dNIEZ5WPQqC4",
      "execution_count": 11,
      "outputs": [
        {
          "output_type": "stream",
          "name": "stdout",
          "text": [
            "new length of clinical dataframe: 100\n"
          ]
        }
      ]
    },
    {
      "cell_type": "code",
      "source": [
        "# Find indices of new dataframe to be used later\n",
        "indices = clinical_cleaned_df.index"
      ],
      "metadata": {
        "id": "iEVzErxPP-6V"
      },
      "id": "iEVzErxPP-6V",
      "execution_count": 12,
      "outputs": []
    },
    {
      "cell_type": "markdown",
      "id": "01aef4d4",
      "metadata": {
        "heading_collapsed": true,
        "id": "01aef4d4"
      },
      "source": [
        "# **Correlation coefficient**"
      ]
    },
    {
      "cell_type": "code",
      "execution_count": 13,
      "id": "ca596945",
      "metadata": {
        "hidden": true,
        "id": "ca596945"
      },
      "outputs": [],
      "source": [
        "from scipy.stats import pearsonr, spearmanr"
      ]
    },
    {
      "cell_type": "markdown",
      "source": [
        "## Pearsons correlation coefficient"
      ],
      "metadata": {
        "id": "XcNdXiUb7ppm"
      },
      "id": "XcNdXiUb7ppm"
    },
    {
      "cell_type": "code",
      "execution_count": 14,
      "id": "d01b43e9",
      "metadata": {
        "hidden": true,
        "id": "d01b43e9"
      },
      "outputs": [],
      "source": [
        "# Calculate Pearson's correlation coefficient\n",
        "def pearson_corr(var1, var2, data=clinical_cleaned_df):\n",
        "    alpha = 0.05\n",
        "    corr_value, p_value, = pearsonr(data[var1], data[var2])\n",
        "    if p_value <= alpha:\n",
        "        print(f\"Pearson's correlation coefficient & p-value for {var1} & {var2}: {corr_value} | {p_value}\")"
      ]
    },
    {
      "cell_type": "markdown",
      "source": [
        "## Spearmans correlation coefficient"
      ],
      "metadata": {
        "id": "Pr3s2Blp7fZn"
      },
      "id": "Pr3s2Blp7fZn"
    },
    {
      "cell_type": "code",
      "source": [
        "# Calculate Spearman's correlation coefficient\n",
        "def spearman_corr(var1, var2, data=clinical_cleaned_df): # var as type string\n",
        "    alpha = 0.05\n",
        "    corr_value, p_value, = spearmanr(data[var1], data[var2])\n",
        "    if p_value <= alpha:\n",
        "        print(f\"Spearman's correlation coefficient & p-value for {var1} & {var2}: {corr_value} | {p_value}\")\n",
        "\n",
        "# Both pearson and spearman are implemented in python's scipy library, and take two arrays as input,\n",
        "# returns correlation and p-value as output"
      ],
      "metadata": {
        "id": "L4-L3G_f7jYU"
      },
      "id": "L4-L3G_f7jYU",
      "execution_count": 15,
      "outputs": []
    },
    {
      "cell_type": "markdown",
      "source": [
        "### AQ vs. BDI"
      ],
      "metadata": {
        "id": "kjC2F9jjXv_W"
      },
      "id": "kjC2F9jjXv_W"
    },
    {
      "cell_type": "code",
      "source": [
        "aq_bdi_pearson = pearson_corr('aq', 'bdi')\n",
        "aq_bdi_spearman = spearman_corr('aq', 'bdi')"
      ],
      "metadata": {
        "id": "pRj1gvm1YGT_"
      },
      "id": "pRj1gvm1YGT_",
      "execution_count": 16,
      "outputs": []
    },
    {
      "cell_type": "markdown",
      "source": [
        "### AQ vs. WURS"
      ],
      "metadata": {
        "id": "BWEz2keiYBA7"
      },
      "id": "BWEz2keiYBA7"
    },
    {
      "cell_type": "code",
      "source": [
        "aq_wurs_pearson = pearson_corr('aq', 'wurs')\n",
        "aq_wurs_spearman = spearman_corr('aq', 'wurs')"
      ],
      "metadata": {
        "colab": {
          "base_uri": "https://localhost:8080/"
        },
        "id": "RV1KZ9bJYG6i",
        "outputId": "e7876529-78f6-4696-de94-20c13b6a796d"
      },
      "id": "RV1KZ9bJYG6i",
      "execution_count": 17,
      "outputs": [
        {
          "output_type": "stream",
          "name": "stdout",
          "text": [
            "Pearson's correlation coefficient & p-value for aq & wurs: 0.22224855847352243 | 0.026255151542577754\n"
          ]
        }
      ]
    },
    {
      "cell_type": "markdown",
      "source": [
        "### BDI vs. WURS"
      ],
      "metadata": {
        "id": "7BE9DDmLYDiZ"
      },
      "id": "7BE9DDmLYDiZ"
    },
    {
      "cell_type": "code",
      "source": [
        "bdi_wurs_pearson = pearson_corr('bdi', 'wurs')\n",
        "bdi_wurs_spearman = spearman_corr('bdi', 'wurs')"
      ],
      "metadata": {
        "colab": {
          "base_uri": "https://localhost:8080/"
        },
        "id": "IJy77NmfYHjq",
        "outputId": "e19fc687-dad2-432e-cf06-a448a5e922e4"
      },
      "id": "IJy77NmfYHjq",
      "execution_count": 18,
      "outputs": [
        {
          "output_type": "stream",
          "name": "stdout",
          "text": [
            "Pearson's correlation coefficient & p-value for bdi & wurs: 0.36237922967493963 | 0.00021139852994281658\n",
            "Spearman's correlation coefficient & p-value for bdi & wurs: 0.32629316767677363 | 0.0009227610023327782\n"
          ]
        }
      ]
    },
    {
      "cell_type": "markdown",
      "id": "9a76cb23",
      "metadata": {
        "heading_collapsed": true,
        "hidden": true,
        "id": "9a76cb23"
      },
      "source": [
        "# **Feature Extraction & Engineering**"
      ]
    },
    {
      "cell_type": "markdown",
      "source": [
        "## x, y coordinates viwed the MOST and LEAST"
      ],
      "metadata": {
        "id": "DV_J_i4pFvCM"
      },
      "id": "DV_J_i4pFvCM"
    },
    {
      "cell_type": "code",
      "source": [
        "from collections import Counter"
      ],
      "metadata": {
        "id": "XcARUF9PDkGx"
      },
      "id": "XcARUF9PDkGx",
      "execution_count": 19,
      "outputs": []
    },
    {
      "cell_type": "markdown",
      "source": [
        "### Dictionaries"
      ],
      "metadata": {
        "id": "Pbs4Pgy9NWxI"
      },
      "id": "Pbs4Pgy9NWxI"
    },
    {
      "cell_type": "code",
      "execution_count": 20,
      "id": "f87b3a3e",
      "metadata": {
        "hidden": true,
        "id": "f87b3a3e"
      },
      "outputs": [],
      "source": [
        "# Instantiating empty dictionaries: keys = participant ID; values = most viewed and least viewed x, y coordinate pairs\n",
        "max_coordinates = {}\n",
        "all_max_coordinates = {}\n",
        "\n",
        "min_coordinates = {}\n",
        "all_min_coordinates = {}\n",
        "\n",
        "# Run for loop through each participant's x, y coordinate data in data_df\n",
        "for participant in data:\n",
        "    participant_counts = {} # Instantiate empty dictionary to hold each individual participant's eye-tracking data\n",
        "    \n",
        "    # Zip a single individual's x: (GazeX), and y: (GazeY) data\n",
        "    coordinates = zip(data[participant]['GazeX'], data[participant]['GazeY'])\n",
        "    # Transform zipped data into a list where each individual x, y coordinate is a tuple [(x,y), (x,y)...]\n",
        "    coordinates = list(coordinates)\n",
        "    \n",
        "    # Now loop through each x, y coordinate tuple pair\n",
        "    for xy in coordinates:\n",
        "        if xy not in participant_counts: # If the pair is not in the earlier instantited participant dict\n",
        "            participant_counts[xy] = 1 # Add this pais as a key with a value of 1\n",
        "        else:\n",
        "            participant_counts[xy] += 1 # If the pair is already in the dictionary, then add a count of 1 to its value\n",
        "\n",
        "    # Find the maximum count in the participant_counts dictionary\n",
        "    max_count = max(participant_counts.values())\n",
        "\n",
        "    # Find all coordinate tuples with the maximum count\n",
        "    max_coordinates[participant] = (max(participant_counts, key=participant_counts.get), max_count)\n",
        "\n",
        "    # Add the participant ID and the list of coordinate tuples with the maximum count to all_max_coordinates\n",
        "    all_max_coordinates[participant] = [coord for coord, count in participant_counts.items() if count == max_count]\n",
        "\n",
        "    # Find the minimum count in the participant_counts dictionary\n",
        "    min_count = min(participant_counts.values())\n",
        "\n",
        "    # Find all coordinate tuples with the minimum count\n",
        "    min_coordinates[participant] = (min(participant_counts, key=participant_counts.get), min_count)\n",
        "\n",
        "    # Add the participant ID and the list of coordinate tuples with the minimum count to all_min_coordinates\n",
        "    all_min_coordinates[participant] = [coord for coord, count in participant_counts.items() if count == min_count]"
      ]
    },
    {
      "cell_type": "markdown",
      "source": [
        "### Lists"
      ],
      "metadata": {
        "id": "l35zJcl0Nc2L"
      },
      "id": "l35zJcl0Nc2L"
    },
    {
      "cell_type": "code",
      "source": [
        "# Create lists from the dictionaries\n",
        "max_coordinates_list = [i[0] for i in max_coordinates.values()]\n",
        "all_max_coordinates_list = [coords for sublist in all_max_coordinates.values() for coords in sublist]\n",
        "min_coordinates_list = [i[0] for i in min_coordinates.values()]\n",
        "all_min_coordinates_list = [coords for sublist in all_min_coordinates.values() for coords in sublist]"
      ],
      "metadata": {
        "id": "KXMOOdsBJO9_"
      },
      "id": "KXMOOdsBJO9_",
      "execution_count": 21,
      "outputs": []
    },
    {
      "cell_type": "markdown",
      "source": [
        "### Filtered Lists"
      ],
      "metadata": {
        "id": "bbuz9kFpUwWk"
      },
      "id": "bbuz9kFpUwWk"
    },
    {
      "cell_type": "code",
      "source": [
        "# Filtering lists with common indices to make sure only those with available clinical scores are kept\n",
        "filtered_max_coordinates_list = [max_coordinates_list[i] for i in indices if i < len(max_coordinates_list)]\n",
        "filtered_min_coordinates_list = [min_coordinates_list[i] for i in indices if i < len(min_coordinates_list)]"
      ],
      "metadata": {
        "id": "rxNhobISUyxy"
      },
      "id": "rxNhobISUyxy",
      "execution_count": 22,
      "outputs": []
    },
    {
      "cell_type": "markdown",
      "source": [
        "## Neighborhood surrounding max x, y coordinate pairs"
      ],
      "metadata": {
        "id": "LXTQAZZlLmCS"
      },
      "id": "LXTQAZZlLmCS"
    },
    {
      "cell_type": "code",
      "execution_count": 23,
      "id": "ba3074cd",
      "metadata": {
        "hidden": true,
        "id": "ba3074cd"
      },
      "outputs": [],
      "source": [
        "# Instantite empty list to hold all the neighborhood surrounding of coordinates surrounding max x, y coordinate pairs\n",
        "range_neighborhood_dic = {}\n",
        "\n",
        "# Iterate over the range_neighborhood_dic\n",
        "for participant, (coordinate, count) in max_coordinates.items():\n",
        "    x, y = coordinate\n",
        "\n",
        "    # Create a list to hold the coordinate pairs within our range\n",
        "    pairs_within_range = []\n",
        "\n",
        "    # Iterate from (x-5, y-5) to (x+5, y+5) and append each pair to the list\n",
        "    for i in range(x-5, x+5):\n",
        "        for j in range(y-5, y+5):\n",
        "            pairs_within_range.append((i, j))\n",
        "\n",
        "    # Add the list of coordinate pairs to the range_neighborhood_dic\n",
        "    range_neighborhood_dic[participant] = pairs_within_range"
      ]
    },
    {
      "cell_type": "markdown",
      "source": [
        "### List"
      ],
      "metadata": {
        "id": "iLgy7DW2OMeo"
      },
      "id": "iLgy7DW2OMeo"
    },
    {
      "cell_type": "code",
      "source": [
        "# Instantiate an empty list to hold all the max x, y coordinate pairs\n",
        "range_neighborhood_list = []\n",
        "\n",
        "# Iterate over the range_neighborhood_dic dictionary\n",
        "for pairs_within_range in range_neighborhood_dic.values():\n",
        "    # Extend the range_neighborhood_list with the coordinate pairs within range\n",
        "    range_neighborhood_list.extend(pairs_within_range)"
      ],
      "metadata": {
        "id": "xB74PUs1OPBo"
      },
      "id": "xB74PUs1OPBo",
      "execution_count": 24,
      "outputs": []
    },
    {
      "cell_type": "markdown",
      "source": [
        "### Dataframe"
      ],
      "metadata": {
        "id": "jQRF5oJi-AXl"
      },
      "id": "jQRF5oJi-AXl"
    },
    {
      "cell_type": "code",
      "source": [
        "# Convert the dictionary to a dataframe\n",
        "range_neighborhood_df = pd.DataFrame.from_dict(range_neighborhood_dic, orient='index')\n",
        "\n",
        "# Reset the index to make the participant column a normal column\n",
        "range_neighborhood_df = range_neighborhood_df.reset_index()\n",
        "\n",
        "# Rename columns\n",
        "range_neighborhood_df = range_neighborhood_df.rename(columns={'index': 'participant', 0: 'main_coordinate'})\n",
        "\n",
        "# Drop columns so we only get values\n",
        "range_neighborhood_df = range_neighborhood_df.drop({'participant', 'main_coordinate'}, axis=1)"
      ],
      "metadata": {
        "id": "bWN3IYlj-B9o"
      },
      "id": "bWN3IYlj-B9o",
      "execution_count": 25,
      "outputs": []
    },
    {
      "cell_type": "code",
      "source": [
        "range_neighborhood_df.head(3)"
      ],
      "metadata": {
        "colab": {
          "base_uri": "https://localhost:8080/",
          "height": 172
        },
        "id": "h1eGtLsS0qSy",
        "outputId": "b5d9eadb-b73f-4bad-8dba-3a6411e9041d"
      },
      "id": "h1eGtLsS0qSy",
      "execution_count": 26,
      "outputs": [
        {
          "output_type": "execute_result",
          "data": {
            "text/plain": [
              "           1           2           3           4           5           6   \\\n",
              "0  (938, 526)  (938, 527)  (938, 528)  (938, 529)  (938, 530)  (938, 531)   \n",
              "1  (938, 589)  (938, 590)  (938, 591)  (938, 592)  (938, 593)  (938, 594)   \n",
              "2  (968, 592)  (968, 593)  (968, 594)  (968, 595)  (968, 596)  (968, 597)   \n",
              "\n",
              "           7           8           9           10  ...          90  \\\n",
              "0  (938, 532)  (938, 533)  (938, 534)  (939, 525)  ...  (947, 525)   \n",
              "1  (938, 595)  (938, 596)  (938, 597)  (939, 588)  ...  (947, 588)   \n",
              "2  (968, 598)  (968, 599)  (968, 600)  (969, 591)  ...  (977, 591)   \n",
              "\n",
              "           91          92          93          94          95          96  \\\n",
              "0  (947, 526)  (947, 527)  (947, 528)  (947, 529)  (947, 530)  (947, 531)   \n",
              "1  (947, 589)  (947, 590)  (947, 591)  (947, 592)  (947, 593)  (947, 594)   \n",
              "2  (977, 592)  (977, 593)  (977, 594)  (977, 595)  (977, 596)  (977, 597)   \n",
              "\n",
              "           97          98          99  \n",
              "0  (947, 532)  (947, 533)  (947, 534)  \n",
              "1  (947, 595)  (947, 596)  (947, 597)  \n",
              "2  (977, 598)  (977, 599)  (977, 600)  \n",
              "\n",
              "[3 rows x 99 columns]"
            ],
            "text/html": [
              "\n",
              "  <div id=\"df-82b7b188-00d8-444d-a491-3bc1653512dc\">\n",
              "    <div class=\"colab-df-container\">\n",
              "      <div>\n",
              "<style scoped>\n",
              "    .dataframe tbody tr th:only-of-type {\n",
              "        vertical-align: middle;\n",
              "    }\n",
              "\n",
              "    .dataframe tbody tr th {\n",
              "        vertical-align: top;\n",
              "    }\n",
              "\n",
              "    .dataframe thead th {\n",
              "        text-align: right;\n",
              "    }\n",
              "</style>\n",
              "<table border=\"1\" class=\"dataframe\">\n",
              "  <thead>\n",
              "    <tr style=\"text-align: right;\">\n",
              "      <th></th>\n",
              "      <th>1</th>\n",
              "      <th>2</th>\n",
              "      <th>3</th>\n",
              "      <th>4</th>\n",
              "      <th>5</th>\n",
              "      <th>6</th>\n",
              "      <th>7</th>\n",
              "      <th>8</th>\n",
              "      <th>9</th>\n",
              "      <th>10</th>\n",
              "      <th>...</th>\n",
              "      <th>90</th>\n",
              "      <th>91</th>\n",
              "      <th>92</th>\n",
              "      <th>93</th>\n",
              "      <th>94</th>\n",
              "      <th>95</th>\n",
              "      <th>96</th>\n",
              "      <th>97</th>\n",
              "      <th>98</th>\n",
              "      <th>99</th>\n",
              "    </tr>\n",
              "  </thead>\n",
              "  <tbody>\n",
              "    <tr>\n",
              "      <th>0</th>\n",
              "      <td>(938, 526)</td>\n",
              "      <td>(938, 527)</td>\n",
              "      <td>(938, 528)</td>\n",
              "      <td>(938, 529)</td>\n",
              "      <td>(938, 530)</td>\n",
              "      <td>(938, 531)</td>\n",
              "      <td>(938, 532)</td>\n",
              "      <td>(938, 533)</td>\n",
              "      <td>(938, 534)</td>\n",
              "      <td>(939, 525)</td>\n",
              "      <td>...</td>\n",
              "      <td>(947, 525)</td>\n",
              "      <td>(947, 526)</td>\n",
              "      <td>(947, 527)</td>\n",
              "      <td>(947, 528)</td>\n",
              "      <td>(947, 529)</td>\n",
              "      <td>(947, 530)</td>\n",
              "      <td>(947, 531)</td>\n",
              "      <td>(947, 532)</td>\n",
              "      <td>(947, 533)</td>\n",
              "      <td>(947, 534)</td>\n",
              "    </tr>\n",
              "    <tr>\n",
              "      <th>1</th>\n",
              "      <td>(938, 589)</td>\n",
              "      <td>(938, 590)</td>\n",
              "      <td>(938, 591)</td>\n",
              "      <td>(938, 592)</td>\n",
              "      <td>(938, 593)</td>\n",
              "      <td>(938, 594)</td>\n",
              "      <td>(938, 595)</td>\n",
              "      <td>(938, 596)</td>\n",
              "      <td>(938, 597)</td>\n",
              "      <td>(939, 588)</td>\n",
              "      <td>...</td>\n",
              "      <td>(947, 588)</td>\n",
              "      <td>(947, 589)</td>\n",
              "      <td>(947, 590)</td>\n",
              "      <td>(947, 591)</td>\n",
              "      <td>(947, 592)</td>\n",
              "      <td>(947, 593)</td>\n",
              "      <td>(947, 594)</td>\n",
              "      <td>(947, 595)</td>\n",
              "      <td>(947, 596)</td>\n",
              "      <td>(947, 597)</td>\n",
              "    </tr>\n",
              "    <tr>\n",
              "      <th>2</th>\n",
              "      <td>(968, 592)</td>\n",
              "      <td>(968, 593)</td>\n",
              "      <td>(968, 594)</td>\n",
              "      <td>(968, 595)</td>\n",
              "      <td>(968, 596)</td>\n",
              "      <td>(968, 597)</td>\n",
              "      <td>(968, 598)</td>\n",
              "      <td>(968, 599)</td>\n",
              "      <td>(968, 600)</td>\n",
              "      <td>(969, 591)</td>\n",
              "      <td>...</td>\n",
              "      <td>(977, 591)</td>\n",
              "      <td>(977, 592)</td>\n",
              "      <td>(977, 593)</td>\n",
              "      <td>(977, 594)</td>\n",
              "      <td>(977, 595)</td>\n",
              "      <td>(977, 596)</td>\n",
              "      <td>(977, 597)</td>\n",
              "      <td>(977, 598)</td>\n",
              "      <td>(977, 599)</td>\n",
              "      <td>(977, 600)</td>\n",
              "    </tr>\n",
              "  </tbody>\n",
              "</table>\n",
              "<p>3 rows × 99 columns</p>\n",
              "</div>\n",
              "      <button class=\"colab-df-convert\" onclick=\"convertToInteractive('df-82b7b188-00d8-444d-a491-3bc1653512dc')\"\n",
              "              title=\"Convert this dataframe to an interactive table.\"\n",
              "              style=\"display:none;\">\n",
              "        \n",
              "  <svg xmlns=\"http://www.w3.org/2000/svg\" height=\"24px\"viewBox=\"0 0 24 24\"\n",
              "       width=\"24px\">\n",
              "    <path d=\"M0 0h24v24H0V0z\" fill=\"none\"/>\n",
              "    <path d=\"M18.56 5.44l.94 2.06.94-2.06 2.06-.94-2.06-.94-.94-2.06-.94 2.06-2.06.94zm-11 1L8.5 8.5l.94-2.06 2.06-.94-2.06-.94L8.5 2.5l-.94 2.06-2.06.94zm10 10l.94 2.06.94-2.06 2.06-.94-2.06-.94-.94-2.06-.94 2.06-2.06.94z\"/><path d=\"M17.41 7.96l-1.37-1.37c-.4-.4-.92-.59-1.43-.59-.52 0-1.04.2-1.43.59L10.3 9.45l-7.72 7.72c-.78.78-.78 2.05 0 2.83L4 21.41c.39.39.9.59 1.41.59.51 0 1.02-.2 1.41-.59l7.78-7.78 2.81-2.81c.8-.78.8-2.07 0-2.86zM5.41 20L4 18.59l7.72-7.72 1.47 1.35L5.41 20z\"/>\n",
              "  </svg>\n",
              "      </button>\n",
              "      \n",
              "  <style>\n",
              "    .colab-df-container {\n",
              "      display:flex;\n",
              "      flex-wrap:wrap;\n",
              "      gap: 12px;\n",
              "    }\n",
              "\n",
              "    .colab-df-convert {\n",
              "      background-color: #E8F0FE;\n",
              "      border: none;\n",
              "      border-radius: 50%;\n",
              "      cursor: pointer;\n",
              "      display: none;\n",
              "      fill: #1967D2;\n",
              "      height: 32px;\n",
              "      padding: 0 0 0 0;\n",
              "      width: 32px;\n",
              "    }\n",
              "\n",
              "    .colab-df-convert:hover {\n",
              "      background-color: #E2EBFA;\n",
              "      box-shadow: 0px 1px 2px rgba(60, 64, 67, 0.3), 0px 1px 3px 1px rgba(60, 64, 67, 0.15);\n",
              "      fill: #174EA6;\n",
              "    }\n",
              "\n",
              "    [theme=dark] .colab-df-convert {\n",
              "      background-color: #3B4455;\n",
              "      fill: #D2E3FC;\n",
              "    }\n",
              "\n",
              "    [theme=dark] .colab-df-convert:hover {\n",
              "      background-color: #434B5C;\n",
              "      box-shadow: 0px 1px 3px 1px rgba(0, 0, 0, 0.15);\n",
              "      filter: drop-shadow(0px 1px 2px rgba(0, 0, 0, 0.3));\n",
              "      fill: #FFFFFF;\n",
              "    }\n",
              "  </style>\n",
              "\n",
              "      <script>\n",
              "        const buttonEl =\n",
              "          document.querySelector('#df-82b7b188-00d8-444d-a491-3bc1653512dc button.colab-df-convert');\n",
              "        buttonEl.style.display =\n",
              "          google.colab.kernel.accessAllowed ? 'block' : 'none';\n",
              "\n",
              "        async function convertToInteractive(key) {\n",
              "          const element = document.querySelector('#df-82b7b188-00d8-444d-a491-3bc1653512dc');\n",
              "          const dataTable =\n",
              "            await google.colab.kernel.invokeFunction('convertToInteractive',\n",
              "                                                     [key], {});\n",
              "          if (!dataTable) return;\n",
              "\n",
              "          const docLinkHtml = 'Like what you see? Visit the ' +\n",
              "            '<a target=\"_blank\" href=https://colab.research.google.com/notebooks/data_table.ipynb>data table notebook</a>'\n",
              "            + ' to learn more about interactive tables.';\n",
              "          element.innerHTML = '';\n",
              "          dataTable['output_type'] = 'display_data';\n",
              "          await google.colab.output.renderOutput(dataTable, element);\n",
              "          const docLink = document.createElement('div');\n",
              "          docLink.innerHTML = docLinkHtml;\n",
              "          element.appendChild(docLink);\n",
              "        }\n",
              "      </script>\n",
              "    </div>\n",
              "  </div>\n",
              "  "
            ]
          },
          "metadata": {},
          "execution_count": 26
        }
      ]
    },
    {
      "cell_type": "markdown",
      "source": [
        "## Euclidean Distance\n",
        "Between most and least viewed x, y coordinate pairs"
      ],
      "metadata": {
        "id": "gm5vQF0q9mmf"
      },
      "id": "gm5vQF0q9mmf"
    },
    {
      "cell_type": "code",
      "source": [
        "# Initialize a list to store the Euclidean distances\n",
        "ed_distances = []\n",
        "\n",
        "# Iterate over the participants' data\n",
        "for participant in min_coordinates:\n",
        "    # Grab least and most viewed x, y coordinate pairs\n",
        "    least_viewed_pair = min_coordinates[participant][0]\n",
        "    most_viewed_pair = max_coordinates[participant][0]\n",
        "\n",
        "    # Convert the coordinate pairs to arrays\n",
        "    least_viewed_array = np.array(least_viewed_pair)\n",
        "    most_viewed_array = np.array(most_viewed_pair)\n",
        "\n",
        "    # Calculate Euclidean distance\n",
        "    distance = np.linalg.norm(least_viewed_array - most_viewed_array)\n",
        "    \n",
        "    # Append distances to the list\n",
        "    ed_distances.append(distance)\n",
        "\n",
        "# for i, distance in enumerate(distances):\n",
        "#     print(f\"Euclidean distance for participant {i+1}: {distance}\")"
      ],
      "metadata": {
        "id": "PqRMONmv91h-"
      },
      "id": "PqRMONmv91h-",
      "execution_count": 27,
      "outputs": []
    },
    {
      "cell_type": "code",
      "source": [
        "# Convert list to dataframe and then rename columns\n",
        "ed_distances_pd = pd.DataFrame(ed_distances)\n",
        "ed_distances_pd = ed_distances_pd.rename(columns={0:'ed_distances'})"
      ],
      "metadata": {
        "id": "xFvfoT0ZFV26"
      },
      "id": "xFvfoT0ZFV26",
      "execution_count": 28,
      "outputs": []
    },
    {
      "cell_type": "markdown",
      "id": "bf850e88",
      "metadata": {
        "heading_collapsed": true,
        "id": "bf850e88"
      },
      "source": [
        "# **Statistics**\n",
        "1. Mean\n",
        "2. Standard deviation\n",
        "3. Median\n",
        "4. Pearsons correlation coefficient\n",
        "5. Range\n",
        "6. Unique values"
      ]
    },
    {
      "cell_type": "code",
      "execution_count": 29,
      "id": "99201d5e",
      "metadata": {
        "hidden": true,
        "id": "99201d5e"
      },
      "outputs": [],
      "source": [
        "# Building empty lists to hold statistics\n",
        "\n",
        "# Mean x, y coordinates\n",
        "xval_mean = []\n",
        "yval_mean = []\n",
        "\n",
        "# Standard deviation of x, y coordinates\n",
        "xval_std = []\n",
        "yval_std = []\n",
        "\n",
        "# Median of x, y coordinates\n",
        "xval_med = []\n",
        "yval_med = []\n",
        "\n",
        "# Pearson correlation coefficient of x, y coordinates\n",
        "xy_pearson_cc = []\n",
        "\n",
        "# Spearman correlation coefficient of x, y coordinates\n",
        "xy_spearman_cc = []\n",
        "\n",
        "# Range of x, y coordinates\n",
        "x_range = []\n",
        "y_range = []\n",
        "\n",
        "# Unique values of x, y coordinates\n",
        "unique_vals_mean = []\n",
        "\n",
        "for name in data:\n",
        "    xval_mean.append(data[name]['GazeX'].sum()/len(data[name]))\n",
        "    xval_std.append(np.std(data[name]['GazeX']))\n",
        "    xval_med.append(data[name]['GazeX'].median())\n",
        "    xy_pearson_cc.append(data[name]['GazeX'].corr(data[name]['GazeY'])) # pearsons correlation coefficient\n",
        "    xy_spearman_cc.append(data[name]['GazeX'].corr(data[name]['GazeY'], method='spearman')) # spearmans correlation coefficient\n",
        "    x_range.append(data[name]['GazeX'].max() - data[name]['GazeX'].min())\n",
        "    unique_vals_mean.append(data[name].drop_duplicates(subset=['GazeX', 'GazeY']).sum()/len(data[name]))\n",
        "    \n",
        "for name in data:\n",
        "    yval_mean.append(data[name]['GazeY'].sum()/len(data[name]))\n",
        "    yval_std.append(np.std(data[name]['GazeY']))\n",
        "    yval_med.append(data[name]['GazeY'].median())\n",
        "    y_range.append(data[name]['GazeY'].max() - data[name]['GazeY'].min())"
      ]
    },
    {
      "cell_type": "markdown",
      "id": "e19af98a",
      "metadata": {
        "hidden": true,
        "id": "e19af98a"
      },
      "source": [
        "## **All statistics variables**"
      ]
    },
    {
      "cell_type": "code",
      "execution_count": 30,
      "id": "c08c4160",
      "metadata": {
        "hidden": true,
        "id": "c08c4160"
      },
      "outputs": [],
      "source": [
        "# Mean\n",
        "meanvals_df = pd.DataFrame({'x': xval_mean, 'y': yval_mean})\n",
        "\n",
        "# Standard deviation\n",
        "stdvals_df = pd.DataFrame({'x': xval_std, 'y': yval_std})\n",
        "\n",
        "# Median\n",
        "medvals_df = pd.DataFrame({'x': xval_med, 'y': yval_med})\n",
        "\n",
        "# Range\n",
        "xy_range_df = pd.DataFrame({'x': x_range, 'y': y_range})\n",
        "\n",
        "# Pearsons CC\n",
        "xy_pearson_df = pd.DataFrame({'pearsons_cc': xy_pearson_cc})\n",
        "\n",
        "# Spearmans CC\n",
        "xy_spearman_df = pd.DataFrame({'spearmans_cc': xy_spearman_cc})\n",
        "\n",
        "# Unique values mean\n",
        "unique_vals_mean_df = pd.DataFrame(unique_vals_mean)"
      ]
    },
    {
      "cell_type": "code",
      "source": [
        "unique_vals_mean_df.head(3)"
      ],
      "metadata": {
        "colab": {
          "base_uri": "https://localhost:8080/",
          "height": 143
        },
        "id": "B4maNGEs6IvO",
        "outputId": "7cba1217-a3ef-40ad-8005-e92f66795e61"
      },
      "id": "B4maNGEs6IvO",
      "execution_count": 31,
      "outputs": [
        {
          "output_type": "execute_result",
          "data": {
            "text/plain": [
              "        GazeX       GazeY\n",
              "0  916.421785  525.912913\n",
              "1  940.963047  540.806378\n",
              "2  914.122155  582.386697"
            ],
            "text/html": [
              "\n",
              "  <div id=\"df-4304dcad-6484-45ba-bb72-b4dfd6fad026\">\n",
              "    <div class=\"colab-df-container\">\n",
              "      <div>\n",
              "<style scoped>\n",
              "    .dataframe tbody tr th:only-of-type {\n",
              "        vertical-align: middle;\n",
              "    }\n",
              "\n",
              "    .dataframe tbody tr th {\n",
              "        vertical-align: top;\n",
              "    }\n",
              "\n",
              "    .dataframe thead th {\n",
              "        text-align: right;\n",
              "    }\n",
              "</style>\n",
              "<table border=\"1\" class=\"dataframe\">\n",
              "  <thead>\n",
              "    <tr style=\"text-align: right;\">\n",
              "      <th></th>\n",
              "      <th>GazeX</th>\n",
              "      <th>GazeY</th>\n",
              "    </tr>\n",
              "  </thead>\n",
              "  <tbody>\n",
              "    <tr>\n",
              "      <th>0</th>\n",
              "      <td>916.421785</td>\n",
              "      <td>525.912913</td>\n",
              "    </tr>\n",
              "    <tr>\n",
              "      <th>1</th>\n",
              "      <td>940.963047</td>\n",
              "      <td>540.806378</td>\n",
              "    </tr>\n",
              "    <tr>\n",
              "      <th>2</th>\n",
              "      <td>914.122155</td>\n",
              "      <td>582.386697</td>\n",
              "    </tr>\n",
              "  </tbody>\n",
              "</table>\n",
              "</div>\n",
              "      <button class=\"colab-df-convert\" onclick=\"convertToInteractive('df-4304dcad-6484-45ba-bb72-b4dfd6fad026')\"\n",
              "              title=\"Convert this dataframe to an interactive table.\"\n",
              "              style=\"display:none;\">\n",
              "        \n",
              "  <svg xmlns=\"http://www.w3.org/2000/svg\" height=\"24px\"viewBox=\"0 0 24 24\"\n",
              "       width=\"24px\">\n",
              "    <path d=\"M0 0h24v24H0V0z\" fill=\"none\"/>\n",
              "    <path d=\"M18.56 5.44l.94 2.06.94-2.06 2.06-.94-2.06-.94-.94-2.06-.94 2.06-2.06.94zm-11 1L8.5 8.5l.94-2.06 2.06-.94-2.06-.94L8.5 2.5l-.94 2.06-2.06.94zm10 10l.94 2.06.94-2.06 2.06-.94-2.06-.94-.94-2.06-.94 2.06-2.06.94z\"/><path d=\"M17.41 7.96l-1.37-1.37c-.4-.4-.92-.59-1.43-.59-.52 0-1.04.2-1.43.59L10.3 9.45l-7.72 7.72c-.78.78-.78 2.05 0 2.83L4 21.41c.39.39.9.59 1.41.59.51 0 1.02-.2 1.41-.59l7.78-7.78 2.81-2.81c.8-.78.8-2.07 0-2.86zM5.41 20L4 18.59l7.72-7.72 1.47 1.35L5.41 20z\"/>\n",
              "  </svg>\n",
              "      </button>\n",
              "      \n",
              "  <style>\n",
              "    .colab-df-container {\n",
              "      display:flex;\n",
              "      flex-wrap:wrap;\n",
              "      gap: 12px;\n",
              "    }\n",
              "\n",
              "    .colab-df-convert {\n",
              "      background-color: #E8F0FE;\n",
              "      border: none;\n",
              "      border-radius: 50%;\n",
              "      cursor: pointer;\n",
              "      display: none;\n",
              "      fill: #1967D2;\n",
              "      height: 32px;\n",
              "      padding: 0 0 0 0;\n",
              "      width: 32px;\n",
              "    }\n",
              "\n",
              "    .colab-df-convert:hover {\n",
              "      background-color: #E2EBFA;\n",
              "      box-shadow: 0px 1px 2px rgba(60, 64, 67, 0.3), 0px 1px 3px 1px rgba(60, 64, 67, 0.15);\n",
              "      fill: #174EA6;\n",
              "    }\n",
              "\n",
              "    [theme=dark] .colab-df-convert {\n",
              "      background-color: #3B4455;\n",
              "      fill: #D2E3FC;\n",
              "    }\n",
              "\n",
              "    [theme=dark] .colab-df-convert:hover {\n",
              "      background-color: #434B5C;\n",
              "      box-shadow: 0px 1px 3px 1px rgba(0, 0, 0, 0.15);\n",
              "      filter: drop-shadow(0px 1px 2px rgba(0, 0, 0, 0.3));\n",
              "      fill: #FFFFFF;\n",
              "    }\n",
              "  </style>\n",
              "\n",
              "      <script>\n",
              "        const buttonEl =\n",
              "          document.querySelector('#df-4304dcad-6484-45ba-bb72-b4dfd6fad026 button.colab-df-convert');\n",
              "        buttonEl.style.display =\n",
              "          google.colab.kernel.accessAllowed ? 'block' : 'none';\n",
              "\n",
              "        async function convertToInteractive(key) {\n",
              "          const element = document.querySelector('#df-4304dcad-6484-45ba-bb72-b4dfd6fad026');\n",
              "          const dataTable =\n",
              "            await google.colab.kernel.invokeFunction('convertToInteractive',\n",
              "                                                     [key], {});\n",
              "          if (!dataTable) return;\n",
              "\n",
              "          const docLinkHtml = 'Like what you see? Visit the ' +\n",
              "            '<a target=\"_blank\" href=https://colab.research.google.com/notebooks/data_table.ipynb>data table notebook</a>'\n",
              "            + ' to learn more about interactive tables.';\n",
              "          element.innerHTML = '';\n",
              "          dataTable['output_type'] = 'display_data';\n",
              "          await google.colab.output.renderOutput(dataTable, element);\n",
              "          const docLink = document.createElement('div');\n",
              "          docLink.innerHTML = docLinkHtml;\n",
              "          element.appendChild(docLink);\n",
              "        }\n",
              "      </script>\n",
              "    </div>\n",
              "  </div>\n",
              "  "
            ]
          },
          "metadata": {},
          "execution_count": 31
        }
      ]
    },
    {
      "cell_type": "markdown",
      "source": [
        "# **Train-Test Split for Regressors**"
      ],
      "metadata": {
        "id": "4NFadvHAuZK_"
      },
      "id": "4NFadvHAuZK_"
    },
    {
      "cell_type": "code",
      "source": [
        "from sklearn.model_selection import train_test_split"
      ],
      "metadata": {
        "id": "hh9VE__suzLE"
      },
      "id": "hh9VE__suzLE",
      "execution_count": 32,
      "outputs": []
    },
    {
      "cell_type": "code",
      "execution_count": 33,
      "metadata": {
        "hidden": true,
        "id": "cZ24j9zDu1io"
      },
      "outputs": [],
      "source": [
        "# Building train-test split function for regressors\n",
        "\n",
        "def split(input_feature, clinical_var, indices=indices, clinical_data=clinical_cleaned_df):\n",
        "\n",
        "    # Creating x input feature\n",
        "    x = input_feature\n",
        "\n",
        "    # Creating y target variable\n",
        "    y = clinical_cleaned_df[clinical_var]\n",
        "    \n",
        "    # If the length of input variable x is not equal to label y, find only common indices\n",
        "    if len(x) != len(y):\n",
        "        x = x.loc[indices]\n",
        "\n",
        "    # Convert to arrays\n",
        "    x_arr = np.array(x)\n",
        "    y_arr = np.array(y)\n",
        "    \n",
        "    # Perform train-test split\n",
        "    x_train, x_test, y_train, y_test = train_test_split(x_arr, y_arr, test_size=0.2, random_state=42)\n",
        "\n",
        "    return x_train, x_test, y_train, y_test"
      ],
      "id": "cZ24j9zDu1io"
    },
    {
      "cell_type": "markdown",
      "source": [
        "## Least viewed x, y coordinate pairs"
      ],
      "metadata": {
        "id": "iGUds1j_xEHa"
      },
      "id": "iGUds1j_xEHa"
    },
    {
      "cell_type": "code",
      "source": [
        "# least viwed = lv\n",
        "\n",
        "# AQ\n",
        "lv_x_train_aq, lv_x_test_aq, lv_y_train_aq, lv_y_test_aq = split(filtered_min_coordinates_list, 'aq')\n",
        "\n",
        "# BDI\n",
        "lv_x_train_bdi, lv_x_test_bdi, lv_y_train_bdi, lv_y_test_bdi = split(filtered_min_coordinates_list, 'bdi')\n",
        "\n",
        "# WURS\n",
        "lv_x_train_wurs, lv_x_test_wurs, lv_y_train_wurs, lv_y_test_wurs = split(filtered_min_coordinates_list, 'wurs')"
      ],
      "metadata": {
        "id": "kN-Ui_vRxH63"
      },
      "id": "kN-Ui_vRxH63",
      "execution_count": 34,
      "outputs": []
    },
    {
      "cell_type": "markdown",
      "source": [
        "## Most viewed x, y coordinate pairs"
      ],
      "metadata": {
        "id": "hoDeek_VxJdk"
      },
      "id": "hoDeek_VxJdk"
    },
    {
      "cell_type": "code",
      "source": [
        "# most viewed = mv\n",
        "\n",
        "# AQ\n",
        "mv_x_train_aq, mv_x_test_aq, mv_y_train_aq, mv_y_test_aq = split(filtered_max_coordinates_list, 'aq')\n",
        "\n",
        "# BDI\n",
        "mv_x_train_bdi, mv_x_test_bdi, mv_y_train_bdi, mv_y_test_bdi = split(filtered_max_coordinates_list, 'bdi')\n",
        "\n",
        "# WURS\n",
        "mv_x_train_wurs, mv_x_test_wurs, mv_y_train_wurs, mv_y_test_wurs = split(filtered_max_coordinates_list, 'wurs')"
      ],
      "metadata": {
        "id": "twsr4XAUxM1L"
      },
      "id": "twsr4XAUxM1L",
      "execution_count": 35,
      "outputs": []
    },
    {
      "cell_type": "markdown",
      "source": [
        "## Neighborhood surrounding max x, y coordinate pairs"
      ],
      "metadata": {
        "id": "27TPQzFLxM54"
      },
      "id": "27TPQzFLxM54"
    },
    {
      "cell_type": "code",
      "source": [
        "# AQ\n",
        "range_neighborhood_x_train_aq, range_neighborhood_x_test_aq, range_neighborhood_y_train_aq, range_neighborhood_y_test_aq = split(range_neighborhood_df, 'aq')\n",
        "\n",
        "# BDI\n",
        "range_neighborhood_x_train_bdi, range_neighborhood_x_test_bdi, range_neighborhood_y_train_bdi, range_neighborhood_y_test_bdi = split(range_neighborhood_df, 'bdi')\n",
        "\n",
        "# WURS\n",
        "range_neighborhood_x_train_wurs, range_neighborhood_x_test_wurs, range_neighborhood_y_train_wurs, range_neighborhood_y_test_wurs = split(range_neighborhood_df, 'wurs')\n"
      ],
      "metadata": {
        "id": "tiUyLgjzxQ5X"
      },
      "id": "tiUyLgjzxQ5X",
      "execution_count": 36,
      "outputs": []
    },
    {
      "cell_type": "markdown",
      "source": [
        "## Euclidean Distance"
      ],
      "metadata": {
        "id": "e4C0Q2CMEmnM"
      },
      "id": "e4C0Q2CMEmnM"
    },
    {
      "cell_type": "code",
      "source": [
        "# AQ\n",
        "ed_x_train_aq, ed_x_test_aq, ed_y_train_aq, ed_y_test_aq = split(ed_distances_pd, 'aq')\n",
        "\n",
        "# BDI\n",
        "ed_x_train_bdi, ed_x_test_bdi, ed_y_train_bdi, ed_y_test_bdi = split(ed_distances_pd, 'bdi')\n",
        "\n",
        "# WURS\n",
        "ed_x_train_wurs, ed_x_test_wurs, ed_y_train_wurs, ed_y_test_wurs = split(ed_distances_pd, 'wurs')"
      ],
      "metadata": {
        "id": "gOcHd66PEsd6"
      },
      "id": "gOcHd66PEsd6",
      "execution_count": 37,
      "outputs": []
    },
    {
      "cell_type": "markdown",
      "source": [
        "## Mean"
      ],
      "metadata": {
        "id": "orOagOAeyJWI"
      },
      "id": "orOagOAeyJWI"
    },
    {
      "cell_type": "code",
      "source": [
        "# AQ\n",
        "mean_x_train_aq, mean_x_test_aq, mean_y_train_aq, mean_y_test_aq = split(meanvals_df, 'aq')\n",
        "\n",
        "# BDI\n",
        "mean_x_train_bdi, mean_x_test_bdi, mean_y_train_bdi, mean_y_test_bdi = split(meanvals_df, 'bdi')\n",
        "\n",
        "# WURS\n",
        "mean_x_train_wurs, mean_x_test_wurs, mean_y_train_wurs, mean_y_test_wurs = split(meanvals_df, 'wurs')"
      ],
      "metadata": {
        "id": "qd2k78PayK8f"
      },
      "id": "qd2k78PayK8f",
      "execution_count": 38,
      "outputs": []
    },
    {
      "cell_type": "markdown",
      "source": [
        "## Standard deviation"
      ],
      "metadata": {
        "id": "IKpugeKcyLBb"
      },
      "id": "IKpugeKcyLBb"
    },
    {
      "cell_type": "code",
      "source": [
        "# AQ\n",
        "std_x_train_aq, std_x_test_aq, std_y_train_aq, std_y_test_aq = split(stdvals_df, 'aq')\n",
        "\n",
        "# BDI\n",
        "std_x_train_bdi, std_x_test_bdi, std_y_train_bdi, std_y_test_bdi = split(stdvals_df, 'bdi')\n",
        "\n",
        "# WURS\n",
        "std_x_train_wurs, std_x_test_wurs, std_y_train_wurs, std_y_test_wurs = split(stdvals_df, 'wurs')"
      ],
      "metadata": {
        "id": "aL-3RvFbyNvJ"
      },
      "id": "aL-3RvFbyNvJ",
      "execution_count": 39,
      "outputs": []
    },
    {
      "cell_type": "markdown",
      "source": [
        "## Median"
      ],
      "metadata": {
        "id": "57V8Wht1yTpw"
      },
      "id": "57V8Wht1yTpw"
    },
    {
      "cell_type": "code",
      "source": [
        "# AQ\n",
        "med_x_train_aq, med_x_test_aq, med_y_train_aq, med_y_test_aq = split(medvals_df, 'aq')\n",
        "\n",
        "# BDI\n",
        "med_x_train_bdi, med_x_test_bdi, med_y_train_bdi, med_y_test_bdi = split(medvals_df, 'bdi')\n",
        "\n",
        "# WURS\n",
        "med_x_train_wurs, med_x_test_wurs, med_y_train_wurs, med_y_test_wurs = split(medvals_df, 'wurs')"
      ],
      "metadata": {
        "id": "esp7fka5yWsC"
      },
      "id": "esp7fka5yWsC",
      "execution_count": 40,
      "outputs": []
    },
    {
      "cell_type": "markdown",
      "source": [
        "## Pearsons correlation coefficient"
      ],
      "metadata": {
        "id": "zdTLfbCfyWyy"
      },
      "id": "zdTLfbCfyWyy"
    },
    {
      "cell_type": "code",
      "source": [
        "# AQ\n",
        "xy_pearson_cc_x_train_aq, xy_pearson_cc_x_test_aq, xy_pearson_cc_y_train_aq, xy_pearson_cc_y_test_aq = split(xy_pearson_df, 'aq')\n",
        "\n",
        "# BDI\n",
        "xy_pearson_cc_x_train_bdi, xy_pearson_cc_x_test_bdi, xy_pearson_cc_y_train_bdi, xy_pearson_cc_y_test_bdi = split(xy_pearson_df, 'bdi')\n",
        "\n",
        "# WURS\n",
        "xy_pearson_cc_x_train_wurs, xy_pearson_cc_x_test_wurs, xy_pearson_cc_y_train_wurs, xy_pearson_cc_y_test_wurs = split(xy_pearson_df, 'wurs')"
      ],
      "metadata": {
        "id": "zWgN42JsycYH"
      },
      "id": "zWgN42JsycYH",
      "execution_count": 41,
      "outputs": []
    },
    {
      "cell_type": "markdown",
      "source": [
        "## Spearmans correlation coefficient"
      ],
      "metadata": {
        "id": "Uqt6YQd68aPX"
      },
      "id": "Uqt6YQd68aPX"
    },
    {
      "cell_type": "code",
      "source": [
        "# AQ\n",
        "xy_spearman_cc_x_train_aq, xy_spearman_cc_x_test_aq, xy_spearman_cc_y_train_aq, xy_spearman_cc_y_test_aq = split(xy_spearman_df, 'aq')\n",
        "\n",
        "# BDI\n",
        "xy_spearman_cc_x_train_bdi, xy_spearman_cc_x_test_bdi, xy_spearman_cc_y_train_bdi, xy_spearman_cc_y_test_bdi = split(xy_spearman_df, 'bdi')\n",
        "\n",
        "# WURS\n",
        "xy_spearman_cc_x_train_wurs, xy_spearman_cc_x_test_wurs, xy_spearman_cc_y_train_wurs, xy_spearman_cc_y_test_wurs = split(xy_spearman_df, 'wurs')"
      ],
      "metadata": {
        "id": "rr0dTguj8Zyf"
      },
      "id": "rr0dTguj8Zyf",
      "execution_count": 42,
      "outputs": []
    },
    {
      "cell_type": "markdown",
      "source": [
        "## Range"
      ],
      "metadata": {
        "id": "MHhcNbtiyZcm"
      },
      "id": "MHhcNbtiyZcm"
    },
    {
      "cell_type": "code",
      "source": [
        "# AQ\n",
        "xy_range_x_train_aq, xy_range_x_test_aq, xy_range_y_train_aq, xy_range_y_test_aq = split(xy_range_df, 'aq')\n",
        "\n",
        "# BDI\n",
        "xy_range_x_train_bdi, xy_range_x_test_bdi, xy_range_y_train_bdi, xy_range_y_test_bdi = split(xy_range_df, 'bdi')\n",
        "\n",
        "# WURS\n",
        "xy_range_x_train_wurs, xy_range_x_test_wurs, xy_range_y_train_wurs, xy_range_y_test_wurs = split(xy_range_df, 'wurs')"
      ],
      "metadata": {
        "id": "9MmNRg0aycvz"
      },
      "id": "9MmNRg0aycvz",
      "execution_count": 43,
      "outputs": []
    },
    {
      "cell_type": "markdown",
      "source": [
        "## Unique values mean"
      ],
      "metadata": {
        "id": "g5qd-0QNydI0"
      },
      "id": "g5qd-0QNydI0"
    },
    {
      "cell_type": "code",
      "source": [
        "# AQ\n",
        "xy_unique_x_train_aq, xy_unique_x_test_aq, xy_unique_y_train_aq, xy_unique_y_test_aq = split(unique_vals_mean_df, 'aq')\n",
        "\n",
        "# BDI\n",
        "xy_unique_x_train_bdi, xy_unique_x_test_bdi, xy_unique_y_train_bdi, xy_unique_y_test_bdi = split(unique_vals_mean_df, 'bdi')\n",
        "\n",
        "# WURS\n",
        "xy_unique_x_train_wurs, xy_unique_x_test_wurs, xy_unique_y_train_wurs, xy_unique_y_test_wurs = split(unique_vals_mean_df, 'wurs')"
      ],
      "metadata": {
        "id": "N24eAw3XyfMT"
      },
      "id": "N24eAw3XyfMT",
      "execution_count": 44,
      "outputs": []
    },
    {
      "cell_type": "markdown",
      "source": [
        "# **Regressors with Train-Test Split**"
      ],
      "metadata": {
        "id": "vgTUkrgb9zMx"
      },
      "id": "vgTUkrgb9zMx"
    },
    {
      "cell_type": "markdown",
      "metadata": {
        "hidden": true,
        "id": "wTpvy6YY7p-c"
      },
      "source": [
        "## **Linear regression**"
      ],
      "id": "wTpvy6YY7p-c"
    },
    {
      "cell_type": "code",
      "source": [
        "from sklearn.linear_model import LinearRegression\n",
        "from sklearn.metrics import mean_absolute_error, r2_score"
      ],
      "metadata": {
        "id": "hua3LN9mfKI3"
      },
      "id": "hua3LN9mfKI3",
      "execution_count": 45,
      "outputs": []
    },
    {
      "cell_type": "code",
      "execution_count": 46,
      "metadata": {
        "hidden": true,
        "id": "Uw7SjoES7p-d"
      },
      "outputs": [],
      "source": [
        "# Linear Regression with train-test split\n",
        "\n",
        "def lr_model(x_train, x_test, y_train, y_test):\n",
        "    \n",
        "    # Create linear regression object and fit model\n",
        "    lr_model = LinearRegression().fit(x_train, y_train)\n",
        "    \n",
        "    # Make predictions\n",
        "    y_pred = lr_model.predict(x_test)\n",
        "    \n",
        "    # Evaluation metrics\n",
        "    mae = mean_absolute_error(y_test, y_pred)\n",
        "    r2 = r2_score(y_test, y_pred)\n",
        "\n",
        "    print(f'R-squared:', r2)\n",
        "    print(f'MAE:', mae)\n",
        "    print()"
      ],
      "id": "Uw7SjoES7p-d"
    },
    {
      "cell_type": "markdown",
      "source": [
        "### Least viewed x, y coordinate pairs"
      ],
      "metadata": {
        "id": "V3g0U1XAs5ly"
      },
      "id": "V3g0U1XAs5ly"
    },
    {
      "cell_type": "code",
      "source": [
        "# AQ\n",
        "lr_model(lv_x_train_aq, lv_x_test_aq, lv_y_train_aq, lv_y_test_aq)\n",
        "\n",
        "# BDI\n",
        "lr_model(lv_x_train_bdi, lv_x_test_bdi, lv_y_train_bdi, lv_y_test_bdi)\n",
        "\n",
        "# WURS\n",
        "lr_model(lv_x_train_wurs, lv_x_test_wurs, lv_y_train_wurs, lv_y_test_wurs)"
      ],
      "metadata": {
        "colab": {
          "base_uri": "https://localhost:8080/"
        },
        "id": "afrtLqRIfVjE",
        "outputId": "00becd0a-d4ee-4b56-bd56-ff2fb7bd273e"
      },
      "id": "afrtLqRIfVjE",
      "execution_count": 47,
      "outputs": [
        {
          "output_type": "stream",
          "name": "stdout",
          "text": [
            "R-squared: 0.021613834680677013\n",
            "MAE: 5.244458520575735\n",
            "\n",
            "R-squared: -0.042601423252847326\n",
            "MAE: 8.979706334622973\n",
            "\n",
            "R-squared: -0.19927118681570022\n",
            "MAE: 12.772782064864403\n",
            "\n"
          ]
        }
      ]
    },
    {
      "cell_type": "markdown",
      "source": [
        "### Most viewed x, y coordinate pairs"
      ],
      "metadata": {
        "id": "b3us0je_s9yB"
      },
      "id": "b3us0je_s9yB"
    },
    {
      "cell_type": "code",
      "source": [
        "# AQ\n",
        "lr_model(mv_x_train_aq, mv_x_test_aq, mv_y_train_aq, mv_y_test_aq)\n",
        "\n",
        "# BDI\n",
        "lr_model(mv_x_train_bdi, mv_x_test_bdi, mv_y_train_bdi, mv_y_test_bdi)\n",
        "\n",
        "# WURS\n",
        "lr_model(mv_x_train_wurs, mv_x_test_wurs, mv_y_train_wurs, mv_y_test_wurs)"
      ],
      "metadata": {
        "colab": {
          "base_uri": "https://localhost:8080/"
        },
        "id": "1S3xL3u4tAOy",
        "outputId": "986b0e7b-57b1-4b11-d761-850e68a5eb91"
      },
      "id": "1S3xL3u4tAOy",
      "execution_count": 48,
      "outputs": [
        {
          "output_type": "stream",
          "name": "stdout",
          "text": [
            "R-squared: -0.040955183484325364\n",
            "MAE: 5.2773426939140196\n",
            "\n",
            "R-squared: -0.24607811546847835\n",
            "MAE: 9.938505948890214\n",
            "\n",
            "R-squared: -0.07181616569254334\n",
            "MAE: 11.993947227802\n",
            "\n"
          ]
        }
      ]
    },
    {
      "cell_type": "markdown",
      "source": [
        "### Euclidean Distance"
      ],
      "metadata": {
        "id": "y-JWgkPXHyc9"
      },
      "id": "y-JWgkPXHyc9"
    },
    {
      "cell_type": "code",
      "source": [
        "# AQ\n",
        "lr_model(ed_x_train_aq, ed_x_test_aq, ed_y_train_aq, ed_y_test_aq)\n",
        "\n",
        "# BDI\n",
        "lr_model(ed_x_train_bdi, ed_x_test_bdi, ed_y_train_bdi, ed_y_test_bdi)\n",
        "\n",
        "# WURS\n",
        "lr_model(ed_x_train_wurs, ed_x_test_wurs, ed_y_train_wurs, ed_y_test_wurs)"
      ],
      "metadata": {
        "colab": {
          "base_uri": "https://localhost:8080/"
        },
        "id": "QbvfNeJ1H24N",
        "outputId": "718d0082-b54f-49c5-fdc7-abfc075c8b52"
      },
      "id": "QbvfNeJ1H24N",
      "execution_count": 49,
      "outputs": [
        {
          "output_type": "stream",
          "name": "stdout",
          "text": [
            "R-squared: -0.055285738500697956\n",
            "MAE: 5.524887810871791\n",
            "\n",
            "R-squared: -0.140045186931822\n",
            "MAE: 8.77194467915799\n",
            "\n",
            "R-squared: -0.24438333350680574\n",
            "MAE: 13.057030241922718\n",
            "\n"
          ]
        }
      ]
    },
    {
      "cell_type": "markdown",
      "source": [
        "### Mean"
      ],
      "metadata": {
        "id": "uzuZ5as9Cb6d"
      },
      "id": "uzuZ5as9Cb6d"
    },
    {
      "cell_type": "code",
      "source": [
        "# AQ\n",
        "lr_model(mean_x_train_aq, mean_x_test_aq, mean_y_train_aq, mean_y_test_aq)\n",
        "\n",
        "# BDI\n",
        "lr_model(mean_x_train_bdi, mean_x_test_bdi, mean_y_train_bdi, mean_y_test_bdi)\n",
        "\n",
        "# WURS\n",
        "lr_model(mean_x_train_wurs, mean_x_test_wurs, mean_y_train_wurs, mean_y_test_wurs)"
      ],
      "metadata": {
        "colab": {
          "base_uri": "https://localhost:8080/"
        },
        "id": "nKDCn-lcbLTX",
        "outputId": "ebaa4055-a212-496b-d7ff-7bb92875e5ce"
      },
      "id": "nKDCn-lcbLTX",
      "execution_count": 50,
      "outputs": [
        {
          "output_type": "stream",
          "name": "stdout",
          "text": [
            "R-squared: 0.1520399905606088\n",
            "MAE: 4.80365342994894\n",
            "\n",
            "R-squared: 0.00763952689464098\n",
            "MAE: 8.56250682103104\n",
            "\n",
            "R-squared: -0.03662561093350769\n",
            "MAE: 12.323251871977025\n",
            "\n"
          ]
        }
      ]
    },
    {
      "cell_type": "markdown",
      "source": [
        "### Standard deviation"
      ],
      "metadata": {
        "id": "Ykoc5z73bzKb"
      },
      "id": "Ykoc5z73bzKb"
    },
    {
      "cell_type": "code",
      "source": [
        "# AQ\n",
        "lr_model(std_x_train_aq, std_x_test_aq, std_y_train_aq, std_y_test_aq)\n",
        "\n",
        "# BDI\n",
        "lr_model(std_x_train_bdi, std_x_test_bdi, std_y_train_bdi, std_y_test_bdi)\n",
        "\n",
        "# WURS\n",
        "lr_model(std_x_train_wurs, std_x_test_wurs, std_y_train_wurs, std_y_test_wurs)"
      ],
      "metadata": {
        "colab": {
          "base_uri": "https://localhost:8080/"
        },
        "id": "cn3RfKKLb15J",
        "outputId": "8a8d1d60-ecd1-405d-fa1e-ebbd442abeb1"
      },
      "id": "cn3RfKKLb15J",
      "execution_count": 51,
      "outputs": [
        {
          "output_type": "stream",
          "name": "stdout",
          "text": [
            "R-squared: -0.04884495998485194\n",
            "MAE: 5.41011240293402\n",
            "\n",
            "R-squared: 0.003156360116893131\n",
            "MAE: 8.79157839440711\n",
            "\n",
            "R-squared: -0.09764300278388172\n",
            "MAE: 12.22025419820296\n",
            "\n"
          ]
        }
      ]
    },
    {
      "cell_type": "markdown",
      "source": [
        "### Median"
      ],
      "metadata": {
        "id": "BJLOddkJcDeq"
      },
      "id": "BJLOddkJcDeq"
    },
    {
      "cell_type": "code",
      "source": [
        "# AQ\n",
        "lr_model(med_x_train_aq, med_x_test_aq, med_y_train_aq, med_y_test_aq)\n",
        "\n",
        "# BDI\n",
        "lr_model(med_x_train_bdi, med_x_test_bdi, med_y_train_bdi, med_y_test_bdi)\n",
        "\n",
        "# WURS\n",
        "lr_model(med_x_train_wurs, med_x_test_wurs, med_y_train_wurs, med_y_test_wurs)"
      ],
      "metadata": {
        "colab": {
          "base_uri": "https://localhost:8080/"
        },
        "id": "M86HEojYcF5n",
        "outputId": "adbbb84e-0b14-4b78-a85b-d1664c4ef146"
      },
      "id": "M86HEojYcF5n",
      "execution_count": 52,
      "outputs": [
        {
          "output_type": "stream",
          "name": "stdout",
          "text": [
            "R-squared: 0.13387036402713004\n",
            "MAE: 4.806965362679267\n",
            "\n",
            "R-squared: -0.04993454848213519\n",
            "MAE: 9.07688683067543\n",
            "\n",
            "R-squared: -0.06778592679771767\n",
            "MAE: 12.3648162826767\n",
            "\n"
          ]
        }
      ]
    },
    {
      "cell_type": "markdown",
      "source": [
        "### Pearsons CC"
      ],
      "metadata": {
        "id": "-zfXJJcjcPbQ"
      },
      "id": "-zfXJJcjcPbQ"
    },
    {
      "cell_type": "code",
      "source": [
        "# AQ\n",
        "lr_model(xy_pearson_cc_x_train_aq, xy_pearson_cc_x_test_aq, xy_pearson_cc_y_train_aq, xy_pearson_cc_y_test_aq)\n",
        "\n",
        "# BDI\n",
        "lr_model(xy_pearson_cc_x_train_bdi, xy_pearson_cc_x_test_bdi, xy_pearson_cc_y_train_bdi, xy_pearson_cc_y_test_bdi)\n",
        "\n",
        "# WURS\n",
        "lr_model(xy_pearson_cc_x_train_wurs, xy_pearson_cc_x_test_wurs, xy_pearson_cc_y_train_wurs, xy_pearson_cc_y_test_wurs)"
      ],
      "metadata": {
        "colab": {
          "base_uri": "https://localhost:8080/"
        },
        "id": "64ng32iDcS2i",
        "outputId": "f26ef24e-d770-4abc-d898-136bbeda9ece"
      },
      "id": "64ng32iDcS2i",
      "execution_count": 53,
      "outputs": [
        {
          "output_type": "stream",
          "name": "stdout",
          "text": [
            "R-squared: -0.057954001665695865\n",
            "MAE: 5.436702021338882\n",
            "\n",
            "R-squared: -0.037868739808829766\n",
            "MAE: 8.945116402978591\n",
            "\n",
            "R-squared: -0.32235049583905107\n",
            "MAE: 12.45943945050115\n",
            "\n"
          ]
        }
      ]
    },
    {
      "cell_type": "markdown",
      "source": [
        "### Spearmans CC"
      ],
      "metadata": {
        "id": "UVQ0mSTXcemW"
      },
      "id": "UVQ0mSTXcemW"
    },
    {
      "cell_type": "code",
      "source": [
        "# AQ\n",
        "lr_model(xy_spearman_cc_x_train_aq, xy_spearman_cc_x_test_aq, xy_spearman_cc_y_train_aq, xy_spearman_cc_y_test_aq)\n",
        "\n",
        "# BDI\n",
        "lr_model(xy_spearman_cc_x_train_bdi, xy_spearman_cc_x_test_bdi, xy_spearman_cc_y_train_bdi, xy_spearman_cc_y_test_bdi)\n",
        "\n",
        "# WURS\n",
        "lr_model(xy_spearman_cc_x_train_wurs, xy_spearman_cc_x_test_wurs, xy_spearman_cc_y_train_wurs, xy_spearman_cc_y_test_wurs)"
      ],
      "metadata": {
        "colab": {
          "base_uri": "https://localhost:8080/"
        },
        "id": "WPqybdp2cgni",
        "outputId": "1f7b105c-bba9-48f7-afc6-ee0fb0b38c9e"
      },
      "id": "WPqybdp2cgni",
      "execution_count": 54,
      "outputs": [
        {
          "output_type": "stream",
          "name": "stdout",
          "text": [
            "R-squared: -0.08701012892910787\n",
            "MAE: 5.539170909689169\n",
            "\n",
            "R-squared: -0.008456872421494843\n",
            "MAE: 8.792540437707627\n",
            "\n",
            "R-squared: -0.21191268261759078\n",
            "MAE: 12.283671399267186\n",
            "\n"
          ]
        }
      ]
    },
    {
      "cell_type": "markdown",
      "source": [
        "### Range"
      ],
      "metadata": {
        "id": "SXVGRrDscxOA"
      },
      "id": "SXVGRrDscxOA"
    },
    {
      "cell_type": "code",
      "source": [
        "# AQ\n",
        "lr_model(xy_range_x_train_aq, xy_range_x_test_aq, xy_range_y_train_aq, xy_range_y_test_aq)\n",
        "\n",
        "# BDI\n",
        "lr_model(xy_range_x_train_bdi, xy_range_x_test_bdi, xy_range_y_train_bdi, xy_range_y_test_bdi)\n",
        "\n",
        "# WURS\n",
        "lr_model(xy_range_x_train_wurs, xy_range_x_test_wurs, xy_range_y_train_wurs, xy_range_y_test_wurs)"
      ],
      "metadata": {
        "colab": {
          "base_uri": "https://localhost:8080/"
        },
        "id": "nrY-cXoBczvP",
        "outputId": "87cd1dd5-34b2-49ba-d096-a47b47707523"
      },
      "id": "nrY-cXoBczvP",
      "execution_count": 55,
      "outputs": [
        {
          "output_type": "stream",
          "name": "stdout",
          "text": [
            "R-squared: -0.21848430106057548\n",
            "MAE: 5.806209328149734\n",
            "\n",
            "R-squared: -0.2049543340114739\n",
            "MAE: 9.433138190631832\n",
            "\n",
            "R-squared: -0.08670180161403684\n",
            "MAE: 12.03632730407916\n",
            "\n"
          ]
        }
      ]
    },
    {
      "cell_type": "markdown",
      "source": [
        "### Unique values"
      ],
      "metadata": {
        "id": "rrF4I-8kc_TE"
      },
      "id": "rrF4I-8kc_TE"
    },
    {
      "cell_type": "code",
      "source": [
        "# AQ\n",
        "lr_model(xy_unique_x_train_aq, xy_unique_x_test_aq, xy_unique_y_train_aq, xy_unique_y_test_aq)\n",
        "\n",
        "# BDI\n",
        "lr_model(xy_unique_x_train_bdi, xy_unique_x_test_bdi, xy_unique_y_train_bdi, xy_unique_y_test_bdi)\n",
        "\n",
        "# WURS\n",
        "lr_model(xy_unique_x_train_wurs, xy_unique_x_test_wurs, xy_unique_y_train_wurs, xy_unique_y_test_wurs)"
      ],
      "metadata": {
        "colab": {
          "base_uri": "https://localhost:8080/"
        },
        "id": "M5CiBjy1dBzg",
        "outputId": "6fb27773-5707-486d-b9b6-9e84c362ab2d"
      },
      "id": "M5CiBjy1dBzg",
      "execution_count": 56,
      "outputs": [
        {
          "output_type": "stream",
          "name": "stdout",
          "text": [
            "R-squared: 0.054674749739499484\n",
            "MAE: 5.063711968641951\n",
            "\n",
            "R-squared: -0.025983844385265353\n",
            "MAE: 9.206153596459842\n",
            "\n",
            "R-squared: -0.04178097113925938\n",
            "MAE: 12.054695085313345\n",
            "\n"
          ]
        }
      ]
    },
    {
      "cell_type": "markdown",
      "source": [
        "## **Decision Tree**"
      ],
      "metadata": {
        "id": "lo35hCoR9_52"
      },
      "id": "lo35hCoR9_52"
    },
    {
      "cell_type": "code",
      "source": [
        "from sklearn.tree import DecisionTreeRegressor"
      ],
      "metadata": {
        "id": "hcLUChNk-Dk7"
      },
      "id": "hcLUChNk-Dk7",
      "execution_count": 57,
      "outputs": []
    },
    {
      "cell_type": "code",
      "source": [
        "# Decision Tree regressor with train-test split\n",
        "\n",
        "def decision_tree_regressor(x_train, x_test, y_train, y_test):\n",
        "    # Create decision tree regressor object and fit data\n",
        "    dt_rgr = DecisionTreeRegressor(random_state=42).fit(x_train, y_train)\n",
        "    \n",
        "    # Make predictions\n",
        "    y_pred = dt_rgr.predict(x_test)\n",
        "    \n",
        "    # Evaluation metrics\n",
        "    mae = mean_absolute_error(y_test, y_pred)\n",
        "    r2 = r2_score(y_test, y_pred)\n",
        "    \n",
        "    print(f\"R-squared: {r2}\")\n",
        "    print(f\"MAE: {mae}\")\n",
        "    print()"
      ],
      "metadata": {
        "id": "fYLhlLsf-Fi-"
      },
      "id": "fYLhlLsf-Fi-",
      "execution_count": 58,
      "outputs": []
    },
    {
      "cell_type": "markdown",
      "source": [
        "### Least viewed x, y coordinate pairs"
      ],
      "metadata": {
        "id": "G8L2JMsc-Ti9"
      },
      "id": "G8L2JMsc-Ti9"
    },
    {
      "cell_type": "code",
      "source": [
        "# AQ\n",
        "decision_tree_regressor(lv_x_train_aq, lv_x_test_aq, lv_y_train_aq, lv_y_test_aq)\n",
        "\n",
        "# BDI\n",
        "decision_tree_regressor(lv_x_train_bdi, lv_x_test_bdi, lv_y_train_bdi, lv_y_test_bdi)\n",
        "\n",
        "# WURS\n",
        "decision_tree_regressor(lv_x_train_wurs, lv_x_test_wurs, lv_y_train_wurs, lv_y_test_wurs)"
      ],
      "metadata": {
        "colab": {
          "base_uri": "https://localhost:8080/"
        },
        "outputId": "d2a3db89-0b44-4d76-b364-30bec119e869",
        "id": "e1uiT3vG-TjM"
      },
      "execution_count": 59,
      "outputs": [
        {
          "output_type": "stream",
          "name": "stdout",
          "text": [
            "R-squared: -2.177832679896254\n",
            "MAE: 9.669\n",
            "\n",
            "R-squared: -1.8477544780438269\n",
            "MAE: 14.495\n",
            "\n",
            "R-squared: -2.482027336481772\n",
            "MAE: 23.398\n",
            "\n"
          ]
        }
      ],
      "id": "e1uiT3vG-TjM"
    },
    {
      "cell_type": "markdown",
      "source": [
        "### Most viewed x, y coordinate pairs"
      ],
      "metadata": {
        "id": "5SeFPsQR-TjN"
      },
      "id": "5SeFPsQR-TjN"
    },
    {
      "cell_type": "code",
      "source": [
        "# AQ\n",
        "decision_tree_regressor(mv_x_train_aq, mv_x_test_aq, mv_y_train_aq, mv_y_test_aq)\n",
        "\n",
        "# BDI\n",
        "decision_tree_regressor(mv_x_train_bdi, mv_x_test_bdi, mv_y_train_bdi, mv_y_test_bdi)\n",
        "\n",
        "# WURS\n",
        "decision_tree_regressor(mv_x_train_wurs, mv_x_test_wurs, mv_y_train_wurs, mv_y_test_wurs)"
      ],
      "metadata": {
        "colab": {
          "base_uri": "https://localhost:8080/"
        },
        "outputId": "76d9762b-6bc4-4515-b6a9-773e9cb4ccfb",
        "id": "r6thN2qp-TjN"
      },
      "execution_count": 60,
      "outputs": [
        {
          "output_type": "stream",
          "name": "stdout",
          "text": [
            "R-squared: -2.2824657699499364\n",
            "MAE: 8.85\n",
            "\n",
            "R-squared: -1.408825300895773\n",
            "MAE: 13.59\n",
            "\n",
            "R-squared: -1.3071230585115807\n",
            "MAE: 16.7725\n",
            "\n"
          ]
        }
      ],
      "id": "r6thN2qp-TjN"
    },
    {
      "cell_type": "markdown",
      "source": [
        "### Neighborhood surrounding max x, y coordinate pairs"
      ],
      "metadata": {
        "id": "iJDab8IR-TjN"
      },
      "id": "iJDab8IR-TjN"
    },
    {
      "cell_type": "code",
      "source": [
        "# AQ\n",
        "decision_tree_regressor(xy_range_x_train_aq, xy_range_x_test_aq, xy_range_y_train_aq, xy_range_y_test_aq)\n",
        "\n",
        "# BDI\n",
        "decision_tree_regressor(xy_range_x_train_bdi, xy_range_x_test_bdi, xy_range_y_train_bdi, xy_range_y_test_bdi)\n",
        "\n",
        "# WURS\n",
        "decision_tree_regressor(xy_range_x_train_wurs, xy_range_x_test_wurs, xy_range_y_train_wurs, xy_range_y_test_wurs)"
      ],
      "metadata": {
        "colab": {
          "base_uri": "https://localhost:8080/"
        },
        "outputId": "14d8db46-f7be-42ce-abbc-073ec7540915",
        "id": "QuRQ3lkf-TjN"
      },
      "execution_count": 61,
      "outputs": [
        {
          "output_type": "stream",
          "name": "stdout",
          "text": [
            "R-squared: -1.2220766330900537\n",
            "MAE: 8.419250000000002\n",
            "\n",
            "R-squared: -2.977892224376897\n",
            "MAE: 18.79225\n",
            "\n",
            "R-squared: -3.96676534742618\n",
            "MAE: 25.887\n",
            "\n"
          ]
        }
      ],
      "id": "QuRQ3lkf-TjN"
    },
    {
      "cell_type": "markdown",
      "source": [
        "### Euclidean Distance"
      ],
      "metadata": {
        "id": "kznlPtMeISQI"
      },
      "id": "kznlPtMeISQI"
    },
    {
      "cell_type": "code",
      "source": [
        "# AQ\n",
        "decision_tree_regressor(ed_x_train_aq, ed_x_test_aq, ed_y_train_aq, ed_y_test_aq)\n",
        "\n",
        "# BDI\n",
        "decision_tree_regressor(ed_x_train_bdi, ed_x_test_bdi, ed_y_train_bdi, ed_y_test_bdi)\n",
        "\n",
        "# WURS\n",
        "decision_tree_regressor(ed_x_train_wurs, ed_x_test_wurs, ed_y_train_wurs, ed_y_test_wurs)"
      ],
      "metadata": {
        "colab": {
          "base_uri": "https://localhost:8080/"
        },
        "id": "yXsrQLGrIVUd",
        "outputId": "1fd21589-f52b-4f56-86eb-e751fdda6ff4"
      },
      "id": "yXsrQLGrIVUd",
      "execution_count": 62,
      "outputs": [
        {
          "output_type": "stream",
          "name": "stdout",
          "text": [
            "R-squared: -1.748227758007118\n",
            "MAE: 8.861999999999998\n",
            "\n",
            "R-squared: -1.006468432276976\n",
            "MAE: 11.7345\n",
            "\n",
            "R-squared: -2.556695273700571\n",
            "MAE: 21.723000000000003\n",
            "\n"
          ]
        }
      ]
    },
    {
      "cell_type": "markdown",
      "source": [
        "### Mean"
      ],
      "metadata": {
        "id": "wypCKeBZ-TjN"
      },
      "id": "wypCKeBZ-TjN"
    },
    {
      "cell_type": "code",
      "source": [
        "# AQ\n",
        "decision_tree_regressor(mean_x_train_aq, mean_x_test_aq, mean_y_train_aq, mean_y_test_aq)\n",
        "\n",
        "# BDI\n",
        "decision_tree_regressor(mean_x_train_bdi, mean_x_test_bdi, mean_y_train_bdi, mean_y_test_bdi)\n",
        "\n",
        "# WURS\n",
        "decision_tree_regressor(mean_x_train_wurs, mean_x_test_wurs, mean_y_train_wurs, mean_y_test_wurs)"
      ],
      "metadata": {
        "colab": {
          "base_uri": "https://localhost:8080/"
        },
        "outputId": "38d5b2b7-e001-4357-b4b2-a531caa16fdb",
        "id": "AI9-qw7k-TjN"
      },
      "execution_count": 63,
      "outputs": [
        {
          "output_type": "stream",
          "name": "stdout",
          "text": [
            "R-squared: -1.3582334278303874\n",
            "MAE: 8.088\n",
            "\n",
            "R-squared: -0.8501316927246894\n",
            "MAE: 9.699000000000002\n",
            "\n",
            "R-squared: -1.3457421156631901\n",
            "MAE: 18.307499999999997\n",
            "\n"
          ]
        }
      ],
      "id": "AI9-qw7k-TjN"
    },
    {
      "cell_type": "markdown",
      "source": [
        "### Standard deviation"
      ],
      "metadata": {
        "id": "-DNnkCpw-TjO"
      },
      "id": "-DNnkCpw-TjO"
    },
    {
      "cell_type": "code",
      "source": [
        "# AQ\n",
        "decision_tree_regressor(std_x_train_aq, std_x_test_aq, std_y_train_aq, std_y_test_aq)\n",
        "\n",
        "# BDI\n",
        "decision_tree_regressor(std_x_train_bdi, std_x_test_bdi, std_y_train_bdi, std_y_test_bdi)\n",
        "\n",
        "# WURS\n",
        "decision_tree_regressor(std_x_train_wurs, std_x_test_wurs, std_y_train_wurs, std_y_test_wurs)"
      ],
      "metadata": {
        "colab": {
          "base_uri": "https://localhost:8080/"
        },
        "outputId": "f8c5e15b-6d01-4e12-a6c1-08b73db2fe2a",
        "id": "I713iO-h-TjO"
      },
      "execution_count": 64,
      "outputs": [
        {
          "output_type": "stream",
          "name": "stdout",
          "text": [
            "R-squared: -0.936119548826829\n",
            "MAE: 7.033500000000001\n",
            "\n",
            "R-squared: -1.9299431816569337\n",
            "MAE: 14.9275\n",
            "\n",
            "R-squared: -0.39832620818420916\n",
            "MAE: 14.560500000000001\n",
            "\n"
          ]
        }
      ],
      "id": "I713iO-h-TjO"
    },
    {
      "cell_type": "markdown",
      "source": [
        "### Median"
      ],
      "metadata": {
        "id": "9Yqh8NE4-TjO"
      },
      "id": "9Yqh8NE4-TjO"
    },
    {
      "cell_type": "code",
      "source": [
        "# AQ\n",
        "decision_tree_regressor(med_x_train_aq, med_x_test_aq, med_y_train_aq, med_y_test_aq)\n",
        "\n",
        "# BDI\n",
        "decision_tree_regressor(med_x_train_bdi, med_x_test_bdi, med_y_train_bdi, med_y_test_bdi)\n",
        "\n",
        "# WURS\n",
        "decision_tree_regressor(med_x_train_wurs, med_x_test_wurs, med_y_train_wurs, med_y_test_wurs)"
      ],
      "metadata": {
        "colab": {
          "base_uri": "https://localhost:8080/"
        },
        "outputId": "f13350c2-c48b-46e0-a5f4-e44902d50cd7",
        "id": "pwZLe38P-TjO"
      },
      "execution_count": 65,
      "outputs": [
        {
          "output_type": "stream",
          "name": "stdout",
          "text": [
            "R-squared: -2.3771934374811505\n",
            "MAE: 9.9195\n",
            "\n",
            "R-squared: -1.8337461269895536\n",
            "MAE: 14.2815\n",
            "\n",
            "R-squared: -2.624535348618149\n",
            "MAE: 25.586999999999996\n",
            "\n"
          ]
        }
      ],
      "id": "pwZLe38P-TjO"
    },
    {
      "cell_type": "markdown",
      "source": [
        "### Pearsons CC"
      ],
      "metadata": {
        "id": "wvw1ksbG-TjO"
      },
      "id": "wvw1ksbG-TjO"
    },
    {
      "cell_type": "code",
      "source": [
        "# AQ\n",
        "decision_tree_regressor(xy_pearson_cc_x_train_aq, xy_pearson_cc_x_test_aq, xy_pearson_cc_y_train_aq, xy_pearson_cc_y_test_aq)\n",
        "\n",
        "# BDI\n",
        "decision_tree_regressor(xy_pearson_cc_x_train_bdi, xy_pearson_cc_x_test_bdi, xy_pearson_cc_y_train_bdi, xy_pearson_cc_y_test_bdi)\n",
        "\n",
        "# WURS\n",
        "decision_tree_regressor(xy_pearson_cc_x_train_wurs, xy_pearson_cc_x_test_wurs, xy_pearson_cc_y_train_wurs, xy_pearson_cc_y_test_wurs)"
      ],
      "metadata": {
        "colab": {
          "base_uri": "https://localhost:8080/"
        },
        "outputId": "ba3e2338-65ae-439e-ed9a-be6777cadd4f",
        "id": "vJ6_Ej88-TjO"
      },
      "execution_count": 66,
      "outputs": [
        {
          "output_type": "stream",
          "name": "stdout",
          "text": [
            "R-squared: -2.2754858556004582\n",
            "MAE: 8.673\n",
            "\n",
            "R-squared: -2.808162831368476\n",
            "MAE: 18.509999999999998\n",
            "\n",
            "R-squared: -2.0416391675322427\n",
            "MAE: 19.7025\n",
            "\n"
          ]
        }
      ],
      "id": "vJ6_Ej88-TjO"
    },
    {
      "cell_type": "markdown",
      "source": [
        "### Spearmans CC"
      ],
      "metadata": {
        "id": "xUZB08Zl-TjO"
      },
      "id": "xUZB08Zl-TjO"
    },
    {
      "cell_type": "code",
      "source": [
        "# AQ\n",
        "decision_tree_regressor(xy_spearman_cc_x_train_aq, xy_spearman_cc_x_test_aq, xy_spearman_cc_y_train_aq, xy_spearman_cc_y_test_aq)\n",
        "\n",
        "# BDI\n",
        "decision_tree_regressor(xy_spearman_cc_x_train_bdi, xy_spearman_cc_x_test_bdi, xy_spearman_cc_y_train_bdi, xy_spearman_cc_y_test_bdi)\n",
        "\n",
        "# WURS\n",
        "decision_tree_regressor(xy_spearman_cc_x_train_wurs, xy_spearman_cc_x_test_wurs, xy_spearman_cc_y_train_wurs, xy_spearman_cc_y_test_wurs)"
      ],
      "metadata": {
        "colab": {
          "base_uri": "https://localhost:8080/"
        },
        "outputId": "8bd5524d-17de-418f-d83c-debabe3b1b5d",
        "id": "J1hJZL7a-TjO"
      },
      "execution_count": 67,
      "outputs": [
        {
          "output_type": "stream",
          "name": "stdout",
          "text": [
            "R-squared: -0.47457144580493393\n",
            "MAE: 6.4719999999999995\n",
            "\n",
            "R-squared: -3.1947773055832265\n",
            "MAE: 17.634999999999998\n",
            "\n",
            "R-squared: -3.225743486515607\n",
            "MAE: 26.3315\n",
            "\n"
          ]
        }
      ],
      "id": "J1hJZL7a-TjO"
    },
    {
      "cell_type": "markdown",
      "source": [
        "### Range"
      ],
      "metadata": {
        "id": "w3JDt6Cv-TjO"
      },
      "id": "w3JDt6Cv-TjO"
    },
    {
      "cell_type": "code",
      "source": [
        "# AQ\n",
        "decision_tree_regressor(xy_range_x_train_aq, xy_range_x_test_aq, xy_range_y_train_aq, xy_range_y_test_aq)\n",
        "\n",
        "# BDI\n",
        "decision_tree_regressor(xy_range_x_train_bdi, xy_range_x_test_bdi, xy_range_y_train_bdi, xy_range_y_test_bdi)\n",
        "\n",
        "# WURS\n",
        "decision_tree_regressor(xy_range_x_train_wurs, xy_range_x_test_wurs, xy_range_y_train_wurs, xy_range_y_test_wurs)"
      ],
      "metadata": {
        "colab": {
          "base_uri": "https://localhost:8080/"
        },
        "outputId": "69488351-3d76-4d81-8355-df6cd2d97fbf",
        "id": "iNbw6Fdw-TjO"
      },
      "execution_count": 68,
      "outputs": [
        {
          "output_type": "stream",
          "name": "stdout",
          "text": [
            "R-squared: -1.2220766330900537\n",
            "MAE: 8.419250000000002\n",
            "\n",
            "R-squared: -2.977892224376897\n",
            "MAE: 18.79225\n",
            "\n",
            "R-squared: -3.96676534742618\n",
            "MAE: 25.887\n",
            "\n"
          ]
        }
      ],
      "id": "iNbw6Fdw-TjO"
    },
    {
      "cell_type": "markdown",
      "source": [
        "### Unique values"
      ],
      "metadata": {
        "id": "PwGxkJob-TjP"
      },
      "id": "PwGxkJob-TjP"
    },
    {
      "cell_type": "code",
      "source": [
        "# AQ\n",
        "decision_tree_regressor(xy_unique_x_train_aq, xy_unique_x_test_aq, xy_unique_y_train_aq, xy_unique_y_test_aq)\n",
        "\n",
        "# BDI\n",
        "decision_tree_regressor(xy_unique_x_train_bdi, xy_unique_x_test_bdi, xy_unique_y_train_bdi, xy_unique_y_test_bdi)\n",
        "\n",
        "# WURS\n",
        "decision_tree_regressor(xy_unique_x_train_wurs, xy_unique_x_test_wurs, xy_unique_y_train_wurs, xy_unique_y_test_wurs)"
      ],
      "metadata": {
        "colab": {
          "base_uri": "https://localhost:8080/"
        },
        "outputId": "75b4d22f-6b32-47b7-ab1e-bf76fc02148e",
        "id": "3eqoFCyQ-TjP"
      },
      "execution_count": 69,
      "outputs": [
        {
          "output_type": "stream",
          "name": "stdout",
          "text": [
            "R-squared: -1.515079196573979\n",
            "MAE: 8.163499999999999\n",
            "\n",
            "R-squared: -2.893852847761028\n",
            "MAE: 17.297\n",
            "\n",
            "R-squared: -2.278166086983042\n",
            "MAE: 20.201999999999998\n",
            "\n"
          ]
        }
      ],
      "id": "3eqoFCyQ-TjP"
    },
    {
      "cell_type": "markdown",
      "source": [
        "## **Random Forest Regressor**"
      ],
      "metadata": {
        "id": "eQ9GPhspDigK"
      },
      "id": "eQ9GPhspDigK"
    },
    {
      "cell_type": "code",
      "source": [
        "from sklearn.ensemble import RandomForestRegressor"
      ],
      "metadata": {
        "id": "8iYDmQpMDm-7"
      },
      "id": "8iYDmQpMDm-7",
      "execution_count": 70,
      "outputs": []
    },
    {
      "cell_type": "code",
      "source": [
        "# Random forest regressor with train-test split\n",
        "\n",
        "def random_forest_regressor(x_train, x_test, y_train, y_test):\n",
        "    # Create random forest regressor object and fit data\n",
        "    rf_rgr = RandomForestRegressor(n_estimators=100, random_state=42).fit(x_train, y_train)\n",
        "    \n",
        "    # Make predictions\n",
        "    y_pred = rf_rgr.predict(x_test)\n",
        "    \n",
        "    # Evaluation metrics\n",
        "    mae = mean_absolute_error(y_test, y_pred)\n",
        "    r2 = r2_score(y_test, y_pred)\n",
        "    \n",
        "    print(f\"R^2 Score: {r2}\")\n",
        "    print(f\"Mean Absolute Error: {mae}\")\n",
        "    print()"
      ],
      "metadata": {
        "id": "stgdGrCPDk3c"
      },
      "id": "stgdGrCPDk3c",
      "execution_count": 71,
      "outputs": []
    },
    {
      "cell_type": "markdown",
      "source": [
        "### Least viewed x, y coordinate pairs"
      ],
      "metadata": {
        "id": "GO31QGyfDwvi"
      },
      "id": "GO31QGyfDwvi"
    },
    {
      "cell_type": "code",
      "source": [
        "# AQ\n",
        "random_forest_regressor(lv_x_train_aq, lv_x_test_aq, lv_y_train_aq, lv_y_test_aq)\n",
        "\n",
        "# BDI\n",
        "random_forest_regressor(lv_x_train_bdi, lv_x_test_bdi, lv_y_train_bdi, lv_y_test_bdi)\n",
        "\n",
        "# WURS\n",
        "random_forest_regressor(lv_x_train_wurs, lv_x_test_wurs, lv_y_train_wurs, lv_y_test_wurs)"
      ],
      "metadata": {
        "colab": {
          "base_uri": "https://localhost:8080/"
        },
        "outputId": "9836cf9e-2a06-4635-a2d1-48b4cb06e3e4",
        "id": "CGzxJ0wnDwvx"
      },
      "execution_count": 72,
      "outputs": [
        {
          "output_type": "stream",
          "name": "stdout",
          "text": [
            "R^2 Score: -0.557186907750769\n",
            "Mean Absolute Error: 6.94623\n",
            "\n",
            "R^2 Score: -0.7212256675047406\n",
            "Mean Absolute Error: 10.657754999999998\n",
            "\n",
            "R^2 Score: -1.0916885183042573\n",
            "Mean Absolute Error: 18.210424999999997\n",
            "\n"
          ]
        }
      ],
      "id": "CGzxJ0wnDwvx"
    },
    {
      "cell_type": "markdown",
      "source": [
        "### Most viewed x, y coordinate pairs"
      ],
      "metadata": {
        "id": "-VJkY4w3Dwvy"
      },
      "id": "-VJkY4w3Dwvy"
    },
    {
      "cell_type": "code",
      "source": [
        "# AQ\n",
        "random_forest_regressor(mv_x_train_aq, mv_x_test_aq, mv_y_train_aq, mv_y_test_aq)\n",
        "\n",
        "# BDI\n",
        "random_forest_regressor(mv_x_train_bdi, mv_x_test_bdi, mv_y_train_bdi, mv_y_test_bdi)\n",
        "\n",
        "# WURS\n",
        "random_forest_regressor(mv_x_train_wurs, mv_x_test_wurs, mv_y_train_wurs, mv_y_test_wurs)"
      ],
      "metadata": {
        "colab": {
          "base_uri": "https://localhost:8080/"
        },
        "outputId": "32266b76-d6b7-4db2-e70c-d348caedf60f",
        "id": "g-OIKSwODwvy"
      },
      "execution_count": 73,
      "outputs": [
        {
          "output_type": "stream",
          "name": "stdout",
          "text": [
            "R^2 Score: -0.798609130948791\n",
            "Mean Absolute Error: 6.619569999999999\n",
            "\n",
            "R^2 Score: -0.4101059413251875\n",
            "Mean Absolute Error: 11.136219999999998\n",
            "\n",
            "R^2 Score: -0.6478091957903651\n",
            "Mean Absolute Error: 14.226250000000002\n",
            "\n"
          ]
        }
      ],
      "id": "g-OIKSwODwvy"
    },
    {
      "cell_type": "markdown",
      "source": [
        "### Neighborhood surrounding max x, y coordinate pairs"
      ],
      "metadata": {
        "id": "KwFTD2OuDwvy"
      },
      "id": "KwFTD2OuDwvy"
    },
    {
      "cell_type": "code",
      "source": [
        "# AQ\n",
        "random_forest_regressor(xy_range_x_train_aq, xy_range_x_test_aq, xy_range_y_train_aq, xy_range_y_test_aq)\n",
        "\n",
        "# BDI\n",
        "random_forest_regressor(xy_range_x_train_bdi, xy_range_x_test_bdi, xy_range_y_train_bdi, xy_range_y_test_bdi)\n",
        "\n",
        "# WURS\n",
        "random_forest_regressor(xy_range_x_train_wurs, xy_range_x_test_wurs, xy_range_y_train_wurs, xy_range_y_test_wurs)"
      ],
      "metadata": {
        "colab": {
          "base_uri": "https://localhost:8080/"
        },
        "outputId": "87c23351-f0b7-4d96-bbe5-2417c223c48e",
        "id": "i2e6oVyNDwvy"
      },
      "execution_count": 74,
      "outputs": [
        {
          "output_type": "stream",
          "name": "stdout",
          "text": [
            "R^2 Score: -0.4583939792726943\n",
            "Mean Absolute Error: 6.489335500000001\n",
            "\n",
            "R^2 Score: -0.5775121208827869\n",
            "Mean Absolute Error: 10.458106190476189\n",
            "\n",
            "R^2 Score: -0.846147081252405\n",
            "Mean Absolute Error: 15.827981190476185\n",
            "\n"
          ]
        }
      ],
      "id": "i2e6oVyNDwvy"
    },
    {
      "cell_type": "markdown",
      "source": [
        "### Euclidean Distance"
      ],
      "metadata": {
        "id": "oKBNknlnI2HW"
      },
      "id": "oKBNknlnI2HW"
    },
    {
      "cell_type": "code",
      "source": [
        "# AQ\n",
        "random_forest_regressor(ed_x_train_aq, ed_x_test_aq, ed_y_train_aq, ed_y_test_aq)\n",
        "\n",
        "# BDI\n",
        "random_forest_regressor(ed_x_train_bdi, ed_x_test_bdi, ed_y_train_bdi, ed_y_test_bdi)\n",
        "\n",
        "# WURS\n",
        "random_forest_regressor(ed_x_train_wurs, ed_x_test_wurs, ed_y_train_wurs, ed_y_test_wurs)"
      ],
      "metadata": {
        "colab": {
          "base_uri": "https://localhost:8080/"
        },
        "outputId": "43f558bc-a675-4f72-d5f2-2cecd7569221",
        "id": "Hdq83pnCI2HW"
      },
      "execution_count": 75,
      "outputs": [
        {
          "output_type": "stream",
          "name": "stdout",
          "text": [
            "R^2 Score: -0.8782581678335541\n",
            "Mean Absolute Error: 7.4686112499999995\n",
            "\n",
            "R^2 Score: -0.42409579441685064\n",
            "Mean Absolute Error: 9.748343749999998\n",
            "\n",
            "R^2 Score: -1.22061832370991\n",
            "Mean Absolute Error: 18.385835\n",
            "\n"
          ]
        }
      ],
      "id": "Hdq83pnCI2HW"
    },
    {
      "cell_type": "markdown",
      "source": [
        "### Mean"
      ],
      "metadata": {
        "id": "9y04KmmyDwvy"
      },
      "id": "9y04KmmyDwvy"
    },
    {
      "cell_type": "code",
      "source": [
        "# AQ\n",
        "random_forest_regressor(mean_x_train_aq, mean_x_test_aq, mean_y_train_aq, mean_y_test_aq)\n",
        "\n",
        "# BDI\n",
        "random_forest_regressor(mean_x_train_bdi, mean_x_test_bdi, mean_y_train_bdi, mean_y_test_bdi)\n",
        "\n",
        "# WURS\n",
        "random_forest_regressor(mean_x_train_wurs, mean_x_test_wurs, mean_y_train_wurs, mean_y_test_wurs)"
      ],
      "metadata": {
        "colab": {
          "base_uri": "https://localhost:8080/"
        },
        "outputId": "7fe02b36-9e54-43b5-a765-a219861cc20d",
        "id": "WP7b0sCbDwvy"
      },
      "execution_count": 76,
      "outputs": [
        {
          "output_type": "stream",
          "name": "stdout",
          "text": [
            "R^2 Score: -0.35509969725556534\n",
            "Mean Absolute Error: 5.637990000000003\n",
            "\n",
            "R^2 Score: -0.4773782680087211\n",
            "Mean Absolute Error: 9.720745000000003\n",
            "\n",
            "R^2 Score: -0.20508959146181094\n",
            "Mean Absolute Error: 13.296169999999998\n",
            "\n"
          ]
        }
      ],
      "id": "WP7b0sCbDwvy"
    },
    {
      "cell_type": "markdown",
      "source": [
        "### Standard deviation"
      ],
      "metadata": {
        "id": "e5pVifZ2Dwvy"
      },
      "id": "e5pVifZ2Dwvy"
    },
    {
      "cell_type": "code",
      "source": [
        "# AQ\n",
        "random_forest_regressor(std_x_train_aq, std_x_test_aq, std_y_train_aq, std_y_test_aq)\n",
        "\n",
        "# BDI\n",
        "random_forest_regressor(std_x_train_bdi, std_x_test_bdi, std_y_train_bdi, std_y_test_bdi)\n",
        "\n",
        "# WURS\n",
        "random_forest_regressor(std_x_train_wurs, std_x_test_wurs, std_y_train_wurs, std_y_test_wurs)"
      ],
      "metadata": {
        "colab": {
          "base_uri": "https://localhost:8080/"
        },
        "outputId": "62bdf2c6-7ce0-46c2-c381-be918999dd6c",
        "id": "y-2V0km0Dwvz"
      },
      "execution_count": 77,
      "outputs": [
        {
          "output_type": "stream",
          "name": "stdout",
          "text": [
            "R^2 Score: -0.03414416725978642\n",
            "Mean Absolute Error: 5.466665000000001\n",
            "\n",
            "R^2 Score: -0.6394270371527389\n",
            "Mean Absolute Error: 10.565845\n",
            "\n",
            "R^2 Score: 0.021321263196699136\n",
            "Mean Absolute Error: 11.72871\n",
            "\n"
          ]
        }
      ],
      "id": "y-2V0km0Dwvz"
    },
    {
      "cell_type": "markdown",
      "source": [
        "### Median"
      ],
      "metadata": {
        "id": "cpt8l4OhDwvz"
      },
      "id": "cpt8l4OhDwvz"
    },
    {
      "cell_type": "code",
      "source": [
        "# AQ\n",
        "random_forest_regressor(med_x_train_aq, med_x_test_aq, med_y_train_aq, med_y_test_aq)\n",
        "\n",
        "# BDI\n",
        "random_forest_regressor(med_x_train_bdi, med_x_test_bdi, med_y_train_bdi, med_y_test_bdi)\n",
        "\n",
        "# WURS\n",
        "random_forest_regressor(med_x_train_wurs, med_x_test_wurs, med_y_train_wurs, med_y_test_wurs)"
      ],
      "metadata": {
        "colab": {
          "base_uri": "https://localhost:8080/"
        },
        "outputId": "ad01bc9a-5fa0-46d1-db2f-983128885907",
        "id": "WMItl4BkDwvz"
      },
      "execution_count": 78,
      "outputs": [
        {
          "output_type": "stream",
          "name": "stdout",
          "text": [
            "R^2 Score: -0.91569524012305\n",
            "Mean Absolute Error: 7.418160000000003\n",
            "\n",
            "R^2 Score: -0.7980884389643974\n",
            "Mean Absolute Error: 11.8884\n",
            "\n",
            "R^2 Score: -1.0879099225448656\n",
            "Mean Absolute Error: 18.514974999999996\n",
            "\n"
          ]
        }
      ],
      "id": "WMItl4BkDwvz"
    },
    {
      "cell_type": "markdown",
      "source": [
        "### Pearsons CC"
      ],
      "metadata": {
        "id": "jNLjvWNhDwvz"
      },
      "id": "jNLjvWNhDwvz"
    },
    {
      "cell_type": "code",
      "source": [
        "# AQ\n",
        "random_forest_regressor(xy_pearson_cc_x_train_aq, xy_pearson_cc_x_test_aq, xy_pearson_cc_y_train_aq, xy_pearson_cc_y_test_aq)\n",
        "\n",
        "# BDI\n",
        "random_forest_regressor(xy_pearson_cc_x_train_bdi, xy_pearson_cc_x_test_bdi, xy_pearson_cc_y_train_bdi, xy_pearson_cc_y_test_bdi)\n",
        "\n",
        "# WURS\n",
        "random_forest_regressor(xy_pearson_cc_x_train_wurs, xy_pearson_cc_x_test_wurs, xy_pearson_cc_y_train_wurs, xy_pearson_cc_y_test_wurs)"
      ],
      "metadata": {
        "colab": {
          "base_uri": "https://localhost:8080/"
        },
        "outputId": "2a446a91-b1dc-451a-8b38-d259ce9cefb8",
        "id": "AJfDVucFDwvz"
      },
      "execution_count": 79,
      "outputs": [
        {
          "output_type": "stream",
          "name": "stdout",
          "text": [
            "R^2 Score: -1.4051965402135238\n",
            "Mean Absolute Error: 7.847745000000003\n",
            "\n",
            "R^2 Score: -1.4265345351044885\n",
            "Mean Absolute Error: 14.63858\n",
            "\n",
            "R^2 Score: -1.2442899404669427\n",
            "Mean Absolute Error: 17.56534\n",
            "\n"
          ]
        }
      ],
      "id": "AJfDVucFDwvz"
    },
    {
      "cell_type": "markdown",
      "source": [
        "### Spearmans CC"
      ],
      "metadata": {
        "id": "xtJRQCsZDwvz"
      },
      "id": "xtJRQCsZDwvz"
    },
    {
      "cell_type": "code",
      "source": [
        "# AQ\n",
        "random_forest_regressor(xy_spearman_cc_x_train_aq, xy_spearman_cc_x_test_aq, xy_spearman_cc_y_train_aq, xy_spearman_cc_y_test_aq)\n",
        "\n",
        "# BDI\n",
        "random_forest_regressor(xy_spearman_cc_x_train_bdi, xy_spearman_cc_x_test_bdi, xy_spearman_cc_y_train_bdi, xy_spearman_cc_y_test_bdi)\n",
        "\n",
        "# WURS\n",
        "random_forest_regressor(xy_spearman_cc_x_train_wurs, xy_spearman_cc_x_test_wurs, xy_spearman_cc_y_train_wurs, xy_spearman_cc_y_test_wurs)"
      ],
      "metadata": {
        "colab": {
          "base_uri": "https://localhost:8080/"
        },
        "outputId": "a70a25ea-b5dc-4c45-c6c5-024f3bbeb5b1",
        "id": "NsPxppGPDwvz"
      },
      "execution_count": 80,
      "outputs": [
        {
          "output_type": "stream",
          "name": "stdout",
          "text": [
            "R^2 Score: -0.31792302628626645\n",
            "Mean Absolute Error: 6.319780000000002\n",
            "\n",
            "R^2 Score: -1.3580197611564424\n",
            "Mean Absolute Error: 13.065345000000002\n",
            "\n",
            "R^2 Score: -1.503492040419971\n",
            "Mean Absolute Error: 18.497000000000003\n",
            "\n"
          ]
        }
      ],
      "id": "NsPxppGPDwvz"
    },
    {
      "cell_type": "markdown",
      "source": [
        "### Range"
      ],
      "metadata": {
        "id": "hMC7ofzkDwvz"
      },
      "id": "hMC7ofzkDwvz"
    },
    {
      "cell_type": "code",
      "source": [
        "# AQ\n",
        "random_forest_regressor(xy_range_x_train_aq, xy_range_x_test_aq, xy_range_y_train_aq, xy_range_y_test_aq)\n",
        "\n",
        "# BDI\n",
        "random_forest_regressor(xy_range_x_train_bdi, xy_range_x_test_bdi, xy_range_y_train_bdi, xy_range_y_test_bdi)\n",
        "\n",
        "# WURS\n",
        "random_forest_regressor(xy_range_x_train_wurs, xy_range_x_test_wurs, xy_range_y_train_wurs, xy_range_y_test_wurs)"
      ],
      "metadata": {
        "colab": {
          "base_uri": "https://localhost:8080/"
        },
        "outputId": "a55c9931-185a-4d4b-cff1-fcfcaefb7b58",
        "id": "XEMy-L0WDwvz"
      },
      "execution_count": 81,
      "outputs": [
        {
          "output_type": "stream",
          "name": "stdout",
          "text": [
            "R^2 Score: -0.4583939792726943\n",
            "Mean Absolute Error: 6.489335500000001\n",
            "\n",
            "R^2 Score: -0.5775121208827869\n",
            "Mean Absolute Error: 10.458106190476189\n",
            "\n",
            "R^2 Score: -0.846147081252405\n",
            "Mean Absolute Error: 15.827981190476185\n",
            "\n"
          ]
        }
      ],
      "id": "XEMy-L0WDwvz"
    },
    {
      "cell_type": "markdown",
      "source": [
        "### Unique values"
      ],
      "metadata": {
        "id": "aEQK01vJDwvz"
      },
      "id": "aEQK01vJDwvz"
    },
    {
      "cell_type": "code",
      "source": [
        "# AQ\n",
        "random_forest_regressor(xy_unique_x_train_aq, xy_unique_x_test_aq, xy_unique_y_train_aq, xy_unique_y_test_aq)\n",
        "\n",
        "# BDI\n",
        "random_forest_regressor(xy_unique_x_train_bdi, xy_unique_x_test_bdi, xy_unique_y_train_bdi, xy_unique_y_test_bdi)\n",
        "\n",
        "# WURS\n",
        "random_forest_regressor(xy_unique_x_train_wurs, xy_unique_x_test_wurs, xy_unique_y_train_wurs, xy_unique_y_test_wurs)"
      ],
      "metadata": {
        "colab": {
          "base_uri": "https://localhost:8080/"
        },
        "outputId": "115d0017-9b8a-415a-ed76-92b89334fb0c",
        "id": "hCA--Vl4Dwv0"
      },
      "execution_count": 82,
      "outputs": [
        {
          "output_type": "stream",
          "name": "stdout",
          "text": [
            "R^2 Score: -0.490767304614272\n",
            "Mean Absolute Error: 6.668580000000003\n",
            "\n",
            "R^2 Score: -0.5986637285643213\n",
            "Mean Absolute Error: 11.3314\n",
            "\n",
            "R^2 Score: -0.9718145069662425\n",
            "Mean Absolute Error: 15.711174999999997\n",
            "\n"
          ]
        }
      ],
      "id": "hCA--Vl4Dwv0"
    },
    {
      "cell_type": "markdown",
      "source": [
        "# **Train-Test Split for Classifiers**"
      ],
      "metadata": {
        "id": "DMI0T_dk5q_r"
      },
      "id": "DMI0T_dk5q_r"
    },
    {
      "cell_type": "code",
      "source": [
        "# Split function for classification models as we need to convert y input into binary values\n",
        "\n",
        "def classification_split(input_feature, clinical_var, clinical_data=clinical_cleaned_df):\n",
        "\n",
        "    # Creating x input feature\n",
        "    x = input_feature\n",
        "\n",
        "    # Creating y target variable\n",
        "    y = clinical_data[clinical_var]\n",
        "\n",
        "    # If the length of input variable x is not equal to label y, find only common indices\n",
        "    if len(x) != len(y):\n",
        "        x = x.loc[indices]\n",
        "\n",
        "    # Encode y variable based on clinical score cut offs\n",
        "    if clinical_var == 'aq':\n",
        "        y = y.apply(lambda val: 1 if val >= 22 else 0)\n",
        "    elif clinical_var == 'bdi':\n",
        "        y = y.apply(lambda val: 1 if val >= 11 else 0)\n",
        "    elif clinical_var == 'wurs':\n",
        "        y = y.apply(lambda val: 1 if val >= 30 else 0)\n",
        "\n",
        "    # Convert to arrays\n",
        "    x_arr = np.array(x)\n",
        "    y_arr = np.array(y)\n",
        "\n",
        "    # Perform train-test split\n",
        "    x_train, x_test, y_train, y_test = train_test_split(x_arr, y_arr, test_size=0.2, random_state=42)\n",
        "\n",
        "    return x_train, x_test, y_train, y_test"
      ],
      "metadata": {
        "id": "xSjSVmmC5wbD"
      },
      "id": "xSjSVmmC5wbD",
      "execution_count": 83,
      "outputs": []
    },
    {
      "cell_type": "markdown",
      "source": [
        "## Least viewed x, y coordinate pairs"
      ],
      "metadata": {
        "id": "bGNzvSer7kgh"
      },
      "id": "bGNzvSer7kgh"
    },
    {
      "cell_type": "code",
      "source": [
        "# least viwed = lv\n",
        "\n",
        "# AQ\n",
        "lv_x_train_aq_encoded, lv_x_test_aq_encoded, lv_y_train_aq_encoded, lv_y_test_aq_encoded = classification_split(filtered_min_coordinates_list, 'aq')\n",
        "\n",
        "# BDI\n",
        "lv_x_train_bdi_encoded, lv_x_test_bdi_encoded, lv_y_train_bdi_encoded, lv_y_test_bdi_encoded = classification_split(filtered_min_coordinates_list, 'bdi')\n",
        "\n",
        "# WURS\n",
        "lv_x_train_wurs_encoded, lv_x_test_wurs_encoded, lv_y_train_wurs_encoded, lv_y_test_wurs_encoded = classification_split(filtered_min_coordinates_list, 'wurs')"
      ],
      "metadata": {
        "id": "8e__Vh037kgi"
      },
      "execution_count": 84,
      "outputs": [],
      "id": "8e__Vh037kgi"
    },
    {
      "cell_type": "markdown",
      "source": [
        "## Most viewed x, y coordinate pairs"
      ],
      "metadata": {
        "id": "wLvY7uCP7kgi"
      },
      "id": "wLvY7uCP7kgi"
    },
    {
      "cell_type": "code",
      "source": [
        "# most viewed = mv\n",
        "\n",
        "# AQ\n",
        "mv_x_train_aq_encoded, mv_x_test_aq_encoded, mv_y_train_aq_encoded, mv_y_test_aq_encoded = classification_split(filtered_max_coordinates_list, 'aq')\n",
        "\n",
        "# BDI\n",
        "mv_x_train_bdi_encoded, mv_x_test_bdi_encoded, mv_y_train_bdi_encoded, mv_y_test_bdi_encoded = classification_split(filtered_max_coordinates_list, 'bdi')\n",
        "\n",
        "# WURS\n",
        "mv_x_train_wurs_encoded, mv_x_test_wurs_encoded, mv_y_train_wurs_encoded, mv_y_test_wurs_encoded = classification_split(filtered_max_coordinates_list, 'wurs')"
      ],
      "metadata": {
        "id": "7gGQQFWc7kgj"
      },
      "execution_count": 85,
      "outputs": [],
      "id": "7gGQQFWc7kgj"
    },
    {
      "cell_type": "markdown",
      "source": [
        "## Neighborhood surrounding max x, y coordinate pairs"
      ],
      "metadata": {
        "id": "aTs9J-ty7kgj"
      },
      "id": "aTs9J-ty7kgj"
    },
    {
      "cell_type": "code",
      "source": [
        "# AQ\n",
        "range_neighborhood_x_train_aq_encoded, range_neighborhood_x_test_aq_encoded, range_neighborhood_y_train_aq_encoded, range_neighborhood_y_test_aq_encoded = classification_split(range_neighborhood_df, 'aq')\n",
        "\n",
        "# BDI\n",
        "range_neighborhood_x_train_bdi_encoded, range_neighborhood_x_test_bdi_encoded, range_neighborhood_y_train_bdi_encoded, range_neighborhood_y_test_bdi_encoded = classification_split(range_neighborhood_df, 'bdi')\n",
        "\n",
        "# WURS\n",
        "range_neighborhood_x_train_wurs_encoded, range_neighborhood_x_test_wurs_encoded, range_neighborhood_y_train_wurs_encoded, range_neighborhood_y_test_wurs_encoded = classification_split(range_neighborhood_df, 'wurs')\n"
      ],
      "metadata": {
        "id": "7OCL3KYY7kgj"
      },
      "execution_count": 86,
      "outputs": [],
      "id": "7OCL3KYY7kgj"
    },
    {
      "cell_type": "markdown",
      "source": [
        "## Euclidean Distance"
      ],
      "metadata": {
        "id": "AnRfSqGKLr5q"
      },
      "id": "AnRfSqGKLr5q"
    },
    {
      "cell_type": "code",
      "source": [
        "# AQ\n",
        "ed_x_train_aq_encoded, ed_x_test_aq_encoded, ed_y_train_aq_encoded, ed_y_test_aq_encoded = classification_split(ed_distances_pd, 'aq')\n",
        "\n",
        "# BDI\n",
        "ed_x_train_bdi_encoded, ed_x_test_bdi_encoded, ed_y_train_bdi_encoded, ed_y_test_bdi_encoded = classification_split(ed_distances_pd, 'bdi')\n",
        "\n",
        "# WURS\n",
        "ed_x_train_wurs_encoded, ed_x_test_wurs_encoded, ed_y_train_wurs_encoded, ed_y_test_wurs_encoded = classification_split(ed_distances_pd, 'wurs')"
      ],
      "metadata": {
        "id": "gnIY0bX4LzTS"
      },
      "id": "gnIY0bX4LzTS",
      "execution_count": 87,
      "outputs": []
    },
    {
      "cell_type": "markdown",
      "source": [
        "## Mean"
      ],
      "metadata": {
        "id": "9JVwaAZw7kgk"
      },
      "id": "9JVwaAZw7kgk"
    },
    {
      "cell_type": "code",
      "source": [
        "# AQ\n",
        "mean_x_train_aq_encoded, mean_x_test_aq_encoded, mean_y_train_aq_encoded, mean_y_test_aq_encoded = classification_split(meanvals_df, 'aq')\n",
        "\n",
        "# BDI\n",
        "mean_x_train_bdi_encoded, mean_x_test_bdi_encoded, mean_y_train_bdi_encoded, mean_y_test_bdi_encoded = classification_split(meanvals_df, 'bdi')\n",
        "\n",
        "# WURS\n",
        "mean_x_train_wurs_encoded, mean_x_test_wurs_encoded, mean_y_train_wurs_encoded, mean_y_test_wurs_encoded = classification_split(meanvals_df, 'wurs')"
      ],
      "metadata": {
        "id": "zaMysLWj7kgk"
      },
      "execution_count": 88,
      "outputs": [],
      "id": "zaMysLWj7kgk"
    },
    {
      "cell_type": "markdown",
      "source": [
        "## Standard deviation"
      ],
      "metadata": {
        "id": "0VqvvPxx7kgk"
      },
      "id": "0VqvvPxx7kgk"
    },
    {
      "cell_type": "code",
      "source": [
        "# AQ\n",
        "std_x_train_aq_encoded, std_x_test_aq_encoded, std_y_train_aq_encoded, std_y_test_aq_encoded = classification_split(stdvals_df, 'aq')\n",
        "\n",
        "# BDI\n",
        "std_x_train_bdi_encoded, std_x_test_bdi_encoded, std_y_train_bdi_encoded, std_y_test_bdi_encoded= classification_split(stdvals_df, 'bdi')\n",
        "\n",
        "# WURS\n",
        "std_x_train_wurs_encoded, std_x_test_wurs_encoded, std_y_train_wurs_encoded, std_y_test_wurs_encoded = classification_split(stdvals_df, 'wurs')"
      ],
      "metadata": {
        "id": "q0JA8bi37kgk"
      },
      "execution_count": 89,
      "outputs": [],
      "id": "q0JA8bi37kgk"
    },
    {
      "cell_type": "markdown",
      "source": [
        "## Median"
      ],
      "metadata": {
        "id": "ffXnJBpj7kgk"
      },
      "id": "ffXnJBpj7kgk"
    },
    {
      "cell_type": "code",
      "source": [
        "# AQ\n",
        "med_x_train_aq_encoded, med_x_test_aq_encoded, med_y_train_aq_encoded, med_y_test_aq_encoded = classification_split(medvals_df, 'aq')\n",
        "\n",
        "# BDI\n",
        "med_x_train_bdi_encoded, med_x_test_bdi_encoded, med_y_train_bdi_encoded, med_y_test_bdi_encoded = classification_split(medvals_df, 'bdi')\n",
        "\n",
        "# WURS\n",
        "med_x_train_wurs_encoded, med_x_test_wurs_encoded, med_y_train_wurs_encoded, med_y_test_wurs_encoded = classification_split(medvals_df, 'wurs')"
      ],
      "metadata": {
        "id": "l6cDMLyZ7kgk"
      },
      "execution_count": 90,
      "outputs": [],
      "id": "l6cDMLyZ7kgk"
    },
    {
      "cell_type": "markdown",
      "source": [
        "## Pearsons correlation coefficient"
      ],
      "metadata": {
        "id": "_kJKg_Pa7kgl"
      },
      "id": "_kJKg_Pa7kgl"
    },
    {
      "cell_type": "code",
      "source": [
        "# AQ\n",
        "xy_pearson_cc_x_train_aq_encoded, xy_pearson_cc_x_test_aq_encoded, xy_pearson_cc_y_train_aq_encoded, xy_pearson_cc_y_test_aq_encoded = classification_split(xy_pearson_df, 'aq')\n",
        "\n",
        "# BDI\n",
        "xy_pearson_cc_x_train_bdi_encoded, xy_pearson_cc_x_test_bdi_encoded, xy_pearson_cc_y_train_bdi_encoded, xy_pearson_cc_y_test_bdi_encoded = classification_split(xy_pearson_df, 'bdi')\n",
        "\n",
        "# WURS\n",
        "xy_pearson_cc_x_train_wurs_encoded, xy_pearson_cc_x_test_wurs_encoded, xy_pearson_cc_y_train_wurs_encoded, xy_pearson_cc_y_test_wurs_encoded = classification_split(xy_pearson_df, 'wurs')"
      ],
      "metadata": {
        "id": "L6wG-l5G7kgl"
      },
      "execution_count": 91,
      "outputs": [],
      "id": "L6wG-l5G7kgl"
    },
    {
      "cell_type": "markdown",
      "source": [
        "## Spearmans correlation coefficient"
      ],
      "metadata": {
        "id": "zcFl3tOm7kgl"
      },
      "id": "zcFl3tOm7kgl"
    },
    {
      "cell_type": "code",
      "source": [
        "# AQ\n",
        "xy_spearman_cc_x_train_aq_encoded, xy_spearman_cc_x_test_aq_encoded, xy_spearman_cc_y_train_aq_encoded, xy_spearman_cc_y_test_aq_encoded = classification_split(xy_spearman_df, 'aq')\n",
        "\n",
        "# BDI\n",
        "xy_spearman_cc_x_train_bdi_encoded, xy_spearman_cc_x_test_bdi_encoded, xy_spearman_cc_y_train_bdi_encoded, xy_spearman_cc_y_test_bdi_encoded = classification_split(xy_spearman_df, 'bdi')\n",
        "\n",
        "# WURS\n",
        "xy_spearman_cc_x_train_wurs_encoded, xy_spearman_cc_x_test_wurs_encoded, xy_spearman_cc_y_train_wurs_encoded, xy_spearman_cc_y_test_wurs_encoded = classification_split(xy_spearman_df, 'wurs')"
      ],
      "metadata": {
        "id": "7XzEEA997kgm"
      },
      "execution_count": 92,
      "outputs": [],
      "id": "7XzEEA997kgm"
    },
    {
      "cell_type": "markdown",
      "source": [
        "## Range"
      ],
      "metadata": {
        "id": "g0JuIOOE7kgm"
      },
      "id": "g0JuIOOE7kgm"
    },
    {
      "cell_type": "code",
      "source": [
        "# AQ\n",
        "xy_range_x_train_aq_encoded, xy_range_x_test_aq_encoded, xy_range_y_train_aq_encoded, xy_range_y_test_aq_encoded = classification_split(xy_range_df, 'aq')\n",
        "\n",
        "# BDI\n",
        "xy_range_x_train_bdi_encoded, xy_range_x_test_bdi_encoded, xy_range_y_train_bdi_encoded, xy_range_y_test_bdi_encoded = classification_split(xy_range_df, 'bdi')\n",
        "\n",
        "# WURS\n",
        "xy_range_x_train_wurs_encoded, xy_range_x_test_wurs_encoded, xy_range_y_train_wurs_encoded, xy_range_y_test_wurs_encoded = classification_split(xy_range_df, 'wurs')"
      ],
      "metadata": {
        "id": "zbZGci5r7kgm"
      },
      "execution_count": 93,
      "outputs": [],
      "id": "zbZGci5r7kgm"
    },
    {
      "cell_type": "markdown",
      "source": [
        "## Unique values"
      ],
      "metadata": {
        "id": "4siZe4hW7kgm"
      },
      "id": "4siZe4hW7kgm"
    },
    {
      "cell_type": "code",
      "source": [
        "# AQ\n",
        "xy_unique_x_train_aq_encoded, xy_unique_x_test_aq_encoded, xy_unique_y_train_aq_encoded, xy_unique_y_test_aq_encoded = classification_split(unique_vals_mean_df, 'aq')\n",
        "\n",
        "# BDI\n",
        "xy_unique_x_train_bdi_encoded, xy_unique_x_test_bdi_encoded, xy_unique_y_train_bdi_encoded, xy_unique_y_test_bdi_encoded = classification_split(unique_vals_mean_df, 'bdi')\n",
        "\n",
        "# WURS\n",
        "xy_unique_x_train_wurs_encoded, xy_unique_x_test_wurs_encoded, xy_unique_y_train_wurs_encoded, xy_unique_y_test_wurs_encoded = classification_split(unique_vals_mean_df, 'wurs')"
      ],
      "metadata": {
        "id": "w5Pi7VQA7kgm"
      },
      "execution_count": 94,
      "outputs": [],
      "id": "w5Pi7VQA7kgm"
    },
    {
      "cell_type": "markdown",
      "source": [
        "# **Classifiers with Train-Test Split**"
      ],
      "metadata": {
        "id": "g0i0f_87MWxB"
      },
      "id": "g0i0f_87MWxB"
    },
    {
      "cell_type": "markdown",
      "source": [
        "## **Logistic Regression**"
      ],
      "metadata": {
        "id": "3ooHiSeQ4DCU"
      },
      "id": "3ooHiSeQ4DCU"
    },
    {
      "cell_type": "code",
      "source": [
        "from sklearn.linear_model import LogisticRegression\n",
        "from sklearn.metrics import accuracy_score, f1_score, precision_score, recall_score"
      ],
      "metadata": {
        "id": "-EZJOScE4FV8"
      },
      "id": "-EZJOScE4FV8",
      "execution_count": 95,
      "outputs": []
    },
    {
      "cell_type": "code",
      "source": [
        "# Logistic regression classifer with train-test split\n",
        "\n",
        "def logistic_regression(x_train, x_test, y_train, y_test):\n",
        "    \n",
        "    # Create logistic regression object and fit model\n",
        "    lr_model = LogisticRegression(random_state=42, max_iter=10000).fit(x_train, y_train)\n",
        "\n",
        "    # Make predictions\n",
        "    y_pred = lr_model.predict(x_test)\n",
        "\n",
        "    # Evaluate model\n",
        "    accuracy = round(accuracy_score(y_test, y_pred), 3)\n",
        "    f1 = round(f1_score(y_test, y_pred), 3)\n",
        "    precision = round(precision_score(y_test, y_pred), 3)\n",
        "    recall = round(recall_score(y_test, y_pred), 3)\n",
        "\n",
        "    print(f'Accuracy: {accuracy * 100.0:.2f}%')\n",
        "    print(f'F1: {f1 * 100.0:.2f}%')\n",
        "    print(f'Precision: {precision * 100.0:.2f}%')\n",
        "    print(f'Recall: {recall * 100.0:.2f}%')\n",
        "    print()"
      ],
      "metadata": {
        "id": "rqmzqMDr4H_r"
      },
      "id": "rqmzqMDr4H_r",
      "execution_count": 96,
      "outputs": []
    },
    {
      "cell_type": "markdown",
      "source": [
        "### Least viewed x, y coordinate pairs"
      ],
      "metadata": {
        "id": "wo_FdjAc5PoB"
      },
      "id": "wo_FdjAc5PoB"
    },
    {
      "cell_type": "code",
      "source": [
        "# AQ\n",
        "logistic_regression(lv_x_train_aq_encoded, lv_x_test_aq_encoded, lv_y_train_aq_encoded, lv_y_test_aq_encoded)\n",
        "\n",
        "# BDI\n",
        "logistic_regression(lv_x_train_bdi_encoded, lv_x_test_bdi_encoded, lv_y_train_bdi_encoded, lv_y_test_bdi_encoded)\n",
        "\n",
        "# WURS\n",
        "logistic_regression(lv_x_train_wurs_encoded, lv_x_test_wurs_encoded, lv_y_train_wurs_encoded, lv_y_test_wurs_encoded)"
      ],
      "metadata": {
        "colab": {
          "base_uri": "https://localhost:8080/"
        },
        "outputId": "e79808ff-cd90-45ea-a000-511ece3187a1",
        "id": "LysolYV85PoC"
      },
      "execution_count": 97,
      "outputs": [
        {
          "output_type": "stream",
          "name": "stdout",
          "text": [
            "Accuracy: 55.00%\n",
            "F1: 0.00%\n",
            "Precision: 0.00%\n",
            "Recall: 0.00%\n",
            "\n",
            "Accuracy: 95.00%\n",
            "F1: 97.40%\n",
            "Precision: 95.00%\n",
            "Recall: 100.00%\n",
            "\n",
            "Accuracy: 80.00%\n",
            "F1: 88.90%\n",
            "Precision: 80.00%\n",
            "Recall: 100.00%\n",
            "\n"
          ]
        }
      ],
      "id": "LysolYV85PoC"
    },
    {
      "cell_type": "markdown",
      "source": [
        "### Most viewed x, y coordinate pairs"
      ],
      "metadata": {
        "id": "CtlZIrCV5PoD"
      },
      "id": "CtlZIrCV5PoD"
    },
    {
      "cell_type": "code",
      "source": [
        "# AQ\n",
        "logistic_regression(mv_x_train_aq_encoded, mv_x_test_aq_encoded, mv_y_train_aq_encoded, mv_y_test_aq_encoded)\n",
        "\n",
        "# BDI\n",
        "logistic_regression(mv_x_train_bdi_encoded, mv_x_test_bdi_encoded, mv_y_train_bdi_encoded, mv_y_test_bdi_encoded)\n",
        "\n",
        "# WURS\n",
        "logistic_regression(mv_x_train_wurs_encoded, mv_x_test_wurs_encoded, mv_y_train_wurs_encoded, mv_y_test_wurs_encoded)"
      ],
      "metadata": {
        "colab": {
          "base_uri": "https://localhost:8080/"
        },
        "outputId": "30603979-b73d-41a7-f82b-ba034355a5a2",
        "id": "MUB9gXeS5PoD"
      },
      "execution_count": 98,
      "outputs": [
        {
          "output_type": "stream",
          "name": "stdout",
          "text": [
            "Accuracy: 60.00%\n",
            "F1: 50.00%\n",
            "Precision: 57.10%\n",
            "Recall: 44.40%\n",
            "\n",
            "Accuracy: 95.00%\n",
            "F1: 97.40%\n",
            "Precision: 95.00%\n",
            "Recall: 100.00%\n",
            "\n",
            "Accuracy: 80.00%\n",
            "F1: 88.90%\n",
            "Precision: 80.00%\n",
            "Recall: 100.00%\n",
            "\n"
          ]
        }
      ],
      "id": "MUB9gXeS5PoD"
    },
    {
      "cell_type": "markdown",
      "source": [
        "### Neighborhood surrounding most viewed x, y coordinate pairs"
      ],
      "metadata": {
        "id": "8Nx3ITff5PoD"
      },
      "id": "8Nx3ITff5PoD"
    },
    {
      "cell_type": "code",
      "source": [
        "# AQ\n",
        "# logistic_regression(x_train_reshaped, x_test_reshaped, range_neighborhood_y_train_aq_encoded, range_neighborhood_y_test_aq_encoded)\n",
        "\n",
        "# BDI\n",
        "# logistic_regression(range_neighborhood_x_train_bdi_encoded, range_neighborhood_x_test_bdi_encoded, range_neighborhood_y_train_bdi_encoded, range_neighborhood_y_test_bdi_encoded)\n",
        "\n",
        "# WURS\n",
        "# logistic_regression(range_neighborhood_x_train_wurs_encoded, range_neighborhood_x_test_wurs_encoded, range_neighborhood_y_train_wurs_encoded, range_neighborhood_y_test_wurs_encoded)"
      ],
      "metadata": {
        "id": "DBQFPprc5PoE"
      },
      "execution_count": 99,
      "outputs": [],
      "id": "DBQFPprc5PoE"
    },
    {
      "cell_type": "markdown",
      "source": [
        "### Euclidean Distance"
      ],
      "metadata": {
        "id": "GdqCezRDMZK1"
      },
      "id": "GdqCezRDMZK1"
    },
    {
      "cell_type": "code",
      "source": [
        "# AQ\n",
        "logistic_regression(ed_x_train_aq_encoded, ed_x_test_aq_encoded, ed_y_train_aq_encoded, ed_y_test_aq_encoded)\n",
        "\n",
        "# BDI\n",
        "logistic_regression(ed_x_train_bdi_encoded, ed_x_test_bdi_encoded, ed_y_train_bdi_encoded, ed_y_test_bdi_encoded)\n",
        "\n",
        "# WURS\n",
        "logistic_regression(ed_x_train_wurs_encoded, ed_x_test_wurs_encoded, ed_y_train_wurs_encoded, ed_y_test_wurs_encoded)"
      ],
      "metadata": {
        "colab": {
          "base_uri": "https://localhost:8080/"
        },
        "id": "9bklEQTqMezb",
        "outputId": "da4bd96e-bd4d-419b-b041-36a08339f92d"
      },
      "id": "9bklEQTqMezb",
      "execution_count": 100,
      "outputs": [
        {
          "output_type": "stream",
          "name": "stdout",
          "text": [
            "Accuracy: 30.00%\n",
            "F1: 22.20%\n",
            "Precision: 22.20%\n",
            "Recall: 22.20%\n",
            "\n",
            "Accuracy: 95.00%\n",
            "F1: 97.40%\n",
            "Precision: 95.00%\n",
            "Recall: 100.00%\n",
            "\n",
            "Accuracy: 80.00%\n",
            "F1: 88.90%\n",
            "Precision: 80.00%\n",
            "Recall: 100.00%\n",
            "\n"
          ]
        }
      ]
    },
    {
      "cell_type": "markdown",
      "source": [
        "### Mean"
      ],
      "metadata": {
        "id": "bLr7K_-s5PoE"
      },
      "id": "bLr7K_-s5PoE"
    },
    {
      "cell_type": "code",
      "source": [
        "# AQ\n",
        "logistic_regression(mean_x_train_aq_encoded, mean_x_test_aq_encoded, mean_y_train_aq_encoded, mean_y_test_aq_encoded)\n",
        "\n",
        "# BDI\n",
        "logistic_regression(mean_x_train_bdi_encoded, mean_x_test_bdi_encoded, mean_y_train_bdi_encoded, mean_y_test_bdi_encoded)\n",
        "\n",
        "# WURS\n",
        "logistic_regression(mean_x_train_wurs_encoded, mean_x_test_wurs_encoded, mean_y_train_wurs_encoded, mean_y_test_wurs_encoded)"
      ],
      "metadata": {
        "colab": {
          "base_uri": "https://localhost:8080/"
        },
        "outputId": "caa8a1bd-a941-4ac8-85ac-a5443c91a6b5",
        "id": "Pgtnkgs85PoE"
      },
      "execution_count": 101,
      "outputs": [
        {
          "output_type": "stream",
          "name": "stdout",
          "text": [
            "Accuracy: 55.00%\n",
            "F1: 0.00%\n",
            "Precision: 0.00%\n",
            "Recall: 0.00%\n",
            "\n",
            "Accuracy: 95.00%\n",
            "F1: 97.40%\n",
            "Precision: 95.00%\n",
            "Recall: 100.00%\n",
            "\n",
            "Accuracy: 80.00%\n",
            "F1: 88.90%\n",
            "Precision: 80.00%\n",
            "Recall: 100.00%\n",
            "\n"
          ]
        }
      ],
      "id": "Pgtnkgs85PoE"
    },
    {
      "cell_type": "markdown",
      "source": [
        "### Standard deviation"
      ],
      "metadata": {
        "id": "I9fEC6gy5PoE"
      },
      "id": "I9fEC6gy5PoE"
    },
    {
      "cell_type": "code",
      "source": [
        "# AQ\n",
        "logistic_regression(std_x_train_aq_encoded, std_x_test_aq_encoded, std_y_train_aq_encoded, std_y_test_aq_encoded)\n",
        "\n",
        "# BDI\n",
        "logistic_regression(std_x_train_bdi_encoded, std_x_test_bdi_encoded, std_y_train_bdi_encoded, std_y_test_bdi_encoded)\n",
        "\n",
        "# WURS\n",
        "logistic_regression(std_x_train_wurs_encoded, std_x_test_wurs_encoded, std_y_train_wurs_encoded, std_y_test_wurs_encoded)"
      ],
      "metadata": {
        "colab": {
          "base_uri": "https://localhost:8080/"
        },
        "outputId": "19f67bd2-65aa-497f-8bfc-6c5d796c2418",
        "id": "_BtBKrrA5PoE"
      },
      "execution_count": 102,
      "outputs": [
        {
          "output_type": "stream",
          "name": "stdout",
          "text": [
            "Accuracy: 65.00%\n",
            "F1: 46.20%\n",
            "Precision: 75.00%\n",
            "Recall: 33.30%\n",
            "\n",
            "Accuracy: 95.00%\n",
            "F1: 97.40%\n",
            "Precision: 95.00%\n",
            "Recall: 100.00%\n",
            "\n",
            "Accuracy: 80.00%\n",
            "F1: 88.90%\n",
            "Precision: 80.00%\n",
            "Recall: 100.00%\n",
            "\n"
          ]
        }
      ],
      "id": "_BtBKrrA5PoE"
    },
    {
      "cell_type": "markdown",
      "source": [
        "### Median"
      ],
      "metadata": {
        "id": "NAGu0Xue5PoE"
      },
      "id": "NAGu0Xue5PoE"
    },
    {
      "cell_type": "code",
      "source": [
        "# AQ\n",
        "logistic_regression(med_x_train_aq_encoded, med_x_test_aq_encoded, med_y_train_aq_encoded, med_y_test_aq_encoded)\n",
        "\n",
        "# BDI\n",
        "logistic_regression(med_x_train_bdi_encoded, med_x_test_bdi_encoded, med_y_train_bdi_encoded, med_y_test_bdi_encoded)\n",
        "\n",
        "# WURS\n",
        "logistic_regression(med_x_train_wurs_encoded, med_x_test_wurs_encoded, med_y_train_wurs_encoded, med_y_test_wurs_encoded)"
      ],
      "metadata": {
        "colab": {
          "base_uri": "https://localhost:8080/"
        },
        "outputId": "7e6a566b-4207-44ad-b0cc-a0b48e88c220",
        "id": "ygWyxpLo5PoE"
      },
      "execution_count": 103,
      "outputs": [
        {
          "output_type": "stream",
          "name": "stdout",
          "text": [
            "Accuracy: 55.00%\n",
            "F1: 0.00%\n",
            "Precision: 0.00%\n",
            "Recall: 0.00%\n",
            "\n",
            "Accuracy: 100.00%\n",
            "F1: 100.00%\n",
            "Precision: 100.00%\n",
            "Recall: 100.00%\n",
            "\n",
            "Accuracy: 80.00%\n",
            "F1: 88.90%\n",
            "Precision: 80.00%\n",
            "Recall: 100.00%\n",
            "\n"
          ]
        }
      ],
      "id": "ygWyxpLo5PoE"
    },
    {
      "cell_type": "markdown",
      "source": [
        "### Pearsons CC"
      ],
      "metadata": {
        "id": "qNCKA5705PoF"
      },
      "id": "qNCKA5705PoF"
    },
    {
      "cell_type": "code",
      "source": [
        "# AQ\n",
        "logistic_regression(xy_pearson_cc_x_train_aq_encoded, xy_pearson_cc_x_test_aq_encoded, xy_pearson_cc_y_train_aq_encoded, xy_pearson_cc_y_test_aq_encoded)\n",
        "\n",
        "# BDI\n",
        "logistic_regression(xy_pearson_cc_x_train_bdi_encoded, xy_pearson_cc_x_test_bdi_encoded, xy_pearson_cc_y_train_bdi_encoded, xy_pearson_cc_y_test_bdi_encoded)\n",
        "\n",
        "# WURS\n",
        "logistic_regression(xy_pearson_cc_x_train_wurs_encoded, xy_pearson_cc_x_test_wurs_encoded, xy_pearson_cc_y_train_wurs_encoded, xy_pearson_cc_y_test_wurs_encoded)"
      ],
      "metadata": {
        "colab": {
          "base_uri": "https://localhost:8080/"
        },
        "outputId": "9cdbc9b9-e1c7-4eea-841d-10730626f623",
        "id": "ruNWVpL75PoF"
      },
      "execution_count": 104,
      "outputs": [
        {
          "output_type": "stream",
          "name": "stdout",
          "text": [
            "Accuracy: 55.00%\n",
            "F1: 0.00%\n",
            "Precision: 0.00%\n",
            "Recall: 0.00%\n",
            "\n",
            "Accuracy: 95.00%\n",
            "F1: 97.40%\n",
            "Precision: 95.00%\n",
            "Recall: 100.00%\n",
            "\n",
            "Accuracy: 80.00%\n",
            "F1: 88.90%\n",
            "Precision: 80.00%\n",
            "Recall: 100.00%\n",
            "\n"
          ]
        }
      ],
      "id": "ruNWVpL75PoF"
    },
    {
      "cell_type": "markdown",
      "source": [
        "### Spearmans CC"
      ],
      "metadata": {
        "id": "fGiPBqEz5PoF"
      },
      "id": "fGiPBqEz5PoF"
    },
    {
      "cell_type": "code",
      "source": [
        "# AQ\n",
        "logistic_regression(xy_spearman_cc_x_train_aq_encoded, xy_spearman_cc_x_test_aq_encoded, xy_spearman_cc_y_train_aq_encoded, xy_spearman_cc_y_test_aq_encoded)\n",
        "\n",
        "# BDI\n",
        "logistic_regression(xy_spearman_cc_x_train_bdi_encoded, xy_spearman_cc_x_test_bdi_encoded, xy_spearman_cc_y_train_bdi_encoded, xy_spearman_cc_y_test_bdi_encoded)\n",
        "\n",
        "# WURS\n",
        "logistic_regression(xy_spearman_cc_x_train_wurs_encoded, xy_spearman_cc_x_test_wurs_encoded, xy_spearman_cc_y_train_wurs_encoded, xy_spearman_cc_y_test_wurs_encoded)"
      ],
      "metadata": {
        "colab": {
          "base_uri": "https://localhost:8080/"
        },
        "outputId": "b407db91-074f-4afe-a732-8e6175be6a68",
        "id": "XfD8pcxq5PoF"
      },
      "execution_count": 105,
      "outputs": [
        {
          "output_type": "stream",
          "name": "stdout",
          "text": [
            "Accuracy: 55.00%\n",
            "F1: 0.00%\n",
            "Precision: 0.00%\n",
            "Recall: 0.00%\n",
            "\n",
            "Accuracy: 95.00%\n",
            "F1: 97.40%\n",
            "Precision: 95.00%\n",
            "Recall: 100.00%\n",
            "\n",
            "Accuracy: 80.00%\n",
            "F1: 88.90%\n",
            "Precision: 80.00%\n",
            "Recall: 100.00%\n",
            "\n"
          ]
        }
      ],
      "id": "XfD8pcxq5PoF"
    },
    {
      "cell_type": "markdown",
      "source": [
        "### Range"
      ],
      "metadata": {
        "id": "H140i_0L5PoF"
      },
      "id": "H140i_0L5PoF"
    },
    {
      "cell_type": "code",
      "source": [
        "# AQ\n",
        "logistic_regression(xy_range_x_train_aq_encoded, xy_range_x_test_aq_encoded, xy_range_y_train_aq_encoded, xy_range_y_test_aq_encoded)\n",
        "\n",
        "# BDI\n",
        "logistic_regression(xy_range_x_train_bdi_encoded, xy_range_x_test_bdi_encoded, xy_range_y_train_bdi_encoded, xy_range_y_test_bdi_encoded)\n",
        "\n",
        "# WURS\n",
        "logistic_regression(xy_range_x_train_wurs_encoded, xy_range_x_test_wurs_encoded, xy_range_y_train_wurs_encoded, xy_range_y_test_wurs_encoded)"
      ],
      "metadata": {
        "colab": {
          "base_uri": "https://localhost:8080/"
        },
        "outputId": "98a24034-896b-4c90-8728-3676f37c53ed",
        "id": "NVenW6TS5PoF"
      },
      "execution_count": 106,
      "outputs": [
        {
          "output_type": "stream",
          "name": "stdout",
          "text": [
            "Accuracy: 35.00%\n",
            "F1: 13.30%\n",
            "Precision: 16.70%\n",
            "Recall: 11.10%\n",
            "\n",
            "Accuracy: 95.00%\n",
            "F1: 97.40%\n",
            "Precision: 95.00%\n",
            "Recall: 100.00%\n",
            "\n",
            "Accuracy: 80.00%\n",
            "F1: 88.90%\n",
            "Precision: 80.00%\n",
            "Recall: 100.00%\n",
            "\n"
          ]
        }
      ],
      "id": "NVenW6TS5PoF"
    },
    {
      "cell_type": "markdown",
      "source": [
        "### Unique values"
      ],
      "metadata": {
        "id": "PxrOjzbY5PoG"
      },
      "id": "PxrOjzbY5PoG"
    },
    {
      "cell_type": "code",
      "source": [
        "# AQ\n",
        "logistic_regression(xy_unique_x_train_aq_encoded, xy_unique_x_test_aq_encoded, xy_unique_y_train_aq_encoded, xy_unique_y_test_aq_encoded)\n",
        "\n",
        "# BDI\n",
        "logistic_regression(xy_unique_x_train_bdi_encoded, xy_unique_x_test_bdi_encoded, xy_unique_y_train_bdi_encoded, xy_unique_y_test_bdi_encoded)\n",
        "\n",
        "# WURS\n",
        "logistic_regression(xy_unique_x_train_wurs_encoded, xy_unique_x_test_wurs_encoded, xy_unique_y_train_wurs_encoded, xy_unique_y_test_wurs_encoded)"
      ],
      "metadata": {
        "colab": {
          "base_uri": "https://localhost:8080/"
        },
        "outputId": "dd7c88b8-e62b-4c00-f2e8-8157917ab810",
        "id": "S9WBRHVO5PoG"
      },
      "execution_count": 107,
      "outputs": [
        {
          "output_type": "stream",
          "name": "stdout",
          "text": [
            "Accuracy: 55.00%\n",
            "F1: 0.00%\n",
            "Precision: 0.00%\n",
            "Recall: 0.00%\n",
            "\n",
            "Accuracy: 95.00%\n",
            "F1: 97.40%\n",
            "Precision: 95.00%\n",
            "Recall: 100.00%\n",
            "\n",
            "Accuracy: 80.00%\n",
            "F1: 88.90%\n",
            "Precision: 80.00%\n",
            "Recall: 100.00%\n",
            "\n"
          ]
        }
      ],
      "id": "S9WBRHVO5PoG"
    },
    {
      "cell_type": "markdown",
      "source": [
        "## **Decision Tree**"
      ],
      "metadata": {
        "id": "uL6kewVc4URH"
      },
      "id": "uL6kewVc4URH"
    },
    {
      "cell_type": "code",
      "source": [
        "from sklearn.tree import DecisionTreeClassifier"
      ],
      "metadata": {
        "id": "N5z6my0B4V9a"
      },
      "id": "N5z6my0B4V9a",
      "execution_count": 108,
      "outputs": []
    },
    {
      "cell_type": "code",
      "source": [
        "# Decision Tree classifier with train-test split\n",
        "\n",
        "def decision_tree_classifier(x_train, x_test, y_train, y_test):\n",
        "    \n",
        "    # Create decision tree object and fit classifier\n",
        "    dt_clf = DecisionTreeClassifier(random_state=42).fit(x_train, y_train)\n",
        "\n",
        "    # Make predictions\n",
        "    y_pred = dt_clf.predict(x_test)\n",
        "\n",
        "    # Evaluate model\n",
        "    accuracy = round(accuracy_score(y_test, y_pred), 3)\n",
        "    f1 = round(f1_score(y_test, y_pred), 3)\n",
        "    precision = round(precision_score(y_test, y_pred), 3)\n",
        "    recall = round(recall_score(y_test, y_pred), 3)\n",
        "\n",
        "    print(f'Accuracy: {accuracy * 100.0:.2f}%')\n",
        "    print(f'F1: {f1 * 100.0:.2f}%')\n",
        "    print(f'Precision: {precision * 100.0:.2f}%')\n",
        "    print(f'Recall: {recall * 100.0:.2f}%')\n",
        "    print()"
      ],
      "metadata": {
        "id": "8ZYsHdYL4Xyo"
      },
      "id": "8ZYsHdYL4Xyo",
      "execution_count": 109,
      "outputs": []
    },
    {
      "cell_type": "markdown",
      "source": [
        "### Least viewed x, y coordinate pairs"
      ],
      "metadata": {
        "id": "OStlP-4YCmdu"
      },
      "id": "OStlP-4YCmdu"
    },
    {
      "cell_type": "code",
      "source": [
        "# AQ\n",
        "decision_tree_classifier(lv_x_train_aq_encoded, lv_x_test_aq_encoded, lv_y_train_aq_encoded, lv_y_test_aq_encoded)\n",
        "\n",
        "# BDI\n",
        "decision_tree_classifier(lv_x_train_bdi_encoded, lv_x_test_bdi_encoded, lv_y_train_bdi_encoded, lv_y_test_bdi_encoded)\n",
        "\n",
        "# WURS\n",
        "decision_tree_classifier(lv_x_train_wurs_encoded, lv_x_test_wurs_encoded, lv_y_train_wurs_encoded, lv_y_test_wurs_encoded)"
      ],
      "metadata": {
        "colab": {
          "base_uri": "https://localhost:8080/"
        },
        "outputId": "00e52045-706d-4ea3-cf2b-509985ca51d9",
        "id": "VIAXTwzpCmdv"
      },
      "execution_count": 110,
      "outputs": [
        {
          "output_type": "stream",
          "name": "stdout",
          "text": [
            "Accuracy: 40.00%\n",
            "F1: 33.30%\n",
            "Precision: 33.30%\n",
            "Recall: 33.30%\n",
            "\n",
            "Accuracy: 95.00%\n",
            "F1: 97.40%\n",
            "Precision: 95.00%\n",
            "Recall: 100.00%\n",
            "\n",
            "Accuracy: 65.00%\n",
            "F1: 77.40%\n",
            "Precision: 80.00%\n",
            "Recall: 75.00%\n",
            "\n"
          ]
        }
      ],
      "id": "VIAXTwzpCmdv"
    },
    {
      "cell_type": "markdown",
      "source": [
        "### Most viewed x, y coordinate pairs"
      ],
      "metadata": {
        "id": "wAKc4uAkCmdv"
      },
      "id": "wAKc4uAkCmdv"
    },
    {
      "cell_type": "code",
      "source": [
        "# AQ\n",
        "decision_tree_classifier(mv_x_train_aq_encoded, mv_x_test_aq_encoded, mv_y_train_aq_encoded, mv_y_test_aq_encoded)\n",
        "\n",
        "# BDI\n",
        "decision_tree_classifier(mv_x_train_bdi_encoded, mv_x_test_bdi_encoded, mv_y_train_bdi_encoded, mv_y_test_bdi_encoded)\n",
        "\n",
        "# WURS\n",
        "decision_tree_classifier(mv_x_train_wurs_encoded, mv_x_test_wurs_encoded, mv_y_train_wurs_encoded, mv_y_test_wurs_encoded)"
      ],
      "metadata": {
        "colab": {
          "base_uri": "https://localhost:8080/"
        },
        "outputId": "caba4bb0-ea2b-4e9c-dac7-c1bd3f6fc2a5",
        "id": "YGzEIKeRCmdw"
      },
      "execution_count": 111,
      "outputs": [
        {
          "output_type": "stream",
          "name": "stdout",
          "text": [
            "Accuracy: 50.00%\n",
            "F1: 50.00%\n",
            "Precision: 45.50%\n",
            "Recall: 55.60%\n",
            "\n",
            "Accuracy: 70.00%\n",
            "F1: 81.30%\n",
            "Precision: 100.00%\n",
            "Recall: 68.40%\n",
            "\n",
            "Accuracy: 65.00%\n",
            "F1: 77.40%\n",
            "Precision: 80.00%\n",
            "Recall: 75.00%\n",
            "\n"
          ]
        }
      ],
      "id": "YGzEIKeRCmdw"
    },
    {
      "cell_type": "markdown",
      "source": [
        "### Neighborhood surrounding most viewed x, y coordinate pairs"
      ],
      "metadata": {
        "id": "Dx6Ge40TCmdw"
      },
      "id": "Dx6Ge40TCmdw"
    },
    {
      "cell_type": "code",
      "source": [
        "# AQ\n",
        "# decision_tree_classifier(range_x_train_aq_encoded, range_x_test_aq_encoded, range_y_train_aq_encoded, range_y_test_aq_encoded)\n",
        "\n",
        "# BDI\n",
        "# decision_tree_classifier(range_x_train_bdi_encoded, range_x_test_bdi_encoded, range_y_train_bdi_encoded, range_y_test_bdi_encoded)\n",
        "\n",
        "# WURS\n",
        "# decision_tree_classifier(range_x_train_wurs_encoded, range_x_test_wurs_encoded, range_y_train_wurs_encoded, range_y_test_wurs_encoded)"
      ],
      "metadata": {
        "id": "2c46qbPrCmdw"
      },
      "execution_count": 112,
      "outputs": [],
      "id": "2c46qbPrCmdw"
    },
    {
      "cell_type": "markdown",
      "source": [
        "### Euclidean Distance"
      ],
      "metadata": {
        "id": "NjHnMicNM4jD"
      },
      "id": "NjHnMicNM4jD"
    },
    {
      "cell_type": "code",
      "source": [
        "# AQ\n",
        "decision_tree_classifier(ed_x_train_aq_encoded, ed_x_test_aq_encoded, ed_y_train_aq_encoded, ed_y_test_aq_encoded)\n",
        "\n",
        "# BDI\n",
        "decision_tree_classifier(ed_x_train_bdi_encoded, ed_x_test_bdi_encoded, ed_y_train_bdi_encoded, ed_y_test_bdi_encoded)\n",
        "\n",
        "# WURS\n",
        "decision_tree_classifier(ed_x_train_wurs_encoded, ed_x_test_wurs_encoded, ed_y_train_wurs_encoded, ed_y_test_wurs_encoded)"
      ],
      "metadata": {
        "colab": {
          "base_uri": "https://localhost:8080/"
        },
        "id": "QVVt1R7OM-rP",
        "outputId": "483c0c32-335a-4011-a33d-2905e1d07154"
      },
      "id": "QVVt1R7OM-rP",
      "execution_count": 113,
      "outputs": [
        {
          "output_type": "stream",
          "name": "stdout",
          "text": [
            "Accuracy: 60.00%\n",
            "F1: 60.00%\n",
            "Precision: 54.50%\n",
            "Recall: 66.70%\n",
            "\n",
            "Accuracy: 80.00%\n",
            "F1: 88.90%\n",
            "Precision: 94.10%\n",
            "Recall: 84.20%\n",
            "\n",
            "Accuracy: 55.00%\n",
            "F1: 69.00%\n",
            "Precision: 76.90%\n",
            "Recall: 62.50%\n",
            "\n"
          ]
        }
      ]
    },
    {
      "cell_type": "markdown",
      "source": [
        "### Mean"
      ],
      "metadata": {
        "id": "xCSPHOr9Cmdw"
      },
      "id": "xCSPHOr9Cmdw"
    },
    {
      "cell_type": "code",
      "source": [
        "# AQ\n",
        "decision_tree_classifier(mean_x_train_aq_encoded, mean_x_test_aq_encoded, mean_y_train_aq_encoded, mean_y_test_aq_encoded)\n",
        "\n",
        "# BDI\n",
        "decision_tree_classifier(mean_x_train_bdi_encoded, mean_x_test_bdi_encoded, mean_y_train_bdi_encoded, mean_y_test_bdi_encoded)\n",
        "\n",
        "# WURS\n",
        "decision_tree_classifier(mean_x_train_wurs_encoded, mean_x_test_wurs_encoded, mean_y_train_wurs_encoded, mean_y_test_wurs_encoded)"
      ],
      "metadata": {
        "colab": {
          "base_uri": "https://localhost:8080/"
        },
        "outputId": "05a661c9-4e7f-40ac-f889-b4fc7b053a17",
        "id": "_yYmawupCmdw"
      },
      "execution_count": 114,
      "outputs": [
        {
          "output_type": "stream",
          "name": "stdout",
          "text": [
            "Accuracy: 45.00%\n",
            "F1: 42.10%\n",
            "Precision: 40.00%\n",
            "Recall: 44.40%\n",
            "\n",
            "Accuracy: 85.00%\n",
            "F1: 91.40%\n",
            "Precision: 100.00%\n",
            "Recall: 84.20%\n",
            "\n",
            "Accuracy: 85.00%\n",
            "F1: 90.30%\n",
            "Precision: 93.30%\n",
            "Recall: 87.50%\n",
            "\n"
          ]
        }
      ],
      "id": "_yYmawupCmdw"
    },
    {
      "cell_type": "markdown",
      "source": [
        "### Standard deviation"
      ],
      "metadata": {
        "id": "pN_dBS79Cmdw"
      },
      "id": "pN_dBS79Cmdw"
    },
    {
      "cell_type": "code",
      "source": [
        "# AQ\n",
        "decision_tree_classifier(std_x_train_aq_encoded, std_x_test_aq_encoded, std_y_train_aq_encoded, std_y_test_aq_encoded)\n",
        "\n",
        "# BDI\n",
        "decision_tree_classifier(std_x_train_bdi_encoded, std_x_test_bdi_encoded, std_y_train_bdi_encoded, std_y_test_bdi_encoded)\n",
        "\n",
        "# WURS\n",
        "decision_tree_classifier(std_x_train_wurs_encoded, std_x_test_wurs_encoded, std_y_train_wurs_encoded, std_y_test_wurs_encoded)"
      ],
      "metadata": {
        "colab": {
          "base_uri": "https://localhost:8080/"
        },
        "outputId": "adfdde25-8a34-4f9c-fb39-aebae6dd3dd5",
        "id": "Z1FQJga-Cmdw"
      },
      "execution_count": 115,
      "outputs": [
        {
          "output_type": "stream",
          "name": "stdout",
          "text": [
            "Accuracy: 60.00%\n",
            "F1: 50.00%\n",
            "Precision: 57.10%\n",
            "Recall: 44.40%\n",
            "\n",
            "Accuracy: 65.00%\n",
            "F1: 77.40%\n",
            "Precision: 100.00%\n",
            "Recall: 63.20%\n",
            "\n",
            "Accuracy: 65.00%\n",
            "F1: 75.90%\n",
            "Precision: 84.60%\n",
            "Recall: 68.80%\n",
            "\n"
          ]
        }
      ],
      "id": "Z1FQJga-Cmdw"
    },
    {
      "cell_type": "markdown",
      "source": [
        "### Median"
      ],
      "metadata": {
        "id": "mw8aYc5YCmdx"
      },
      "id": "mw8aYc5YCmdx"
    },
    {
      "cell_type": "code",
      "source": [
        "# AQ\n",
        "decision_tree_classifier(med_x_train_aq_encoded, med_x_test_aq_encoded, med_y_train_aq_encoded, med_y_test_aq_encoded)\n",
        "\n",
        "# BDI\n",
        "decision_tree_classifier(med_x_train_bdi_encoded, med_x_test_bdi_encoded, med_y_train_bdi_encoded, med_y_test_bdi_encoded)\n",
        "\n",
        "# WURS\n",
        "decision_tree_classifier(med_x_train_wurs_encoded, med_x_test_wurs_encoded, med_y_train_wurs_encoded, med_y_test_wurs_encoded)"
      ],
      "metadata": {
        "colab": {
          "base_uri": "https://localhost:8080/"
        },
        "id": "ONYGVOWyCmdx",
        "outputId": "fd7c9804-1abb-468b-cfad-790c59b05fb4"
      },
      "execution_count": 116,
      "outputs": [
        {
          "output_type": "stream",
          "name": "stdout",
          "text": [
            "Accuracy: 45.00%\n",
            "F1: 52.20%\n",
            "Precision: 42.90%\n",
            "Recall: 66.70%\n",
            "\n",
            "Accuracy: 85.00%\n",
            "F1: 91.40%\n",
            "Precision: 100.00%\n",
            "Recall: 84.20%\n",
            "\n",
            "Accuracy: 60.00%\n",
            "F1: 71.40%\n",
            "Precision: 83.30%\n",
            "Recall: 62.50%\n",
            "\n"
          ]
        }
      ],
      "id": "ONYGVOWyCmdx"
    },
    {
      "cell_type": "markdown",
      "source": [
        "### Pearsons CC"
      ],
      "metadata": {
        "id": "FLTtjknmCmdx"
      },
      "id": "FLTtjknmCmdx"
    },
    {
      "cell_type": "code",
      "source": [
        "# AQ\n",
        "decision_tree_classifier(xy_pearson_cc_x_train_aq_encoded, xy_pearson_cc_x_test_aq_encoded, xy_pearson_cc_y_train_aq_encoded, xy_pearson_cc_y_test_aq_encoded)\n",
        "\n",
        "# BDI\n",
        "decision_tree_classifier(xy_pearson_cc_x_train_bdi_encoded, xy_pearson_cc_x_test_bdi_encoded, xy_pearson_cc_y_train_bdi_encoded, xy_pearson_cc_y_test_bdi_encoded)\n",
        "\n",
        "# WURS\n",
        "decision_tree_classifier(xy_pearson_cc_x_train_wurs_encoded, xy_pearson_cc_x_test_wurs_encoded, xy_pearson_cc_y_train_wurs_encoded, xy_pearson_cc_y_test_wurs_encoded)"
      ],
      "metadata": {
        "colab": {
          "base_uri": "https://localhost:8080/"
        },
        "id": "wozyIYKSCmdx",
        "outputId": "2f6e6b6a-aa22-4121-f61a-845b3eb433f1"
      },
      "execution_count": 117,
      "outputs": [
        {
          "output_type": "stream",
          "name": "stdout",
          "text": [
            "Accuracy: 40.00%\n",
            "F1: 25.00%\n",
            "Precision: 28.60%\n",
            "Recall: 22.20%\n",
            "\n",
            "Accuracy: 55.00%\n",
            "F1: 71.00%\n",
            "Precision: 91.70%\n",
            "Recall: 57.90%\n",
            "\n",
            "Accuracy: 60.00%\n",
            "F1: 71.40%\n",
            "Precision: 83.30%\n",
            "Recall: 62.50%\n",
            "\n"
          ]
        }
      ],
      "id": "wozyIYKSCmdx"
    },
    {
      "cell_type": "markdown",
      "source": [
        "### Spearmans CC"
      ],
      "metadata": {
        "id": "2OlSQaZHCmdx"
      },
      "id": "2OlSQaZHCmdx"
    },
    {
      "cell_type": "code",
      "source": [
        "# AQ\n",
        "decision_tree_classifier(xy_spearman_cc_x_train_aq_encoded, xy_spearman_cc_x_test_aq_encoded, xy_spearman_cc_y_train_aq_encoded, xy_spearman_cc_y_test_aq_encoded)\n",
        "\n",
        "# BDI\n",
        "decision_tree_classifier(xy_spearman_cc_x_train_bdi_encoded, xy_spearman_cc_x_test_bdi_encoded, xy_spearman_cc_y_train_bdi_encoded, xy_spearman_cc_y_test_bdi_encoded)\n",
        "\n",
        "# WURS\n",
        "decision_tree_classifier(xy_spearman_cc_x_train_wurs_encoded, xy_spearman_cc_x_test_wurs_encoded, xy_spearman_cc_y_train_wurs_encoded, xy_spearman_cc_y_test_wurs_encoded)"
      ],
      "metadata": {
        "colab": {
          "base_uri": "https://localhost:8080/"
        },
        "id": "7IytaHlsCmdx",
        "outputId": "1803a190-9d22-43ec-e940-727cedcc85ae"
      },
      "execution_count": 118,
      "outputs": [
        {
          "output_type": "stream",
          "name": "stdout",
          "text": [
            "Accuracy: 65.00%\n",
            "F1: 63.20%\n",
            "Precision: 60.00%\n",
            "Recall: 66.70%\n",
            "\n",
            "Accuracy: 60.00%\n",
            "F1: 75.00%\n",
            "Precision: 92.30%\n",
            "Recall: 63.20%\n",
            "\n",
            "Accuracy: 40.00%\n",
            "F1: 53.80%\n",
            "Precision: 70.00%\n",
            "Recall: 43.80%\n",
            "\n"
          ]
        }
      ],
      "id": "7IytaHlsCmdx"
    },
    {
      "cell_type": "markdown",
      "source": [
        "### Range"
      ],
      "metadata": {
        "id": "6eNzlD0aCmdx"
      },
      "id": "6eNzlD0aCmdx"
    },
    {
      "cell_type": "code",
      "source": [
        "# AQ\n",
        "decision_tree_classifier(xy_range_x_train_aq_encoded, xy_range_x_test_aq_encoded, xy_range_y_train_aq_encoded, xy_range_y_test_aq_encoded)\n",
        "\n",
        "# BDI\n",
        "decision_tree_classifier(xy_range_x_train_bdi_encoded, xy_range_x_test_bdi_encoded, xy_range_y_train_bdi_encoded, xy_range_y_test_bdi_encoded)\n",
        "\n",
        "# WURS\n",
        "decision_tree_classifier(xy_range_x_train_wurs_encoded, xy_range_x_test_wurs_encoded, xy_range_y_train_wurs_encoded, xy_range_y_test_wurs_encoded)"
      ],
      "metadata": {
        "colab": {
          "base_uri": "https://localhost:8080/"
        },
        "id": "Vh3zblkpCmdy",
        "outputId": "44755804-dbb0-40e2-f9ae-e32300ef25cd"
      },
      "execution_count": 119,
      "outputs": [
        {
          "output_type": "stream",
          "name": "stdout",
          "text": [
            "Accuracy: 40.00%\n",
            "F1: 25.00%\n",
            "Precision: 28.60%\n",
            "Recall: 22.20%\n",
            "\n",
            "Accuracy: 70.00%\n",
            "F1: 82.40%\n",
            "Precision: 93.30%\n",
            "Recall: 73.70%\n",
            "\n",
            "Accuracy: 65.00%\n",
            "F1: 77.40%\n",
            "Precision: 80.00%\n",
            "Recall: 75.00%\n",
            "\n"
          ]
        }
      ],
      "id": "Vh3zblkpCmdy"
    },
    {
      "cell_type": "markdown",
      "source": [
        "### Unique values"
      ],
      "metadata": {
        "id": "dYnwdok6Cmdy"
      },
      "id": "dYnwdok6Cmdy"
    },
    {
      "cell_type": "code",
      "source": [
        "# AQ\n",
        "decision_tree_classifier(xy_unique_x_train_aq_encoded, xy_unique_x_test_aq_encoded, xy_unique_y_train_aq_encoded, xy_unique_y_test_aq_encoded)\n",
        "\n",
        "# BDI\n",
        "decision_tree_classifier(xy_unique_x_train_bdi_encoded, xy_unique_x_test_bdi_encoded, xy_unique_y_train_bdi_encoded, xy_unique_y_test_bdi_encoded)\n",
        "\n",
        "# WURS\n",
        "decision_tree_classifier(xy_unique_x_train_wurs_encoded, xy_unique_x_test_wurs_encoded, xy_unique_y_train_wurs_encoded, xy_unique_y_test_wurs_encoded)"
      ],
      "metadata": {
        "colab": {
          "base_uri": "https://localhost:8080/"
        },
        "id": "d__Epd6CCmdy",
        "outputId": "e1cccd1d-4960-41f2-932b-508d987c47c7"
      },
      "execution_count": 120,
      "outputs": [
        {
          "output_type": "stream",
          "name": "stdout",
          "text": [
            "Accuracy: 40.00%\n",
            "F1: 33.30%\n",
            "Precision: 33.30%\n",
            "Recall: 33.30%\n",
            "\n",
            "Accuracy: 95.00%\n",
            "F1: 97.30%\n",
            "Precision: 100.00%\n",
            "Recall: 94.70%\n",
            "\n",
            "Accuracy: 60.00%\n",
            "F1: 73.30%\n",
            "Precision: 78.60%\n",
            "Recall: 68.80%\n",
            "\n"
          ]
        }
      ],
      "id": "d__Epd6CCmdy"
    },
    {
      "cell_type": "markdown",
      "metadata": {
        "hidden": true,
        "id": "5CdAlIt-FA76"
      },
      "source": [
        "## **Random Forest**"
      ],
      "id": "5CdAlIt-FA76"
    },
    {
      "cell_type": "code",
      "execution_count": 121,
      "metadata": {
        "hidden": true,
        "id": "fgvoq68IFA76"
      },
      "outputs": [],
      "source": [
        "from sklearn.ensemble import RandomForestClassifier"
      ],
      "id": "fgvoq68IFA76"
    },
    {
      "cell_type": "code",
      "execution_count": 122,
      "metadata": {
        "hidden": true,
        "id": "nug4cYUdFA77"
      },
      "outputs": [],
      "source": [
        "# Random forest classifier with train-test split\n",
        "\n",
        "def random_forest_classifier(x_train, x_test, y_train, y_test):\n",
        "    \n",
        "    # Create random forest object and fit classifier\n",
        "    rf_clf = RandomForestClassifier(n_estimators=100, random_state=42).fit(x_train, y_train)\n",
        "\n",
        "    # Make predictions\n",
        "    y_pred = rf_clf.predict(x_test)\n",
        "\n",
        "    # Evaluate model\n",
        "    accuracy = round(accuracy_score(y_test, y_pred), 3)\n",
        "    f1 = round(f1_score(y_test, y_pred, average='macro'), 3)\n",
        "    precision = round(precision_score(y_test, y_pred, average='macro'), 3)\n",
        "    recall = round(recall_score(y_test, y_pred, average='macro'), 3)\n",
        "\n",
        "    print(f'Accuracy: {accuracy * 100.0:.2f}%')\n",
        "    print(f'F1: {f1 * 100.0:.2f}%')\n",
        "    print(f'Precision: {precision * 100.0:.2f}%')\n",
        "    print(f'Recall: {recall * 100.0:.2f}%')\n",
        "    print()"
      ],
      "id": "nug4cYUdFA77"
    },
    {
      "cell_type": "markdown",
      "source": [
        "### Least viewed x, y coordinate pairs"
      ],
      "metadata": {
        "id": "nesPqddcCjw9"
      },
      "id": "nesPqddcCjw9"
    },
    {
      "cell_type": "code",
      "source": [
        "# AQ\n",
        "random_forest_classifier(lv_x_train_aq_encoded, lv_x_test_aq_encoded, lv_y_train_aq_encoded, lv_y_test_aq_encoded)\n",
        "\n",
        "# BDI\n",
        "random_forest_classifier(lv_x_train_bdi_encoded, lv_x_test_bdi_encoded, lv_y_train_bdi_encoded, lv_y_test_bdi_encoded)\n",
        "\n",
        "# WURS\n",
        "random_forest_classifier(lv_x_train_wurs_encoded, lv_x_test_wurs_encoded, lv_y_train_wurs_encoded, lv_y_test_wurs_encoded)"
      ],
      "metadata": {
        "colab": {
          "base_uri": "https://localhost:8080/"
        },
        "outputId": "234e196f-ae5d-4d9f-9482-c46abd4a6392",
        "id": "Fvrcauf6Cjw9"
      },
      "execution_count": 123,
      "outputs": [
        {
          "output_type": "stream",
          "name": "stdout",
          "text": [
            "Accuracy: 35.00%\n",
            "F1: 33.50%\n",
            "Precision: 33.30%\n",
            "Recall: 33.80%\n",
            "\n",
            "Accuracy: 95.00%\n",
            "F1: 48.70%\n",
            "Precision: 47.50%\n",
            "Recall: 50.00%\n",
            "\n",
            "Accuracy: 65.00%\n",
            "F1: 56.10%\n",
            "Precision: 56.60%\n",
            "Recall: 59.40%\n",
            "\n"
          ]
        }
      ],
      "id": "Fvrcauf6Cjw9"
    },
    {
      "cell_type": "markdown",
      "source": [
        "### Most viewed x, y coordinate pairs"
      ],
      "metadata": {
        "id": "2OMiXumeCjw-"
      },
      "id": "2OMiXumeCjw-"
    },
    {
      "cell_type": "code",
      "source": [
        "# AQ\n",
        "random_forest_classifier(mv_x_train_aq_encoded, mv_x_test_aq_encoded, mv_y_train_aq_encoded, mv_y_test_aq_encoded)\n",
        "\n",
        "# BDI\n",
        "random_forest_classifier(mv_x_train_bdi_encoded, mv_x_test_bdi_encoded, mv_y_train_bdi_encoded, mv_y_test_bdi_encoded)\n",
        "\n",
        "# WURS\n",
        "random_forest_classifier(mv_x_train_wurs_encoded, mv_x_test_wurs_encoded, mv_y_train_wurs_encoded, mv_y_test_wurs_encoded)"
      ],
      "metadata": {
        "colab": {
          "base_uri": "https://localhost:8080/"
        },
        "outputId": "e0d98dfa-200e-498a-f4a1-588d16f46bf7",
        "id": "qRtANz6ACjw-"
      },
      "execution_count": 124,
      "outputs": [
        {
          "output_type": "stream",
          "name": "stdout",
          "text": [
            "Accuracy: 40.00%\n",
            "F1: 37.50%\n",
            "Precision: 37.40%\n",
            "Recall: 38.40%\n",
            "\n",
            "Accuracy: 90.00%\n",
            "F1: 47.40%\n",
            "Precision: 47.40%\n",
            "Recall: 47.40%\n",
            "\n",
            "Accuracy: 50.00%\n",
            "F1: 40.50%\n",
            "Precision: 43.80%\n",
            "Recall: 40.60%\n",
            "\n"
          ]
        }
      ],
      "id": "qRtANz6ACjw-"
    },
    {
      "cell_type": "markdown",
      "source": [
        "### Neighborhood surrounding most viewed x, y coordinate pairs"
      ],
      "metadata": {
        "id": "iQ1HUqo1Cjw-"
      },
      "id": "iQ1HUqo1Cjw-"
    },
    {
      "cell_type": "code",
      "source": [
        "# AQ\n",
        "# random_forest_classifier(range_x_train_aq_encoded, range_x_test_aq_encoded, range_y_train_aq_encoded, range_y_test_aq_encoded)\n",
        "\n",
        "# BDI\n",
        "# random_forest_classifier(range_x_train_bdi_encoded, range_x_test_bdi_encoded, range_y_train_bdi_encoded, range_y_test_bdi_encoded)\n",
        "\n",
        "# WURS\n",
        "# random_forest_classifier(range_x_train_wurs_encoded, range_x_test_wurs_encoded, range_y_train_wurs_encoded, range_y_test_wurs_encoded)"
      ],
      "metadata": {
        "id": "AfplNuy5Cjw-"
      },
      "execution_count": 125,
      "outputs": [],
      "id": "AfplNuy5Cjw-"
    },
    {
      "cell_type": "markdown",
      "source": [
        "### Euclidean Distance"
      ],
      "metadata": {
        "id": "EI_-cJJeNFsR"
      },
      "id": "EI_-cJJeNFsR"
    },
    {
      "cell_type": "code",
      "source": [
        "# AQ\n",
        "random_forest_classifier(ed_x_train_aq_encoded, ed_x_test_aq_encoded, ed_y_train_aq_encoded, ed_y_test_aq_encoded)\n",
        "\n",
        "# BDI\n",
        "random_forest_classifier(ed_x_train_bdi_encoded, ed_x_test_bdi_encoded, ed_y_train_bdi_encoded, ed_y_test_bdi_encoded)\n",
        "\n",
        "# WURS\n",
        "random_forest_classifier(ed_x_train_wurs_encoded, ed_x_test_wurs_encoded, ed_y_train_wurs_encoded, ed_y_test_wurs_encoded)"
      ],
      "metadata": {
        "colab": {
          "base_uri": "https://localhost:8080/"
        },
        "outputId": "e807003c-aee5-4299-d128-471e0209164d",
        "id": "TPz6R_r7NFsS"
      },
      "execution_count": 126,
      "outputs": [
        {
          "output_type": "stream",
          "name": "stdout",
          "text": [
            "Accuracy: 60.00%\n",
            "F1: 60.00%\n",
            "Precision: 60.60%\n",
            "Recall: 60.60%\n",
            "\n",
            "Accuracy: 80.00%\n",
            "F1: 44.40%\n",
            "Precision: 47.10%\n",
            "Recall: 42.10%\n",
            "\n",
            "Accuracy: 55.00%\n",
            "F1: 43.60%\n",
            "Precision: 45.60%\n",
            "Recall: 43.80%\n",
            "\n"
          ]
        }
      ],
      "id": "TPz6R_r7NFsS"
    },
    {
      "cell_type": "markdown",
      "source": [
        "### Mean"
      ],
      "metadata": {
        "id": "tBc93VglCjw-"
      },
      "id": "tBc93VglCjw-"
    },
    {
      "cell_type": "code",
      "source": [
        "# AQ\n",
        "random_forest_classifier(mean_x_train_aq_encoded, mean_x_test_aq_encoded, mean_y_train_aq_encoded, mean_y_test_aq_encoded)\n",
        "\n",
        "# BDI\n",
        "random_forest_classifier(mean_x_train_bdi_encoded, mean_x_test_bdi_encoded, mean_y_train_bdi_encoded, mean_y_test_bdi_encoded)\n",
        "\n",
        "# WURS\n",
        "random_forest_classifier(mean_x_train_wurs_encoded, mean_x_test_wurs_encoded, mean_y_train_wurs_encoded, mean_y_test_wurs_encoded)"
      ],
      "metadata": {
        "colab": {
          "base_uri": "https://localhost:8080/"
        },
        "outputId": "36e52be9-1db0-45b2-8140-212282f152d5",
        "id": "f1yt0R8QCjw-"
      },
      "execution_count": 127,
      "outputs": [
        {
          "output_type": "stream",
          "name": "stdout",
          "text": [
            "Accuracy: 35.00%\n",
            "F1: 34.80%\n",
            "Precision: 35.00%\n",
            "Recall: 34.80%\n",
            "\n",
            "Accuracy: 90.00%\n",
            "F1: 47.40%\n",
            "Precision: 47.40%\n",
            "Recall: 47.40%\n",
            "\n",
            "Accuracy: 75.00%\n",
            "F1: 56.70%\n",
            "Precision: 57.80%\n",
            "Recall: 56.20%\n",
            "\n"
          ]
        }
      ],
      "id": "f1yt0R8QCjw-"
    },
    {
      "cell_type": "markdown",
      "source": [
        "### Standard deviation"
      ],
      "metadata": {
        "id": "uoG5nADxCjw-"
      },
      "id": "uoG5nADxCjw-"
    },
    {
      "cell_type": "code",
      "source": [
        "# AQ\n",
        "random_forest_classifier(std_x_train_aq_encoded, std_x_test_aq_encoded, std_y_train_aq_encoded, std_y_test_aq_encoded)\n",
        "\n",
        "# BDI\n",
        "random_forest_classifier(std_x_train_bdi_encoded, std_x_test_bdi_encoded, std_y_train_bdi_encoded, std_y_test_bdi_encoded)\n",
        "\n",
        "# WURS\n",
        "random_forest_classifier(std_x_train_wurs_encoded, std_x_test_wurs_encoded, std_y_train_wurs_encoded, std_y_test_wurs_encoded)"
      ],
      "metadata": {
        "colab": {
          "base_uri": "https://localhost:8080/"
        },
        "outputId": "fca94be1-a8b9-4a98-cf1f-dbdfb07ce723",
        "id": "z930D1bLCjw_"
      },
      "execution_count": 128,
      "outputs": [
        {
          "output_type": "stream",
          "name": "stdout",
          "text": [
            "Accuracy: 60.00%\n",
            "F1: 59.60%\n",
            "Precision: 59.60%\n",
            "Recall: 59.60%\n",
            "\n",
            "Accuracy: 65.00%\n",
            "F1: 49.80%\n",
            "Precision: 56.20%\n",
            "Recall: 81.60%\n",
            "\n",
            "Accuracy: 60.00%\n",
            "F1: 37.50%\n",
            "Precision: 37.50%\n",
            "Recall: 37.50%\n",
            "\n"
          ]
        }
      ],
      "id": "z930D1bLCjw_"
    },
    {
      "cell_type": "markdown",
      "source": [
        "### Median"
      ],
      "metadata": {
        "id": "MfssOvlNCjw_"
      },
      "id": "MfssOvlNCjw_"
    },
    {
      "cell_type": "code",
      "source": [
        "# AQ\n",
        "random_forest_classifier(med_x_train_aq_encoded, med_x_test_aq_encoded, med_y_train_aq_encoded, med_y_test_aq_encoded)\n",
        "\n",
        "# BDI\n",
        "random_forest_classifier(med_x_train_bdi_encoded, med_x_test_bdi_encoded, med_y_train_bdi_encoded, med_y_test_bdi_encoded)\n",
        "\n",
        "# WURS\n",
        "random_forest_classifier(med_x_train_wurs_encoded, med_x_test_wurs_encoded, med_y_train_wurs_encoded, med_y_test_wurs_encoded)"
      ],
      "metadata": {
        "colab": {
          "base_uri": "https://localhost:8080/"
        },
        "id": "EJZ4EW7dCjw_",
        "outputId": "aec89697-97f8-4615-f49a-044b59221fbe"
      },
      "execution_count": 129,
      "outputs": [
        {
          "output_type": "stream",
          "name": "stdout",
          "text": [
            "Accuracy: 55.00%\n",
            "F1: 54.90%\n",
            "Precision: 56.20%\n",
            "Recall: 56.10%\n",
            "\n",
            "Accuracy: 85.00%\n",
            "F1: 45.90%\n",
            "Precision: 47.20%\n",
            "Recall: 44.70%\n",
            "\n",
            "Accuracy: 55.00%\n",
            "F1: 52.00%\n",
            "Precision: 58.10%\n",
            "Recall: 62.50%\n",
            "\n"
          ]
        }
      ],
      "id": "EJZ4EW7dCjw_"
    },
    {
      "cell_type": "markdown",
      "source": [
        "### Pearsons CC"
      ],
      "metadata": {
        "id": "RtbH06BbCjw_"
      },
      "id": "RtbH06BbCjw_"
    },
    {
      "cell_type": "code",
      "source": [
        "# AQ\n",
        "random_forest_classifier(xy_pearson_cc_x_train_aq_encoded, xy_pearson_cc_x_test_aq_encoded, xy_pearson_cc_y_train_aq_encoded, xy_pearson_cc_y_test_aq_encoded)\n",
        "\n",
        "# BDI\n",
        "random_forest_classifier(xy_pearson_cc_x_train_bdi_encoded, xy_pearson_cc_x_test_bdi_encoded, xy_pearson_cc_y_train_bdi_encoded, xy_pearson_cc_y_test_bdi_encoded)\n",
        "\n",
        "# WURS\n",
        "random_forest_classifier(xy_pearson_cc_x_train_wurs_encoded, xy_pearson_cc_x_test_wurs_encoded, xy_pearson_cc_y_train_wurs_encoded, xy_pearson_cc_y_test_wurs_encoded)"
      ],
      "metadata": {
        "colab": {
          "base_uri": "https://localhost:8080/"
        },
        "id": "cxmQZ36uCjw_",
        "outputId": "6a108166-479d-41c9-f14e-1c33537634aa"
      },
      "execution_count": 130,
      "outputs": [
        {
          "output_type": "stream",
          "name": "stdout",
          "text": [
            "Accuracy: 40.00%\n",
            "F1: 37.50%\n",
            "Precision: 37.40%\n",
            "Recall: 38.40%\n",
            "\n",
            "Accuracy: 55.00%\n",
            "F1: 35.50%\n",
            "Precision: 45.80%\n",
            "Recall: 28.90%\n",
            "\n",
            "Accuracy: 60.00%\n",
            "F1: 52.40%\n",
            "Precision: 54.20%\n",
            "Recall: 56.20%\n",
            "\n"
          ]
        }
      ],
      "id": "cxmQZ36uCjw_"
    },
    {
      "cell_type": "markdown",
      "source": [
        "### Spearmans CC"
      ],
      "metadata": {
        "id": "BWF5BzLhCjw_"
      },
      "id": "BWF5BzLhCjw_"
    },
    {
      "cell_type": "code",
      "source": [
        "# AQ\n",
        "random_forest_classifier(xy_spearman_cc_x_train_aq_encoded, xy_spearman_cc_x_test_aq_encoded, xy_spearman_cc_y_train_aq_encoded, xy_spearman_cc_y_test_aq_encoded)\n",
        "\n",
        "# BDI\n",
        "random_forest_classifier(xy_spearman_cc_x_train_bdi_encoded, xy_spearman_cc_x_test_bdi_encoded, xy_spearman_cc_y_train_bdi_encoded, xy_spearman_cc_y_test_bdi_encoded)\n",
        "\n",
        "# WURS\n",
        "random_forest_classifier(xy_spearman_cc_x_train_wurs_encoded, xy_spearman_cc_x_test_wurs_encoded, xy_spearman_cc_y_train_wurs_encoded, xy_spearman_cc_y_test_wurs_encoded)"
      ],
      "metadata": {
        "colab": {
          "base_uri": "https://localhost:8080/"
        },
        "id": "9w4W0spyCjw_",
        "outputId": "80844117-d9bd-4e00-e6a8-431c1844d58e"
      },
      "execution_count": 131,
      "outputs": [
        {
          "output_type": "stream",
          "name": "stdout",
          "text": [
            "Accuracy: 65.00%\n",
            "F1: 64.90%\n",
            "Precision: 65.00%\n",
            "Recall: 65.20%\n",
            "\n",
            "Accuracy: 60.00%\n",
            "F1: 37.50%\n",
            "Precision: 46.20%\n",
            "Recall: 31.60%\n",
            "\n",
            "Accuracy: 40.00%\n",
            "F1: 34.10%\n",
            "Precision: 40.00%\n",
            "Recall: 34.40%\n",
            "\n"
          ]
        }
      ],
      "id": "9w4W0spyCjw_"
    },
    {
      "cell_type": "markdown",
      "source": [
        "### Range"
      ],
      "metadata": {
        "id": "1pcR0s49Cjw_"
      },
      "id": "1pcR0s49Cjw_"
    },
    {
      "cell_type": "code",
      "source": [
        "# AQ\n",
        "random_forest_classifier(xy_range_x_train_aq_encoded, xy_range_x_test_aq_encoded, xy_range_y_train_aq_encoded, xy_range_y_test_aq_encoded)\n",
        "\n",
        "# BDI\n",
        "random_forest_classifier(xy_range_x_train_bdi_encoded, xy_range_x_test_bdi_encoded, xy_range_y_train_bdi_encoded, xy_range_y_test_bdi_encoded)\n",
        "\n",
        "# WURS\n",
        "random_forest_classifier(xy_range_x_train_wurs_encoded, xy_range_x_test_wurs_encoded, xy_range_y_train_wurs_encoded, xy_range_y_test_wurs_encoded)"
      ],
      "metadata": {
        "colab": {
          "base_uri": "https://localhost:8080/"
        },
        "id": "sC5x41M7Cjw_",
        "outputId": "89152b06-0ee8-47fd-dc2d-3d23c1479c82"
      },
      "execution_count": 132,
      "outputs": [
        {
          "output_type": "stream",
          "name": "stdout",
          "text": [
            "Accuracy: 55.00%\n",
            "F1: 54.90%\n",
            "Precision: 55.00%\n",
            "Recall: 55.10%\n",
            "\n",
            "Accuracy: 90.00%\n",
            "F1: 47.40%\n",
            "Precision: 47.40%\n",
            "Recall: 47.40%\n",
            "\n",
            "Accuracy: 60.00%\n",
            "F1: 46.70%\n",
            "Precision: 47.60%\n",
            "Recall: 46.90%\n",
            "\n"
          ]
        }
      ],
      "id": "sC5x41M7Cjw_"
    },
    {
      "cell_type": "markdown",
      "source": [
        "### Unique values"
      ],
      "metadata": {
        "id": "nleHxn4FCjxA"
      },
      "id": "nleHxn4FCjxA"
    },
    {
      "cell_type": "code",
      "source": [
        "# AQ\n",
        "random_forest_classifier(xy_unique_x_train_aq_encoded, xy_unique_x_test_aq_encoded, xy_unique_y_train_aq_encoded, xy_unique_y_test_aq_encoded)\n",
        "\n",
        "# BDI\n",
        "random_forest_classifier(xy_unique_x_train_bdi_encoded, xy_unique_x_test_bdi_encoded, xy_unique_y_train_bdi_encoded, xy_unique_y_test_bdi_encoded)\n",
        "\n",
        "# WURS\n",
        "random_forest_classifier(xy_unique_x_train_wurs_encoded, xy_unique_x_test_wurs_encoded, xy_unique_y_train_wurs_encoded, xy_unique_y_test_wurs_encoded)"
      ],
      "metadata": {
        "colab": {
          "base_uri": "https://localhost:8080/"
        },
        "id": "HRbD2BijCjxA",
        "outputId": "4a1c153b-eac1-41cc-96bc-cf2f69e9977a"
      },
      "execution_count": 133,
      "outputs": [
        {
          "output_type": "stream",
          "name": "stdout",
          "text": [
            "Accuracy: 55.00%\n",
            "F1: 52.00%\n",
            "Precision: 53.60%\n",
            "Recall: 53.00%\n",
            "\n",
            "Accuracy: 95.00%\n",
            "F1: 48.70%\n",
            "Precision: 47.50%\n",
            "Recall: 50.00%\n",
            "\n",
            "Accuracy: 70.00%\n",
            "F1: 53.10%\n",
            "Precision: 53.10%\n",
            "Recall: 53.10%\n",
            "\n"
          ]
        }
      ],
      "id": "HRbD2BijCjxA"
    },
    {
      "cell_type": "markdown",
      "metadata": {
        "id": "n2KeMeukyfiR"
      },
      "source": [
        "## **SVM**"
      ],
      "id": "n2KeMeukyfiR"
    },
    {
      "cell_type": "code",
      "execution_count": 134,
      "metadata": {
        "id": "FhnA9x5dywik"
      },
      "outputs": [],
      "source": [
        "from sklearn import svm"
      ],
      "id": "FhnA9x5dywik"
    },
    {
      "cell_type": "code",
      "execution_count": 135,
      "metadata": {
        "id": "_lx9P_6pywk3"
      },
      "outputs": [],
      "source": [
        "# SVM classifier with train-test split\n",
        "\n",
        "def svm_classifier(x_train, x_test, y_train, y_test):\n",
        "    \n",
        "    # Create support vector machine object and fit classifier\n",
        "    svm_clf = svm.SVC(random_state=42).fit(x_train, y_train)\n",
        "\n",
        "    # Make predictions\n",
        "    y_pred = svm_clf.predict(x_test)\n",
        "\n",
        "    # Evaluate model\n",
        "    accuracy = round(accuracy_score(y_test, y_pred), 3)\n",
        "    f1 = round(f1_score(y_test, y_pred, average='macro'), 3)\n",
        "    precision = round(precision_score(y_test, y_pred, average='macro'), 3)\n",
        "    recall = round(recall_score(y_test, y_pred, average='macro'), 3)\n",
        "\n",
        "    print(f'Accuracy: {accuracy * 100.0:.2f}%')\n",
        "    print(f'F1: {f1 * 100.0:.2f}%')\n",
        "    print(f'Precision: {precision * 100.0:.2f}%')\n",
        "    print(f'Recall: {recall * 100.0:.2f}%')\n",
        "    print()"
      ],
      "id": "_lx9P_6pywk3"
    },
    {
      "cell_type": "markdown",
      "source": [
        "### Least viewed x, y coordinate pairs"
      ],
      "metadata": {
        "id": "ZE4AfJ7kCof1"
      },
      "id": "ZE4AfJ7kCof1"
    },
    {
      "cell_type": "code",
      "source": [
        "# AQ\n",
        "svm_classifier(lv_x_train_aq_encoded, lv_x_test_aq_encoded, lv_y_train_aq_encoded, lv_y_test_aq_encoded)\n",
        "\n",
        "# BDI\n",
        "svm_classifier(lv_x_train_bdi_encoded, lv_x_test_bdi_encoded, lv_y_train_bdi_encoded, lv_y_test_bdi_encoded)\n",
        "\n",
        "# WURS\n",
        "svm_classifier(lv_x_train_wurs_encoded, lv_x_test_wurs_encoded, lv_y_train_wurs_encoded, lv_y_test_wurs_encoded)"
      ],
      "metadata": {
        "colab": {
          "base_uri": "https://localhost:8080/"
        },
        "outputId": "02972ab0-167f-4469-d6a8-0a4b22d26e2f",
        "id": "YEMkwdrhCof1"
      },
      "execution_count": 136,
      "outputs": [
        {
          "output_type": "stream",
          "name": "stdout",
          "text": [
            "Accuracy: 55.00%\n",
            "F1: 35.50%\n",
            "Precision: 27.50%\n",
            "Recall: 50.00%\n",
            "\n",
            "Accuracy: 95.00%\n",
            "F1: 48.70%\n",
            "Precision: 47.50%\n",
            "Recall: 50.00%\n",
            "\n",
            "Accuracy: 80.00%\n",
            "F1: 44.40%\n",
            "Precision: 40.00%\n",
            "Recall: 50.00%\n",
            "\n"
          ]
        }
      ],
      "id": "YEMkwdrhCof1"
    },
    {
      "cell_type": "markdown",
      "source": [
        "### Most viewed x, y coordinate pairs"
      ],
      "metadata": {
        "id": "25IW5sZxCof1"
      },
      "id": "25IW5sZxCof1"
    },
    {
      "cell_type": "code",
      "source": [
        "# AQ\n",
        "svm_classifier(mv_x_train_aq_encoded, mv_x_test_aq_encoded, mv_y_train_aq_encoded, mv_y_test_aq_encoded)\n",
        "\n",
        "# BDI\n",
        "svm_classifier(mv_x_train_bdi_encoded, mv_x_test_bdi_encoded, mv_y_train_bdi_encoded, mv_y_test_bdi_encoded)\n",
        "\n",
        "# WURS\n",
        "svm_classifier(mv_x_train_wurs_encoded, mv_x_test_wurs_encoded, mv_y_train_wurs_encoded, mv_y_test_wurs_encoded)"
      ],
      "metadata": {
        "colab": {
          "base_uri": "https://localhost:8080/"
        },
        "outputId": "148915c6-a3d3-4382-c7cc-ef616105fc38",
        "id": "eAgEFDMSCof2"
      },
      "execution_count": 137,
      "outputs": [
        {
          "output_type": "stream",
          "name": "stdout",
          "text": [
            "Accuracy: 60.00%\n",
            "F1: 52.40%\n",
            "Precision: 62.70%\n",
            "Recall: 56.60%\n",
            "\n",
            "Accuracy: 95.00%\n",
            "F1: 48.70%\n",
            "Precision: 47.50%\n",
            "Recall: 50.00%\n",
            "\n",
            "Accuracy: 80.00%\n",
            "F1: 44.40%\n",
            "Precision: 40.00%\n",
            "Recall: 50.00%\n",
            "\n"
          ]
        }
      ],
      "id": "eAgEFDMSCof2"
    },
    {
      "cell_type": "markdown",
      "source": [
        "### Neighborhood surrounding most viewed x, y coordinate pairs"
      ],
      "metadata": {
        "id": "GpjMZv1uCof2"
      },
      "id": "GpjMZv1uCof2"
    },
    {
      "cell_type": "code",
      "source": [
        "# AQ\n",
        "# svm_classifier(range_x_train_aq_encoded, range_x_test_aq_encoded, range_y_train_aq_encoded, range_y_test_aq_encoded)\n",
        "\n",
        "# BDI\n",
        "# svm_classifier(range_x_train_bdi_encoded, range_x_test_bdi_encoded, range_y_train_bdi_encoded, range_y_test_bdi_encoded)\n",
        "\n",
        "# WURS\n",
        "# svm_classifier(range_x_train_wurs_encoded, range_x_test_wurs_encoded, range_y_train_wurs_encoded, range_y_test_wurs_encoded)"
      ],
      "metadata": {
        "id": "te9UEjVDCof2"
      },
      "execution_count": 138,
      "outputs": [],
      "id": "te9UEjVDCof2"
    },
    {
      "cell_type": "markdown",
      "source": [
        "### Euclidean Distance"
      ],
      "metadata": {
        "id": "VDhz9HrPNLYD"
      },
      "id": "VDhz9HrPNLYD"
    },
    {
      "cell_type": "code",
      "source": [
        "# AQ\n",
        "svm_classifier(ed_x_train_aq_encoded, ed_x_test_aq_encoded, ed_y_train_aq_encoded, ed_y_test_aq_encoded)\n",
        "\n",
        "# BDI\n",
        "svm_classifier(ed_x_train_bdi_encoded, ed_x_test_bdi_encoded, ed_y_train_bdi_encoded, ed_y_test_bdi_encoded)\n",
        "\n",
        "# WURS\n",
        "svm_classifier(ed_x_train_wurs_encoded, ed_x_test_wurs_encoded, ed_y_train_wurs_encoded, ed_y_test_wurs_encoded)"
      ],
      "metadata": {
        "colab": {
          "base_uri": "https://localhost:8080/"
        },
        "id": "5nc3FAMaNNW7",
        "outputId": "0dbb1794-b650-42da-b9ff-db1da00442ce"
      },
      "id": "5nc3FAMaNNW7",
      "execution_count": 139,
      "outputs": [
        {
          "output_type": "stream",
          "name": "stdout",
          "text": [
            "Accuracy: 55.00%\n",
            "F1: 35.50%\n",
            "Precision: 27.50%\n",
            "Recall: 50.00%\n",
            "\n",
            "Accuracy: 95.00%\n",
            "F1: 48.70%\n",
            "Precision: 47.50%\n",
            "Recall: 50.00%\n",
            "\n",
            "Accuracy: 80.00%\n",
            "F1: 44.40%\n",
            "Precision: 40.00%\n",
            "Recall: 50.00%\n",
            "\n"
          ]
        }
      ]
    },
    {
      "cell_type": "markdown",
      "source": [
        "### Mean"
      ],
      "metadata": {
        "id": "WkMnCGoTCof2"
      },
      "id": "WkMnCGoTCof2"
    },
    {
      "cell_type": "code",
      "source": [
        "# AQ\n",
        "svm_classifier(mean_x_train_aq_encoded, mean_x_test_aq_encoded, mean_y_train_aq_encoded, mean_y_test_aq_encoded)\n",
        "\n",
        "# BDI\n",
        "svm_classifier(mean_x_train_bdi_encoded, mean_x_test_bdi_encoded, mean_y_train_bdi_encoded, mean_y_test_bdi_encoded)\n",
        "\n",
        "# WURS\n",
        "svm_classifier(mean_x_train_wurs_encoded, mean_x_test_wurs_encoded, mean_y_train_wurs_encoded, mean_y_test_wurs_encoded)"
      ],
      "metadata": {
        "colab": {
          "base_uri": "https://localhost:8080/"
        },
        "outputId": "8d700d99-0a88-4efd-8811-a6ecc79dfcb0",
        "id": "xwc3ptakCof2"
      },
      "execution_count": 140,
      "outputs": [
        {
          "output_type": "stream",
          "name": "stdout",
          "text": [
            "Accuracy: 55.00%\n",
            "F1: 35.50%\n",
            "Precision: 27.50%\n",
            "Recall: 50.00%\n",
            "\n",
            "Accuracy: 95.00%\n",
            "F1: 48.70%\n",
            "Precision: 47.50%\n",
            "Recall: 50.00%\n",
            "\n",
            "Accuracy: 80.00%\n",
            "F1: 44.40%\n",
            "Precision: 40.00%\n",
            "Recall: 50.00%\n",
            "\n"
          ]
        }
      ],
      "id": "xwc3ptakCof2"
    },
    {
      "cell_type": "markdown",
      "source": [
        "### Standard deviation"
      ],
      "metadata": {
        "id": "D1IJeyqpCof2"
      },
      "id": "D1IJeyqpCof2"
    },
    {
      "cell_type": "code",
      "source": [
        "# AQ\n",
        "svm_classifier(std_x_train_aq_encoded, std_x_test_aq_encoded, std_y_train_aq_encoded, std_y_test_aq_encoded)\n",
        "\n",
        "# BDI\n",
        "svm_classifier(std_x_train_bdi_encoded, std_x_test_bdi_encoded, std_y_train_bdi_encoded, std_y_test_bdi_encoded)\n",
        "\n",
        "# WURS\n",
        "svm_classifier(std_x_train_wurs_encoded, std_x_test_wurs_encoded, std_y_train_wurs_encoded, std_y_test_wurs_encoded)"
      ],
      "metadata": {
        "colab": {
          "base_uri": "https://localhost:8080/"
        },
        "outputId": "e609053e-6857-4ed7-b180-33e5726f0568",
        "id": "t5LVCz1SCof2"
      },
      "execution_count": 141,
      "outputs": [
        {
          "output_type": "stream",
          "name": "stdout",
          "text": [
            "Accuracy: 55.00%\n",
            "F1: 35.50%\n",
            "Precision: 27.50%\n",
            "Recall: 50.00%\n",
            "\n",
            "Accuracy: 95.00%\n",
            "F1: 48.70%\n",
            "Precision: 47.50%\n",
            "Recall: 50.00%\n",
            "\n",
            "Accuracy: 80.00%\n",
            "F1: 44.40%\n",
            "Precision: 40.00%\n",
            "Recall: 50.00%\n",
            "\n"
          ]
        }
      ],
      "id": "t5LVCz1SCof2"
    },
    {
      "cell_type": "markdown",
      "source": [
        "### Median"
      ],
      "metadata": {
        "id": "VWAUzoWfCof2"
      },
      "id": "VWAUzoWfCof2"
    },
    {
      "cell_type": "code",
      "source": [
        "# AQ\n",
        "svm_classifier(med_x_train_aq_encoded, med_x_test_aq_encoded, med_y_train_aq_encoded, med_y_test_aq_encoded)\n",
        "\n",
        "# BDI\n",
        "svm_classifier(med_x_train_bdi_encoded, med_x_test_bdi_encoded, med_y_train_bdi_encoded, med_y_test_bdi_encoded)\n",
        "\n",
        "# WURS\n",
        "svm_classifier(med_x_train_wurs_encoded, med_x_test_wurs_encoded, med_y_train_wurs_encoded, med_y_test_wurs_encoded)"
      ],
      "metadata": {
        "colab": {
          "base_uri": "https://localhost:8080/"
        },
        "id": "0zbBSiv5Cof2",
        "outputId": "f5d60454-e46a-4735-87e2-8021e1c03af3"
      },
      "execution_count": 142,
      "outputs": [
        {
          "output_type": "stream",
          "name": "stdout",
          "text": [
            "Accuracy: 55.00%\n",
            "F1: 35.50%\n",
            "Precision: 27.50%\n",
            "Recall: 50.00%\n",
            "\n",
            "Accuracy: 95.00%\n",
            "F1: 48.70%\n",
            "Precision: 47.50%\n",
            "Recall: 50.00%\n",
            "\n",
            "Accuracy: 80.00%\n",
            "F1: 44.40%\n",
            "Precision: 40.00%\n",
            "Recall: 50.00%\n",
            "\n"
          ]
        }
      ],
      "id": "0zbBSiv5Cof2"
    },
    {
      "cell_type": "markdown",
      "source": [
        "### Pearsons CC"
      ],
      "metadata": {
        "id": "dtWsdFWvCof2"
      },
      "id": "dtWsdFWvCof2"
    },
    {
      "cell_type": "code",
      "source": [
        "# AQ\n",
        "svm_classifier(xy_pearson_cc_x_train_aq_encoded, xy_pearson_cc_x_test_aq_encoded, xy_pearson_cc_y_train_aq_encoded, xy_pearson_cc_y_test_aq_encoded)\n",
        "\n",
        "# BDI\n",
        "svm_classifier(xy_pearson_cc_x_train_bdi_encoded, xy_pearson_cc_x_test_bdi_encoded, xy_pearson_cc_y_train_bdi_encoded, xy_pearson_cc_y_test_bdi_encoded)\n",
        "\n",
        "# WURS\n",
        "svm_classifier(xy_pearson_cc_x_train_wurs_encoded, xy_pearson_cc_x_test_wurs_encoded, xy_pearson_cc_y_train_wurs_encoded, xy_pearson_cc_y_test_wurs_encoded)"
      ],
      "metadata": {
        "colab": {
          "base_uri": "https://localhost:8080/"
        },
        "id": "BuoAW7A_Cof2",
        "outputId": "b4efb04f-9e32-40b1-fc70-4fcefb03f918"
      },
      "execution_count": 143,
      "outputs": [
        {
          "output_type": "stream",
          "name": "stdout",
          "text": [
            "Accuracy: 35.00%\n",
            "F1: 33.50%\n",
            "Precision: 33.30%\n",
            "Recall: 33.80%\n",
            "\n",
            "Accuracy: 95.00%\n",
            "F1: 48.70%\n",
            "Precision: 47.50%\n",
            "Recall: 50.00%\n",
            "\n",
            "Accuracy: 75.00%\n",
            "F1: 42.90%\n",
            "Precision: 39.50%\n",
            "Recall: 46.90%\n",
            "\n"
          ]
        }
      ],
      "id": "BuoAW7A_Cof2"
    },
    {
      "cell_type": "markdown",
      "source": [
        "### Spearmans CC"
      ],
      "metadata": {
        "id": "FD661IVMCof3"
      },
      "id": "FD661IVMCof3"
    },
    {
      "cell_type": "code",
      "source": [
        "# AQ\n",
        "svm_classifier(xy_spearman_cc_x_train_aq_encoded, xy_spearman_cc_x_test_aq_encoded, xy_spearman_cc_y_train_aq_encoded, xy_spearman_cc_y_test_aq_encoded)\n",
        "\n",
        "# BDI\n",
        "svm_classifier(xy_spearman_cc_x_train_bdi_encoded, xy_spearman_cc_x_test_bdi_encoded, xy_spearman_cc_y_train_bdi_encoded, xy_spearman_cc_y_test_bdi_encoded)\n",
        "\n",
        "# WURS\n",
        "svm_classifier(xy_spearman_cc_x_train_wurs_encoded, xy_spearman_cc_x_test_wurs_encoded, xy_spearman_cc_y_train_wurs_encoded, xy_spearman_cc_y_test_wurs_encoded)"
      ],
      "metadata": {
        "colab": {
          "base_uri": "https://localhost:8080/"
        },
        "id": "ira-D4uCCof3",
        "outputId": "b3ec408d-8c56-43ff-dbdb-0b4e886f4463"
      },
      "execution_count": 144,
      "outputs": [
        {
          "output_type": "stream",
          "name": "stdout",
          "text": [
            "Accuracy: 55.00%\n",
            "F1: 52.00%\n",
            "Precision: 53.60%\n",
            "Recall: 53.00%\n",
            "\n",
            "Accuracy: 95.00%\n",
            "F1: 48.70%\n",
            "Precision: 47.50%\n",
            "Recall: 50.00%\n",
            "\n",
            "Accuracy: 80.00%\n",
            "F1: 44.40%\n",
            "Precision: 40.00%\n",
            "Recall: 50.00%\n",
            "\n"
          ]
        }
      ],
      "id": "ira-D4uCCof3"
    },
    {
      "cell_type": "markdown",
      "source": [
        "### Range"
      ],
      "metadata": {
        "id": "DiIPgZbiCof3"
      },
      "id": "DiIPgZbiCof3"
    },
    {
      "cell_type": "code",
      "source": [
        "# AQ\n",
        "svm_classifier(xy_range_x_train_aq_encoded, xy_range_x_test_aq_encoded, xy_range_y_train_aq_encoded, xy_range_y_test_aq_encoded)\n",
        "\n",
        "# BDI\n",
        "svm_classifier(xy_range_x_train_bdi_encoded, xy_range_x_test_bdi_encoded, xy_range_y_train_bdi_encoded, xy_range_y_test_bdi_encoded)\n",
        "\n",
        "# WURS\n",
        "svm_classifier(xy_range_x_train_wurs_encoded, xy_range_x_test_wurs_encoded, xy_range_y_train_wurs_encoded, xy_range_y_test_wurs_encoded)"
      ],
      "metadata": {
        "colab": {
          "base_uri": "https://localhost:8080/"
        },
        "id": "M81067cGCof3",
        "outputId": "7977caae-f4d7-4188-ebcb-f9baaad78737"
      },
      "execution_count": 145,
      "outputs": [
        {
          "output_type": "stream",
          "name": "stdout",
          "text": [
            "Accuracy: 25.00%\n",
            "F1: 20.00%\n",
            "Precision: 17.90%\n",
            "Recall: 22.70%\n",
            "\n",
            "Accuracy: 95.00%\n",
            "F1: 48.70%\n",
            "Precision: 47.50%\n",
            "Recall: 50.00%\n",
            "\n",
            "Accuracy: 80.00%\n",
            "F1: 44.40%\n",
            "Precision: 40.00%\n",
            "Recall: 50.00%\n",
            "\n"
          ]
        }
      ],
      "id": "M81067cGCof3"
    },
    {
      "cell_type": "markdown",
      "source": [
        "### Unique values"
      ],
      "metadata": {
        "id": "9DlKFZAdCof3"
      },
      "id": "9DlKFZAdCof3"
    },
    {
      "cell_type": "code",
      "source": [
        "# AQ\n",
        "svm_classifier(xy_unique_x_train_aq_encoded, xy_unique_x_test_aq_encoded, xy_unique_y_train_aq_encoded, xy_unique_y_test_aq_encoded)\n",
        "\n",
        "# BDI\n",
        "svm_classifier(xy_unique_x_train_bdi_encoded, xy_unique_x_test_bdi_encoded, xy_unique_y_train_bdi_encoded, xy_unique_y_test_bdi_encoded)\n",
        "\n",
        "# WURS\n",
        "svm_classifier(xy_unique_x_train_wurs_encoded, xy_unique_x_test_wurs_encoded, xy_unique_y_train_wurs_encoded, xy_unique_y_test_wurs_encoded)"
      ],
      "metadata": {
        "colab": {
          "base_uri": "https://localhost:8080/"
        },
        "id": "VFLyLbvLCof3",
        "outputId": "e0f22d9e-f05b-499d-f62a-eb648bcf7d12"
      },
      "execution_count": 146,
      "outputs": [
        {
          "output_type": "stream",
          "name": "stdout",
          "text": [
            "Accuracy: 55.00%\n",
            "F1: 35.50%\n",
            "Precision: 27.50%\n",
            "Recall: 50.00%\n",
            "\n",
            "Accuracy: 95.00%\n",
            "F1: 48.70%\n",
            "Precision: 47.50%\n",
            "Recall: 50.00%\n",
            "\n",
            "Accuracy: 80.00%\n",
            "F1: 44.40%\n",
            "Precision: 40.00%\n",
            "Recall: 50.00%\n",
            "\n"
          ]
        }
      ],
      "id": "VFLyLbvLCof3"
    },
    {
      "cell_type": "markdown",
      "source": [
        "# **Classifiers with Cross Validation**"
      ],
      "metadata": {
        "id": "DSgHRnfAMR2M"
      },
      "id": "DSgHRnfAMR2M"
    },
    {
      "cell_type": "markdown",
      "source": [
        "## **Logistic Regression**"
      ],
      "metadata": {
        "id": "csppC6sKMf3m"
      },
      "id": "csppC6sKMf3m"
    },
    {
      "cell_type": "code",
      "source": [
        "from sklearn.model_selection import cross_val_score, cross_val_predict"
      ],
      "metadata": {
        "id": "bhs1ZDftMi-S"
      },
      "id": "bhs1ZDftMi-S",
      "execution_count": 147,
      "outputs": []
    },
    {
      "cell_type": "code",
      "source": [
        "# Logistic regression classifier with cross validation\n",
        "\n",
        "def logistic_regression_cv(x_train, y_train, k=10):\n",
        "    # Create logistic regression object and fit classifier\n",
        "    lr_model_cv = LogisticRegression(random_state=42, max_iter=10000).fit(x_train, y_train)\n",
        "    \n",
        "    # Perform k-fold cross-validation and calculate accuracy, precision, recall, and F1 scores for each fold\n",
        "    scores = cross_val_score(lr_model_cv, x_train, y_train, cv=k, scoring='accuracy')\n",
        "    precision_scores = cross_val_score(lr_model_cv, x_train, y_train, cv=k, scoring='precision')\n",
        "    recall_scores = cross_val_score(lr_model_cv, x_train, y_train, cv=k, scoring='recall')\n",
        "    f1_scores = cross_val_score(lr_model_cv, x_train, y_train, cv=k, scoring='f1')\n",
        "\n",
        "    # Perform k-fold cross-validation and find predicted values\n",
        "    y_pred = cross_val_predict(lr_model_cv, x_train, y_train, cv=k)\n",
        "    \n",
        "    # # Print the predicted values for each fold\n",
        "    # for i in range(k):\n",
        "    #     print(f'Fold {i+1}:')\n",
        "    #     print(y_pred)\n",
        "    #     print()\n",
        "    \n",
        "    # # Print the evaluation metrics for each fold\n",
        "    # for i in range(k):\n",
        "    #     print(f'Fold {i+1}:')\n",
        "    #     print(f'Accuracy: {scores[i]:.2f}')\n",
        "    #     print(f'Precision: {precision_scores[i]:.2f}')\n",
        "    #     print(f'Recall: {recall_scores[i]:.2f}')\n",
        "    #     print(f'F1: {f1_scores[i]:.2f}')\n",
        "    #     print()\n",
        "    \n",
        "    # Calculate the mean and standard deviation of the evaluation metrics\n",
        "    mean_accuracy = scores.mean()\n",
        "    mean_precision = precision_scores.mean()\n",
        "    mean_recall = recall_scores.mean()\n",
        "    mean_f1 = f1_scores.mean()\n",
        "\n",
        "    print(f'Accuracy: {mean_accuracy * 100.0:.2f}%')\n",
        "    print(f'F1: {mean_f1 * 100.0:.2f}%')\n",
        "    print(f'precision: {mean_precision * 100.0:.2f}%')\n",
        "    print(f'Recall: {mean_recall * 100.0:.2f}%')\n",
        "    print()"
      ],
      "metadata": {
        "id": "MnEs-YGGMoZI"
      },
      "id": "MnEs-YGGMoZI",
      "execution_count": 148,
      "outputs": []
    },
    {
      "cell_type": "markdown",
      "source": [
        "### Least viewed x, y coordinate pairs"
      ],
      "metadata": {
        "id": "mNXlsqTsNXRp"
      },
      "id": "mNXlsqTsNXRp"
    },
    {
      "cell_type": "code",
      "source": [
        "# AQ\n",
        "logistic_regression_cv(lv_x_train_aq_encoded, lv_y_train_aq_encoded)\n",
        "\n",
        "# BDI\n",
        "logistic_regression_cv(lv_x_train_bdi_encoded, lv_y_train_bdi_encoded)\n",
        "\n",
        "# WURS\n",
        "logistic_regression_cv(lv_x_train_wurs_encoded, lv_y_train_wurs_encoded)"
      ],
      "metadata": {
        "colab": {
          "base_uri": "https://localhost:8080/"
        },
        "outputId": "616c4fb3-e422-470d-c255-6198d6b9b9b9",
        "id": "KX3C5OB0NXRq"
      },
      "execution_count": 149,
      "outputs": [
        {
          "output_type": "stream",
          "name": "stdout",
          "text": [
            "Accuracy: 51.25%\n",
            "F1: 3.33%\n",
            "precision: 3.33%\n",
            "Recall: 3.33%\n",
            "\n",
            "Accuracy: 78.75%\n",
            "F1: 88.00%\n",
            "precision: 79.82%\n",
            "Recall: 98.57%\n",
            "\n",
            "Accuracy: 63.75%\n",
            "F1: 77.66%\n",
            "precision: 65.42%\n",
            "Recall: 96.67%\n",
            "\n"
          ]
        }
      ],
      "id": "KX3C5OB0NXRq"
    },
    {
      "cell_type": "markdown",
      "source": [
        "### Most viewed x, y coordinate pairs"
      ],
      "metadata": {
        "id": "RnyT2m8xNXRq"
      },
      "id": "RnyT2m8xNXRq"
    },
    {
      "cell_type": "code",
      "source": [
        "# AQ\n",
        "logistic_regression_cv(mv_x_train_aq_encoded, mv_y_train_aq_encoded)\n",
        "\n",
        "# BDI\n",
        "logistic_regression_cv(mv_x_train_bdi_encoded, mv_y_train_bdi_encoded)\n",
        "\n",
        "# WURS\n",
        "logistic_regression_cv(mv_x_train_wurs_encoded, mv_y_train_wurs_encoded)"
      ],
      "metadata": {
        "colab": {
          "base_uri": "https://localhost:8080/"
        },
        "outputId": "2e457ec7-6f17-4063-8654-66668f0b96bd",
        "id": "Pv0y29gVNXRq"
      },
      "execution_count": 150,
      "outputs": [
        {
          "output_type": "stream",
          "name": "stdout",
          "text": [
            "Accuracy: 56.25%\n",
            "F1: 48.99%\n",
            "precision: 57.50%\n",
            "Recall: 46.67%\n",
            "\n",
            "Accuracy: 80.00%\n",
            "F1: 88.76%\n",
            "precision: 80.00%\n",
            "Recall: 100.00%\n",
            "\n",
            "Accuracy: 66.25%\n",
            "F1: 79.56%\n",
            "precision: 66.25%\n",
            "Recall: 100.00%\n",
            "\n"
          ]
        }
      ],
      "id": "Pv0y29gVNXRq"
    },
    {
      "cell_type": "markdown",
      "source": [
        "### Neighborhood surrounding most viewed x, y coordinate pairs"
      ],
      "metadata": {
        "id": "yxpMyyqZNXRq"
      },
      "id": "yxpMyyqZNXRq"
    },
    {
      "cell_type": "code",
      "source": [
        "# AQ\n",
        "# logistic_regression_cv(range_x_train_aq_ecoded, range_y_train_aq_encoded)\n",
        "\n",
        "# BDI\n",
        "# logistic_regression_cv(range_x_train_bdi_ecoded, range_y_train_bdi_encoded)\n",
        "\n",
        "# WURS\n",
        "# logistic_regression_cv(range_x_train_wurs_ecoded, range_y_train_wurs_encoded)"
      ],
      "metadata": {
        "id": "2eOUZwcANXRq"
      },
      "execution_count": 151,
      "outputs": [],
      "id": "2eOUZwcANXRq"
    },
    {
      "cell_type": "markdown",
      "source": [
        "### Euclidean Distance"
      ],
      "metadata": {
        "id": "iJ7WUt1GNib2"
      },
      "id": "iJ7WUt1GNib2"
    },
    {
      "cell_type": "code",
      "source": [
        "# AQ\n",
        "logistic_regression_cv(ed_x_train_aq_encoded, ed_y_train_aq_encoded)\n",
        "\n",
        "# BDI\n",
        "logistic_regression_cv(ed_x_train_bdi_encoded, ed_y_train_bdi_encoded)\n",
        "\n",
        "# WURS\n",
        "logistic_regression_cv(ed_x_train_wurs_encoded, ed_y_train_wurs_encoded)"
      ],
      "metadata": {
        "colab": {
          "base_uri": "https://localhost:8080/"
        },
        "id": "FRHFo7CVNk18",
        "outputId": "627e0cc6-f6e3-49c4-b7e2-edf6600892fc"
      },
      "id": "FRHFo7CVNk18",
      "execution_count": 152,
      "outputs": [
        {
          "output_type": "stream",
          "name": "stdout",
          "text": [
            "Accuracy: 55.00%\n",
            "F1: 29.71%\n",
            "precision: 45.83%\n",
            "Recall: 23.33%\n",
            "\n",
            "Accuracy: 80.00%\n",
            "F1: 88.76%\n",
            "precision: 80.00%\n",
            "Recall: 100.00%\n",
            "\n",
            "Accuracy: 66.25%\n",
            "F1: 79.56%\n",
            "precision: 66.25%\n",
            "Recall: 100.00%\n",
            "\n"
          ]
        }
      ]
    },
    {
      "cell_type": "markdown",
      "source": [
        "### Mean"
      ],
      "metadata": {
        "id": "SBMkosYtNXRq"
      },
      "id": "SBMkosYtNXRq"
    },
    {
      "cell_type": "code",
      "source": [
        "# AQ\n",
        "logistic_regression_cv(mean_x_train_aq_encoded, mean_y_train_aq_encoded)\n",
        "\n",
        "# BDI\n",
        "logistic_regression_cv(mean_x_train_bdi_encoded, mean_y_train_bdi_encoded)\n",
        "\n",
        "# WURS\n",
        "logistic_regression_cv(mean_x_train_wurs_encoded, mean_y_train_wurs_encoded)"
      ],
      "metadata": {
        "colab": {
          "base_uri": "https://localhost:8080/"
        },
        "outputId": "7335098d-224c-4368-b63a-219e271d7694",
        "id": "d-PNGRmSNXRr"
      },
      "execution_count": 153,
      "outputs": [
        {
          "output_type": "stream",
          "name": "stdout",
          "text": [
            "Accuracy: 55.00%\n",
            "F1: 19.00%\n",
            "precision: 30.00%\n",
            "Recall: 15.00%\n",
            "\n",
            "Accuracy: 76.25%\n",
            "F1: 85.98%\n",
            "precision: 78.81%\n",
            "Recall: 95.00%\n",
            "\n",
            "Accuracy: 66.25%\n",
            "F1: 79.56%\n",
            "precision: 66.25%\n",
            "Recall: 100.00%\n",
            "\n"
          ]
        }
      ],
      "id": "d-PNGRmSNXRr"
    },
    {
      "cell_type": "markdown",
      "source": [
        "### Standard deviation"
      ],
      "metadata": {
        "id": "dLPj9jBCNXRr"
      },
      "id": "dLPj9jBCNXRr"
    },
    {
      "cell_type": "code",
      "source": [
        "# AQ\n",
        "logistic_regression_cv(std_x_train_aq_encoded, std_y_train_aq_encoded)\n",
        "\n",
        "# BDI\n",
        "logistic_regression_cv(std_x_train_bdi_encoded, std_y_train_bdi_encoded)\n",
        "\n",
        "# WURS\n",
        "logistic_regression_cv(std_x_train_wurs_encoded, std_y_train_wurs_encoded)"
      ],
      "metadata": {
        "colab": {
          "base_uri": "https://localhost:8080/"
        },
        "outputId": "c6b40021-2abe-4be0-9386-726e723cb908",
        "id": "EJV52OZVNXRr"
      },
      "execution_count": 154,
      "outputs": [
        {
          "output_type": "stream",
          "name": "stdout",
          "text": [
            "Accuracy: 45.00%\n",
            "F1: 25.43%\n",
            "precision: 32.50%\n",
            "Recall: 21.67%\n",
            "\n",
            "Accuracy: 78.75%\n",
            "F1: 88.00%\n",
            "precision: 79.82%\n",
            "Recall: 98.57%\n",
            "\n",
            "Accuracy: 65.00%\n",
            "F1: 78.53%\n",
            "precision: 65.71%\n",
            "Recall: 98.00%\n",
            "\n"
          ]
        }
      ],
      "id": "EJV52OZVNXRr"
    },
    {
      "cell_type": "markdown",
      "source": [
        "### Median"
      ],
      "metadata": {
        "id": "nS8gJsVmNXRr"
      },
      "id": "nS8gJsVmNXRr"
    },
    {
      "cell_type": "code",
      "source": [
        "# AQ\n",
        "logistic_regression_cv(med_x_train_aq_encoded, med_y_train_aq_encoded)\n",
        "\n",
        "# BDI\n",
        "logistic_regression_cv(med_x_train_bdi_encoded, med_y_train_bdi_encoded)\n",
        "\n",
        "# WURS\n",
        "logistic_regression_cv(med_x_train_wurs_encoded, med_y_train_wurs_encoded)"
      ],
      "metadata": {
        "colab": {
          "base_uri": "https://localhost:8080/"
        },
        "outputId": "30f34bbe-c3ee-434d-9b24-dac4f5043acf",
        "id": "gKVdykDeNXRr"
      },
      "execution_count": 155,
      "outputs": [
        {
          "output_type": "stream",
          "name": "stdout",
          "text": [
            "Accuracy: 55.00%\n",
            "F1: 27.10%\n",
            "precision: 36.67%\n",
            "Recall: 23.33%\n",
            "\n",
            "Accuracy: 77.50%\n",
            "F1: 86.86%\n",
            "precision: 79.17%\n",
            "Recall: 96.67%\n",
            "\n",
            "Accuracy: 66.25%\n",
            "F1: 79.56%\n",
            "precision: 66.25%\n",
            "Recall: 100.00%\n",
            "\n"
          ]
        }
      ],
      "id": "gKVdykDeNXRr"
    },
    {
      "cell_type": "markdown",
      "source": [
        "### Pearsons CC"
      ],
      "metadata": {
        "id": "tzhQatHgNXRr"
      },
      "id": "tzhQatHgNXRr"
    },
    {
      "cell_type": "code",
      "source": [
        "# AQ\n",
        "logistic_regression_cv(xy_pearson_cc_x_train_aq_encoded, xy_pearson_cc_y_train_aq_encoded)\n",
        "\n",
        "# BDI\n",
        "logistic_regression_cv(xy_pearson_cc_x_train_bdi_encoded, xy_pearson_cc_y_train_bdi_encoded)\n",
        "\n",
        "# WURS\n",
        "logistic_regression_cv(xy_pearson_cc_x_train_wurs_encoded, xy_pearson_cc_y_train_wurs_encoded)"
      ],
      "metadata": {
        "colab": {
          "base_uri": "https://localhost:8080/"
        },
        "outputId": "3a14333f-712d-4333-e556-47b7024a94de",
        "id": "Dx8xxS5sNXRr"
      },
      "execution_count": 156,
      "outputs": [
        {
          "output_type": "stream",
          "name": "stdout",
          "text": [
            "Accuracy: 52.50%\n",
            "F1: 0.00%\n",
            "precision: 0.00%\n",
            "Recall: 0.00%\n",
            "\n",
            "Accuracy: 80.00%\n",
            "F1: 88.76%\n",
            "precision: 80.00%\n",
            "Recall: 100.00%\n",
            "\n",
            "Accuracy: 66.25%\n",
            "F1: 79.56%\n",
            "precision: 66.25%\n",
            "Recall: 100.00%\n",
            "\n"
          ]
        }
      ],
      "id": "Dx8xxS5sNXRr"
    },
    {
      "cell_type": "markdown",
      "source": [
        "### Spearmans CC"
      ],
      "metadata": {
        "id": "bPbNs1X9NXRr"
      },
      "id": "bPbNs1X9NXRr"
    },
    {
      "cell_type": "code",
      "source": [
        "# AQ\n",
        "logistic_regression_cv(xy_spearman_cc_x_train_aq_encoded, xy_spearman_cc_y_train_aq_encoded)\n",
        "\n",
        "# BDI\n",
        "logistic_regression_cv(xy_spearman_cc_x_train_bdi_encoded, xy_spearman_cc_y_train_bdi_encoded)\n",
        "\n",
        "# WURS\n",
        "logistic_regression_cv(xy_spearman_cc_x_train_wurs_encoded, xy_spearman_cc_y_train_wurs_encoded)"
      ],
      "metadata": {
        "colab": {
          "base_uri": "https://localhost:8080/"
        },
        "outputId": "1a102622-7440-4322-8fe2-258de9d98895",
        "id": "uishVbtxNXRr"
      },
      "execution_count": 157,
      "outputs": [
        {
          "output_type": "stream",
          "name": "stdout",
          "text": [
            "Accuracy: 51.25%\n",
            "F1: 0.00%\n",
            "precision: 0.00%\n",
            "Recall: 0.00%\n",
            "\n",
            "Accuracy: 80.00%\n",
            "F1: 88.76%\n",
            "precision: 80.00%\n",
            "Recall: 100.00%\n",
            "\n",
            "Accuracy: 66.25%\n",
            "F1: 79.56%\n",
            "precision: 66.25%\n",
            "Recall: 100.00%\n",
            "\n"
          ]
        }
      ],
      "id": "uishVbtxNXRr"
    },
    {
      "cell_type": "markdown",
      "source": [
        "### Range"
      ],
      "metadata": {
        "id": "x8Y83uS_NXRr"
      },
      "id": "x8Y83uS_NXRr"
    },
    {
      "cell_type": "code",
      "source": [
        "# AQ\n",
        "logistic_regression_cv(xy_range_x_train_aq_encoded, xy_range_y_train_aq_encoded)\n",
        "\n",
        "# BDI\n",
        "logistic_regression_cv(xy_range_x_train_bdi_encoded, xy_range_y_train_bdi_encoded)\n",
        "\n",
        "# WURS\n",
        "logistic_regression_cv(xy_range_x_train_wurs_encoded, xy_range_y_train_wurs_encoded)"
      ],
      "metadata": {
        "colab": {
          "base_uri": "https://localhost:8080/"
        },
        "outputId": "56ba88e6-8f4d-4fa3-d419-26fda53d47e2",
        "id": "Lg7XJxPuNXRs"
      },
      "execution_count": 158,
      "outputs": [
        {
          "output_type": "stream",
          "name": "stdout",
          "text": [
            "Accuracy: 47.50%\n",
            "F1: 22.69%\n",
            "precision: 35.33%\n",
            "Recall: 18.33%\n",
            "\n",
            "Accuracy: 77.50%\n",
            "F1: 87.12%\n",
            "precision: 79.46%\n",
            "Recall: 96.90%\n",
            "\n",
            "Accuracy: 66.25%\n",
            "F1: 79.56%\n",
            "precision: 66.25%\n",
            "Recall: 100.00%\n",
            "\n"
          ]
        }
      ],
      "id": "Lg7XJxPuNXRs"
    },
    {
      "cell_type": "markdown",
      "source": [
        "### Unique values"
      ],
      "metadata": {
        "id": "byKAyPFJNXRs"
      },
      "id": "byKAyPFJNXRs"
    },
    {
      "cell_type": "code",
      "source": [
        "# AQ\n",
        "logistic_regression_cv(xy_unique_x_train_aq_encoded, xy_unique_y_train_aq_encoded)\n",
        "\n",
        "# BDI\n",
        "logistic_regression_cv(xy_unique_x_train_bdi_encoded, xy_unique_y_train_bdi_encoded)\n",
        "\n",
        "# WURS\n",
        "logistic_regression_cv(xy_unique_x_train_wurs_encoded, xy_unique_y_train_wurs_encoded)"
      ],
      "metadata": {
        "colab": {
          "base_uri": "https://localhost:8080/"
        },
        "id": "D5m7TJSSNXRs",
        "outputId": "681a6400-026c-4ad0-dd7a-662118cb6cf2"
      },
      "execution_count": 159,
      "outputs": [
        {
          "output_type": "stream",
          "name": "stdout",
          "text": [
            "Accuracy: 57.50%\n",
            "F1: 36.94%\n",
            "precision: 41.50%\n",
            "Recall: 35.00%\n",
            "\n",
            "Accuracy: 80.00%\n",
            "F1: 88.76%\n",
            "precision: 80.00%\n",
            "Recall: 100.00%\n",
            "\n",
            "Accuracy: 66.25%\n",
            "F1: 79.56%\n",
            "precision: 66.25%\n",
            "Recall: 100.00%\n",
            "\n"
          ]
        }
      ],
      "id": "D5m7TJSSNXRs"
    },
    {
      "cell_type": "markdown",
      "source": [
        "## **Decision Tree**"
      ],
      "metadata": {
        "id": "jkcj8EhtNXRs"
      },
      "id": "jkcj8EhtNXRs"
    },
    {
      "cell_type": "code",
      "source": [
        "# Decision Tree classifier with cross validation\n",
        "\n",
        "def decision_tree_cv(x_train, y_train, k=10):\n",
        "    \n",
        "    # Create decision tree object and fit classifier\n",
        "    dt_clf_cv = DecisionTreeClassifier(random_state=42).fit(x_train, y_train)\n",
        "    \n",
        "    # Perform k-fold cross-validation and  calculate accuracy, precision, recall, and F1 scores\n",
        "    scores = cross_val_score(dt_clf_cv, x_train, y_train, cv=k, scoring='accuracy')\n",
        "    precision_scores = cross_val_score(dt_clf_cv, x_train, y_train, cv=k, scoring='precision')\n",
        "    recall_scores = cross_val_score(dt_clf_cv, x_train, y_train, cv=k, scoring='recall')\n",
        "    f1_scores = cross_val_score(dt_clf_cv, x_train, y_train, cv=k, scoring='f1')\n",
        "\n",
        "    # Perform k-fold cross-validation and find predicted values\n",
        "    # y_pred = cross_val_predict(dt_clf_cv, x_train, y_train, cv=k)\n",
        "    \n",
        "    # # Print the predicted values for each fold\n",
        "    # for i in range(k):\n",
        "    #     print(f'Fold {i+1}:')\n",
        "    #     print(y_pred)\n",
        "    #     print()\n",
        "    \n",
        "    # Print the evaluation metrics for each fold\n",
        "    # for i in range(k):\n",
        "    #     print(f'Fold {i+1}:')\n",
        "    #     print(f'Accuracy: {scores[i]:.2f}')\n",
        "    #     print(f'Precision: {precision_scores[i]:.2f}')\n",
        "    #     print(f'Recall: {recall_scores[i]:.2f}')\n",
        "    #     print(f'F1: {f1_scores[i]:.2f}')\n",
        "    #     print()\n",
        "    \n",
        "    # Calculate the mean and standard deviation of the evaluation metrics\n",
        "    mean_accuracy = scores.mean()\n",
        "    mean_precision = precision_scores.mean()\n",
        "    mean_recall = recall_scores.mean()\n",
        "    mean_f1 = f1_scores.mean()\n",
        "\n",
        "    print(f'Accuracy: {mean_accuracy * 100.0:.2f}%')\n",
        "    print(f'F1: {mean_f1 * 100.0:.2f}%')\n",
        "    print(f'Precision: {mean_precision * 100.0:.2f}%')\n",
        "    print(f'Recall: {mean_recall * 100.0:.2f}%')\n",
        "    print()"
      ],
      "metadata": {
        "id": "Sxu2G6nfNXRs"
      },
      "execution_count": 160,
      "outputs": [],
      "id": "Sxu2G6nfNXRs"
    },
    {
      "cell_type": "markdown",
      "source": [
        "### Least viewed x, y coordinate pairs"
      ],
      "metadata": {
        "id": "_bW2MS6DQRBM"
      },
      "id": "_bW2MS6DQRBM"
    },
    {
      "cell_type": "code",
      "source": [
        "# AQ\n",
        "decision_tree_cv(lv_x_train_aq_encoded, lv_y_train_aq_encoded)\n",
        "\n",
        "# BDI\n",
        "decision_tree_cv(lv_x_train_bdi_encoded, lv_y_train_bdi_encoded)\n",
        "\n",
        "# WURS\n",
        "decision_tree_cv(lv_x_train_wurs_encoded, lv_y_train_wurs_encoded)"
      ],
      "metadata": {
        "colab": {
          "base_uri": "https://localhost:8080/"
        },
        "outputId": "489b3182-fc1b-4f9f-d8d2-70df121ac1d8",
        "id": "JKq2GMSPQRBa"
      },
      "execution_count": 161,
      "outputs": [
        {
          "output_type": "stream",
          "name": "stdout",
          "text": [
            "Accuracy: 46.25%\n",
            "F1: 41.07%\n",
            "Precision: 37.67%\n",
            "Recall: 45.83%\n",
            "\n",
            "Accuracy: 76.25%\n",
            "F1: 85.20%\n",
            "Precision: 84.05%\n",
            "Recall: 87.86%\n",
            "\n",
            "Accuracy: 55.00%\n",
            "F1: 65.27%\n",
            "Precision: 66.67%\n",
            "Recall: 64.33%\n",
            "\n"
          ]
        }
      ],
      "id": "JKq2GMSPQRBa"
    },
    {
      "cell_type": "markdown",
      "source": [
        "### Most viewed x, y coordinate pairs"
      ],
      "metadata": {
        "id": "h_tvOf88QRBb"
      },
      "id": "h_tvOf88QRBb"
    },
    {
      "cell_type": "code",
      "source": [
        "# AQ\n",
        "decision_tree_cv(mv_x_train_aq_encoded, mv_y_train_aq_encoded)\n",
        "\n",
        "# BDI\n",
        "decision_tree_cv(mv_x_train_bdi_encoded, mv_y_train_bdi_encoded)\n",
        "\n",
        "# WURS\n",
        "decision_tree_cv(mv_x_train_wurs_encoded, mv_y_train_wurs_encoded)"
      ],
      "metadata": {
        "colab": {
          "base_uri": "https://localhost:8080/"
        },
        "outputId": "13ce76cc-ab4f-45c2-c77f-4029b4524c23",
        "id": "fTXhhgfFQRBb"
      },
      "execution_count": 162,
      "outputs": [
        {
          "output_type": "stream",
          "name": "stdout",
          "text": [
            "Accuracy: 51.25%\n",
            "F1: 39.93%\n",
            "Precision: 40.17%\n",
            "Recall: 41.67%\n",
            "\n",
            "Accuracy: 61.25%\n",
            "F1: 74.07%\n",
            "Precision: 76.23%\n",
            "Recall: 75.48%\n",
            "\n",
            "Accuracy: 52.50%\n",
            "F1: 64.24%\n",
            "Precision: 65.38%\n",
            "Recall: 64.67%\n",
            "\n"
          ]
        }
      ],
      "id": "fTXhhgfFQRBb"
    },
    {
      "cell_type": "markdown",
      "source": [
        "### Neighborhood surrounding most viewed x, y coordinate pairs"
      ],
      "metadata": {
        "id": "YZsDzLX6QRBb"
      },
      "id": "YZsDzLX6QRBb"
    },
    {
      "cell_type": "code",
      "source": [
        "# AQ\n",
        "# decision_tree_cv(range_x_train_aq_encoded, range_y_train_aq_encoded)\n",
        "\n",
        "# BDI\n",
        "# decision_tree_cv(range_x_train_bdi_encoded, range_y_train_bdi_encoded)\n",
        "\n",
        "# WURS\n",
        "# decision_tree_cv(range_x_train_wurs_encoded, range_y_train_wurs_encoded)"
      ],
      "metadata": {
        "id": "MkTr88m-QRBb"
      },
      "execution_count": 163,
      "outputs": [],
      "id": "MkTr88m-QRBb"
    },
    {
      "cell_type": "markdown",
      "source": [
        "### Euclidean Distance"
      ],
      "metadata": {
        "id": "hgetsH04NcIJ"
      },
      "id": "hgetsH04NcIJ"
    },
    {
      "cell_type": "code",
      "source": [
        "# AQ\n",
        "decision_tree_cv(ed_x_train_aq_encoded, ed_y_train_aq_encoded)\n",
        "\n",
        "# BDI\n",
        "decision_tree_cv(ed_x_train_bdi_encoded, ed_y_train_bdi_encoded)\n",
        "\n",
        "# WURS\n",
        "decision_tree_cv(ed_x_train_wurs_encoded, ed_y_train_wurs_encoded)"
      ],
      "metadata": {
        "colab": {
          "base_uri": "https://localhost:8080/"
        },
        "id": "1q64ZuBFNfr_",
        "outputId": "e9390bb3-20f1-485e-cb4d-6d75db62ce55"
      },
      "id": "1q64ZuBFNfr_",
      "execution_count": 164,
      "outputs": [
        {
          "output_type": "stream",
          "name": "stdout",
          "text": [
            "Accuracy: 52.50%\n",
            "F1: 48.88%\n",
            "Precision: 48.83%\n",
            "Recall: 50.83%\n",
            "\n",
            "Accuracy: 75.00%\n",
            "F1: 84.12%\n",
            "Precision: 83.89%\n",
            "Recall: 85.95%\n",
            "\n",
            "Accuracy: 58.75%\n",
            "F1: 67.64%\n",
            "Precision: 68.83%\n",
            "Recall: 68.00%\n",
            "\n"
          ]
        }
      ]
    },
    {
      "cell_type": "markdown",
      "source": [
        "### Mean"
      ],
      "metadata": {
        "id": "Hh5uQrGzQRBb"
      },
      "id": "Hh5uQrGzQRBb"
    },
    {
      "cell_type": "code",
      "source": [
        "# AQ\n",
        "decision_tree_cv(mean_x_train_aq_encoded, mean_y_train_aq_encoded)\n",
        "\n",
        "# BDI\n",
        "decision_tree_cv(mean_x_train_bdi_encoded, mean_y_train_bdi_encoded)\n",
        "\n",
        "# WURS\n",
        "decision_tree_cv(mean_x_train_wurs_encoded, mean_y_train_wurs_encoded)"
      ],
      "metadata": {
        "colab": {
          "base_uri": "https://localhost:8080/"
        },
        "outputId": "ae1d2f26-2f04-40bb-c1ba-638aa7d2716a",
        "id": "u02wjinIQRBb"
      },
      "execution_count": 165,
      "outputs": [
        {
          "output_type": "stream",
          "name": "stdout",
          "text": [
            "Accuracy: 56.25%\n",
            "F1: 47.40%\n",
            "Precision: 48.00%\n",
            "Recall: 50.83%\n",
            "\n",
            "Accuracy: 70.00%\n",
            "F1: 80.79%\n",
            "Precision: 80.71%\n",
            "Recall: 82.86%\n",
            "\n",
            "Accuracy: 53.75%\n",
            "F1: 63.44%\n",
            "Precision: 66.21%\n",
            "Recall: 62.00%\n",
            "\n"
          ]
        }
      ],
      "id": "u02wjinIQRBb"
    },
    {
      "cell_type": "markdown",
      "source": [
        "### Standard deviation"
      ],
      "metadata": {
        "id": "WfzaJ5e_QRBc"
      },
      "id": "WfzaJ5e_QRBc"
    },
    {
      "cell_type": "code",
      "source": [
        "# AQ\n",
        "decision_tree_cv(std_x_train_aq_encoded, std_y_train_aq_encoded)\n",
        "\n",
        "# BDI\n",
        "decision_tree_cv(std_x_train_bdi_encoded, std_y_train_bdi_encoded)\n",
        "\n",
        "# WURS\n",
        "decision_tree_cv(std_x_train_wurs_encoded, std_y_train_wurs_encoded)"
      ],
      "metadata": {
        "colab": {
          "base_uri": "https://localhost:8080/"
        },
        "outputId": "25043ec8-22a8-4596-b4a0-dc92ff8d54de",
        "id": "JiKmWNLGQRBc"
      },
      "execution_count": 166,
      "outputs": [
        {
          "output_type": "stream",
          "name": "stdout",
          "text": [
            "Accuracy: 56.25%\n",
            "F1: 52.60%\n",
            "Precision: 55.67%\n",
            "Recall: 54.17%\n",
            "\n",
            "Accuracy: 68.75%\n",
            "F1: 80.17%\n",
            "Precision: 80.60%\n",
            "Recall: 81.67%\n",
            "\n",
            "Accuracy: 48.75%\n",
            "F1: 57.13%\n",
            "Precision: 61.98%\n",
            "Recall: 54.33%\n",
            "\n"
          ]
        }
      ],
      "id": "JiKmWNLGQRBc"
    },
    {
      "cell_type": "markdown",
      "source": [
        "### Median"
      ],
      "metadata": {
        "id": "hgAADeMhQRBc"
      },
      "id": "hgAADeMhQRBc"
    },
    {
      "cell_type": "code",
      "source": [
        "# AQ\n",
        "decision_tree_cv(med_x_train_aq_encoded, med_y_train_aq_encoded)\n",
        "\n",
        "# BDI\n",
        "decision_tree_cv(med_x_train_bdi_encoded, med_y_train_bdi_encoded)\n",
        "\n",
        "# WURS\n",
        "decision_tree_cv(med_x_train_wurs_encoded, med_y_train_wurs_encoded)"
      ],
      "metadata": {
        "colab": {
          "base_uri": "https://localhost:8080/"
        },
        "outputId": "6ac9ec62-33f8-4d06-af37-b77815a121a3",
        "id": "k5tAreotQRBc"
      },
      "execution_count": 167,
      "outputs": [
        {
          "output_type": "stream",
          "name": "stdout",
          "text": [
            "Accuracy: 65.00%\n",
            "F1: 56.71%\n",
            "Precision: 58.67%\n",
            "Recall: 62.50%\n",
            "\n",
            "Accuracy: 70.00%\n",
            "F1: 79.50%\n",
            "Precision: 83.38%\n",
            "Recall: 78.10%\n",
            "\n",
            "Accuracy: 53.75%\n",
            "F1: 64.50%\n",
            "Precision: 64.30%\n",
            "Recall: 67.67%\n",
            "\n"
          ]
        }
      ],
      "id": "k5tAreotQRBc"
    },
    {
      "cell_type": "markdown",
      "source": [
        "### Pearsons CC"
      ],
      "metadata": {
        "id": "vCi2fJcBQRBc"
      },
      "id": "vCi2fJcBQRBc"
    },
    {
      "cell_type": "code",
      "source": [
        "# AQ\n",
        "decision_tree_cv(xy_pearson_cc_x_train_aq_encoded, xy_pearson_cc_y_train_aq_encoded)\n",
        "\n",
        "# BDI\n",
        "decision_tree_cv(xy_pearson_cc_x_train_bdi_encoded, xy_pearson_cc_y_train_bdi_encoded)\n",
        "\n",
        "# WURS\n",
        "decision_tree_cv(xy_pearson_cc_x_train_wurs_encoded, xy_pearson_cc_y_train_wurs_encoded)"
      ],
      "metadata": {
        "colab": {
          "base_uri": "https://localhost:8080/"
        },
        "outputId": "9e09d026-cc9c-407e-917d-643faa67664e",
        "id": "XriAjey-QRBc"
      },
      "execution_count": 168,
      "outputs": [
        {
          "output_type": "stream",
          "name": "stdout",
          "text": [
            "Accuracy: 52.50%\n",
            "F1: 48.81%\n",
            "Precision: 49.17%\n",
            "Recall: 52.50%\n",
            "\n",
            "Accuracy: 60.00%\n",
            "F1: 73.00%\n",
            "Precision: 74.70%\n",
            "Recall: 73.33%\n",
            "\n",
            "Accuracy: 55.00%\n",
            "F1: 61.44%\n",
            "Precision: 71.48%\n",
            "Recall: 63.67%\n",
            "\n"
          ]
        }
      ],
      "id": "XriAjey-QRBc"
    },
    {
      "cell_type": "markdown",
      "source": [
        "### Spearmans CC"
      ],
      "metadata": {
        "id": "hCHxIEiNQRBc"
      },
      "id": "hCHxIEiNQRBc"
    },
    {
      "cell_type": "code",
      "source": [
        "# AQ\n",
        "decision_tree_cv(xy_spearman_cc_x_train_aq_encoded, xy_spearman_cc_y_train_aq_encoded)\n",
        "\n",
        "# BDI\n",
        "decision_tree_cv(xy_spearman_cc_x_train_bdi_encoded, xy_spearman_cc_y_train_bdi_encoded)\n",
        "\n",
        "# WURS\n",
        "decision_tree_cv(xy_spearman_cc_x_train_wurs_encoded, xy_spearman_cc_y_train_wurs_encoded)"
      ],
      "metadata": {
        "colab": {
          "base_uri": "https://localhost:8080/"
        },
        "outputId": "db788f46-e875-4c2d-cbfa-414ae0034558",
        "id": "HQlR_h5oQRBc"
      },
      "execution_count": 169,
      "outputs": [
        {
          "output_type": "stream",
          "name": "stdout",
          "text": [
            "Accuracy: 57.50%\n",
            "F1: 55.63%\n",
            "Precision: 57.50%\n",
            "Recall: 58.33%\n",
            "\n",
            "Accuracy: 60.00%\n",
            "F1: 73.65%\n",
            "Precision: 73.73%\n",
            "Recall: 74.29%\n",
            "\n",
            "Accuracy: 52.50%\n",
            "F1: 63.78%\n",
            "Precision: 64.38%\n",
            "Recall: 64.00%\n",
            "\n"
          ]
        }
      ],
      "id": "HQlR_h5oQRBc"
    },
    {
      "cell_type": "markdown",
      "source": [
        "### Range"
      ],
      "metadata": {
        "id": "9P87Bpn_QRBd"
      },
      "id": "9P87Bpn_QRBd"
    },
    {
      "cell_type": "code",
      "source": [
        "# AQ\n",
        "decision_tree_cv(xy_range_x_train_aq_encoded, xy_range_y_train_aq_encoded)\n",
        "\n",
        "# BDI\n",
        "decision_tree_cv(xy_range_x_train_bdi_encoded, xy_range_y_train_bdi_encoded)\n",
        "\n",
        "# WURS\n",
        "decision_tree_cv(xy_range_x_train_wurs_encoded, xy_range_y_train_wurs_encoded)"
      ],
      "metadata": {
        "colab": {
          "base_uri": "https://localhost:8080/"
        },
        "outputId": "20b6afd6-28bf-45c8-a644-a014c1360f0d",
        "id": "yWk5fRdiQRBd"
      },
      "execution_count": 170,
      "outputs": [
        {
          "output_type": "stream",
          "name": "stdout",
          "text": [
            "Accuracy: 55.00%\n",
            "F1: 45.05%\n",
            "Precision: 51.67%\n",
            "Recall: 45.83%\n",
            "\n",
            "Accuracy: 60.00%\n",
            "F1: 72.89%\n",
            "Precision: 76.08%\n",
            "Recall: 71.90%\n",
            "\n",
            "Accuracy: 56.25%\n",
            "F1: 64.98%\n",
            "Precision: 72.30%\n",
            "Recall: 63.00%\n",
            "\n"
          ]
        }
      ],
      "id": "yWk5fRdiQRBd"
    },
    {
      "cell_type": "markdown",
      "source": [
        "### Unique values"
      ],
      "metadata": {
        "id": "yUlPB2ERQRBd"
      },
      "id": "yUlPB2ERQRBd"
    },
    {
      "cell_type": "code",
      "source": [
        "# AQ\n",
        "decision_tree_cv(xy_unique_x_train_aq_encoded, xy_unique_y_train_aq_encoded)\n",
        "\n",
        "# BDI\n",
        "decision_tree_cv(xy_unique_x_train_bdi_encoded, xy_unique_y_train_bdi_encoded)\n",
        "\n",
        "# WURS\n",
        "decision_tree_cv(xy_unique_x_train_wurs_encoded, xy_unique_y_train_wurs_encoded)"
      ],
      "metadata": {
        "colab": {
          "base_uri": "https://localhost:8080/"
        },
        "id": "U92RZ9e-QRBd",
        "outputId": "0f1890d2-2fce-44a5-a395-ab99a41700cd"
      },
      "execution_count": 171,
      "outputs": [
        {
          "output_type": "stream",
          "name": "stdout",
          "text": [
            "Accuracy: 43.75%\n",
            "F1: 41.17%\n",
            "Precision: 41.69%\n",
            "Recall: 43.33%\n",
            "\n",
            "Accuracy: 66.25%\n",
            "F1: 78.61%\n",
            "Precision: 80.02%\n",
            "Recall: 80.48%\n",
            "\n",
            "Accuracy: 43.75%\n",
            "F1: 55.91%\n",
            "Precision: 57.43%\n",
            "Recall: 57.00%\n",
            "\n"
          ]
        }
      ],
      "id": "U92RZ9e-QRBd"
    },
    {
      "cell_type": "markdown",
      "metadata": {
        "hidden": true,
        "id": "X2wuc7gWNXRu"
      },
      "source": [
        "## **Random Forest**"
      ],
      "id": "X2wuc7gWNXRu"
    },
    {
      "cell_type": "code",
      "execution_count": 172,
      "metadata": {
        "hidden": true,
        "id": "HnB_tuk3NXRu"
      },
      "outputs": [],
      "source": [
        "# Random Forest classifier with cross validation\n",
        "\n",
        "def random_forest_cv(x_train, y_train, k=10):\n",
        "    \n",
        "    # Create random forest object and fit data\n",
        "    rf_clf_cv = RandomForestClassifier(n_estimators=100, random_state=42).fit(x_train, y_train)\n",
        "    \n",
        "    # Perform k-fold cross-validation and  calculate accuracy, precision, recall, and F1 scores\n",
        "    scores = cross_val_score(rf_clf_cv, x_train, y_train, cv=k, scoring='accuracy')\n",
        "    precision_scores = cross_val_score(rf_clf_cv, x_train, y_train, cv=k, scoring='precision')\n",
        "    recall_scores = cross_val_score(rf_clf_cv, x_train, y_train, cv=k, scoring='recall')\n",
        "    f1_scores = cross_val_score(rf_clf_cv, x_train, y_train, cv=k, scoring='f1')\n",
        "\n",
        "    # Perform k-fold cross-validation and find predicted values\n",
        "    # y_pred = cross_val_predict(rf_clf_cv, x_train, y_train, cv=k)\n",
        "    \n",
        "    # # Print the predicted values for each fold\n",
        "    # for i in range(k):\n",
        "    #     print(f'Fold {i+1}:')\n",
        "    #     print(y_pred)\n",
        "    #     print()\n",
        "    \n",
        "    # Print the evaluation metrics for each fold\n",
        "    # for i in range(k):\n",
        "    #     print(f'Fold {i+1}:')\n",
        "    #     print(f'Accuracy: {scores[i]:.2f}')\n",
        "    #     print(f'Precision: {precision_scores[i]:.2f}')\n",
        "    #     print(f'Recall: {recall_scores[i]:.2f}')\n",
        "    #     print(f'F1: {f1_scores[i]:.2f}')\n",
        "    #     print()\n",
        "    \n",
        "    # Calculate the mean and standard deviation of the evaluation metrics\n",
        "    mean_accuracy = scores.mean()\n",
        "    mean_precision = precision_scores.mean()\n",
        "    mean_recall = recall_scores.mean()\n",
        "    mean_f1 = f1_scores.mean()\n",
        "    \n",
        "    print(f'Accuracy: {mean_accuracy * 100.0:.2f}%')\n",
        "    print(f'F1: {mean_f1 * 100.0:.2f}%')\n",
        "    print(f'Precision: {mean_precision * 100.0:.2f}%')\n",
        "    print(f'Recall: {mean_recall * 100.0:.2f}%')\n",
        "    print()"
      ],
      "id": "HnB_tuk3NXRu"
    },
    {
      "cell_type": "markdown",
      "source": [
        "### Least viewed x, y coordinate pairs"
      ],
      "metadata": {
        "id": "SvZ78Rd3QVkx"
      },
      "id": "SvZ78Rd3QVkx"
    },
    {
      "cell_type": "code",
      "source": [
        "# AQ\n",
        "random_forest_cv(lv_x_train_aq_encoded, lv_y_train_aq_encoded)\n",
        "\n",
        "# BDI\n",
        "random_forest_cv(lv_x_train_bdi_encoded, lv_y_train_bdi_encoded)\n",
        "\n",
        "# WURS\n",
        "random_forest_cv(lv_x_train_wurs_encoded, lv_y_train_wurs_encoded)"
      ],
      "metadata": {
        "colab": {
          "base_uri": "https://localhost:8080/"
        },
        "outputId": "7f959188-8214-4a94-e521-d5ca27d3e422",
        "id": "qEYRgAnJQVky"
      },
      "execution_count": 173,
      "outputs": [
        {
          "output_type": "stream",
          "name": "stdout",
          "text": [
            "Accuracy: 46.25%\n",
            "F1: 37.27%\n",
            "Precision: 37.33%\n",
            "Recall: 40.83%\n",
            "\n",
            "Accuracy: 78.75%\n",
            "F1: 86.86%\n",
            "Precision: 84.23%\n",
            "Recall: 90.71%\n",
            "\n",
            "Accuracy: 53.75%\n",
            "F1: 65.35%\n",
            "Precision: 63.48%\n",
            "Recall: 68.00%\n",
            "\n"
          ]
        }
      ],
      "id": "qEYRgAnJQVky"
    },
    {
      "cell_type": "markdown",
      "source": [
        "### Most viewed x, y coordinate pairs"
      ],
      "metadata": {
        "id": "QJ4yRG7UQVky"
      },
      "id": "QJ4yRG7UQVky"
    },
    {
      "cell_type": "code",
      "source": [
        "# AQ\n",
        "random_forest_cv(mv_x_train_aq_encoded, mv_y_train_aq_encoded)\n",
        "\n",
        "# BDI\n",
        "random_forest_cv(mv_x_train_bdi_encoded, mv_y_train_bdi_encoded)\n",
        "\n",
        "# WURS\n",
        "random_forest_cv(mv_x_train_wurs_encoded, mv_y_train_wurs_encoded)"
      ],
      "metadata": {
        "colab": {
          "base_uri": "https://localhost:8080/"
        },
        "outputId": "04d1a808-d471-4b67-95f2-6e77dfe43d21",
        "id": "ThKg8OjuQVky"
      },
      "execution_count": 174,
      "outputs": [
        {
          "output_type": "stream",
          "name": "stdout",
          "text": [
            "Accuracy: 57.50%\n",
            "F1: 49.81%\n",
            "Precision: 55.17%\n",
            "Recall: 50.00%\n",
            "\n",
            "Accuracy: 68.75%\n",
            "F1: 80.94%\n",
            "Precision: 77.26%\n",
            "Recall: 85.95%\n",
            "\n",
            "Accuracy: 57.50%\n",
            "F1: 69.96%\n",
            "Precision: 67.76%\n",
            "Recall: 75.67%\n",
            "\n"
          ]
        }
      ],
      "id": "ThKg8OjuQVky"
    },
    {
      "cell_type": "markdown",
      "source": [
        "### Neighborhood surrounding most viewed x, y coordinate pairs"
      ],
      "metadata": {
        "id": "63eYpZvcQVky"
      },
      "id": "63eYpZvcQVky"
    },
    {
      "cell_type": "code",
      "source": [
        "# AQ\n",
        "# random_forest_cv(range_x_train_aq_encoded, range_y_train_aq_encoded)\n",
        "\n",
        "# BDI\n",
        "# random_forest_cv(range_x_train_bdi_encoded, range_y_train_bdi_encoded)\n",
        "\n",
        "# WURS\n",
        "# random_forest_cv(range_x_train_wurs_encoded, range_y_train_wurs_encoded)"
      ],
      "metadata": {
        "id": "Ks0joN_4QVkz"
      },
      "execution_count": 175,
      "outputs": [],
      "id": "Ks0joN_4QVkz"
    },
    {
      "cell_type": "markdown",
      "source": [
        "### Euclidean Distance"
      ],
      "metadata": {
        "id": "lFeD2irdOafo"
      },
      "id": "lFeD2irdOafo"
    },
    {
      "cell_type": "code",
      "source": [
        "# AQ\n",
        "random_forest_cv(ed_x_train_aq_encoded, ed_y_train_aq_encoded)\n",
        "\n",
        "# BDI\n",
        "random_forest_cv(ed_x_train_bdi_encoded, ed_y_train_bdi_encoded)\n",
        "\n",
        "# WURS\n",
        "random_forest_cv(ed_x_train_wurs_encoded, ed_y_train_wurs_encoded)"
      ],
      "metadata": {
        "colab": {
          "base_uri": "https://localhost:8080/"
        },
        "id": "53ti2qRVOekQ",
        "outputId": "b453a022-2bc5-495a-8aab-8c1a53b725f0"
      },
      "id": "53ti2qRVOekQ",
      "execution_count": 176,
      "outputs": [
        {
          "output_type": "stream",
          "name": "stdout",
          "text": [
            "Accuracy: 52.50%\n",
            "F1: 48.88%\n",
            "Precision: 48.83%\n",
            "Recall: 50.83%\n",
            "\n",
            "Accuracy: 75.00%\n",
            "F1: 84.12%\n",
            "Precision: 83.89%\n",
            "Recall: 85.95%\n",
            "\n",
            "Accuracy: 58.75%\n",
            "F1: 67.64%\n",
            "Precision: 68.83%\n",
            "Recall: 68.00%\n",
            "\n"
          ]
        }
      ]
    },
    {
      "cell_type": "markdown",
      "source": [
        "### Mean"
      ],
      "metadata": {
        "id": "vMZOIB_KQVkz"
      },
      "id": "vMZOIB_KQVkz"
    },
    {
      "cell_type": "code",
      "source": [
        "# AQ\n",
        "random_forest_cv(mean_x_train_aq_encoded, mean_y_train_aq_encoded)\n",
        "\n",
        "# BDI\n",
        "random_forest_cv(mean_x_train_bdi_encoded, mean_y_train_bdi_encoded)\n",
        "\n",
        "# WURS\n",
        "random_forest_cv(mean_x_train_wurs_encoded, mean_y_train_wurs_encoded)"
      ],
      "metadata": {
        "colab": {
          "base_uri": "https://localhost:8080/"
        },
        "outputId": "595e844e-70ad-4e0a-c0b2-2234f3aa28b9",
        "id": "CyKWm8dtQVkz"
      },
      "execution_count": 177,
      "outputs": [
        {
          "output_type": "stream",
          "name": "stdout",
          "text": [
            "Accuracy: 61.25%\n",
            "F1: 56.41%\n",
            "Precision: 62.17%\n",
            "Recall: 61.67%\n",
            "\n",
            "Accuracy: 77.50%\n",
            "F1: 86.08%\n",
            "Precision: 86.01%\n",
            "Recall: 87.62%\n",
            "\n",
            "Accuracy: 62.50%\n",
            "F1: 74.21%\n",
            "Precision: 69.93%\n",
            "Recall: 81.00%\n",
            "\n"
          ]
        }
      ],
      "id": "CyKWm8dtQVkz"
    },
    {
      "cell_type": "markdown",
      "source": [
        "### Standard deviation"
      ],
      "metadata": {
        "id": "OE1gjn2-QVkz"
      },
      "id": "OE1gjn2-QVkz"
    },
    {
      "cell_type": "code",
      "source": [
        "# AQ\n",
        "random_forest_cv(std_x_train_aq_encoded, std_y_train_aq_encoded)\n",
        "\n",
        "# BDI\n",
        "random_forest_cv(std_x_train_bdi_encoded, std_y_train_bdi_encoded)\n",
        "\n",
        "# WURS\n",
        "random_forest_cv(std_x_train_wurs_encoded, std_y_train_wurs_encoded)"
      ],
      "metadata": {
        "colab": {
          "base_uri": "https://localhost:8080/"
        },
        "outputId": "9742b988-18ac-4eb0-8b24-aa5c1fd40aff",
        "id": "cRaIopTxQVkz"
      },
      "execution_count": 178,
      "outputs": [
        {
          "output_type": "stream",
          "name": "stdout",
          "text": [
            "Accuracy: 48.75%\n",
            "F1: 36.35%\n",
            "Precision: 41.67%\n",
            "Recall: 35.00%\n",
            "\n",
            "Accuracy: 81.25%\n",
            "F1: 89.32%\n",
            "Precision: 82.32%\n",
            "Recall: 98.57%\n",
            "\n",
            "Accuracy: 57.50%\n",
            "F1: 69.69%\n",
            "Precision: 65.44%\n",
            "Recall: 76.00%\n",
            "\n"
          ]
        }
      ],
      "id": "cRaIopTxQVkz"
    },
    {
      "cell_type": "markdown",
      "source": [
        "### Median"
      ],
      "metadata": {
        "id": "DtdTUsgKQVkz"
      },
      "id": "DtdTUsgKQVkz"
    },
    {
      "cell_type": "code",
      "source": [
        "# AQ\n",
        "random_forest_cv(med_x_train_aq_encoded, med_y_train_aq_encoded)\n",
        "\n",
        "# BDI\n",
        "random_forest_cv(med_x_train_bdi_encoded, med_y_train_bdi_encoded)\n",
        "\n",
        "# WURS\n",
        "random_forest_cv(med_x_train_wurs_encoded, med_y_train_wurs_encoded)"
      ],
      "metadata": {
        "colab": {
          "base_uri": "https://localhost:8080/"
        },
        "outputId": "849b1794-adea-4b45-acd2-d5bcf526d6b3",
        "id": "UlZSU28oQVkz"
      },
      "execution_count": 179,
      "outputs": [
        {
          "output_type": "stream",
          "name": "stdout",
          "text": [
            "Accuracy: 57.50%\n",
            "F1: 46.82%\n",
            "Precision: 61.55%\n",
            "Recall: 47.50%\n",
            "\n",
            "Accuracy: 76.25%\n",
            "F1: 85.18%\n",
            "Precision: 84.29%\n",
            "Recall: 87.62%\n",
            "\n",
            "Accuracy: 52.50%\n",
            "F1: 62.57%\n",
            "Precision: 66.81%\n",
            "Recall: 66.33%\n",
            "\n"
          ]
        }
      ],
      "id": "UlZSU28oQVkz"
    },
    {
      "cell_type": "markdown",
      "source": [
        "### Pearsons CC"
      ],
      "metadata": {
        "id": "aFC_7aMcQVkz"
      },
      "id": "aFC_7aMcQVkz"
    },
    {
      "cell_type": "code",
      "source": [
        "# AQ\n",
        "random_forest_cv(xy_pearson_cc_x_train_aq_encoded, xy_pearson_cc_y_train_aq_encoded)\n",
        "\n",
        "# BDI\n",
        "random_forest_cv(xy_pearson_cc_x_train_bdi_encoded, xy_pearson_cc_y_train_bdi_encoded)\n",
        "\n",
        "# WURS\n",
        "random_forest_cv(xy_pearson_cc_x_train_wurs_encoded, xy_pearson_cc_y_train_wurs_encoded)"
      ],
      "metadata": {
        "colab": {
          "base_uri": "https://localhost:8080/"
        },
        "outputId": "a29c253d-14b6-481e-f34d-339d0fc7226b",
        "id": "TFEMDbq8QVkz"
      },
      "execution_count": 180,
      "outputs": [
        {
          "output_type": "stream",
          "name": "stdout",
          "text": [
            "Accuracy: 52.50%\n",
            "F1: 48.81%\n",
            "Precision: 49.17%\n",
            "Recall: 52.50%\n",
            "\n",
            "Accuracy: 60.00%\n",
            "F1: 73.00%\n",
            "Precision: 74.70%\n",
            "Recall: 73.33%\n",
            "\n",
            "Accuracy: 55.00%\n",
            "F1: 61.44%\n",
            "Precision: 71.48%\n",
            "Recall: 63.67%\n",
            "\n"
          ]
        }
      ],
      "id": "TFEMDbq8QVkz"
    },
    {
      "cell_type": "markdown",
      "source": [
        "### Spearmans CC"
      ],
      "metadata": {
        "id": "ACp2pqF2QVk0"
      },
      "id": "ACp2pqF2QVk0"
    },
    {
      "cell_type": "code",
      "source": [
        "# AQ\n",
        "random_forest_cv(xy_spearman_cc_x_train_aq_encoded, xy_spearman_cc_y_train_aq_encoded)\n",
        "\n",
        "# BDI\n",
        "random_forest_cv(xy_spearman_cc_x_train_bdi_encoded, xy_spearman_cc_y_train_bdi_encoded)\n",
        "\n",
        "# WURS\n",
        "random_forest_cv(xy_spearman_cc_x_train_wurs_encoded, xy_spearman_cc_y_train_wurs_encoded)"
      ],
      "metadata": {
        "colab": {
          "base_uri": "https://localhost:8080/"
        },
        "outputId": "f7c15d55-00f6-4cfa-c741-960cad870c17",
        "id": "BKiRBe2lQVk0"
      },
      "execution_count": 181,
      "outputs": [
        {
          "output_type": "stream",
          "name": "stdout",
          "text": [
            "Accuracy: 57.50%\n",
            "F1: 55.63%\n",
            "Precision: 57.50%\n",
            "Recall: 58.33%\n",
            "\n",
            "Accuracy: 60.00%\n",
            "F1: 73.65%\n",
            "Precision: 73.73%\n",
            "Recall: 74.29%\n",
            "\n",
            "Accuracy: 52.50%\n",
            "F1: 63.78%\n",
            "Precision: 64.38%\n",
            "Recall: 64.00%\n",
            "\n"
          ]
        }
      ],
      "id": "BKiRBe2lQVk0"
    },
    {
      "cell_type": "markdown",
      "source": [
        "### Range"
      ],
      "metadata": {
        "id": "97bBSy7NQVk0"
      },
      "id": "97bBSy7NQVk0"
    },
    {
      "cell_type": "code",
      "source": [
        "# AQ\n",
        "random_forest_cv(xy_range_x_train_aq_encoded, xy_range_y_train_aq_encoded)\n",
        "\n",
        "# BDI\n",
        "random_forest_cv(xy_range_x_train_bdi_encoded, xy_range_y_train_bdi_encoded)\n",
        "\n",
        "# WURS\n",
        "random_forest_cv(xy_range_x_train_wurs_encoded, xy_range_y_train_wurs_encoded)"
      ],
      "metadata": {
        "colab": {
          "base_uri": "https://localhost:8080/"
        },
        "outputId": "67e50c9c-3b45-40ae-8a2a-b4af8fc56230",
        "id": "vprREmcnQVk0"
      },
      "execution_count": 182,
      "outputs": [
        {
          "output_type": "stream",
          "name": "stdout",
          "text": [
            "Accuracy: 51.25%\n",
            "F1: 41.26%\n",
            "Precision: 51.67%\n",
            "Recall: 37.50%\n",
            "\n",
            "Accuracy: 73.75%\n",
            "F1: 84.18%\n",
            "Precision: 79.55%\n",
            "Recall: 90.71%\n",
            "\n",
            "Accuracy: 53.75%\n",
            "F1: 66.65%\n",
            "Precision: 62.83%\n",
            "Recall: 74.00%\n",
            "\n"
          ]
        }
      ],
      "id": "vprREmcnQVk0"
    },
    {
      "cell_type": "markdown",
      "source": [
        "### Unique values"
      ],
      "metadata": {
        "id": "dVO67TFtQVk0"
      },
      "id": "dVO67TFtQVk0"
    },
    {
      "cell_type": "code",
      "source": [
        "# AQ\n",
        "random_forest_cv(xy_unique_x_train_aq_encoded, xy_unique_y_train_aq_encoded)\n",
        "\n",
        "# BDI\n",
        "random_forest_cv(xy_unique_x_train_bdi_encoded, xy_unique_y_train_bdi_encoded)\n",
        "\n",
        "# WURS\n",
        "random_forest_cv(xy_unique_x_train_wurs_encoded, xy_unique_y_train_wurs_encoded)"
      ],
      "metadata": {
        "colab": {
          "base_uri": "https://localhost:8080/"
        },
        "id": "-3PiZyvVQVk0",
        "outputId": "1d946d61-1779-4eb4-df11-094abc6efb37"
      },
      "execution_count": 183,
      "outputs": [
        {
          "output_type": "stream",
          "name": "stdout",
          "text": [
            "Accuracy: 42.50%\n",
            "F1: 34.29%\n",
            "Precision: 36.50%\n",
            "Recall: 34.17%\n",
            "\n",
            "Accuracy: 73.75%\n",
            "F1: 84.16%\n",
            "Precision: 82.02%\n",
            "Recall: 87.86%\n",
            "\n",
            "Accuracy: 53.75%\n",
            "F1: 65.86%\n",
            "Precision: 62.07%\n",
            "Recall: 71.67%\n",
            "\n"
          ]
        }
      ],
      "id": "-3PiZyvVQVk0"
    },
    {
      "cell_type": "markdown",
      "metadata": {
        "id": "GGprRjGENXRv"
      },
      "source": [
        "## **SVM**"
      ],
      "id": "GGprRjGENXRv"
    },
    {
      "cell_type": "code",
      "execution_count": 184,
      "metadata": {
        "id": "rH0-JOFZNXRw"
      },
      "outputs": [],
      "source": [
        "# SVM classifier with cross validation\n",
        "\n",
        "def svm_classifier_cv(x_train, y_train, k=10):\n",
        "    \n",
        "    # Create support vector machine object and fit classifier\n",
        "    svm_clf_cv = svm.SVC(random_state=42).fit(x_train, y_train)\n",
        "    \n",
        "    # Perform k-fold cross-validation and  calculate accuracy, precision, recall, and F1 scores\n",
        "    scores = cross_val_score(svm_clf_cv, x_train, y_train, cv=k, scoring='accuracy')\n",
        "    precision_scores = cross_val_score(svm_clf_cv, x_train, y_train, cv=k, scoring='precision')\n",
        "    recall_scores = cross_val_score(svm_clf_cv, x_train, y_train, cv=k, scoring='recall')\n",
        "    f1_scores = cross_val_score(svm_clf_cv, x_train, y_train, cv=k, scoring='f1')\n",
        "\n",
        "    # Perform k-fold cross-validation and find predicted values\n",
        "    # y_pred = cross_val_predict(svm_clf_cv, x_train, y_train, cv=k)\n",
        "    \n",
        "    # # Print the predicted values for each fold\n",
        "    # for i in range(k):\n",
        "    #     print(f'Fold {i+1}:')\n",
        "    #     print(y_pred)\n",
        "    #     print()\n",
        "    \n",
        "    # Print the evaluation metrics for each fold\n",
        "    # for i in range(k):\n",
        "    #     print(f'Fold {i+1}:')\n",
        "    #     print(f'Accuracy: {scores[i]:.2f}')\n",
        "    #     print(f'Precision: {precision_scores[i]:.2f}')\n",
        "    #     print(f'Recall: {recall_scores[i]:.2f}')\n",
        "    #     print(f'F1: {f1_scores[i]:.2f}')\n",
        "    #     print()\n",
        "    \n",
        "    # Calculate the mean and standard deviation of the evaluation metrics\n",
        "    mean_accuracy = scores.mean()\n",
        "    mean_precision = precision_scores.mean()\n",
        "    mean_recall = recall_scores.mean()\n",
        "    mean_f1 = f1_scores.mean()\n",
        "    \n",
        "    print(f'Accuracy: {mean_accuracy * 100.0:.2f}%')\n",
        "    print(f'F1: {mean_f1 * 100.0:.2f}%')\n",
        "    print(f'Precision: {mean_precision * 100.0:.2f}%')\n",
        "    print(f'Recall: {mean_recall * 100.0:.2f}%')\n",
        "    print()"
      ],
      "id": "rH0-JOFZNXRw"
    },
    {
      "cell_type": "markdown",
      "source": [
        "### Least viewed x, y coordinate pairs"
      ],
      "metadata": {
        "id": "cXyGrsxNQX1g"
      },
      "id": "cXyGrsxNQX1g"
    },
    {
      "cell_type": "code",
      "source": [
        "# AQ\n",
        "svm_classifier_cv(lv_x_train_aq_encoded, lv_y_train_aq_encoded)\n",
        "\n",
        "# BDI\n",
        "svm_classifier_cv(lv_x_train_bdi_encoded, lv_y_train_bdi_encoded)\n",
        "\n",
        "# WURS\n",
        "svm_classifier_cv(lv_x_train_wurs_encoded, lv_y_train_wurs_encoded)"
      ],
      "metadata": {
        "colab": {
          "base_uri": "https://localhost:8080/"
        },
        "outputId": "e0435b49-63f8-4fd5-8cd9-774e8504ec84",
        "id": "rk6ZvfvBQX1h"
      },
      "execution_count": 185,
      "outputs": [
        {
          "output_type": "stream",
          "name": "stdout",
          "text": [
            "Accuracy: 53.75%\n",
            "F1: 0.00%\n",
            "Precision: 0.00%\n",
            "Recall: 0.00%\n",
            "\n",
            "Accuracy: 80.00%\n",
            "F1: 88.76%\n",
            "Precision: 80.00%\n",
            "Recall: 100.00%\n",
            "\n",
            "Accuracy: 66.25%\n",
            "F1: 79.56%\n",
            "Precision: 66.25%\n",
            "Recall: 100.00%\n",
            "\n"
          ]
        }
      ],
      "id": "rk6ZvfvBQX1h"
    },
    {
      "cell_type": "markdown",
      "source": [
        "### Most viewed x, y coordinate pairs"
      ],
      "metadata": {
        "id": "sNzutij2QX1h"
      },
      "id": "sNzutij2QX1h"
    },
    {
      "cell_type": "code",
      "source": [
        "# AQ\n",
        "svm_classifier_cv(mv_x_train_aq_encoded, mv_y_train_aq_encoded)\n",
        "\n",
        "# BDI\n",
        "svm_classifier_cv(mv_x_train_bdi_encoded, mv_y_train_bdi_encoded)\n",
        "\n",
        "# WURS\n",
        "svm_classifier_cv(mv_x_train_wurs_encoded, mv_y_train_wurs_encoded)"
      ],
      "metadata": {
        "colab": {
          "base_uri": "https://localhost:8080/"
        },
        "outputId": "0b3dd2c7-1893-4313-a6c6-1af376f9a695",
        "id": "ox7wzGZBQX1i"
      },
      "execution_count": 186,
      "outputs": [
        {
          "output_type": "stream",
          "name": "stdout",
          "text": [
            "Accuracy: 60.00%\n",
            "F1: 55.42%\n",
            "Precision: 62.50%\n",
            "Recall: 52.50%\n",
            "\n",
            "Accuracy: 80.00%\n",
            "F1: 88.76%\n",
            "Precision: 80.00%\n",
            "Recall: 100.00%\n",
            "\n",
            "Accuracy: 66.25%\n",
            "F1: 79.56%\n",
            "Precision: 66.25%\n",
            "Recall: 100.00%\n",
            "\n"
          ]
        }
      ],
      "id": "ox7wzGZBQX1i"
    },
    {
      "cell_type": "markdown",
      "source": [
        "### Neighborhood surrounding most viewed x, y coordinate pairs"
      ],
      "metadata": {
        "id": "yfyP4szgQX1i"
      },
      "id": "yfyP4szgQX1i"
    },
    {
      "cell_type": "code",
      "source": [
        "# AQ\n",
        "# svm_classifier_cv(range_x_train_aq_encoded, range_y_train_aq_encoded)\n",
        "\n",
        "# BDI\n",
        "# svm_classifier_cv(range_x_train_bdi_encoded, range_y_train_bdi_encoded)\n",
        "\n",
        "# WURS\n",
        "# svm_classifier_cv(range_x_train_wurs_encoded, range_y_train_wurs_encoded)"
      ],
      "metadata": {
        "id": "DMhZHHbwQX1i"
      },
      "execution_count": 187,
      "outputs": [],
      "id": "DMhZHHbwQX1i"
    },
    {
      "cell_type": "markdown",
      "source": [
        "### Euclidean Distance"
      ],
      "metadata": {
        "id": "FMiFCEgZS-eT"
      },
      "id": "FMiFCEgZS-eT"
    },
    {
      "cell_type": "code",
      "source": [
        "# AQ\n",
        "svm_classifier_cv(ed_x_train_aq_encoded, ed_y_train_aq_encoded)\n",
        "\n",
        "# BDI\n",
        "svm_classifier_cv(ed_x_train_bdi_encoded, ed_y_train_bdi_encoded)\n",
        "\n",
        "# WURS\n",
        "svm_classifier_cv(ed_x_train_wurs_encoded, ed_y_train_wurs_encoded)"
      ],
      "metadata": {
        "colab": {
          "base_uri": "https://localhost:8080/"
        },
        "outputId": "2357d3f1-d180-49d0-a29f-8349403d7b30",
        "id": "z45g-qKXS-eT"
      },
      "execution_count": 188,
      "outputs": [
        {
          "output_type": "stream",
          "name": "stdout",
          "text": [
            "Accuracy: 50.00%\n",
            "F1: 0.00%\n",
            "Precision: 0.00%\n",
            "Recall: 0.00%\n",
            "\n",
            "Accuracy: 80.00%\n",
            "F1: 88.76%\n",
            "Precision: 80.00%\n",
            "Recall: 100.00%\n",
            "\n",
            "Accuracy: 66.25%\n",
            "F1: 79.56%\n",
            "Precision: 66.25%\n",
            "Recall: 100.00%\n",
            "\n"
          ]
        }
      ],
      "id": "z45g-qKXS-eT"
    },
    {
      "cell_type": "markdown",
      "source": [
        "### Mean"
      ],
      "metadata": {
        "id": "t76qeRJBQX1i"
      },
      "id": "t76qeRJBQX1i"
    },
    {
      "cell_type": "code",
      "source": [
        "# AQ\n",
        "svm_classifier_cv(mean_x_train_aq_encoded, mean_y_train_aq_encoded)\n",
        "\n",
        "# BDI\n",
        "svm_classifier_cv(mean_x_train_bdi_encoded, mean_y_train_bdi_encoded)\n",
        "\n",
        "# WURS\n",
        "svm_classifier_cv(mean_x_train_wurs_encoded, mean_y_train_wurs_encoded)"
      ],
      "metadata": {
        "colab": {
          "base_uri": "https://localhost:8080/"
        },
        "outputId": "6cd79cd2-e105-4f4e-f6d3-3dfe29c9c3c8",
        "id": "ZikC0SgYQX1i"
      },
      "execution_count": 189,
      "outputs": [
        {
          "output_type": "stream",
          "name": "stdout",
          "text": [
            "Accuracy: 53.75%\n",
            "F1: 0.00%\n",
            "Precision: 0.00%\n",
            "Recall: 0.00%\n",
            "\n",
            "Accuracy: 80.00%\n",
            "F1: 88.76%\n",
            "Precision: 80.00%\n",
            "Recall: 100.00%\n",
            "\n",
            "Accuracy: 66.25%\n",
            "F1: 79.56%\n",
            "Precision: 66.25%\n",
            "Recall: 100.00%\n",
            "\n"
          ]
        }
      ],
      "id": "ZikC0SgYQX1i"
    },
    {
      "cell_type": "markdown",
      "source": [
        "### Standard deviation"
      ],
      "metadata": {
        "id": "oEtAK0NiQX1j"
      },
      "id": "oEtAK0NiQX1j"
    },
    {
      "cell_type": "code",
      "source": [
        "# AQ\n",
        "svm_classifier_cv(std_x_train_aq_encoded, std_y_train_aq_encoded)\n",
        "\n",
        "# BDI\n",
        "svm_classifier_cv(std_x_train_bdi_encoded, std_y_train_bdi_encoded)\n",
        "\n",
        "# WURS\n",
        "svm_classifier_cv(std_x_train_wurs_encoded, std_y_train_wurs_encoded)"
      ],
      "metadata": {
        "colab": {
          "base_uri": "https://localhost:8080/"
        },
        "outputId": "3017b4a9-d0db-4458-d95e-267a0cc076d7",
        "id": "vg5bv5tdQX1j"
      },
      "execution_count": 190,
      "outputs": [
        {
          "output_type": "stream",
          "name": "stdout",
          "text": [
            "Accuracy: 51.25%\n",
            "F1: 14.36%\n",
            "Precision: 20.83%\n",
            "Recall: 11.67%\n",
            "\n",
            "Accuracy: 80.00%\n",
            "F1: 88.76%\n",
            "Precision: 80.00%\n",
            "Recall: 100.00%\n",
            "\n",
            "Accuracy: 66.25%\n",
            "F1: 79.56%\n",
            "Precision: 66.25%\n",
            "Recall: 100.00%\n",
            "\n"
          ]
        }
      ],
      "id": "vg5bv5tdQX1j"
    },
    {
      "cell_type": "markdown",
      "source": [
        "### Median"
      ],
      "metadata": {
        "id": "mBrPPTRzQX1j"
      },
      "id": "mBrPPTRzQX1j"
    },
    {
      "cell_type": "code",
      "source": [
        "# AQ\n",
        "svm_classifier_cv(med_x_train_aq_encoded, med_y_train_aq_encoded)\n",
        "\n",
        "# BDI\n",
        "svm_classifier_cv(med_x_train_bdi_encoded, med_y_train_bdi_encoded)\n",
        "\n",
        "# WURS\n",
        "svm_classifier_cv(med_x_train_wurs_encoded, med_y_train_wurs_encoded)"
      ],
      "metadata": {
        "colab": {
          "base_uri": "https://localhost:8080/"
        },
        "outputId": "6db5fe8d-2898-40aa-b5e8-546bd17752c6",
        "id": "wDDWWFdEQX1j"
      },
      "execution_count": 191,
      "outputs": [
        {
          "output_type": "stream",
          "name": "stdout",
          "text": [
            "Accuracy: 53.75%\n",
            "F1: 0.00%\n",
            "Precision: 0.00%\n",
            "Recall: 0.00%\n",
            "\n",
            "Accuracy: 80.00%\n",
            "F1: 88.76%\n",
            "Precision: 80.00%\n",
            "Recall: 100.00%\n",
            "\n",
            "Accuracy: 66.25%\n",
            "F1: 79.56%\n",
            "Precision: 66.25%\n",
            "Recall: 100.00%\n",
            "\n"
          ]
        }
      ],
      "id": "wDDWWFdEQX1j"
    },
    {
      "cell_type": "markdown",
      "source": [
        "### Pearsons CC"
      ],
      "metadata": {
        "id": "Q3OTzWUNQX1j"
      },
      "id": "Q3OTzWUNQX1j"
    },
    {
      "cell_type": "code",
      "source": [
        "# AQ\n",
        "svm_classifier_cv(xy_pearson_cc_x_train_aq_encoded, xy_pearson_cc_y_train_aq_encoded)\n",
        "\n",
        "# BDI\n",
        "svm_classifier_cv(xy_pearson_cc_x_train_bdi_encoded, xy_pearson_cc_y_train_bdi_encoded)\n",
        "\n",
        "# WURS\n",
        "svm_classifier_cv(xy_pearson_cc_x_train_wurs_encoded, xy_pearson_cc_y_train_wurs_encoded)"
      ],
      "metadata": {
        "colab": {
          "base_uri": "https://localhost:8080/"
        },
        "outputId": "42d70b53-f865-448d-e68b-bb74383c7836",
        "id": "WFsTThWFQX1k"
      },
      "execution_count": 192,
      "outputs": [
        {
          "output_type": "stream",
          "name": "stdout",
          "text": [
            "Accuracy: 42.50%\n",
            "F1: 26.95%\n",
            "Precision: 26.98%\n",
            "Recall: 30.83%\n",
            "\n",
            "Accuracy: 80.00%\n",
            "F1: 88.76%\n",
            "Precision: 80.00%\n",
            "Recall: 100.00%\n",
            "\n",
            "Accuracy: 65.00%\n",
            "F1: 78.68%\n",
            "Precision: 65.89%\n",
            "Recall: 98.33%\n",
            "\n"
          ]
        }
      ],
      "id": "WFsTThWFQX1k"
    },
    {
      "cell_type": "markdown",
      "source": [
        "### Spearmans CC"
      ],
      "metadata": {
        "id": "v2NpPwT7QX1k"
      },
      "id": "v2NpPwT7QX1k"
    },
    {
      "cell_type": "code",
      "source": [
        "# AQ\n",
        "svm_classifier_cv(xy_spearman_cc_x_train_aq_encoded, xy_spearman_cc_y_train_aq_encoded)\n",
        "\n",
        "# BDI\n",
        "svm_classifier_cv(xy_spearman_cc_x_train_bdi_encoded, xy_spearman_cc_y_train_bdi_encoded)\n",
        "\n",
        "# WURS\n",
        "svm_classifier_cv(xy_spearman_cc_x_train_wurs_encoded, xy_spearman_cc_y_train_wurs_encoded)"
      ],
      "metadata": {
        "colab": {
          "base_uri": "https://localhost:8080/"
        },
        "outputId": "793175dc-631a-4abb-cf09-712779f88f0f",
        "id": "15e0YQsWQX1k"
      },
      "execution_count": 193,
      "outputs": [
        {
          "output_type": "stream",
          "name": "stdout",
          "text": [
            "Accuracy: 55.00%\n",
            "F1: 36.93%\n",
            "Precision: 54.17%\n",
            "Recall: 30.83%\n",
            "\n",
            "Accuracy: 80.00%\n",
            "F1: 88.76%\n",
            "Precision: 80.00%\n",
            "Recall: 100.00%\n",
            "\n",
            "Accuracy: 63.75%\n",
            "F1: 77.66%\n",
            "Precision: 65.36%\n",
            "Recall: 96.33%\n",
            "\n"
          ]
        }
      ],
      "id": "15e0YQsWQX1k"
    },
    {
      "cell_type": "markdown",
      "source": [
        "### Range"
      ],
      "metadata": {
        "id": "ggDXGxioQX1k"
      },
      "id": "ggDXGxioQX1k"
    },
    {
      "cell_type": "code",
      "source": [
        "# AQ\n",
        "svm_classifier_cv(xy_range_x_train_aq_encoded, xy_range_y_train_aq_encoded)\n",
        "\n",
        "# BDI\n",
        "svm_classifier_cv(xy_range_x_train_bdi_encoded, xy_range_y_train_bdi_encoded)\n",
        "\n",
        "# WURS\n",
        "svm_classifier_cv(xy_range_x_train_wurs_encoded, xy_range_y_train_wurs_encoded)"
      ],
      "metadata": {
        "colab": {
          "base_uri": "https://localhost:8080/"
        },
        "outputId": "a868eb36-fd51-4fe1-cdc6-dfa4b97e50e8",
        "id": "7O2UgkxoQX1l"
      },
      "execution_count": 194,
      "outputs": [
        {
          "output_type": "stream",
          "name": "stdout",
          "text": [
            "Accuracy: 38.75%\n",
            "F1: 12.69%\n",
            "Precision: 19.50%\n",
            "Recall: 11.67%\n",
            "\n",
            "Accuracy: 80.00%\n",
            "F1: 88.76%\n",
            "Precision: 80.00%\n",
            "Recall: 100.00%\n",
            "\n",
            "Accuracy: 66.25%\n",
            "F1: 79.56%\n",
            "Precision: 66.25%\n",
            "Recall: 100.00%\n",
            "\n"
          ]
        }
      ],
      "id": "7O2UgkxoQX1l"
    },
    {
      "cell_type": "markdown",
      "source": [
        "### Unique values"
      ],
      "metadata": {
        "id": "QcCJYp_1QX1l"
      },
      "id": "QcCJYp_1QX1l"
    },
    {
      "cell_type": "code",
      "source": [
        "# AQ\n",
        "svm_classifier_cv(xy_unique_x_train_aq_encoded, xy_unique_y_train_aq_encoded)\n",
        "\n",
        "# BDI\n",
        "svm_classifier_cv(xy_unique_x_train_bdi_encoded, xy_unique_y_train_bdi_encoded)\n",
        "\n",
        "# WURS\n",
        "svm_classifier_cv(xy_unique_x_train_wurs_encoded, xy_unique_y_train_wurs_encoded)"
      ],
      "metadata": {
        "colab": {
          "base_uri": "https://localhost:8080/"
        },
        "id": "BINSG2gmQX1l",
        "outputId": "a7454056-91ca-47b2-8e43-794ece30616d"
      },
      "execution_count": 195,
      "outputs": [
        {
          "output_type": "stream",
          "name": "stdout",
          "text": [
            "Accuracy: 51.25%\n",
            "F1: 0.00%\n",
            "Precision: 0.00%\n",
            "Recall: 0.00%\n",
            "\n",
            "Accuracy: 80.00%\n",
            "F1: 88.76%\n",
            "Precision: 80.00%\n",
            "Recall: 100.00%\n",
            "\n",
            "Accuracy: 66.25%\n",
            "F1: 79.56%\n",
            "Precision: 66.25%\n",
            "Recall: 100.00%\n",
            "\n"
          ]
        }
      ],
      "id": "BINSG2gmQX1l"
    },
    {
      "cell_type": "markdown",
      "source": [
        "# **Train-Test Split Stratified**"
      ],
      "metadata": {
        "id": "Xr4TThfp_ksa"
      },
      "id": "Xr4TThfp_ksa"
    },
    {
      "cell_type": "code",
      "source": [
        "# Split function for classification models as we need to convert y input into binary values\n",
        "\n",
        "def stratified_split(input_feature, clinical_var, clinical_data=clinical_cleaned_df):\n",
        "    \n",
        "    # Creating x input feature\n",
        "    x = input_feature\n",
        "\n",
        "    # Creating y target variable\n",
        "    y = clinical_data[clinical_var]\n",
        "\n",
        "    # Find common indices of these two columns\n",
        "    if len(x) != len(y):\n",
        "        common_indices = list(x.index.intersection(y.index))\n",
        "\n",
        "        # Update x,y variables with only common indices\n",
        "        x = x.loc[common_indices]\n",
        "        y = y.loc[common_indices]\n",
        "\n",
        "    # Encode y variable based on clinical score cut offs\n",
        "    if clinical_var == 'aq':\n",
        "        y = y.apply(lambda val: 1 if val >= 22 else 0)\n",
        "    elif clinical_var == 'bdi':\n",
        "        y = y.apply(lambda val: 1 if val >= 11 else 0)\n",
        "    elif clinical_var == 'wurs':\n",
        "        y = y.apply(lambda val: 1 if val >= 30 else 0)\n",
        "\n",
        "    # Convert to arrays\n",
        "    x_arr = np.array(x)\n",
        "    y_arr = np.array(y)\n",
        "\n",
        "    # Perform train-test split\n",
        "    x_train, x_test, y_train, y_test = train_test_split(x_arr, y_arr, test_size=0.2, stratify=y_arr, random_state=42)\n",
        "\n",
        "    return x_train, x_test, y_train, y_test"
      ],
      "metadata": {
        "id": "aGJue57p_rYw"
      },
      "id": "aGJue57p_rYw",
      "execution_count": 196,
      "outputs": []
    },
    {
      "cell_type": "markdown",
      "source": [
        "## Least viewed x, y coordinate pairs"
      ],
      "metadata": {
        "id": "RNUonsS9Arv2"
      },
      "id": "RNUonsS9Arv2"
    },
    {
      "cell_type": "code",
      "source": [
        "# least viwed = lv\n",
        "\n",
        "# AQ\n",
        "lv_x_train_aq_encoded_strat, lv_x_test_aq_encoded_strat, lv_y_train_aq_encoded_strat, lv_y_test_aq_encoded_strat = stratified_split(filtered_min_coordinates_list, 'aq')\n",
        "\n",
        "# BDI\n",
        "lv_x_train_bdi_encoded_strat, lv_x_test_bdi_encoded_strat, lv_y_train_bdi_encoded_strat, lv_y_test_bdi_encoded_strat = stratified_split(filtered_min_coordinates_list, 'bdi')\n",
        "\n",
        "# WURS\n",
        "lv_x_train_wurs_encoded_strat, lv_x_test_wurs_encoded_strat, lv_y_train_wurs_encoded_strat, lv_y_test_wurs_encoded_strat = stratified_split(filtered_min_coordinates_list, 'wurs')"
      ],
      "metadata": {
        "id": "S6K8Nw_FArwD"
      },
      "execution_count": 197,
      "outputs": [],
      "id": "S6K8Nw_FArwD"
    },
    {
      "cell_type": "markdown",
      "source": [
        "## Most viewed x, y coordinate pairs"
      ],
      "metadata": {
        "id": "k1076KE5g-vi"
      },
      "id": "k1076KE5g-vi"
    },
    {
      "cell_type": "code",
      "source": [
        "# most viewed = mv\n",
        "\n",
        "# AQ\n",
        "mv_x_train_aq_encoded_strat, mv_x_test_aq_encoded_strat, mv_y_train_aq_encoded_strat, mv_y_test_aq_encoded_strat = stratified_split(filtered_max_coordinates_list, 'aq')\n",
        "\n",
        "# BDI\n",
        "mv_x_train_bdi_encoded_strat, mv_x_test_bdi_encoded_strat, mv_y_train_bdi_encoded_strat, mv_y_test_bdi_encoded_strat = stratified_split(filtered_max_coordinates_list, 'bdi')\n",
        "\n",
        "# WURS\n",
        "mv_x_train_wurs_encoded_strat, mv_x_test_wurs_encoded_strat, mv_y_train_wurs_encoded_strat, mv_y_test_wurs_encoded_strat = stratified_split(filtered_max_coordinates_list, 'wurs')"
      ],
      "metadata": {
        "id": "O9fGLvxIg-vi"
      },
      "execution_count": 198,
      "outputs": [],
      "id": "O9fGLvxIg-vi"
    },
    {
      "cell_type": "markdown",
      "source": [
        "## Neighborhood surrounding max x, y coordinate pairs"
      ],
      "metadata": {
        "id": "Gnj5tZBQg-vj"
      },
      "id": "Gnj5tZBQg-vj"
    },
    {
      "cell_type": "code",
      "source": [
        "# AQ\n",
        "# range_neighborhood_x_train_aq_encoded_strat, range_neighborhood_x_test_aq_encoded_strat, range_neighborhood_y_train_aq_encoded_strat, range_neighborhood_y_test_aq_encoded_strat = split(range_neighborhood_df, 'aq')\n",
        "\n",
        "# BDI\n",
        "# range_neighborhood_x_train_bdi_encoded_strat, range_neighborhood_x_test_bdi_encoded_strat, range_neighborhood_y_train_bdi_encoded_strat, range_neighborhood_y_test_bdi_encoded_strat = split(range_neighborhood_df, 'bdi')\n",
        "\n",
        "# WURS\n",
        "# range_neighborhood_x_train_wurs_encoded_strat, range_neighborhood_x_test_wurs_encoded_strat, range_neighborhood_y_train_wurs_encoded_strat, range_neighborhood_y_test_wurs_encoded_strat = split(range_neighborhood_df, 'wurs')\n"
      ],
      "metadata": {
        "id": "uq9hIZ6Hg-vj"
      },
      "execution_count": 199,
      "outputs": [],
      "id": "uq9hIZ6Hg-vj"
    },
    {
      "cell_type": "markdown",
      "source": [
        "## Euclidean Distance"
      ],
      "metadata": {
        "id": "vec8W8pNTDzT"
      },
      "id": "vec8W8pNTDzT"
    },
    {
      "cell_type": "code",
      "source": [
        "# AQ\n",
        "ed_x_train_aq_encoded_strat, ed_x_test_aq_encoded_strat, ed_y_train_aq_encoded_strat, ed_y_test_aq_encoded_strat = stratified_split(ed_distances_pd, 'aq')\n",
        "\n",
        "# BDI\n",
        "ed_x_train_bdi_encoded_strat, ed_x_test_bdi_encoded_strat, ed_y_train_bdi_encoded_strat, ed_y_test_bdi_encoded_strat = stratified_split(ed_distances_pd, 'bdi')\n",
        "\n",
        "# WURS\n",
        "ed_x_train_wurs_encoded_strat, ed_x_test_wurs_encoded_strat, ed_y_train_wurs_encoded_strat, ed_y_test_wurs_encoded_strat = stratified_split(ed_distances_pd, 'wurs')"
      ],
      "metadata": {
        "id": "ZYJdHOEnTF-o"
      },
      "id": "ZYJdHOEnTF-o",
      "execution_count": 200,
      "outputs": []
    },
    {
      "cell_type": "markdown",
      "source": [
        "## Mean"
      ],
      "metadata": {
        "id": "BWh0X3Qvg-vj"
      },
      "id": "BWh0X3Qvg-vj"
    },
    {
      "cell_type": "code",
      "source": [
        "# AQ\n",
        "mean_x_train_aq_encoded_strat, mean_x_test_aq_encoded_strat, mean_y_train_aq_encoded_strat, mean_y_test_aq_encoded_strat = stratified_split(meanvals_df, 'aq')\n",
        "\n",
        "# BDI\n",
        "mean_x_train_bdi_encoded_strat, mean_x_test_bdi_encoded_strat, mean_y_train_bdi_encoded_strat, mean_y_test_bdi_encoded_strat = stratified_split(meanvals_df, 'bdi')\n",
        "\n",
        "# WURS\n",
        "mean_x_train_wurs_encoded_strat, mean_x_test_wurs_encoded_strat, mean_y_train_wurs_encoded_strat, mean_y_test_wurs_encoded_strat = stratified_split(meanvals_df, 'wurs')"
      ],
      "metadata": {
        "id": "EQ7CEl2Ag-vk"
      },
      "execution_count": 201,
      "outputs": [],
      "id": "EQ7CEl2Ag-vk"
    },
    {
      "cell_type": "markdown",
      "source": [
        "## Standard deviation"
      ],
      "metadata": {
        "id": "B3cj2pGag-vk"
      },
      "id": "B3cj2pGag-vk"
    },
    {
      "cell_type": "code",
      "source": [
        "# AQ\n",
        "std_x_train_aq_encoded_strat, std_x_test_aq_encoded_strat, std_y_train_aq_encoded_strat, std_y_test_aq_encoded_strat = stratified_split(stdvals_df, 'aq')\n",
        "\n",
        "# BDI\n",
        "std_x_train_bdi_encoded_strat, std_x_test_bdi_encoded_strat, std_y_train_bdi_encoded_strat, std_y_test_bdi_encoded_strat = stratified_split(stdvals_df, 'bdi')\n",
        "\n",
        "# WURS\n",
        "std_x_train_wurs_encoded_strat, std_x_test_wurs_encoded_strat, std_y_train_wurs_encoded_strat, std_y_test_wurs_encoded_strat = stratified_split(stdvals_df, 'wurs')"
      ],
      "metadata": {
        "id": "VR_w8VAVg-vk"
      },
      "execution_count": 202,
      "outputs": [],
      "id": "VR_w8VAVg-vk"
    },
    {
      "cell_type": "markdown",
      "source": [
        "## Median"
      ],
      "metadata": {
        "id": "QooNYiJig-vk"
      },
      "id": "QooNYiJig-vk"
    },
    {
      "cell_type": "code",
      "source": [
        "# AQ\n",
        "med_x_train_aq_encoded_strat, med_x_test_aq_encoded_strat, med_y_train_aq_encoded_strat, med_y_test_aq_encoded_strat = stratified_split(medvals_df, 'aq')\n",
        "\n",
        "# BDI\n",
        "med_x_train_bdi_encoded_strat, med_x_test_bdi_encoded_strat, med_y_train_bdi_encoded_strat, med_y_test_bdi_encoded_strat = stratified_split(medvals_df, 'bdi')\n",
        "\n",
        "# WURS\n",
        "med_x_train_wurs_encoded_strat, med_x_test_wurs_encoded_strat, med_y_train_wurs_encoded_strat, med_y_test_wurs_encoded_strat = stratified_split(medvals_df, 'wurs')"
      ],
      "metadata": {
        "id": "lmtm7xX8g-vk"
      },
      "execution_count": 203,
      "outputs": [],
      "id": "lmtm7xX8g-vk"
    },
    {
      "cell_type": "markdown",
      "source": [
        "## Pearsons correlation coefficient"
      ],
      "metadata": {
        "id": "UfwAT9YBg-vl"
      },
      "id": "UfwAT9YBg-vl"
    },
    {
      "cell_type": "code",
      "source": [
        "# AQ\n",
        "xy_pearson_cc_x_train_aq_encoded_strat, xy_pearson_cc_x_test_aq_encoded_strat, xy_pearson_cc_y_train_aq_encoded_strat, xy_pearson_cc_y_test_aq_encoded_strat = stratified_split(xy_pearson_df, 'aq')\n",
        "\n",
        "# BDI\n",
        "xy_pearson_cc_x_train_bdi_encoded_strat, xy_pearson_cc_x_test_bdi_encoded_strat, xy_pearson_cc_y_train_bdi_encoded_strat, xy_pearson_cc_y_test_bdi_encoded_strat = stratified_split(xy_pearson_df, 'bdi')\n",
        "\n",
        "# WURS\n",
        "xy_pearson_cc_x_train_wurs_encoded_strat, xy_pearson_cc_x_test_wurs_encoded_strat, xy_pearson_cc_y_train_wurs_encoded_strat, xy_pearson_cc_y_test_wurs_encoded_strat = stratified_split(xy_pearson_df, 'wurs')"
      ],
      "metadata": {
        "id": "QSPNo3Rfg-vl"
      },
      "execution_count": 204,
      "outputs": [],
      "id": "QSPNo3Rfg-vl"
    },
    {
      "cell_type": "markdown",
      "source": [
        "## Spearmans correlation coefficient"
      ],
      "metadata": {
        "id": "biX1igfWg-vl"
      },
      "id": "biX1igfWg-vl"
    },
    {
      "cell_type": "code",
      "source": [
        "# AQ\n",
        "xy_spearman_cc_x_train_aq_encoded_strat, xy_spearman_cc_x_test_aq_encoded_strat, xy_spearman_cc_y_train_aq_encoded_strat, xy_spearman_cc_y_test_aq_encoded_strat = stratified_split(xy_spearman_df, 'aq')\n",
        "\n",
        "# BDI\n",
        "xy_spearman_cc_x_train_bdi_encoded_strat, xy_spearman_cc_x_test_bdi_encoded_strat, xy_spearman_cc_y_train_bdi_encoded_strat, xy_spearman_cc_y_test_bdi_encoded_strat = stratified_split(xy_spearman_df, 'bdi')\n",
        "\n",
        "# WURS\n",
        "xy_spearman_cc_x_train_wurs_encoded_strat, xy_spearman_cc_x_test_wurs_encoded_strat, xy_spearman_cc_y_train_wurs_encoded_strat, xy_spearman_cc_y_test_wurs_encoded_strat = stratified_split(xy_spearman_df, 'wurs')"
      ],
      "metadata": {
        "id": "iNcz5ZZyg-vl"
      },
      "execution_count": 205,
      "outputs": [],
      "id": "iNcz5ZZyg-vl"
    },
    {
      "cell_type": "markdown",
      "source": [
        "## Range"
      ],
      "metadata": {
        "id": "_BV-V_wug-vl"
      },
      "id": "_BV-V_wug-vl"
    },
    {
      "cell_type": "code",
      "source": [
        "# AQ\n",
        "xy_range_x_train_aq_encoded_strat, xy_range_x_test_aq_encoded_strat, xy_range_y_train_aq_encoded_strat, xy_range_y_test_aq_encoded_strat = stratified_split(xy_range_df, 'aq')\n",
        "\n",
        "# BDI\n",
        "xy_range_x_train_bdi_encoded_strat, xy_range_x_test_bdi_encoded_strat, xy_range_y_train_bdi_encoded_strat, xy_range_y_test_bdi_encoded_strat = stratified_split(xy_range_df, 'bdi')\n",
        "\n",
        "# WURS\n",
        "xy_range_x_train_wurs_encoded_strat, xy_range_x_test_wurs_encoded_strat, xy_range_y_train_wurs_encoded_strat, xy_range_y_test_wurs_encoded_strat = stratified_split(xy_range_df, 'wurs')"
      ],
      "metadata": {
        "id": "Dr3bldlcg-vm"
      },
      "execution_count": 206,
      "outputs": [],
      "id": "Dr3bldlcg-vm"
    },
    {
      "cell_type": "markdown",
      "source": [
        "## Unique values mean"
      ],
      "metadata": {
        "id": "W75PW95qg-vm"
      },
      "id": "W75PW95qg-vm"
    },
    {
      "cell_type": "code",
      "source": [
        "# AQ\n",
        "xy_unique_x_train_aq_encoded_strat, xy_unique_x_test_aq_encoded_strat, xy_unique_y_train_aq_encoded_strat, xy_unique_y_test_aq_encoded_strat = stratified_split(unique_vals_mean_df, 'aq')\n",
        "\n",
        "# BDI\n",
        "xy_unique_x_train_bdi_encoded_strat, xy_unique_x_test_bdi_encoded_strat, xy_unique_y_train_bdi_encoded_strat, xy_unique_y_test_bdi_encoded_strat = stratified_split(unique_vals_mean_df, 'bdi')\n",
        "\n",
        "# WURS\n",
        "xy_unique_x_train_wurs_encoded_strat, xy_unique_x_test_wurs_encoded_strat, xy_unique_y_train_wurs_encoded_strat, xy_unique_y_test_wurs_encoded_strat = stratified_split(unique_vals_mean_df, 'wurs')"
      ],
      "metadata": {
        "id": "5JTUnhnxg-vm"
      },
      "execution_count": 207,
      "outputs": [],
      "id": "5JTUnhnxg-vm"
    },
    {
      "cell_type": "markdown",
      "source": [
        "# **Classifiers with Stratified Train-Test Split**"
      ],
      "metadata": {
        "id": "gR89H0GyhGl3"
      },
      "id": "gR89H0GyhGl3"
    },
    {
      "cell_type": "markdown",
      "source": [
        "## Logistic Regression"
      ],
      "metadata": {
        "id": "DCgG_dfwuatv"
      },
      "id": "DCgG_dfwuatv"
    },
    {
      "cell_type": "markdown",
      "source": [
        "### Least viewed x, y coordinate pairs"
      ],
      "metadata": {
        "id": "XazcBj1b_9rz"
      },
      "id": "XazcBj1b_9rz"
    },
    {
      "cell_type": "code",
      "source": [
        "# AQ\n",
        "logistic_regression(lv_x_train_aq_encoded_strat, lv_x_test_aq_encoded_strat, lv_y_train_aq_encoded_strat, lv_y_test_aq_encoded_strat)\n",
        "\n",
        "# BDI\n",
        "logistic_regression(lv_x_train_bdi_encoded_strat, lv_x_test_bdi_encoded_strat, lv_y_train_bdi_encoded_strat, lv_y_test_bdi_encoded_strat)\n",
        "\n",
        "# WURS\n",
        "logistic_regression(lv_x_train_wurs_encoded_strat, lv_x_test_wurs_encoded_strat, lv_y_train_wurs_encoded_strat, lv_y_test_wurs_encoded_strat)"
      ],
      "metadata": {
        "colab": {
          "base_uri": "https://localhost:8080/"
        },
        "outputId": "09a0540c-fa67-48d6-c23b-4c2d90e07163",
        "id": "SkLC3cvQ_9rz"
      },
      "execution_count": 208,
      "outputs": [
        {
          "output_type": "stream",
          "name": "stdout",
          "text": [
            "Accuracy: 55.00%\n",
            "F1: 18.20%\n",
            "Precision: 50.00%\n",
            "Recall: 11.10%\n",
            "\n",
            "Accuracy: 85.00%\n",
            "F1: 91.90%\n",
            "Precision: 85.00%\n",
            "Recall: 100.00%\n",
            "\n",
            "Accuracy: 70.00%\n",
            "F1: 82.40%\n",
            "Precision: 70.00%\n",
            "Recall: 100.00%\n",
            "\n"
          ]
        }
      ],
      "id": "SkLC3cvQ_9rz"
    },
    {
      "cell_type": "markdown",
      "source": [
        "### Most viewed x, y coordinate pairs"
      ],
      "metadata": {
        "id": "rh_InFlA_9r0"
      },
      "id": "rh_InFlA_9r0"
    },
    {
      "cell_type": "code",
      "source": [
        "# AQ\n",
        "logistic_regression(mv_x_train_aq_encoded_strat, mv_x_test_aq_encoded_strat, mv_y_train_aq_encoded_strat, mv_y_test_aq_encoded_strat)\n",
        "\n",
        "# BDI\n",
        "logistic_regression(mv_x_train_bdi_encoded_strat, mv_x_test_bdi_encoded_strat, mv_y_train_bdi_encoded_strat, mv_y_test_bdi_encoded_strat)\n",
        "\n",
        "# WURS\n",
        "logistic_regression(mv_x_train_wurs_encoded_strat, mv_x_test_wurs_encoded_strat, mv_y_train_wurs_encoded_strat, mv_y_test_wurs_encoded_strat)"
      ],
      "metadata": {
        "colab": {
          "base_uri": "https://localhost:8080/"
        },
        "outputId": "5a4cb205-2dde-4a91-c1bf-c26208431b43",
        "id": "IXJ6LYKf_9r0"
      },
      "execution_count": 209,
      "outputs": [
        {
          "output_type": "stream",
          "name": "stdout",
          "text": [
            "Accuracy: 70.00%\n",
            "F1: 57.10%\n",
            "Precision: 80.00%\n",
            "Recall: 44.40%\n",
            "\n",
            "Accuracy: 85.00%\n",
            "F1: 91.90%\n",
            "Precision: 85.00%\n",
            "Recall: 100.00%\n",
            "\n",
            "Accuracy: 70.00%\n",
            "F1: 82.40%\n",
            "Precision: 70.00%\n",
            "Recall: 100.00%\n",
            "\n"
          ]
        }
      ],
      "id": "IXJ6LYKf_9r0"
    },
    {
      "cell_type": "markdown",
      "source": [
        "### Euclidean Distance"
      ],
      "metadata": {
        "id": "toW8u6CrT0Gw"
      },
      "id": "toW8u6CrT0Gw"
    },
    {
      "cell_type": "code",
      "source": [
        "# AQ\n",
        "logistic_regression(ed_x_train_aq_encoded_strat, ed_x_test_aq_encoded_strat, ed_y_train_aq_encoded_strat, ed_y_test_aq_encoded_strat)\n",
        "\n",
        "# BDI\n",
        "logistic_regression(ed_x_train_bdi_encoded_strat, ed_x_test_bdi_encoded_strat, ed_y_train_bdi_encoded_strat, ed_y_test_bdi_encoded_strat)\n",
        "\n",
        "# WURS\n",
        "logistic_regression(ed_x_train_wurs_encoded_strat, ed_x_test_wurs_encoded_strat, ed_y_train_wurs_encoded_strat, ed_y_test_wurs_encoded_strat)"
      ],
      "metadata": {
        "colab": {
          "base_uri": "https://localhost:8080/"
        },
        "id": "kY1Ar-VJT26B",
        "outputId": "999a8110-72b4-495f-f324-30e567a42276"
      },
      "id": "kY1Ar-VJT26B",
      "execution_count": 210,
      "outputs": [
        {
          "output_type": "stream",
          "name": "stdout",
          "text": [
            "Accuracy: 55.00%\n",
            "F1: 0.00%\n",
            "Precision: 0.00%\n",
            "Recall: 0.00%\n",
            "\n",
            "Accuracy: 85.00%\n",
            "F1: 91.90%\n",
            "Precision: 85.00%\n",
            "Recall: 100.00%\n",
            "\n",
            "Accuracy: 70.00%\n",
            "F1: 82.40%\n",
            "Precision: 70.00%\n",
            "Recall: 100.00%\n",
            "\n"
          ]
        }
      ]
    },
    {
      "cell_type": "markdown",
      "source": [
        "### Mean"
      ],
      "metadata": {
        "id": "lq_zJIQ4_9r0"
      },
      "id": "lq_zJIQ4_9r0"
    },
    {
      "cell_type": "code",
      "source": [
        "# AQ\n",
        "logistic_regression(mean_x_train_aq_encoded_strat, mean_x_test_aq_encoded_strat, mean_y_train_aq_encoded_strat, mean_y_test_aq_encoded_strat)\n",
        "\n",
        "# BDI\n",
        "logistic_regression(mean_x_train_bdi_encoded_strat, mean_x_test_bdi_encoded_strat, mean_y_train_bdi_encoded_strat, mean_y_test_bdi_encoded_strat)\n",
        "\n",
        "# WURS\n",
        "logistic_regression(mean_x_train_wurs_encoded_strat, mean_x_test_wurs_encoded_strat, mean_y_train_wurs_encoded_strat, mean_y_test_wurs_encoded_strat)"
      ],
      "metadata": {
        "colab": {
          "base_uri": "https://localhost:8080/"
        },
        "outputId": "c86addf4-7cbc-493d-a138-087f15efe4e9",
        "id": "K6C--zTv_9r0"
      },
      "execution_count": 211,
      "outputs": [
        {
          "output_type": "stream",
          "name": "stdout",
          "text": [
            "Accuracy: 55.00%\n",
            "F1: 47.10%\n",
            "Precision: 50.00%\n",
            "Recall: 44.40%\n",
            "\n",
            "Accuracy: 85.00%\n",
            "F1: 91.40%\n",
            "Precision: 88.90%\n",
            "Recall: 94.10%\n",
            "\n",
            "Accuracy: 70.00%\n",
            "F1: 82.40%\n",
            "Precision: 70.00%\n",
            "Recall: 100.00%\n",
            "\n"
          ]
        }
      ],
      "id": "K6C--zTv_9r0"
    },
    {
      "cell_type": "markdown",
      "source": [
        "### Standard deviation"
      ],
      "metadata": {
        "id": "r1TabgfG_9r0"
      },
      "id": "r1TabgfG_9r0"
    },
    {
      "cell_type": "code",
      "source": [
        "# AQ\n",
        "logistic_regression(std_x_train_aq_encoded_strat, std_x_test_aq_encoded_strat, std_y_train_aq_encoded_strat, std_y_test_aq_encoded_strat)\n",
        "\n",
        "# BDI\n",
        "logistic_regression(std_x_train_bdi_encoded_strat, std_x_test_bdi_encoded_strat, std_y_train_bdi_encoded_strat, std_y_test_bdi_encoded_strat)\n",
        "\n",
        "# WURS\n",
        "logistic_regression(std_x_train_wurs_encoded_strat, std_x_test_wurs_encoded_strat, std_y_train_wurs_encoded_strat, std_y_test_wurs_encoded_strat)"
      ],
      "metadata": {
        "colab": {
          "base_uri": "https://localhost:8080/"
        },
        "outputId": "fc044fc0-36d3-49db-8883-370bc7181471",
        "id": "DHwUS5cq_9r0"
      },
      "execution_count": 212,
      "outputs": [
        {
          "output_type": "stream",
          "name": "stdout",
          "text": [
            "Accuracy: 50.00%\n",
            "F1: 16.70%\n",
            "Precision: 33.30%\n",
            "Recall: 11.10%\n",
            "\n",
            "Accuracy: 80.00%\n",
            "F1: 88.90%\n",
            "Precision: 84.20%\n",
            "Recall: 94.10%\n",
            "\n",
            "Accuracy: 70.00%\n",
            "F1: 82.40%\n",
            "Precision: 70.00%\n",
            "Recall: 100.00%\n",
            "\n"
          ]
        }
      ],
      "id": "DHwUS5cq_9r0"
    },
    {
      "cell_type": "markdown",
      "source": [
        "### Median"
      ],
      "metadata": {
        "id": "8cNZeKil_9r1"
      },
      "id": "8cNZeKil_9r1"
    },
    {
      "cell_type": "code",
      "source": [
        "# AQ\n",
        "logistic_regression(med_x_train_aq_encoded_strat, med_x_test_aq_encoded_strat, med_y_train_aq_encoded_strat, med_y_test_aq_encoded_strat)\n",
        "\n",
        "# BDI\n",
        "logistic_regression(med_x_train_bdi_encoded_strat, med_x_test_bdi_encoded_strat, med_y_train_bdi_encoded_strat, med_y_test_bdi_encoded_strat)\n",
        "\n",
        "# WURS\n",
        "logistic_regression(med_x_train_wurs_encoded_strat, med_x_test_wurs_encoded_strat, med_y_train_wurs_encoded_strat, med_y_test_wurs_encoded_strat)"
      ],
      "metadata": {
        "colab": {
          "base_uri": "https://localhost:8080/"
        },
        "outputId": "42cb3600-3e62-4951-8b30-462e74348ad2",
        "id": "VhbB3tsy_9r1"
      },
      "execution_count": 213,
      "outputs": [
        {
          "output_type": "stream",
          "name": "stdout",
          "text": [
            "Accuracy: 55.00%\n",
            "F1: 47.10%\n",
            "Precision: 50.00%\n",
            "Recall: 44.40%\n",
            "\n",
            "Accuracy: 85.00%\n",
            "F1: 91.90%\n",
            "Precision: 85.00%\n",
            "Recall: 100.00%\n",
            "\n",
            "Accuracy: 70.00%\n",
            "F1: 82.40%\n",
            "Precision: 70.00%\n",
            "Recall: 100.00%\n",
            "\n"
          ]
        }
      ],
      "id": "VhbB3tsy_9r1"
    },
    {
      "cell_type": "markdown",
      "source": [
        "### Pearsons CC"
      ],
      "metadata": {
        "id": "8Eg_WcIA_9r1"
      },
      "id": "8Eg_WcIA_9r1"
    },
    {
      "cell_type": "code",
      "source": [
        "# AQ\n",
        "logistic_regression(xy_pearson_cc_x_train_aq_encoded_strat, xy_pearson_cc_x_test_aq_encoded_strat, xy_pearson_cc_y_train_aq_encoded_strat, xy_pearson_cc_y_test_aq_encoded_strat)\n",
        "\n",
        "# BDI\n",
        "logistic_regression(xy_pearson_cc_x_train_bdi_encoded_strat, xy_pearson_cc_x_test_bdi_encoded_strat, xy_pearson_cc_y_train_bdi_encoded_strat, xy_pearson_cc_y_test_bdi_encoded_strat)\n",
        "\n",
        "# WURS\n",
        "logistic_regression(xy_pearson_cc_x_train_wurs_encoded_strat, xy_pearson_cc_x_test_wurs_encoded_strat, xy_pearson_cc_y_train_wurs_encoded_strat, xy_pearson_cc_y_test_wurs_encoded_strat)"
      ],
      "metadata": {
        "colab": {
          "base_uri": "https://localhost:8080/"
        },
        "outputId": "141cd5e8-4a4c-4e47-e4eb-52c1b4ec4eff",
        "id": "oslTtpP0_9r1"
      },
      "execution_count": 214,
      "outputs": [
        {
          "output_type": "stream",
          "name": "stdout",
          "text": [
            "Accuracy: 55.00%\n",
            "F1: 0.00%\n",
            "Precision: 0.00%\n",
            "Recall: 0.00%\n",
            "\n",
            "Accuracy: 85.00%\n",
            "F1: 91.90%\n",
            "Precision: 85.00%\n",
            "Recall: 100.00%\n",
            "\n",
            "Accuracy: 70.00%\n",
            "F1: 82.40%\n",
            "Precision: 70.00%\n",
            "Recall: 100.00%\n",
            "\n"
          ]
        }
      ],
      "id": "oslTtpP0_9r1"
    },
    {
      "cell_type": "markdown",
      "source": [
        "### Spearmans CC"
      ],
      "metadata": {
        "id": "V8gcyvxS_9r1"
      },
      "id": "V8gcyvxS_9r1"
    },
    {
      "cell_type": "code",
      "source": [
        "# AQ\n",
        "logistic_regression(xy_spearman_cc_x_train_aq_encoded_strat, xy_spearman_cc_x_test_aq_encoded_strat, xy_spearman_cc_y_train_aq_encoded_strat, xy_spearman_cc_y_test_aq_encoded_strat)\n",
        "\n",
        "# BDI\n",
        "logistic_regression(xy_spearman_cc_x_train_bdi_encoded_strat, xy_spearman_cc_x_test_bdi_encoded_strat, xy_spearman_cc_y_train_bdi_encoded_strat, xy_spearman_cc_y_test_bdi_encoded_strat)\n",
        "\n",
        "# WURS\n",
        "logistic_regression(xy_spearman_cc_x_train_wurs_encoded_strat, xy_spearman_cc_x_test_wurs_encoded_strat, xy_spearman_cc_y_train_wurs_encoded_strat, xy_spearman_cc_y_test_wurs_encoded_strat)"
      ],
      "metadata": {
        "colab": {
          "base_uri": "https://localhost:8080/"
        },
        "outputId": "83cdc3d4-d98f-4463-ca91-827623c5aec3",
        "id": "FFl3a9xX_9r1"
      },
      "execution_count": 215,
      "outputs": [
        {
          "output_type": "stream",
          "name": "stdout",
          "text": [
            "Accuracy: 55.00%\n",
            "F1: 0.00%\n",
            "Precision: 0.00%\n",
            "Recall: 0.00%\n",
            "\n",
            "Accuracy: 85.00%\n",
            "F1: 91.90%\n",
            "Precision: 85.00%\n",
            "Recall: 100.00%\n",
            "\n",
            "Accuracy: 70.00%\n",
            "F1: 82.40%\n",
            "Precision: 70.00%\n",
            "Recall: 100.00%\n",
            "\n"
          ]
        }
      ],
      "id": "FFl3a9xX_9r1"
    },
    {
      "cell_type": "markdown",
      "source": [
        "### Range"
      ],
      "metadata": {
        "id": "AxqnncwE_9r1"
      },
      "id": "AxqnncwE_9r1"
    },
    {
      "cell_type": "code",
      "source": [
        "# AQ\n",
        "logistic_regression(xy_range_x_train_aq_encoded_strat, xy_range_x_test_aq_encoded_strat, xy_range_y_train_aq_encoded_strat, xy_range_y_test_aq_encoded_strat)\n",
        "\n",
        "# BDI\n",
        "logistic_regression(xy_range_x_train_bdi_encoded_strat, xy_range_x_test_bdi_encoded_strat, xy_range_y_train_bdi_encoded_strat, xy_range_y_test_bdi_encoded_strat)\n",
        "\n",
        "# WURS\n",
        "logistic_regression(xy_range_x_train_wurs_encoded_strat, xy_range_x_test_wurs_encoded_strat, xy_range_y_train_wurs_encoded_strat, xy_range_y_test_wurs_encoded_strat)"
      ],
      "metadata": {
        "colab": {
          "base_uri": "https://localhost:8080/"
        },
        "outputId": "e084f657-80cc-4cda-b646-beac5da52b06",
        "id": "0bA_XRGf_9r1"
      },
      "execution_count": 216,
      "outputs": [
        {
          "output_type": "stream",
          "name": "stdout",
          "text": [
            "Accuracy: 50.00%\n",
            "F1: 37.50%\n",
            "Precision: 42.90%\n",
            "Recall: 33.30%\n",
            "\n",
            "Accuracy: 85.00%\n",
            "F1: 91.90%\n",
            "Precision: 85.00%\n",
            "Recall: 100.00%\n",
            "\n",
            "Accuracy: 70.00%\n",
            "F1: 82.40%\n",
            "Precision: 70.00%\n",
            "Recall: 100.00%\n",
            "\n"
          ]
        }
      ],
      "id": "0bA_XRGf_9r1"
    },
    {
      "cell_type": "markdown",
      "source": [
        "### Unique values"
      ],
      "metadata": {
        "id": "KvilKDXP_9r2"
      },
      "id": "KvilKDXP_9r2"
    },
    {
      "cell_type": "code",
      "source": [
        "# AQ\n",
        "logistic_regression(xy_unique_x_train_aq_encoded_strat, xy_unique_x_test_aq_encoded_strat, xy_unique_y_train_aq_encoded_strat, xy_unique_y_test_aq_encoded_strat)\n",
        "\n",
        "# BDI\n",
        "logistic_regression(xy_unique_x_train_bdi_encoded_strat, xy_unique_x_test_bdi_encoded_strat, xy_unique_y_train_bdi_encoded_strat, xy_unique_y_test_bdi_encoded_strat)\n",
        "\n",
        "# WURS\n",
        "logistic_regression(xy_unique_x_train_wurs_encoded_strat, xy_unique_x_test_wurs_encoded_strat, xy_unique_y_train_wurs_encoded_strat, xy_unique_y_test_wurs_encoded_strat)"
      ],
      "metadata": {
        "colab": {
          "base_uri": "https://localhost:8080/"
        },
        "outputId": "241c1f48-04ed-4a98-dd2a-801c09cc59be",
        "id": "L7CkjJxU_9r2"
      },
      "execution_count": 217,
      "outputs": [
        {
          "output_type": "stream",
          "name": "stdout",
          "text": [
            "Accuracy: 65.00%\n",
            "F1: 46.20%\n",
            "Precision: 75.00%\n",
            "Recall: 33.30%\n",
            "\n",
            "Accuracy: 85.00%\n",
            "F1: 91.90%\n",
            "Precision: 85.00%\n",
            "Recall: 100.00%\n",
            "\n",
            "Accuracy: 70.00%\n",
            "F1: 82.40%\n",
            "Precision: 70.00%\n",
            "Recall: 100.00%\n",
            "\n"
          ]
        }
      ],
      "id": "L7CkjJxU_9r2"
    },
    {
      "cell_type": "markdown",
      "source": [
        "## Decision Tree"
      ],
      "metadata": {
        "id": "w7sW8FLl3L0-"
      },
      "id": "w7sW8FLl3L0-"
    },
    {
      "cell_type": "markdown",
      "source": [
        "### Least viewed x, y coordinate pairs"
      ],
      "metadata": {
        "id": "-xoxRKfV3SRx"
      },
      "id": "-xoxRKfV3SRx"
    },
    {
      "cell_type": "code",
      "source": [
        "# AQ\n",
        "decision_tree_classifier(lv_x_train_aq_encoded_strat, lv_x_test_aq_encoded_strat, lv_y_train_aq_encoded_strat, lv_y_test_aq_encoded_strat)\n",
        "\n",
        "# BDI\n",
        "decision_tree_classifier(lv_x_train_bdi_encoded_strat, lv_x_test_bdi_encoded_strat, lv_y_train_bdi_encoded_strat, lv_y_test_bdi_encoded_strat)\n",
        "\n",
        "# WURS\n",
        "decision_tree_classifier(lv_x_train_wurs_encoded_strat, lv_x_test_wurs_encoded_strat, lv_y_train_wurs_encoded_strat, lv_y_test_wurs_encoded_strat)"
      ],
      "metadata": {
        "colab": {
          "base_uri": "https://localhost:8080/"
        },
        "outputId": "bdf136bf-2c5a-43be-e478-aa03012ce7d1",
        "id": "vGBaVpBm3SR-"
      },
      "execution_count": 218,
      "outputs": [
        {
          "output_type": "stream",
          "name": "stdout",
          "text": [
            "Accuracy: 50.00%\n",
            "F1: 50.00%\n",
            "Precision: 45.50%\n",
            "Recall: 55.60%\n",
            "\n",
            "Accuracy: 80.00%\n",
            "F1: 88.90%\n",
            "Precision: 84.20%\n",
            "Recall: 94.10%\n",
            "\n",
            "Accuracy: 70.00%\n",
            "F1: 76.90%\n",
            "Precision: 83.30%\n",
            "Recall: 71.40%\n",
            "\n"
          ]
        }
      ],
      "id": "vGBaVpBm3SR-"
    },
    {
      "cell_type": "markdown",
      "source": [
        "### Most viewed x, y coordinate pairs"
      ],
      "metadata": {
        "id": "AfUXOOfr3SR_"
      },
      "id": "AfUXOOfr3SR_"
    },
    {
      "cell_type": "code",
      "source": [
        "# AQ\n",
        "decision_tree_classifier(mv_x_train_aq_encoded_strat, mv_x_test_aq_encoded_strat, mv_y_train_aq_encoded_strat, mv_y_test_aq_encoded_strat)\n",
        "\n",
        "# BDI\n",
        "decision_tree_classifier(mv_x_train_bdi_encoded_strat, mv_x_test_bdi_encoded_strat, mv_y_train_bdi_encoded_strat, mv_y_test_bdi_encoded_strat)\n",
        "\n",
        "# WURS\n",
        "decision_tree_classifier(mv_x_train_wurs_encoded_strat, mv_x_test_wurs_encoded_strat, mv_y_train_wurs_encoded_strat, mv_y_test_wurs_encoded_strat)"
      ],
      "metadata": {
        "colab": {
          "base_uri": "https://localhost:8080/"
        },
        "outputId": "a2e4833a-a86d-4d97-e61e-7cd4f5bf454f",
        "id": "jBAVYVrP3SR_"
      },
      "execution_count": 219,
      "outputs": [
        {
          "output_type": "stream",
          "name": "stdout",
          "text": [
            "Accuracy: 65.00%\n",
            "F1: 63.20%\n",
            "Precision: 60.00%\n",
            "Recall: 66.70%\n",
            "\n",
            "Accuracy: 85.00%\n",
            "F1: 91.40%\n",
            "Precision: 88.90%\n",
            "Recall: 94.10%\n",
            "\n",
            "Accuracy: 60.00%\n",
            "F1: 71.40%\n",
            "Precision: 71.40%\n",
            "Recall: 71.40%\n",
            "\n"
          ]
        }
      ],
      "id": "jBAVYVrP3SR_"
    },
    {
      "cell_type": "markdown",
      "source": [
        "### Euclidean Distance"
      ],
      "metadata": {
        "id": "WC0u9766UHmw"
      },
      "id": "WC0u9766UHmw"
    },
    {
      "cell_type": "code",
      "source": [
        "# AQ\n",
        "decision_tree_classifier(ed_x_train_aq_encoded_strat, ed_x_test_aq_encoded_strat, ed_y_train_aq_encoded_strat, ed_y_test_aq_encoded_strat)\n",
        "\n",
        "# BDI\n",
        "decision_tree_classifier(ed_x_train_bdi_encoded_strat, ed_x_test_bdi_encoded_strat, ed_y_train_bdi_encoded_strat, ed_y_test_bdi_encoded_strat)\n",
        "\n",
        "# WURS\n",
        "decision_tree_classifier(ed_x_train_wurs_encoded_strat, ed_x_test_wurs_encoded_strat, ed_y_train_wurs_encoded_strat, ed_y_test_wurs_encoded_strat)"
      ],
      "metadata": {
        "colab": {
          "base_uri": "https://localhost:8080/"
        },
        "outputId": "e671ce13-fe7d-4d5c-9e22-b3873a819397",
        "id": "IKSWESioUHmx"
      },
      "execution_count": 220,
      "outputs": [
        {
          "output_type": "stream",
          "name": "stdout",
          "text": [
            "Accuracy: 50.00%\n",
            "F1: 50.00%\n",
            "Precision: 45.50%\n",
            "Recall: 55.60%\n",
            "\n",
            "Accuracy: 80.00%\n",
            "F1: 88.20%\n",
            "Precision: 88.20%\n",
            "Recall: 88.20%\n",
            "\n",
            "Accuracy: 60.00%\n",
            "F1: 71.40%\n",
            "Precision: 71.40%\n",
            "Recall: 71.40%\n",
            "\n"
          ]
        }
      ],
      "id": "IKSWESioUHmx"
    },
    {
      "cell_type": "markdown",
      "source": [
        "### Mean"
      ],
      "metadata": {
        "id": "2tW66J9_3SR_"
      },
      "id": "2tW66J9_3SR_"
    },
    {
      "cell_type": "code",
      "source": [
        "# AQ\n",
        "decision_tree_classifier(mean_x_train_aq_encoded_strat, mean_x_test_aq_encoded_strat, mean_y_train_aq_encoded_strat, mean_y_test_aq_encoded_strat)\n",
        "\n",
        "# BDI\n",
        "decision_tree_classifier(mean_x_train_bdi_encoded_strat, mean_x_test_bdi_encoded_strat, mean_y_train_bdi_encoded_strat, mean_y_test_bdi_encoded_strat)\n",
        "\n",
        "# WURS\n",
        "decision_tree_classifier(mean_x_train_wurs_encoded_strat, mean_x_test_wurs_encoded_strat, mean_y_train_wurs_encoded_strat, mean_y_test_wurs_encoded_strat)"
      ],
      "metadata": {
        "colab": {
          "base_uri": "https://localhost:8080/"
        },
        "outputId": "8fbc2732-8aa8-44be-e344-6662dc59fb54",
        "id": "BREg-hS13SR_"
      },
      "execution_count": 221,
      "outputs": [
        {
          "output_type": "stream",
          "name": "stdout",
          "text": [
            "Accuracy: 75.00%\n",
            "F1: 66.70%\n",
            "Precision: 83.30%\n",
            "Recall: 55.60%\n",
            "\n",
            "Accuracy: 85.00%\n",
            "F1: 91.40%\n",
            "Precision: 88.90%\n",
            "Recall: 94.10%\n",
            "\n",
            "Accuracy: 50.00%\n",
            "F1: 54.50%\n",
            "Precision: 75.00%\n",
            "Recall: 42.90%\n",
            "\n"
          ]
        }
      ],
      "id": "BREg-hS13SR_"
    },
    {
      "cell_type": "markdown",
      "source": [
        "### Standard deviation"
      ],
      "metadata": {
        "id": "VznXriUG3SR_"
      },
      "id": "VznXriUG3SR_"
    },
    {
      "cell_type": "code",
      "source": [
        "# AQ\n",
        "decision_tree_classifier(std_x_train_aq_encoded_strat, std_x_test_aq_encoded_strat, std_y_train_aq_encoded_strat, std_y_test_aq_encoded_strat)\n",
        "\n",
        "# BDI\n",
        "decision_tree_classifier(std_x_train_bdi_encoded_strat, std_x_test_bdi_encoded_strat, std_y_train_bdi_encoded_strat, std_y_test_bdi_encoded_strat)\n",
        "\n",
        "# WURS\n",
        "decision_tree_classifier(std_x_train_wurs_encoded_strat, std_x_test_wurs_encoded_strat, std_y_train_wurs_encoded_strat, std_y_test_wurs_encoded_strat)"
      ],
      "metadata": {
        "colab": {
          "base_uri": "https://localhost:8080/"
        },
        "outputId": "cb346251-5cc9-4e25-f57b-6b06cdacb703",
        "id": "hxyStf-l3SSA"
      },
      "execution_count": 222,
      "outputs": [
        {
          "output_type": "stream",
          "name": "stdout",
          "text": [
            "Accuracy: 50.00%\n",
            "F1: 50.00%\n",
            "Precision: 45.50%\n",
            "Recall: 55.60%\n",
            "\n",
            "Accuracy: 65.00%\n",
            "F1: 77.40%\n",
            "Precision: 85.70%\n",
            "Recall: 70.60%\n",
            "\n",
            "Accuracy: 50.00%\n",
            "F1: 61.50%\n",
            "Precision: 66.70%\n",
            "Recall: 57.10%\n",
            "\n"
          ]
        }
      ],
      "id": "hxyStf-l3SSA"
    },
    {
      "cell_type": "markdown",
      "source": [
        "### Median"
      ],
      "metadata": {
        "id": "dc_kD7Xe3SSA"
      },
      "id": "dc_kD7Xe3SSA"
    },
    {
      "cell_type": "code",
      "source": [
        "# AQ\n",
        "decision_tree_classifier(med_x_train_aq_encoded_strat, med_x_test_aq_encoded_strat, med_y_train_aq_encoded_strat, med_y_test_aq_encoded_strat)\n",
        "\n",
        "# BDI\n",
        "decision_tree_classifier(med_x_train_bdi_encoded_strat, med_x_test_bdi_encoded_strat, med_y_train_bdi_encoded_strat, med_y_test_bdi_encoded_strat)\n",
        "\n",
        "# WURS\n",
        "decision_tree_classifier(med_x_train_wurs_encoded_strat, med_x_test_wurs_encoded_strat, med_y_train_wurs_encoded_strat, med_y_test_wurs_encoded_strat)"
      ],
      "metadata": {
        "colab": {
          "base_uri": "https://localhost:8080/"
        },
        "outputId": "8e13c461-10ed-4514-f306-85271ae9164c",
        "id": "-VofyjOH3SSA"
      },
      "execution_count": 223,
      "outputs": [
        {
          "output_type": "stream",
          "name": "stdout",
          "text": [
            "Accuracy: 60.00%\n",
            "F1: 50.00%\n",
            "Precision: 57.10%\n",
            "Recall: 44.40%\n",
            "\n",
            "Accuracy: 70.00%\n",
            "F1: 82.40%\n",
            "Precision: 82.40%\n",
            "Recall: 82.40%\n",
            "\n",
            "Accuracy: 60.00%\n",
            "F1: 71.40%\n",
            "Precision: 71.40%\n",
            "Recall: 71.40%\n",
            "\n"
          ]
        }
      ],
      "id": "-VofyjOH3SSA"
    },
    {
      "cell_type": "markdown",
      "source": [
        "### Pearsons CC"
      ],
      "metadata": {
        "id": "A2l7QaDX3SSA"
      },
      "id": "A2l7QaDX3SSA"
    },
    {
      "cell_type": "code",
      "source": [
        "# AQ\n",
        "decision_tree_classifier(xy_pearson_cc_x_train_aq_encoded_strat, xy_pearson_cc_x_test_aq_encoded_strat, xy_pearson_cc_y_train_aq_encoded_strat, xy_pearson_cc_y_test_aq_encoded_strat)\n",
        "\n",
        "# BDI\n",
        "decision_tree_classifier(xy_pearson_cc_x_train_bdi_encoded_strat, xy_pearson_cc_x_test_bdi_encoded_strat, xy_pearson_cc_y_train_bdi_encoded_strat, xy_pearson_cc_y_test_bdi_encoded_strat)\n",
        "\n",
        "# WURS\n",
        "decision_tree_classifier(xy_pearson_cc_x_train_wurs_encoded_strat, xy_pearson_cc_x_test_wurs_encoded_strat, xy_pearson_cc_y_train_wurs_encoded_strat, xy_pearson_cc_y_test_wurs_encoded_strat)"
      ],
      "metadata": {
        "colab": {
          "base_uri": "https://localhost:8080/"
        },
        "outputId": "d532ca0f-c303-480a-dc81-8e45c62bddc9",
        "id": "4nd2XpBf3SSA"
      },
      "execution_count": 224,
      "outputs": [
        {
          "output_type": "stream",
          "name": "stdout",
          "text": [
            "Accuracy: 45.00%\n",
            "F1: 35.30%\n",
            "Precision: 37.50%\n",
            "Recall: 33.30%\n",
            "\n",
            "Accuracy: 70.00%\n",
            "F1: 82.40%\n",
            "Precision: 82.40%\n",
            "Recall: 82.40%\n",
            "\n",
            "Accuracy: 75.00%\n",
            "F1: 82.80%\n",
            "Precision: 80.00%\n",
            "Recall: 85.70%\n",
            "\n"
          ]
        }
      ],
      "id": "4nd2XpBf3SSA"
    },
    {
      "cell_type": "markdown",
      "source": [
        "### Spearmans CC"
      ],
      "metadata": {
        "id": "mLkVnCi13SSA"
      },
      "id": "mLkVnCi13SSA"
    },
    {
      "cell_type": "code",
      "source": [
        "# AQ\n",
        "decision_tree_classifier(xy_spearman_cc_x_train_aq_encoded_strat, xy_spearman_cc_x_test_aq_encoded_strat, xy_spearman_cc_y_train_aq_encoded_strat, xy_spearman_cc_y_test_aq_encoded_strat)\n",
        "\n",
        "# BDI\n",
        "decision_tree_classifier(xy_spearman_cc_x_train_bdi_encoded_strat, xy_spearman_cc_x_test_bdi_encoded_strat, xy_spearman_cc_y_train_bdi_encoded_strat, xy_spearman_cc_y_test_bdi_encoded_strat)\n",
        "\n",
        "# WURS\n",
        "decision_tree_classifier(xy_spearman_cc_x_train_wurs_encoded_strat, xy_spearman_cc_x_test_wurs_encoded_strat, xy_spearman_cc_y_train_wurs_encoded_strat, xy_spearman_cc_y_test_wurs_encoded_strat)"
      ],
      "metadata": {
        "colab": {
          "base_uri": "https://localhost:8080/"
        },
        "outputId": "4b65d0d8-e2c4-45c7-b194-79894cbd507e",
        "id": "XtNTtgD23SSA"
      },
      "execution_count": 225,
      "outputs": [
        {
          "output_type": "stream",
          "name": "stdout",
          "text": [
            "Accuracy: 60.00%\n",
            "F1: 55.60%\n",
            "Precision: 55.60%\n",
            "Recall: 55.60%\n",
            "\n",
            "Accuracy: 70.00%\n",
            "F1: 82.40%\n",
            "Precision: 82.40%\n",
            "Recall: 82.40%\n",
            "\n",
            "Accuracy: 60.00%\n",
            "F1: 71.40%\n",
            "Precision: 71.40%\n",
            "Recall: 71.40%\n",
            "\n"
          ]
        }
      ],
      "id": "XtNTtgD23SSA"
    },
    {
      "cell_type": "markdown",
      "source": [
        "### Range"
      ],
      "metadata": {
        "id": "W2pzTOlR3SSA"
      },
      "id": "W2pzTOlR3SSA"
    },
    {
      "cell_type": "code",
      "source": [
        "# AQ\n",
        "decision_tree_classifier(xy_range_x_train_aq_encoded_strat, xy_range_x_test_aq_encoded_strat, xy_range_y_train_aq_encoded_strat, xy_range_y_test_aq_encoded_strat)\n",
        "\n",
        "# BDI\n",
        "decision_tree_classifier(xy_range_x_train_bdi_encoded_strat, xy_range_x_test_bdi_encoded_strat, xy_range_y_train_bdi_encoded_strat, xy_range_y_test_bdi_encoded_strat)\n",
        "\n",
        "# WURS\n",
        "decision_tree_classifier(xy_range_x_train_wurs_encoded_strat, xy_range_x_test_wurs_encoded_strat, xy_range_y_train_wurs_encoded_strat, xy_range_y_test_wurs_encoded_strat)"
      ],
      "metadata": {
        "colab": {
          "base_uri": "https://localhost:8080/"
        },
        "outputId": "409a1afa-0766-4f47-d310-465a3af1a587",
        "id": "dmFQnVC33SSA"
      },
      "execution_count": 226,
      "outputs": [
        {
          "output_type": "stream",
          "name": "stdout",
          "text": [
            "Accuracy: 60.00%\n",
            "F1: 42.90%\n",
            "Precision: 60.00%\n",
            "Recall: 33.30%\n",
            "\n",
            "Accuracy: 60.00%\n",
            "F1: 75.00%\n",
            "Precision: 80.00%\n",
            "Recall: 70.60%\n",
            "\n",
            "Accuracy: 55.00%\n",
            "F1: 69.00%\n",
            "Precision: 66.70%\n",
            "Recall: 71.40%\n",
            "\n"
          ]
        }
      ],
      "id": "dmFQnVC33SSA"
    },
    {
      "cell_type": "markdown",
      "source": [
        "### Unique values"
      ],
      "metadata": {
        "id": "I0lT8REq3SSB"
      },
      "id": "I0lT8REq3SSB"
    },
    {
      "cell_type": "code",
      "source": [
        "# AQ\n",
        "decision_tree_classifier(xy_unique_x_train_aq_encoded_strat, xy_unique_x_test_aq_encoded_strat, xy_unique_y_train_aq_encoded_strat, xy_unique_y_test_aq_encoded_strat)\n",
        "\n",
        "# BDI\n",
        "decision_tree_classifier(xy_unique_x_train_bdi_encoded_strat, xy_unique_x_test_bdi_encoded_strat, xy_unique_y_train_bdi_encoded_strat, xy_unique_y_test_bdi_encoded_strat)\n",
        "\n",
        "# WURS\n",
        "decision_tree_classifier(xy_unique_x_train_wurs_encoded_strat, xy_unique_x_test_wurs_encoded_strat, xy_unique_y_train_wurs_encoded_strat, xy_unique_y_test_wurs_encoded_strat)"
      ],
      "metadata": {
        "colab": {
          "base_uri": "https://localhost:8080/"
        },
        "outputId": "0706b300-1d9c-435a-e773-446a7201a09c",
        "id": "R1uahkpc3SSB"
      },
      "execution_count": 227,
      "outputs": [
        {
          "output_type": "stream",
          "name": "stdout",
          "text": [
            "Accuracy: 45.00%\n",
            "F1: 42.10%\n",
            "Precision: 40.00%\n",
            "Recall: 44.40%\n",
            "\n",
            "Accuracy: 80.00%\n",
            "F1: 88.90%\n",
            "Precision: 84.20%\n",
            "Recall: 94.10%\n",
            "\n",
            "Accuracy: 55.00%\n",
            "F1: 64.00%\n",
            "Precision: 72.70%\n",
            "Recall: 57.10%\n",
            "\n"
          ]
        }
      ],
      "id": "R1uahkpc3SSB"
    },
    {
      "cell_type": "markdown",
      "source": [
        "## Random Forest"
      ],
      "metadata": {
        "id": "O1sOv67m3jYi"
      },
      "id": "O1sOv67m3jYi"
    },
    {
      "cell_type": "markdown",
      "source": [
        "### Least viewed x, y coordinate pairs"
      ],
      "metadata": {
        "id": "jpXsxMNJ3pAt"
      },
      "id": "jpXsxMNJ3pAt"
    },
    {
      "cell_type": "code",
      "source": [
        "# AQ\n",
        "random_forest_classifier(lv_x_train_aq_encoded_strat, lv_x_test_aq_encoded_strat, lv_y_train_aq_encoded_strat, lv_y_test_aq_encoded_strat)\n",
        "\n",
        "# BDI\n",
        "random_forest_classifier(lv_x_train_bdi_encoded_strat, lv_x_test_bdi_encoded_strat, lv_y_train_bdi_encoded_strat, lv_y_test_bdi_encoded_strat)\n",
        "\n",
        "# WURS\n",
        "random_forest_classifier(lv_x_train_wurs_encoded_strat, lv_x_test_wurs_encoded_strat, lv_y_train_wurs_encoded_strat, lv_y_test_wurs_encoded_strat)"
      ],
      "metadata": {
        "colab": {
          "base_uri": "https://localhost:8080/"
        },
        "outputId": "f48e6991-ac48-40be-8afd-2a8fc8a2df6a",
        "id": "pRAynlyd3pAu"
      },
      "execution_count": 228,
      "outputs": [
        {
          "output_type": "stream",
          "name": "stdout",
          "text": [
            "Accuracy: 55.00%\n",
            "F1: 54.90%\n",
            "Precision: 56.20%\n",
            "Recall: 56.10%\n",
            "\n",
            "Accuracy: 80.00%\n",
            "F1: 44.40%\n",
            "Precision: 42.10%\n",
            "Recall: 47.10%\n",
            "\n",
            "Accuracy: 75.00%\n",
            "F1: 71.50%\n",
            "Precision: 70.90%\n",
            "Recall: 72.60%\n",
            "\n"
          ]
        }
      ],
      "id": "pRAynlyd3pAu"
    },
    {
      "cell_type": "markdown",
      "source": [
        "### Most viewed x, y coordinate pairs"
      ],
      "metadata": {
        "id": "yg1AwTqE3pAu"
      },
      "id": "yg1AwTqE3pAu"
    },
    {
      "cell_type": "code",
      "source": [
        "# AQ\n",
        "random_forest_classifier(mv_x_train_aq_encoded_strat, mv_x_test_aq_encoded_strat, mv_y_train_aq_encoded_strat, mv_y_test_aq_encoded_strat)\n",
        "\n",
        "# BDI\n",
        "random_forest_classifier(mv_x_train_bdi_encoded_strat, mv_x_test_bdi_encoded_strat, mv_y_train_bdi_encoded_strat, mv_y_test_bdi_encoded_strat)\n",
        "\n",
        "# WURS\n",
        "random_forest_classifier(mv_x_train_wurs_encoded_strat, mv_x_test_wurs_encoded_strat, mv_y_train_wurs_encoded_strat, mv_y_test_wurs_encoded_strat)"
      ],
      "metadata": {
        "colab": {
          "base_uri": "https://localhost:8080/"
        },
        "outputId": "23a6d0c3-f243-47fb-e691-e6fe4d8ccf43",
        "id": "h213Rb7R3pAu"
      },
      "execution_count": 229,
      "outputs": [
        {
          "output_type": "stream",
          "name": "stdout",
          "text": [
            "Accuracy: 70.00%\n",
            "F1: 68.80%\n",
            "Precision: 70.30%\n",
            "Recall: 68.70%\n",
            "\n",
            "Accuracy: 85.00%\n",
            "F1: 45.90%\n",
            "Precision: 42.50%\n",
            "Recall: 50.00%\n",
            "\n",
            "Accuracy: 65.00%\n",
            "F1: 56.10%\n",
            "Precision: 56.70%\n",
            "Recall: 56.00%\n",
            "\n"
          ]
        }
      ],
      "id": "h213Rb7R3pAu"
    },
    {
      "cell_type": "markdown",
      "source": [
        "### Euclidean Distance"
      ],
      "metadata": {
        "id": "DmU2utNTUOcW"
      },
      "id": "DmU2utNTUOcW"
    },
    {
      "cell_type": "code",
      "source": [
        "# AQ\n",
        "random_forest_classifier(ed_x_train_aq_encoded_strat, ed_x_test_aq_encoded_strat, ed_y_train_aq_encoded_strat, ed_y_test_aq_encoded_strat)\n",
        "\n",
        "# BDI\n",
        "random_forest_classifier(ed_x_train_bdi_encoded_strat, ed_x_test_bdi_encoded_strat, ed_y_train_bdi_encoded_strat, ed_y_test_bdi_encoded_strat)\n",
        "\n",
        "# WURS\n",
        "random_forest_classifier(ed_x_train_wurs_encoded_strat, ed_x_test_wurs_encoded_strat, ed_y_train_wurs_encoded_strat, ed_y_test_wurs_encoded_strat)"
      ],
      "metadata": {
        "colab": {
          "base_uri": "https://localhost:8080/"
        },
        "outputId": "deeff379-04dc-42c7-b190-b2aa97eafa90",
        "id": "sLX-JTX6UOcn"
      },
      "execution_count": 230,
      "outputs": [
        {
          "output_type": "stream",
          "name": "stdout",
          "text": [
            "Accuracy: 50.00%\n",
            "F1: 50.00%\n",
            "Precision: 50.50%\n",
            "Recall: 50.50%\n",
            "\n",
            "Accuracy: 80.00%\n",
            "F1: 60.80%\n",
            "Precision: 60.80%\n",
            "Recall: 60.80%\n",
            "\n",
            "Accuracy: 60.00%\n",
            "F1: 52.40%\n",
            "Precision: 52.40%\n",
            "Recall: 52.40%\n",
            "\n"
          ]
        }
      ],
      "id": "sLX-JTX6UOcn"
    },
    {
      "cell_type": "markdown",
      "source": [
        "### Mean"
      ],
      "metadata": {
        "id": "5Z69Gfgy3pAu"
      },
      "id": "5Z69Gfgy3pAu"
    },
    {
      "cell_type": "code",
      "source": [
        "# AQ\n",
        "random_forest_classifier(mean_x_train_aq_encoded_strat, mean_x_test_aq_encoded_strat, mean_y_train_aq_encoded_strat, mean_y_test_aq_encoded_strat)\n",
        "\n",
        "# BDI\n",
        "random_forest_classifier(mean_x_train_bdi_encoded_strat, mean_x_test_bdi_encoded_strat, mean_y_train_bdi_encoded_strat, mean_y_test_bdi_encoded_strat)\n",
        "\n",
        "# WURS\n",
        "random_forest_classifier(mean_x_train_wurs_encoded_strat, mean_x_test_wurs_encoded_strat, mean_y_train_wurs_encoded_strat, mean_y_test_wurs_encoded_strat)"
      ],
      "metadata": {
        "colab": {
          "base_uri": "https://localhost:8080/"
        },
        "outputId": "a857b792-0bdd-4a71-d25e-60ac6b4c9971",
        "id": "7jInmUDG3pAu"
      },
      "execution_count": 231,
      "outputs": [
        {
          "output_type": "stream",
          "name": "stdout",
          "text": [
            "Accuracy: 55.00%\n",
            "F1: 52.00%\n",
            "Precision: 53.60%\n",
            "Recall: 53.00%\n",
            "\n",
            "Accuracy: 80.00%\n",
            "F1: 44.40%\n",
            "Precision: 42.10%\n",
            "Recall: 47.10%\n",
            "\n",
            "Accuracy: 60.00%\n",
            "F1: 56.00%\n",
            "Precision: 56.20%\n",
            "Recall: 57.10%\n",
            "\n"
          ]
        }
      ],
      "id": "7jInmUDG3pAu"
    },
    {
      "cell_type": "markdown",
      "source": [
        "### Standard deviation"
      ],
      "metadata": {
        "id": "yvC-IEh-3pAv"
      },
      "id": "yvC-IEh-3pAv"
    },
    {
      "cell_type": "code",
      "source": [
        "# AQ\n",
        "random_forest_classifier(std_x_train_aq_encoded_strat, std_x_test_aq_encoded_strat, std_y_train_aq_encoded_strat, std_y_test_aq_encoded_strat)\n",
        "\n",
        "# BDI\n",
        "random_forest_classifier(std_x_train_bdi_encoded_strat, std_x_test_bdi_encoded_strat, std_y_train_bdi_encoded_strat, std_y_test_bdi_encoded_strat)\n",
        "\n",
        "# WURS\n",
        "random_forest_classifier(std_x_train_wurs_encoded_strat, std_x_test_wurs_encoded_strat, std_y_train_wurs_encoded_strat, std_y_test_wurs_encoded_strat)"
      ],
      "metadata": {
        "colab": {
          "base_uri": "https://localhost:8080/"
        },
        "outputId": "e6575886-07cb-4acf-b277-fe4c21b25cec",
        "id": "qNpmAPjS3pAv"
      },
      "execution_count": 232,
      "outputs": [
        {
          "output_type": "stream",
          "name": "stdout",
          "text": [
            "Accuracy: 50.00%\n",
            "F1: 50.00%\n",
            "Precision: 50.50%\n",
            "Recall: 50.50%\n",
            "\n",
            "Accuracy: 85.00%\n",
            "F1: 45.90%\n",
            "Precision: 42.50%\n",
            "Recall: 50.00%\n",
            "\n",
            "Accuracy: 65.00%\n",
            "F1: 49.80%\n",
            "Precision: 52.00%\n",
            "Recall: 51.20%\n",
            "\n"
          ]
        }
      ],
      "id": "qNpmAPjS3pAv"
    },
    {
      "cell_type": "markdown",
      "source": [
        "### Median"
      ],
      "metadata": {
        "id": "rQxnSikO3pAv"
      },
      "id": "rQxnSikO3pAv"
    },
    {
      "cell_type": "code",
      "source": [
        "# AQ\n",
        "random_forest_classifier(med_x_train_aq_encoded_strat, med_x_test_aq_encoded_strat, med_y_train_aq_encoded_strat, med_y_test_aq_encoded_strat)\n",
        "\n",
        "# BDI\n",
        "random_forest_classifier(med_x_train_bdi_encoded_strat, med_x_test_bdi_encoded_strat, med_y_train_bdi_encoded_strat, med_y_test_bdi_encoded_strat)\n",
        "\n",
        "# WURS\n",
        "random_forest_classifier(med_x_train_wurs_encoded_strat, med_x_test_wurs_encoded_strat, med_y_train_wurs_encoded_strat, med_y_test_wurs_encoded_strat)"
      ],
      "metadata": {
        "colab": {
          "base_uri": "https://localhost:8080/"
        },
        "outputId": "177cb2d9-2b05-46d1-d8e7-1db341d74bed",
        "id": "QJgD7k3s3pAv"
      },
      "execution_count": 233,
      "outputs": [
        {
          "output_type": "stream",
          "name": "stdout",
          "text": [
            "Accuracy: 55.00%\n",
            "F1: 48.70%\n",
            "Precision: 53.10%\n",
            "Recall: 52.00%\n",
            "\n",
            "Accuracy: 80.00%\n",
            "F1: 44.40%\n",
            "Precision: 42.10%\n",
            "Recall: 47.10%\n",
            "\n",
            "Accuracy: 55.00%\n",
            "F1: 48.70%\n",
            "Precision: 48.90%\n",
            "Recall: 48.80%\n",
            "\n"
          ]
        }
      ],
      "id": "QJgD7k3s3pAv"
    },
    {
      "cell_type": "markdown",
      "source": [
        "### Pearsons CC"
      ],
      "metadata": {
        "id": "PuVHBn4L3pAv"
      },
      "id": "PuVHBn4L3pAv"
    },
    {
      "cell_type": "code",
      "source": [
        "# AQ\n",
        "random_forest_classifier(xy_pearson_cc_x_train_aq_encoded_strat, xy_pearson_cc_x_test_aq_encoded_strat, xy_pearson_cc_y_train_aq_encoded_strat, xy_pearson_cc_y_test_aq_encoded_strat)\n",
        "\n",
        "# BDI\n",
        "random_forest_classifier(xy_pearson_cc_x_train_bdi_encoded_strat, xy_pearson_cc_x_test_bdi_encoded_strat, xy_pearson_cc_y_train_bdi_encoded_strat, xy_pearson_cc_y_test_bdi_encoded_strat)\n",
        "\n",
        "# WURS\n",
        "random_forest_classifier(xy_pearson_cc_x_train_wurs_encoded_strat, xy_pearson_cc_x_test_wurs_encoded_strat, xy_pearson_cc_y_train_wurs_encoded_strat, xy_pearson_cc_y_test_wurs_encoded_strat)"
      ],
      "metadata": {
        "colab": {
          "base_uri": "https://localhost:8080/"
        },
        "outputId": "28fd826d-90da-43a8-cbf6-8c75509d69ad",
        "id": "QFALPEy53pAv"
      },
      "execution_count": 234,
      "outputs": [
        {
          "output_type": "stream",
          "name": "stdout",
          "text": [
            "Accuracy: 45.00%\n",
            "F1: 43.70%\n",
            "Precision: 43.80%\n",
            "Recall: 43.90%\n",
            "\n",
            "Accuracy: 70.00%\n",
            "F1: 41.20%\n",
            "Precision: 41.20%\n",
            "Recall: 41.20%\n",
            "\n",
            "Accuracy: 75.00%\n",
            "F1: 68.70%\n",
            "Precision: 70.00%\n",
            "Recall: 67.90%\n",
            "\n"
          ]
        }
      ],
      "id": "QFALPEy53pAv"
    },
    {
      "cell_type": "markdown",
      "source": [
        "### Spearmans CC"
      ],
      "metadata": {
        "id": "TBQ-laz73pAv"
      },
      "id": "TBQ-laz73pAv"
    },
    {
      "cell_type": "code",
      "source": [
        "# AQ\n",
        "random_forest_classifier(xy_spearman_cc_x_train_aq_encoded_strat, xy_spearman_cc_x_test_aq_encoded_strat, xy_spearman_cc_y_train_aq_encoded_strat, xy_spearman_cc_y_test_aq_encoded_strat)\n",
        "\n",
        "# BDI\n",
        "random_forest_classifier(xy_spearman_cc_x_train_bdi_encoded_strat, xy_spearman_cc_x_test_bdi_encoded_strat, xy_spearman_cc_y_train_bdi_encoded_strat, xy_spearman_cc_y_test_bdi_encoded_strat)\n",
        "\n",
        "# WURS\n",
        "random_forest_classifier(xy_spearman_cc_x_train_wurs_encoded_strat, xy_spearman_cc_x_test_wurs_encoded_strat, xy_spearman_cc_y_train_wurs_encoded_strat, xy_spearman_cc_y_test_wurs_encoded_strat)"
      ],
      "metadata": {
        "colab": {
          "base_uri": "https://localhost:8080/"
        },
        "outputId": "e11b8d6f-ab20-4ade-a044-dbaa5ddf2935",
        "id": "kYBOZDDo3pAv"
      },
      "execution_count": 235,
      "outputs": [
        {
          "output_type": "stream",
          "name": "stdout",
          "text": [
            "Accuracy: 60.00%\n",
            "F1: 59.60%\n",
            "Precision: 59.60%\n",
            "Recall: 59.60%\n",
            "\n",
            "Accuracy: 70.00%\n",
            "F1: 41.20%\n",
            "Precision: 41.20%\n",
            "Recall: 41.20%\n",
            "\n",
            "Accuracy: 60.00%\n",
            "F1: 52.40%\n",
            "Precision: 52.40%\n",
            "Recall: 52.40%\n",
            "\n"
          ]
        }
      ],
      "id": "kYBOZDDo3pAv"
    },
    {
      "cell_type": "markdown",
      "source": [
        "### Range"
      ],
      "metadata": {
        "id": "-cBehHXf3pAw"
      },
      "id": "-cBehHXf3pAw"
    },
    {
      "cell_type": "code",
      "source": [
        "# AQ\n",
        "random_forest_classifier(xy_range_x_train_aq_encoded_strat, xy_range_x_test_aq_encoded_strat, xy_range_y_train_aq_encoded_strat, xy_range_y_test_aq_encoded_strat)\n",
        "\n",
        "# BDI\n",
        "random_forest_classifier(xy_range_x_train_bdi_encoded_strat, xy_range_x_test_bdi_encoded_strat, xy_range_y_train_bdi_encoded_strat, xy_range_y_test_bdi_encoded_strat)\n",
        "\n",
        "# WURS\n",
        "random_forest_classifier(xy_range_x_train_wurs_encoded_strat, xy_range_x_test_wurs_encoded_strat, xy_range_y_train_wurs_encoded_strat, xy_range_y_test_wurs_encoded_strat)"
      ],
      "metadata": {
        "colab": {
          "base_uri": "https://localhost:8080/"
        },
        "outputId": "0492d703-abf4-4756-cfa3-d7e928baa7f8",
        "id": "bGYXlLzf3pAw"
      },
      "execution_count": 236,
      "outputs": [
        {
          "output_type": "stream",
          "name": "stdout",
          "text": [
            "Accuracy: 55.00%\n",
            "F1: 52.00%\n",
            "Precision: 53.60%\n",
            "Recall: 53.00%\n",
            "\n",
            "Accuracy: 85.00%\n",
            "F1: 45.90%\n",
            "Precision: 42.50%\n",
            "Recall: 50.00%\n",
            "\n",
            "Accuracy: 55.00%\n",
            "F1: 35.50%\n",
            "Precision: 32.40%\n",
            "Recall: 39.30%\n",
            "\n"
          ]
        }
      ],
      "id": "bGYXlLzf3pAw"
    },
    {
      "cell_type": "markdown",
      "source": [
        "### Unique values"
      ],
      "metadata": {
        "id": "tL_VNbjP3pAw"
      },
      "id": "tL_VNbjP3pAw"
    },
    {
      "cell_type": "code",
      "source": [
        "# AQ\n",
        "random_forest_classifier(xy_unique_x_train_aq_encoded_strat, xy_unique_x_test_aq_encoded_strat, xy_unique_y_train_aq_encoded_strat, xy_unique_y_test_aq_encoded_strat)\n",
        "\n",
        "# BDI\n",
        "random_forest_classifier(xy_unique_x_train_bdi_encoded_strat, xy_unique_x_test_bdi_encoded_strat, xy_unique_y_train_bdi_encoded_strat, xy_unique_y_test_bdi_encoded_strat)\n",
        "\n",
        "# WURS\n",
        "random_forest_classifier(xy_unique_x_train_wurs_encoded_strat, xy_unique_x_test_wurs_encoded_strat, xy_unique_y_train_wurs_encoded_strat, xy_unique_y_test_wurs_encoded_strat)"
      ],
      "metadata": {
        "colab": {
          "base_uri": "https://localhost:8080/"
        },
        "outputId": "74991415-bffe-404f-da68-48eefec19495",
        "id": "8IzTab2l3pAw"
      },
      "execution_count": 237,
      "outputs": [
        {
          "output_type": "stream",
          "name": "stdout",
          "text": [
            "Accuracy: 55.00%\n",
            "F1: 52.00%\n",
            "Precision: 53.60%\n",
            "Recall: 53.00%\n",
            "\n",
            "Accuracy: 85.00%\n",
            "F1: 45.90%\n",
            "Precision: 42.50%\n",
            "Recall: 50.00%\n",
            "\n",
            "Accuracy: 60.00%\n",
            "F1: 46.70%\n",
            "Precision: 46.90%\n",
            "Recall: 47.60%\n",
            "\n"
          ]
        }
      ],
      "id": "8IzTab2l3pAw"
    },
    {
      "cell_type": "markdown",
      "source": [
        "## SVM"
      ],
      "metadata": {
        "id": "--15fCJV31H6"
      },
      "id": "--15fCJV31H6"
    },
    {
      "cell_type": "markdown",
      "source": [
        "### Least viewed x, y coordinate pairs"
      ],
      "metadata": {
        "id": "DMcFA2Mc3-W1"
      },
      "id": "DMcFA2Mc3-W1"
    },
    {
      "cell_type": "code",
      "source": [
        "# AQ\n",
        "svm_classifier(lv_x_train_aq_encoded_strat, lv_x_test_aq_encoded_strat, lv_y_train_aq_encoded_strat, lv_y_test_aq_encoded_strat)\n",
        "\n",
        "# BDI\n",
        "svm_classifier(lv_x_train_bdi_encoded_strat, lv_x_test_bdi_encoded_strat, lv_y_train_bdi_encoded_strat, lv_y_test_bdi_encoded_strat)\n",
        "\n",
        "# WURS\n",
        "svm_classifier(lv_x_train_wurs_encoded_strat, lv_x_test_wurs_encoded_strat, lv_y_train_wurs_encoded_strat, lv_y_test_wurs_encoded_strat)"
      ],
      "metadata": {
        "colab": {
          "base_uri": "https://localhost:8080/"
        },
        "outputId": "dc0e7e69-e422-4f34-c20c-f4a7a64b681c",
        "id": "xsPXSzdA3-W1"
      },
      "execution_count": 238,
      "outputs": [
        {
          "output_type": "stream",
          "name": "stdout",
          "text": [
            "Accuracy: 55.00%\n",
            "F1: 35.50%\n",
            "Precision: 27.50%\n",
            "Recall: 50.00%\n",
            "\n",
            "Accuracy: 85.00%\n",
            "F1: 45.90%\n",
            "Precision: 42.50%\n",
            "Recall: 50.00%\n",
            "\n",
            "Accuracy: 70.00%\n",
            "F1: 41.20%\n",
            "Precision: 35.00%\n",
            "Recall: 50.00%\n",
            "\n"
          ]
        }
      ],
      "id": "xsPXSzdA3-W1"
    },
    {
      "cell_type": "markdown",
      "source": [
        "### Most viewed x, y coordinate pairs"
      ],
      "metadata": {
        "id": "QtpRPL3A3-W2"
      },
      "id": "QtpRPL3A3-W2"
    },
    {
      "cell_type": "code",
      "source": [
        "# AQ\n",
        "svm_classifier(mv_x_train_aq_encoded_strat, mv_x_test_aq_encoded_strat, mv_y_train_aq_encoded_strat, mv_y_test_aq_encoded_strat)\n",
        "\n",
        "# BDI\n",
        "svm_classifier(mv_x_train_bdi_encoded_strat, mv_x_test_bdi_encoded_strat, mv_y_train_bdi_encoded_strat, mv_y_test_bdi_encoded_strat)\n",
        "\n",
        "# WURS\n",
        "svm_classifier(mv_x_train_wurs_encoded_strat, mv_x_test_wurs_encoded_strat, mv_y_train_wurs_encoded_strat, mv_y_test_wurs_encoded_strat)"
      ],
      "metadata": {
        "colab": {
          "base_uri": "https://localhost:8080/"
        },
        "outputId": "b992f490-b854-4d4b-915c-1b834d1f3d5c",
        "id": "Gf5DV6ov3-W2"
      },
      "execution_count": 239,
      "outputs": [
        {
          "output_type": "stream",
          "name": "stdout",
          "text": [
            "Accuracy: 70.00%\n",
            "F1: 67.00%\n",
            "Precision: 73.30%\n",
            "Recall: 67.70%\n",
            "\n",
            "Accuracy: 85.00%\n",
            "F1: 45.90%\n",
            "Precision: 42.50%\n",
            "Recall: 50.00%\n",
            "\n",
            "Accuracy: 70.00%\n",
            "F1: 41.20%\n",
            "Precision: 35.00%\n",
            "Recall: 50.00%\n",
            "\n"
          ]
        }
      ],
      "id": "Gf5DV6ov3-W2"
    },
    {
      "cell_type": "markdown",
      "source": [
        "### Euclidean Distance"
      ],
      "metadata": {
        "id": "RzdYTU4VUUG1"
      },
      "id": "RzdYTU4VUUG1"
    },
    {
      "cell_type": "code",
      "source": [
        "# AQ\n",
        "svm_classifier(ed_x_train_aq_encoded_strat, ed_x_test_aq_encoded_strat, ed_y_train_aq_encoded_strat, ed_y_test_aq_encoded_strat)\n",
        "\n",
        "# BDI\n",
        "svm_classifier(ed_x_train_bdi_encoded_strat, ed_x_test_bdi_encoded_strat, ed_y_train_bdi_encoded_strat, ed_y_test_bdi_encoded_strat)\n",
        "\n",
        "# WURS\n",
        "svm_classifier(ed_x_train_wurs_encoded_strat, ed_x_test_wurs_encoded_strat, ed_y_train_wurs_encoded_strat, ed_y_test_wurs_encoded_strat)"
      ],
      "metadata": {
        "colab": {
          "base_uri": "https://localhost:8080/"
        },
        "outputId": "fafe5f09-aedd-4332-bafb-da64172881c5",
        "id": "FN-cn3KYUUG1"
      },
      "execution_count": 240,
      "outputs": [
        {
          "output_type": "stream",
          "name": "stdout",
          "text": [
            "Accuracy: 40.00%\n",
            "F1: 28.60%\n",
            "Precision: 23.50%\n",
            "Recall: 36.40%\n",
            "\n",
            "Accuracy: 85.00%\n",
            "F1: 45.90%\n",
            "Precision: 42.50%\n",
            "Recall: 50.00%\n",
            "\n",
            "Accuracy: 70.00%\n",
            "F1: 41.20%\n",
            "Precision: 35.00%\n",
            "Recall: 50.00%\n",
            "\n"
          ]
        }
      ],
      "id": "FN-cn3KYUUG1"
    },
    {
      "cell_type": "markdown",
      "source": [
        "### Mean"
      ],
      "metadata": {
        "id": "9hX-mKJx3-W2"
      },
      "id": "9hX-mKJx3-W2"
    },
    {
      "cell_type": "code",
      "source": [
        "# AQ\n",
        "svm_classifier(mean_x_train_aq_encoded_strat, mean_x_test_aq_encoded_strat, mean_y_train_aq_encoded_strat, mean_y_test_aq_encoded_strat)\n",
        "\n",
        "# BDI\n",
        "svm_classifier(mean_x_train_bdi_encoded_strat, mean_x_test_bdi_encoded_strat, mean_y_train_bdi_encoded_strat, mean_y_test_bdi_encoded_strat)\n",
        "\n",
        "# WURS\n",
        "svm_classifier(mean_x_train_wurs_encoded_strat, mean_x_test_wurs_encoded_strat, mean_y_train_wurs_encoded_strat, mean_y_test_wurs_encoded_strat)"
      ],
      "metadata": {
        "colab": {
          "base_uri": "https://localhost:8080/"
        },
        "outputId": "e9e8b354-bcc2-4b96-f9f8-91b496017bf2",
        "id": "v_f8mYTW3-W2"
      },
      "execution_count": 241,
      "outputs": [
        {
          "output_type": "stream",
          "name": "stdout",
          "text": [
            "Accuracy: 55.00%\n",
            "F1: 35.50%\n",
            "Precision: 27.50%\n",
            "Recall: 50.00%\n",
            "\n",
            "Accuracy: 85.00%\n",
            "F1: 45.90%\n",
            "Precision: 42.50%\n",
            "Recall: 50.00%\n",
            "\n",
            "Accuracy: 70.00%\n",
            "F1: 41.20%\n",
            "Precision: 35.00%\n",
            "Recall: 50.00%\n",
            "\n"
          ]
        }
      ],
      "id": "v_f8mYTW3-W2"
    },
    {
      "cell_type": "markdown",
      "source": [
        "### Standard deviation"
      ],
      "metadata": {
        "id": "LshLNIfJ3-W2"
      },
      "id": "LshLNIfJ3-W2"
    },
    {
      "cell_type": "code",
      "source": [
        "# AQ\n",
        "svm_classifier(std_x_train_aq_encoded_strat, std_x_test_aq_encoded_strat, std_y_train_aq_encoded_strat, std_y_test_aq_encoded_strat)\n",
        "\n",
        "# BDI\n",
        "svm_classifier(std_x_train_bdi_encoded_strat, std_x_test_bdi_encoded_strat, std_y_train_bdi_encoded_strat, std_y_test_bdi_encoded_strat)\n",
        "\n",
        "# WURS\n",
        "svm_classifier(std_x_train_wurs_encoded_strat, std_x_test_wurs_encoded_strat, std_y_train_wurs_encoded_strat, std_y_test_wurs_encoded_strat)"
      ],
      "metadata": {
        "colab": {
          "base_uri": "https://localhost:8080/"
        },
        "outputId": "28330f5c-a9d1-47ba-88b0-7565184a780e",
        "id": "WC109NGV3-W3"
      },
      "execution_count": 242,
      "outputs": [
        {
          "output_type": "stream",
          "name": "stdout",
          "text": [
            "Accuracy: 60.00%\n",
            "F1: 46.70%\n",
            "Precision: 78.90%\n",
            "Recall: 55.60%\n",
            "\n",
            "Accuracy: 85.00%\n",
            "F1: 45.90%\n",
            "Precision: 42.50%\n",
            "Recall: 50.00%\n",
            "\n",
            "Accuracy: 70.00%\n",
            "F1: 41.20%\n",
            "Precision: 35.00%\n",
            "Recall: 50.00%\n",
            "\n"
          ]
        }
      ],
      "id": "WC109NGV3-W3"
    },
    {
      "cell_type": "markdown",
      "source": [
        "### Median"
      ],
      "metadata": {
        "id": "deXeT_9n3-W3"
      },
      "id": "deXeT_9n3-W3"
    },
    {
      "cell_type": "code",
      "source": [
        "# AQ\n",
        "svm_classifier(med_x_train_aq_encoded_strat, med_x_test_aq_encoded_strat, med_y_train_aq_encoded_strat, med_y_test_aq_encoded_strat)\n",
        "\n",
        "# BDI\n",
        "svm_classifier(med_x_train_bdi_encoded_strat, med_x_test_bdi_encoded_strat, med_y_train_bdi_encoded_strat, med_y_test_bdi_encoded_strat)\n",
        "\n",
        "# WURS\n",
        "svm_classifier(med_x_train_wurs_encoded_strat, med_x_test_wurs_encoded_strat, med_y_train_wurs_encoded_strat, med_y_test_wurs_encoded_strat)"
      ],
      "metadata": {
        "colab": {
          "base_uri": "https://localhost:8080/"
        },
        "outputId": "ee65e92e-e9f6-4323-b94e-2ff7d8f39b06",
        "id": "CJcWYHNa3-W3"
      },
      "execution_count": 243,
      "outputs": [
        {
          "output_type": "stream",
          "name": "stdout",
          "text": [
            "Accuracy: 55.00%\n",
            "F1: 35.50%\n",
            "Precision: 27.50%\n",
            "Recall: 50.00%\n",
            "\n",
            "Accuracy: 85.00%\n",
            "F1: 45.90%\n",
            "Precision: 42.50%\n",
            "Recall: 50.00%\n",
            "\n",
            "Accuracy: 70.00%\n",
            "F1: 41.20%\n",
            "Precision: 35.00%\n",
            "Recall: 50.00%\n",
            "\n"
          ]
        }
      ],
      "id": "CJcWYHNa3-W3"
    },
    {
      "cell_type": "markdown",
      "source": [
        "### Pearsons CC"
      ],
      "metadata": {
        "id": "bq1TpFgL3-W3"
      },
      "id": "bq1TpFgL3-W3"
    },
    {
      "cell_type": "code",
      "source": [
        "# AQ\n",
        "svm_classifier(xy_pearson_cc_x_train_aq_encoded_strat, xy_pearson_cc_x_test_aq_encoded_strat, xy_pearson_cc_y_train_aq_encoded_strat, xy_pearson_cc_y_test_aq_encoded_strat)\n",
        "\n",
        "# BDI\n",
        "svm_classifier(xy_pearson_cc_x_train_bdi_encoded_strat, xy_pearson_cc_x_test_bdi_encoded_strat, xy_pearson_cc_y_train_bdi_encoded_strat, xy_pearson_cc_y_test_bdi_encoded_strat)\n",
        "\n",
        "# WURS\n",
        "svm_classifier(xy_pearson_cc_x_train_wurs_encoded_strat, xy_pearson_cc_x_test_wurs_encoded_strat, xy_pearson_cc_y_train_wurs_encoded_strat, xy_pearson_cc_y_test_wurs_encoded_strat)"
      ],
      "metadata": {
        "colab": {
          "base_uri": "https://localhost:8080/"
        },
        "outputId": "a4f748d6-e1a6-4baa-bed1-26c31ae6da3e",
        "id": "QdAmmReh3-W3"
      },
      "execution_count": 244,
      "outputs": [
        {
          "output_type": "stream",
          "name": "stdout",
          "text": [
            "Accuracy: 55.00%\n",
            "F1: 35.50%\n",
            "Precision: 27.50%\n",
            "Recall: 50.00%\n",
            "\n",
            "Accuracy: 85.00%\n",
            "F1: 45.90%\n",
            "Precision: 42.50%\n",
            "Recall: 50.00%\n",
            "\n",
            "Accuracy: 70.00%\n",
            "F1: 41.20%\n",
            "Precision: 35.00%\n",
            "Recall: 50.00%\n",
            "\n"
          ]
        }
      ],
      "id": "QdAmmReh3-W3"
    },
    {
      "cell_type": "markdown",
      "source": [
        "### Spearmans CC"
      ],
      "metadata": {
        "id": "U6RxbEg93-W4"
      },
      "id": "U6RxbEg93-W4"
    },
    {
      "cell_type": "code",
      "source": [
        "# AQ\n",
        "svm_classifier(xy_spearman_cc_x_train_aq_encoded_strat, xy_spearman_cc_x_test_aq_encoded_strat, xy_spearman_cc_y_train_aq_encoded_strat, xy_spearman_cc_y_test_aq_encoded_strat)\n",
        "\n",
        "# BDI\n",
        "svm_classifier(xy_spearman_cc_x_train_bdi_encoded_strat, xy_spearman_cc_x_test_bdi_encoded_strat, xy_spearman_cc_y_train_bdi_encoded_strat, xy_spearman_cc_y_test_bdi_encoded_strat)\n",
        "\n",
        "# WURS\n",
        "svm_classifier(xy_spearman_cc_x_train_wurs_encoded_strat, xy_spearman_cc_x_test_wurs_encoded_strat, xy_spearman_cc_y_train_wurs_encoded_strat, xy_spearman_cc_y_test_wurs_encoded_strat)"
      ],
      "metadata": {
        "colab": {
          "base_uri": "https://localhost:8080/"
        },
        "outputId": "9c0032bb-8530-4fc8-e7f9-833907604580",
        "id": "ZfDTAIYW3-W4"
      },
      "execution_count": 245,
      "outputs": [
        {
          "output_type": "stream",
          "name": "stdout",
          "text": [
            "Accuracy: 55.00%\n",
            "F1: 43.60%\n",
            "Precision: 52.80%\n",
            "Recall: 51.00%\n",
            "\n",
            "Accuracy: 85.00%\n",
            "F1: 45.90%\n",
            "Precision: 42.50%\n",
            "Recall: 50.00%\n",
            "\n",
            "Accuracy: 70.00%\n",
            "F1: 41.20%\n",
            "Precision: 35.00%\n",
            "Recall: 50.00%\n",
            "\n"
          ]
        }
      ],
      "id": "ZfDTAIYW3-W4"
    },
    {
      "cell_type": "markdown",
      "source": [
        "### Range"
      ],
      "metadata": {
        "id": "7LTtvHH83-W4"
      },
      "id": "7LTtvHH83-W4"
    },
    {
      "cell_type": "code",
      "source": [
        "# AQ\n",
        "svm_classifier(xy_range_x_train_aq_encoded_strat, xy_range_x_test_aq_encoded_strat, xy_range_y_train_aq_encoded_strat, xy_range_y_test_aq_encoded_strat)\n",
        "\n",
        "# BDI\n",
        "svm_classifier(xy_range_x_train_bdi_encoded_strat, xy_range_x_test_bdi_encoded_strat, xy_range_y_train_bdi_encoded_strat, xy_range_y_test_bdi_encoded_strat)\n",
        "\n",
        "# WURS\n",
        "svm_classifier(xy_range_x_train_wurs_encoded_strat, xy_range_x_test_wurs_encoded_strat, xy_range_y_train_wurs_encoded_strat, xy_range_y_test_wurs_encoded_strat)"
      ],
      "metadata": {
        "colab": {
          "base_uri": "https://localhost:8080/"
        },
        "outputId": "73b3d233-9ea1-4447-826c-016f78388f1d",
        "id": "WVv2TVhQ3-W4"
      },
      "execution_count": 246,
      "outputs": [
        {
          "output_type": "stream",
          "name": "stdout",
          "text": [
            "Accuracy: 45.00%\n",
            "F1: 31.00%\n",
            "Precision: 25.00%\n",
            "Recall: 40.90%\n",
            "\n",
            "Accuracy: 85.00%\n",
            "F1: 45.90%\n",
            "Precision: 42.50%\n",
            "Recall: 50.00%\n",
            "\n",
            "Accuracy: 70.00%\n",
            "F1: 41.20%\n",
            "Precision: 35.00%\n",
            "Recall: 50.00%\n",
            "\n"
          ]
        }
      ],
      "id": "WVv2TVhQ3-W4"
    },
    {
      "cell_type": "markdown",
      "source": [
        "### Unique values"
      ],
      "metadata": {
        "id": "GK3OEsAG3-W4"
      },
      "id": "GK3OEsAG3-W4"
    },
    {
      "cell_type": "code",
      "source": [
        "# AQ\n",
        "svm_classifier(xy_unique_x_train_aq_encoded_strat, xy_unique_x_test_aq_encoded_strat, xy_unique_y_train_aq_encoded_strat, xy_unique_y_test_aq_encoded_strat)\n",
        "\n",
        "# BDI\n",
        "svm_classifier(xy_unique_x_train_bdi_encoded_strat, xy_unique_x_test_bdi_encoded_strat, xy_unique_y_train_bdi_encoded_strat, xy_unique_y_test_bdi_encoded_strat)\n",
        "\n",
        "# WURS\n",
        "svm_classifier(xy_unique_x_train_wurs_encoded_strat, xy_unique_x_test_wurs_encoded_strat, xy_unique_y_train_wurs_encoded_strat, xy_unique_y_test_wurs_encoded_strat)"
      ],
      "metadata": {
        "colab": {
          "base_uri": "https://localhost:8080/"
        },
        "outputId": "8dc429d5-655c-46fe-c223-0ff6d25ee55e",
        "id": "14eqrx7K3-W4"
      },
      "execution_count": 247,
      "outputs": [
        {
          "output_type": "stream",
          "name": "stdout",
          "text": [
            "Accuracy: 55.00%\n",
            "F1: 35.50%\n",
            "Precision: 27.50%\n",
            "Recall: 50.00%\n",
            "\n",
            "Accuracy: 85.00%\n",
            "F1: 45.90%\n",
            "Precision: 42.50%\n",
            "Recall: 50.00%\n",
            "\n",
            "Accuracy: 70.00%\n",
            "F1: 41.20%\n",
            "Precision: 35.00%\n",
            "Recall: 50.00%\n",
            "\n"
          ]
        }
      ],
      "id": "14eqrx7K3-W4"
    }
  ],
  "metadata": {
    "kernelspec": {
      "display_name": "Python 3 (ipykernel)",
      "language": "python",
      "name": "python3"
    },
    "language_info": {
      "codemirror_mode": {
        "name": "ipython",
        "version": 3
      },
      "file_extension": ".py",
      "mimetype": "text/x-python",
      "name": "python",
      "nbconvert_exporter": "python",
      "pygments_lexer": "ipython3",
      "version": "3.9.13"
    },
    "toc": {
      "base_numbering": "1.",
      "nav_menu": {
        "height": "256.99px",
        "width": "260.99px"
      },
      "number_sections": true,
      "sideBar": true,
      "skip_h1_title": false,
      "title_cell": "Table of Contents",
      "title_sidebar": "Contents",
      "toc_cell": true,
      "toc_position": {
        "height": "calc(100% - 180px)",
        "left": "10px",
        "top": "150px",
        "width": "411.646px"
      },
      "toc_section_display": true,
      "toc_window_display": true
    },
    "colab": {
      "provenance": [],
      "include_colab_link": true
    }
  },
  "nbformat": 4,
  "nbformat_minor": 5
}